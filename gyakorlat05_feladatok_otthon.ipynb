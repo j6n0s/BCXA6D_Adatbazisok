{
    "metadata": {
        "kernelspec": {
            "name": "SQL",
            "display_name": "SQL",
            "language": "sql"
        },
        "language_info": {
            "name": "sql",
            "version": ""
        }
    },
    "nbformat_minor": 2,
    "nbformat": 4,
    "cells": [
        {
            "cell_type": "markdown",
            "source": [
                "1. <span style=\"color: rgb(36, 41, 47); font-family: -apple-system, BlinkMacSystemFont, &quot;Segoe UI&quot;, Helvetica, Arial, sans-serif, &quot;Apple Color Emoji&quot;, &quot;Segoe UI Emoji&quot;; font-size: 16px;\">Készítsünk listát éves bontásban norbert2 azonosítójú ügyfél rendeléseinek értékéről!</span>\n",
                "\n",
                "1. A lista megfelelően jelölve tartalmazza a végösszeget is!"
            ],
            "metadata": {
                "azdata_cell_guid": "363cd270-6577-449b-9c89-d4b7c7972d52"
            },
            "attachments": {}
        },
        {
            "cell_type": "code",
            "source": [
                "SELECT  IIF(YEAR(ren.REND_DATUM) IS NULL, 'ÖSSZES', CAST(YEAR(ren.REND_DATUM) AS nvarchar(10))),\r\n",
                "        SUM(rt.egysegar * rt.mennyiseg)\r\n",
                "FROM Rendeles ren JOIN Rendeles_tetel rt ON ren.sorszam = rt.sorszam\r\n",
                "WHERE ren.[LOGIN] = 'norbert2'\r\n",
                "GROUP BY ROLLUP(YEAR(ren.REND_DATUM))"
            ],
            "metadata": {
                "azdata_cell_guid": "6ab9f633-a3b5-48c9-a1dc-4fb8235ae85b",
                "language": "sql"
            },
            "outputs": [
                {
                    "output_type": "display_data",
                    "data": {
                        "text/html": "(3 rows affected)"
                    },
                    "metadata": {}
                },
                {
                    "output_type": "display_data",
                    "data": {
                        "text/html": "Total execution time: 00:00:00.037"
                    },
                    "metadata": {}
                },
                {
                    "output_type": "execute_result",
                    "metadata": {},
                    "execution_count": 10,
                    "data": {
                        "application/vnd.dataresource+json": {
                            "schema": {
                                "fields": [
                                    {
                                        "name": "(No column name)"
                                    },
                                    {
                                        "name": "(No column name)"
                                    }
                                ]
                            },
                            "data": [
                                {
                                    "(No column name)": "483473"
                                },
                                {
                                    "(No column name)": "614340"
                                },
                                {
                                    "(No column name)": "1097813"
                                }
                            ]
                        },
                        "text/html": [
                            "<table>",
                            "<tr><th>(No column name)</th><th>(No column name)</th></tr>",
                            "<tr><td>2015</td><td>483473</td></tr>",
                            "<tr><td>2017</td><td>614340</td></tr>",
                            "<tr><td>ÖSSZES</td><td>1097813</td></tr>",
                            "</table>"
                        ]
                    }
                }
            ],
            "execution_count": 10
        },
        {
            "cell_type": "markdown",
            "source": [
                "2. <span style=\"color: rgb(36, 41, 47); font-family: -apple-system, BlinkMacSystemFont, &quot;Segoe UI&quot;, Helvetica, Arial, sans-serif, &quot;Apple Color Emoji&quot;, &quot;Segoe UI Emoji&quot;; font-size: 16px;\">Készítsünk listát szállítási dátumonként, azon belül szállítási módonként az egyes rendelések összmennyiségéről!</span>\n",
                "\n",
                "1. Csak azokat a termékeket vegyük figyelembe, amelyek mennyiségi egysége db!\n",
                "2. A listát szűrjük úgy, hogy az csak a részösszeg sorokat és a végösszeget tartalmazza!"
            ],
            "metadata": {
                "azdata_cell_guid": "ea75c103-911f-41a3-a32c-3d40fb3e4e4a"
            },
            "attachments": {}
        },
        {
            "cell_type": "code",
            "source": [
                "SELECT  IIF(GROUPING(SZALL_DATUM) = 1, 'VÉGÖSSZEG', CAST(SZALL_DATUM AS nvarchar(10))) AS 'Szállítás dátuma',\r\n",
                "        CASE\r\n",
                "            WHEN GROUPING_ID(SZALL_DATUM, SZALL_MOD) = 1 THEN 'RÉSZÖSSZEG'\r\n",
                "            WHEN GROUPING_ID(SZALL_DATUM, SZALL_MOD) > 1 THEN 'VÉGÖSSZEG'\r\n",
                "        END AS 'Szállítási mód',\r\n",
                "        COUNT(*) AS 'Össz rend'\r\n",
                "FROM Rendeles r JOIN Rendeles_tetel ren ON r.SORSZAM = ren.SORSZAM\r\n",
                "                JOIN Termek t ON ren.TERMEKKOD = t.TERMEKKOD\r\n",
                "WHERE t.MEGYS = 'db'\r\n",
                "GROUP BY ROLLUP(SZALL_DATUM, SZALL_MOD)\r\n",
                "HAVING GROUPING_ID(SZALL_DATUM, SZALL_MOD) > 0"
            ],
            "metadata": {
                "azdata_cell_guid": "222b9618-a8e8-42b4-a8e8-d002257122b7",
                "language": "sql"
            },
            "outputs": [
                {
                    "output_type": "display_data",
                    "data": {
                        "text/html": "(711 rows affected)"
                    },
                    "metadata": {}
                },
                {
                    "output_type": "display_data",
                    "data": {
                        "text/html": "Total execution time: 00:00:00.289"
                    },
                    "metadata": {}
                },
                {
                    "output_type": "execute_result",
                    "metadata": {},
                    "execution_count": 19,
                    "data": {
                        "application/vnd.dataresource+json": {
                            "schema": {
                                "fields": [
                                    {
                                        "name": "Szállítás dátuma"
                                    },
                                    {
                                        "name": "Szállítási mód"
                                    },
                                    {
                                        "name": "Össz rend"
                                    }
                                ]
                            },
                            "data": [
                                {
                                    "Szállítás dátuma": "2015-05-03",
                                    "Szállítási mód": "RÉSZÖSSZEG",
                                    "Össz rend": "4"
                                },
                                {
                                    "Szállítás dátuma": "2015-05-04",
                                    "Szállítási mód": "RÉSZÖSSZEG",
                                    "Össz rend": "31"
                                },
                                {
                                    "Szállítás dátuma": "2015-05-05",
                                    "Szállítási mód": "RÉSZÖSSZEG",
                                    "Össz rend": "81"
                                },
                                {
                                    "Szállítás dátuma": "2015-05-06",
                                    "Szállítási mód": "RÉSZÖSSZEG",
                                    "Össz rend": "126"
                                },
                                {
                                    "Szállítás dátuma": "2015-05-07",
                                    "Szállítási mód": "RÉSZÖSSZEG",
                                    "Össz rend": "94"
                                },
                                {
                                    "Szállítás dátuma": "2015-05-08",
                                    "Szállítási mód": "RÉSZÖSSZEG",
                                    "Össz rend": "106"
                                },
                                {
                                    "Szállítás dátuma": "2015-05-09",
                                    "Szállítási mód": "RÉSZÖSSZEG",
                                    "Össz rend": "159"
                                },
                                {
                                    "Szállítás dátuma": "2015-05-10",
                                    "Szállítási mód": "RÉSZÖSSZEG",
                                    "Össz rend": "168"
                                },
                                {
                                    "Szállítás dátuma": "2015-05-11",
                                    "Szállítási mód": "RÉSZÖSSZEG",
                                    "Össz rend": "195"
                                },
                                {
                                    "Szállítás dátuma": "2015-05-12",
                                    "Szállítási mód": "RÉSZÖSSZEG",
                                    "Össz rend": "196"
                                },
                                {
                                    "Szállítás dátuma": "2015-05-13",
                                    "Szállítási mód": "RÉSZÖSSZEG",
                                    "Össz rend": "198"
                                },
                                {
                                    "Szállítás dátuma": "2015-05-14",
                                    "Szállítási mód": "RÉSZÖSSZEG",
                                    "Össz rend": "277"
                                },
                                {
                                    "Szállítás dátuma": "2015-05-15",
                                    "Szállítási mód": "RÉSZÖSSZEG",
                                    "Össz rend": "188"
                                },
                                {
                                    "Szállítás dátuma": "2015-05-16",
                                    "Szállítási mód": "RÉSZÖSSZEG",
                                    "Össz rend": "198"
                                },
                                {
                                    "Szállítás dátuma": "2015-05-17",
                                    "Szállítási mód": "RÉSZÖSSZEG",
                                    "Össz rend": "129"
                                },
                                {
                                    "Szállítás dátuma": "2015-05-18",
                                    "Szállítási mód": "RÉSZÖSSZEG",
                                    "Össz rend": "225"
                                },
                                {
                                    "Szállítás dátuma": "2015-05-19",
                                    "Szállítási mód": "RÉSZÖSSZEG",
                                    "Össz rend": "199"
                                },
                                {
                                    "Szállítás dátuma": "2015-05-20",
                                    "Szállítási mód": "RÉSZÖSSZEG",
                                    "Össz rend": "245"
                                },
                                {
                                    "Szállítás dátuma": "2015-05-21",
                                    "Szállítási mód": "RÉSZÖSSZEG",
                                    "Össz rend": "198"
                                },
                                {
                                    "Szállítás dátuma": "2015-05-22",
                                    "Szállítási mód": "RÉSZÖSSZEG",
                                    "Össz rend": "202"
                                },
                                {
                                    "Szállítás dátuma": "2015-05-23",
                                    "Szállítási mód": "RÉSZÖSSZEG",
                                    "Össz rend": "139"
                                },
                                {
                                    "Szállítás dátuma": "2015-05-24",
                                    "Szállítási mód": "RÉSZÖSSZEG",
                                    "Össz rend": "150"
                                },
                                {
                                    "Szállítás dátuma": "2015-05-25",
                                    "Szállítási mód": "RÉSZÖSSZEG",
                                    "Össz rend": "173"
                                },
                                {
                                    "Szállítás dátuma": "2015-05-26",
                                    "Szállítási mód": "RÉSZÖSSZEG",
                                    "Össz rend": "204"
                                },
                                {
                                    "Szállítás dátuma": "2015-05-27",
                                    "Szállítási mód": "RÉSZÖSSZEG",
                                    "Össz rend": "231"
                                },
                                {
                                    "Szállítás dátuma": "2015-05-28",
                                    "Szállítási mód": "RÉSZÖSSZEG",
                                    "Össz rend": "229"
                                },
                                {
                                    "Szállítás dátuma": "2015-05-29",
                                    "Szállítási mód": "RÉSZÖSSZEG",
                                    "Össz rend": "263"
                                },
                                {
                                    "Szállítás dátuma": "2015-05-30",
                                    "Szállítási mód": "RÉSZÖSSZEG",
                                    "Össz rend": "203"
                                },
                                {
                                    "Szállítás dátuma": "2015-05-31",
                                    "Szállítási mód": "RÉSZÖSSZEG",
                                    "Össz rend": "123"
                                },
                                {
                                    "Szállítás dátuma": "2015-06-01",
                                    "Szállítási mód": "RÉSZÖSSZEG",
                                    "Össz rend": "181"
                                },
                                {
                                    "Szállítás dátuma": "2015-06-02",
                                    "Szállítási mód": "RÉSZÖSSZEG",
                                    "Össz rend": "175"
                                },
                                {
                                    "Szállítás dátuma": "2015-06-03",
                                    "Szállítási mód": "RÉSZÖSSZEG",
                                    "Össz rend": "220"
                                },
                                {
                                    "Szállítás dátuma": "2015-06-04",
                                    "Szállítási mód": "RÉSZÖSSZEG",
                                    "Össz rend": "210"
                                },
                                {
                                    "Szállítás dátuma": "2015-06-05",
                                    "Szállítási mód": "RÉSZÖSSZEG",
                                    "Össz rend": "230"
                                },
                                {
                                    "Szállítás dátuma": "2015-06-06",
                                    "Szállítási mód": "RÉSZÖSSZEG",
                                    "Össz rend": "236"
                                },
                                {
                                    "Szállítás dátuma": "2015-06-07",
                                    "Szállítási mód": "RÉSZÖSSZEG",
                                    "Össz rend": "221"
                                },
                                {
                                    "Szállítás dátuma": "2015-06-08",
                                    "Szállítási mód": "RÉSZÖSSZEG",
                                    "Össz rend": "149"
                                },
                                {
                                    "Szállítás dátuma": "2015-06-09",
                                    "Szállítási mód": "RÉSZÖSSZEG",
                                    "Össz rend": "172"
                                },
                                {
                                    "Szállítás dátuma": "2015-06-10",
                                    "Szállítási mód": "RÉSZÖSSZEG",
                                    "Össz rend": "221"
                                },
                                {
                                    "Szállítás dátuma": "2015-06-11",
                                    "Szállítási mód": "RÉSZÖSSZEG",
                                    "Össz rend": "173"
                                },
                                {
                                    "Szállítás dátuma": "2015-06-12",
                                    "Szállítási mód": "RÉSZÖSSZEG",
                                    "Össz rend": "231"
                                },
                                {
                                    "Szállítás dátuma": "2015-06-13",
                                    "Szállítási mód": "RÉSZÖSSZEG",
                                    "Össz rend": "215"
                                },
                                {
                                    "Szállítás dátuma": "2015-06-14",
                                    "Szállítási mód": "RÉSZÖSSZEG",
                                    "Össz rend": "207"
                                },
                                {
                                    "Szállítás dátuma": "2015-06-15",
                                    "Szállítási mód": "RÉSZÖSSZEG",
                                    "Össz rend": "205"
                                },
                                {
                                    "Szállítás dátuma": "2015-06-16",
                                    "Szállítási mód": "RÉSZÖSSZEG",
                                    "Össz rend": "133"
                                },
                                {
                                    "Szállítás dátuma": "2015-06-17",
                                    "Szállítási mód": "RÉSZÖSSZEG",
                                    "Össz rend": "229"
                                },
                                {
                                    "Szállítás dátuma": "2015-06-18",
                                    "Szállítási mód": "RÉSZÖSSZEG",
                                    "Össz rend": "238"
                                },
                                {
                                    "Szállítás dátuma": "2015-06-19",
                                    "Szállítási mód": "RÉSZÖSSZEG",
                                    "Össz rend": "176"
                                },
                                {
                                    "Szállítás dátuma": "2015-06-20",
                                    "Szállítási mód": "RÉSZÖSSZEG",
                                    "Össz rend": "198"
                                },
                                {
                                    "Szállítás dátuma": "2015-06-21",
                                    "Szállítási mód": "RÉSZÖSSZEG",
                                    "Össz rend": "179"
                                },
                                {
                                    "Szállítás dátuma": "2015-06-22",
                                    "Szállítási mód": "RÉSZÖSSZEG",
                                    "Össz rend": "240"
                                },
                                {
                                    "Szállítás dátuma": "2015-06-23",
                                    "Szállítási mód": "RÉSZÖSSZEG",
                                    "Össz rend": "227"
                                },
                                {
                                    "Szállítás dátuma": "2015-06-24",
                                    "Szállítási mód": "RÉSZÖSSZEG",
                                    "Össz rend": "129"
                                },
                                {
                                    "Szállítás dátuma": "2015-06-25",
                                    "Szállítási mód": "RÉSZÖSSZEG",
                                    "Össz rend": "247"
                                },
                                {
                                    "Szállítás dátuma": "2015-06-26",
                                    "Szállítási mód": "RÉSZÖSSZEG",
                                    "Össz rend": "271"
                                },
                                {
                                    "Szállítás dátuma": "2015-06-27",
                                    "Szállítási mód": "RÉSZÖSSZEG",
                                    "Össz rend": "173"
                                },
                                {
                                    "Szállítás dátuma": "2015-06-28",
                                    "Szállítási mód": "RÉSZÖSSZEG",
                                    "Össz rend": "163"
                                },
                                {
                                    "Szállítás dátuma": "2015-06-29",
                                    "Szállítási mód": "RÉSZÖSSZEG",
                                    "Össz rend": "207"
                                },
                                {
                                    "Szállítás dátuma": "2015-06-30",
                                    "Szállítási mód": "RÉSZÖSSZEG",
                                    "Össz rend": "208"
                                },
                                {
                                    "Szállítás dátuma": "2015-07-01",
                                    "Szállítási mód": "RÉSZÖSSZEG",
                                    "Össz rend": "138"
                                },
                                {
                                    "Szállítás dátuma": "2015-07-02",
                                    "Szállítási mód": "RÉSZÖSSZEG",
                                    "Össz rend": "183"
                                },
                                {
                                    "Szállítás dátuma": "2015-07-03",
                                    "Szállítási mód": "RÉSZÖSSZEG",
                                    "Össz rend": "175"
                                },
                                {
                                    "Szállítás dátuma": "2015-07-04",
                                    "Szállítási mód": "RÉSZÖSSZEG",
                                    "Össz rend": "221"
                                },
                                {
                                    "Szállítás dátuma": "2015-07-05",
                                    "Szállítási mód": "RÉSZÖSSZEG",
                                    "Össz rend": "220"
                                },
                                {
                                    "Szállítás dátuma": "2015-07-06",
                                    "Szállítási mód": "RÉSZÖSSZEG",
                                    "Össz rend": "231"
                                },
                                {
                                    "Szállítás dátuma": "2015-07-07",
                                    "Szállítási mód": "RÉSZÖSSZEG",
                                    "Össz rend": "266"
                                },
                                {
                                    "Szállítás dátuma": "2015-07-08",
                                    "Szállítási mód": "RÉSZÖSSZEG",
                                    "Össz rend": "177"
                                },
                                {
                                    "Szállítás dátuma": "2015-07-09",
                                    "Szállítási mód": "RÉSZÖSSZEG",
                                    "Össz rend": "198"
                                },
                                {
                                    "Szállítás dátuma": "2015-07-10",
                                    "Szállítási mód": "RÉSZÖSSZEG",
                                    "Össz rend": "182"
                                },
                                {
                                    "Szállítás dátuma": "2015-07-11",
                                    "Szállítási mód": "RÉSZÖSSZEG",
                                    "Össz rend": "175"
                                },
                                {
                                    "Szállítás dátuma": "2015-07-12",
                                    "Szállítási mód": "RÉSZÖSSZEG",
                                    "Össz rend": "218"
                                },
                                {
                                    "Szállítás dátuma": "2015-07-13",
                                    "Szállítási mód": "RÉSZÖSSZEG",
                                    "Össz rend": "208"
                                },
                                {
                                    "Szállítás dátuma": "2015-07-14",
                                    "Szállítási mód": "RÉSZÖSSZEG",
                                    "Össz rend": "188"
                                },
                                {
                                    "Szállítás dátuma": "2015-07-15",
                                    "Szállítási mód": "RÉSZÖSSZEG",
                                    "Össz rend": "256"
                                },
                                {
                                    "Szállítás dátuma": "2015-07-16",
                                    "Szállítási mód": "RÉSZÖSSZEG",
                                    "Össz rend": "187"
                                },
                                {
                                    "Szállítás dátuma": "2015-07-17",
                                    "Szállítási mód": "RÉSZÖSSZEG",
                                    "Össz rend": "176"
                                },
                                {
                                    "Szállítás dátuma": "2015-07-18",
                                    "Szállítási mód": "RÉSZÖSSZEG",
                                    "Össz rend": "159"
                                },
                                {
                                    "Szállítás dátuma": "2015-07-19",
                                    "Szállítási mód": "RÉSZÖSSZEG",
                                    "Össz rend": "187"
                                },
                                {
                                    "Szállítás dátuma": "2015-07-20",
                                    "Szállítási mód": "RÉSZÖSSZEG",
                                    "Össz rend": "260"
                                },
                                {
                                    "Szállítás dátuma": "2015-07-21",
                                    "Szállítási mód": "RÉSZÖSSZEG",
                                    "Össz rend": "242"
                                },
                                {
                                    "Szállítás dátuma": "2015-07-22",
                                    "Szállítási mód": "RÉSZÖSSZEG",
                                    "Össz rend": "163"
                                },
                                {
                                    "Szállítás dátuma": "2015-07-23",
                                    "Szállítási mód": "RÉSZÖSSZEG",
                                    "Össz rend": "180"
                                },
                                {
                                    "Szállítás dátuma": "2015-07-24",
                                    "Szállítási mód": "RÉSZÖSSZEG",
                                    "Össz rend": "219"
                                },
                                {
                                    "Szállítás dátuma": "2015-07-25",
                                    "Szállítási mód": "RÉSZÖSSZEG",
                                    "Össz rend": "200"
                                },
                                {
                                    "Szállítás dátuma": "2015-07-26",
                                    "Szállítási mód": "RÉSZÖSSZEG",
                                    "Össz rend": "236"
                                },
                                {
                                    "Szállítás dátuma": "2015-07-27",
                                    "Szállítási mód": "RÉSZÖSSZEG",
                                    "Össz rend": "155"
                                },
                                {
                                    "Szállítás dátuma": "2015-07-28",
                                    "Szállítási mód": "RÉSZÖSSZEG",
                                    "Össz rend": "180"
                                },
                                {
                                    "Szállítás dátuma": "2015-07-29",
                                    "Szállítási mód": "RÉSZÖSSZEG",
                                    "Össz rend": "161"
                                },
                                {
                                    "Szállítás dátuma": "2015-07-30",
                                    "Szállítási mód": "RÉSZÖSSZEG",
                                    "Össz rend": "238"
                                },
                                {
                                    "Szállítás dátuma": "2015-07-31",
                                    "Szállítási mód": "RÉSZÖSSZEG",
                                    "Össz rend": "270"
                                },
                                {
                                    "Szállítás dátuma": "2015-08-01",
                                    "Szállítási mód": "RÉSZÖSSZEG",
                                    "Össz rend": "248"
                                },
                                {
                                    "Szállítás dátuma": "2015-08-02",
                                    "Szállítási mód": "RÉSZÖSSZEG",
                                    "Össz rend": "229"
                                },
                                {
                                    "Szállítás dátuma": "2015-08-03",
                                    "Szállítási mód": "RÉSZÖSSZEG",
                                    "Össz rend": "229"
                                },
                                {
                                    "Szállítás dátuma": "2015-08-04",
                                    "Szállítási mód": "RÉSZÖSSZEG",
                                    "Össz rend": "250"
                                },
                                {
                                    "Szállítás dátuma": "2015-08-05",
                                    "Szállítási mód": "RÉSZÖSSZEG",
                                    "Össz rend": "233"
                                },
                                {
                                    "Szállítás dátuma": "2015-08-06",
                                    "Szállítási mód": "RÉSZÖSSZEG",
                                    "Össz rend": "140"
                                },
                                {
                                    "Szállítás dátuma": "2015-08-07",
                                    "Szállítási mód": "RÉSZÖSSZEG",
                                    "Össz rend": "259"
                                },
                                {
                                    "Szállítás dátuma": "2015-08-08",
                                    "Szállítási mód": "RÉSZÖSSZEG",
                                    "Össz rend": "258"
                                },
                                {
                                    "Szállítás dátuma": "2015-08-09",
                                    "Szállítási mód": "RÉSZÖSSZEG",
                                    "Össz rend": "187"
                                },
                                {
                                    "Szállítás dátuma": "2015-08-10",
                                    "Szállítási mód": "RÉSZÖSSZEG",
                                    "Össz rend": "196"
                                },
                                {
                                    "Szállítás dátuma": "2015-08-11",
                                    "Szállítási mód": "RÉSZÖSSZEG",
                                    "Össz rend": "241"
                                },
                                {
                                    "Szállítás dátuma": "2015-08-12",
                                    "Szállítási mód": "RÉSZÖSSZEG",
                                    "Össz rend": "202"
                                },
                                {
                                    "Szállítás dátuma": "2015-08-13",
                                    "Szállítási mód": "RÉSZÖSSZEG",
                                    "Össz rend": "250"
                                },
                                {
                                    "Szállítás dátuma": "2015-08-14",
                                    "Szállítási mód": "RÉSZÖSSZEG",
                                    "Össz rend": "255"
                                },
                                {
                                    "Szállítás dátuma": "2015-08-15",
                                    "Szállítási mód": "RÉSZÖSSZEG",
                                    "Össz rend": "172"
                                },
                                {
                                    "Szállítás dátuma": "2015-08-16",
                                    "Szállítási mód": "RÉSZÖSSZEG",
                                    "Össz rend": "189"
                                },
                                {
                                    "Szállítás dátuma": "2015-08-17",
                                    "Szállítási mód": "RÉSZÖSSZEG",
                                    "Össz rend": "203"
                                },
                                {
                                    "Szállítás dátuma": "2015-08-18",
                                    "Szállítási mód": "RÉSZÖSSZEG",
                                    "Össz rend": "167"
                                },
                                {
                                    "Szállítás dátuma": "2015-08-19",
                                    "Szállítási mód": "RÉSZÖSSZEG",
                                    "Össz rend": "170"
                                },
                                {
                                    "Szállítás dátuma": "2015-08-20",
                                    "Szállítási mód": "RÉSZÖSSZEG",
                                    "Össz rend": "227"
                                },
                                {
                                    "Szállítás dátuma": "2015-08-21",
                                    "Szállítási mód": "RÉSZÖSSZEG",
                                    "Össz rend": "199"
                                },
                                {
                                    "Szállítás dátuma": "2015-08-22",
                                    "Szállítási mód": "RÉSZÖSSZEG",
                                    "Össz rend": "251"
                                },
                                {
                                    "Szállítás dátuma": "2015-08-23",
                                    "Szállítási mód": "RÉSZÖSSZEG",
                                    "Össz rend": "173"
                                },
                                {
                                    "Szállítás dátuma": "2015-08-24",
                                    "Szállítási mód": "RÉSZÖSSZEG",
                                    "Össz rend": "191"
                                },
                                {
                                    "Szállítás dátuma": "2015-08-25",
                                    "Szállítási mód": "RÉSZÖSSZEG",
                                    "Össz rend": "235"
                                },
                                {
                                    "Szállítás dátuma": "2015-08-26",
                                    "Szállítási mód": "RÉSZÖSSZEG",
                                    "Össz rend": "267"
                                },
                                {
                                    "Szállítás dátuma": "2015-08-27",
                                    "Szállítási mód": "RÉSZÖSSZEG",
                                    "Össz rend": "152"
                                },
                                {
                                    "Szállítás dátuma": "2015-08-28",
                                    "Szállítási mód": "RÉSZÖSSZEG",
                                    "Össz rend": "221"
                                },
                                {
                                    "Szállítás dátuma": "2015-08-29",
                                    "Szállítási mód": "RÉSZÖSSZEG",
                                    "Össz rend": "183"
                                },
                                {
                                    "Szállítás dátuma": "2015-08-30",
                                    "Szállítási mód": "RÉSZÖSSZEG",
                                    "Össz rend": "236"
                                },
                                {
                                    "Szállítás dátuma": "2015-08-31",
                                    "Szállítási mód": "RÉSZÖSSZEG",
                                    "Össz rend": "205"
                                },
                                {
                                    "Szállítás dátuma": "2015-09-01",
                                    "Szállítási mód": "RÉSZÖSSZEG",
                                    "Össz rend": "246"
                                },
                                {
                                    "Szállítás dátuma": "2015-09-02",
                                    "Szállítási mód": "RÉSZÖSSZEG",
                                    "Össz rend": "165"
                                },
                                {
                                    "Szállítás dátuma": "2015-09-03",
                                    "Szállítási mód": "RÉSZÖSSZEG",
                                    "Össz rend": "234"
                                },
                                {
                                    "Szállítás dátuma": "2015-09-04",
                                    "Szállítási mód": "RÉSZÖSSZEG",
                                    "Össz rend": "256"
                                },
                                {
                                    "Szállítás dátuma": "2015-09-05",
                                    "Szállítási mód": "RÉSZÖSSZEG",
                                    "Össz rend": "187"
                                },
                                {
                                    "Szállítás dátuma": "2015-09-06",
                                    "Szállítási mód": "RÉSZÖSSZEG",
                                    "Össz rend": "209"
                                },
                                {
                                    "Szállítás dátuma": "2015-09-07",
                                    "Szállítási mód": "RÉSZÖSSZEG",
                                    "Össz rend": "237"
                                },
                                {
                                    "Szállítás dátuma": "2015-09-08",
                                    "Szállítási mód": "RÉSZÖSSZEG",
                                    "Össz rend": "193"
                                },
                                {
                                    "Szállítás dátuma": "2015-09-09",
                                    "Szállítási mód": "RÉSZÖSSZEG",
                                    "Össz rend": "204"
                                },
                                {
                                    "Szállítás dátuma": "2015-09-10",
                                    "Szállítási mód": "RÉSZÖSSZEG",
                                    "Össz rend": "265"
                                },
                                {
                                    "Szállítás dátuma": "2015-09-11",
                                    "Szállítási mód": "RÉSZÖSSZEG",
                                    "Össz rend": "219"
                                },
                                {
                                    "Szállítás dátuma": "2015-09-12",
                                    "Szállítási mód": "RÉSZÖSSZEG",
                                    "Össz rend": "240"
                                },
                                {
                                    "Szállítás dátuma": "2015-09-13",
                                    "Szállítási mód": "RÉSZÖSSZEG",
                                    "Össz rend": "195"
                                },
                                {
                                    "Szállítás dátuma": "2015-09-14",
                                    "Szállítási mód": "RÉSZÖSSZEG",
                                    "Össz rend": "210"
                                },
                                {
                                    "Szállítás dátuma": "2015-09-15",
                                    "Szállítási mód": "RÉSZÖSSZEG",
                                    "Össz rend": "140"
                                },
                                {
                                    "Szállítás dátuma": "2015-09-16",
                                    "Szállítási mód": "RÉSZÖSSZEG",
                                    "Össz rend": "199"
                                },
                                {
                                    "Szállítás dátuma": "2015-09-17",
                                    "Szállítási mód": "RÉSZÖSSZEG",
                                    "Össz rend": "226"
                                },
                                {
                                    "Szállítás dátuma": "2015-09-18",
                                    "Szállítási mód": "RÉSZÖSSZEG",
                                    "Össz rend": "212"
                                },
                                {
                                    "Szállítás dátuma": "2015-09-19",
                                    "Szállítási mód": "RÉSZÖSSZEG",
                                    "Össz rend": "196"
                                },
                                {
                                    "Szállítás dátuma": "2015-09-20",
                                    "Szállítási mód": "RÉSZÖSSZEG",
                                    "Össz rend": "263"
                                },
                                {
                                    "Szállítás dátuma": "2015-09-21",
                                    "Szállítási mód": "RÉSZÖSSZEG",
                                    "Össz rend": "164"
                                },
                                {
                                    "Szállítás dátuma": "2015-09-22",
                                    "Szállítási mód": "RÉSZÖSSZEG",
                                    "Össz rend": "221"
                                },
                                {
                                    "Szállítás dátuma": "2015-09-23",
                                    "Szállítási mód": "RÉSZÖSSZEG",
                                    "Össz rend": "187"
                                },
                                {
                                    "Szállítás dátuma": "2015-09-24",
                                    "Szállítási mód": "RÉSZÖSSZEG",
                                    "Össz rend": "264"
                                },
                                {
                                    "Szállítás dátuma": "2015-09-25",
                                    "Szállítási mód": "RÉSZÖSSZEG",
                                    "Össz rend": "186"
                                },
                                {
                                    "Szállítás dátuma": "2015-09-26",
                                    "Szállítási mód": "RÉSZÖSSZEG",
                                    "Össz rend": "240"
                                },
                                {
                                    "Szállítás dátuma": "2015-09-27",
                                    "Szállítási mód": "RÉSZÖSSZEG",
                                    "Össz rend": "194"
                                },
                                {
                                    "Szállítás dátuma": "2015-09-28",
                                    "Szállítási mód": "RÉSZÖSSZEG",
                                    "Össz rend": "269"
                                },
                                {
                                    "Szállítás dátuma": "2015-09-29",
                                    "Szállítási mód": "RÉSZÖSSZEG",
                                    "Össz rend": "252"
                                },
                                {
                                    "Szállítás dátuma": "2015-09-30",
                                    "Szállítási mód": "RÉSZÖSSZEG",
                                    "Össz rend": "151"
                                },
                                {
                                    "Szállítás dátuma": "2015-10-01",
                                    "Szállítási mód": "RÉSZÖSSZEG",
                                    "Össz rend": "207"
                                },
                                {
                                    "Szállítás dátuma": "2015-10-02",
                                    "Szállítási mód": "RÉSZÖSSZEG",
                                    "Össz rend": "153"
                                },
                                {
                                    "Szállítás dátuma": "2015-10-03",
                                    "Szállítási mód": "RÉSZÖSSZEG",
                                    "Össz rend": "242"
                                },
                                {
                                    "Szállítás dátuma": "2015-10-04",
                                    "Szállítási mód": "RÉSZÖSSZEG",
                                    "Össz rend": "197"
                                },
                                {
                                    "Szállítás dátuma": "2015-10-05",
                                    "Szállítási mód": "RÉSZÖSSZEG",
                                    "Össz rend": "226"
                                },
                                {
                                    "Szállítás dátuma": "2015-10-06",
                                    "Szállítási mód": "RÉSZÖSSZEG",
                                    "Össz rend": "163"
                                },
                                {
                                    "Szállítás dátuma": "2015-10-07",
                                    "Szállítási mód": "RÉSZÖSSZEG",
                                    "Össz rend": "230"
                                },
                                {
                                    "Szállítás dátuma": "2015-10-08",
                                    "Szállítási mód": "RÉSZÖSSZEG",
                                    "Össz rend": "216"
                                },
                                {
                                    "Szállítás dátuma": "2015-10-09",
                                    "Szállítási mód": "RÉSZÖSSZEG",
                                    "Össz rend": "235"
                                },
                                {
                                    "Szállítás dátuma": "2015-10-10",
                                    "Szállítási mód": "RÉSZÖSSZEG",
                                    "Össz rend": "216"
                                },
                                {
                                    "Szállítás dátuma": "2015-10-11",
                                    "Szállítási mód": "RÉSZÖSSZEG",
                                    "Össz rend": "184"
                                },
                                {
                                    "Szállítás dátuma": "2015-10-12",
                                    "Szállítási mód": "RÉSZÖSSZEG",
                                    "Össz rend": "237"
                                },
                                {
                                    "Szállítás dátuma": "2015-10-13",
                                    "Szállítási mód": "RÉSZÖSSZEG",
                                    "Össz rend": "174"
                                },
                                {
                                    "Szállítás dátuma": "2015-10-14",
                                    "Szállítási mód": "RÉSZÖSSZEG",
                                    "Össz rend": "163"
                                },
                                {
                                    "Szállítás dátuma": "2015-10-15",
                                    "Szállítási mód": "RÉSZÖSSZEG",
                                    "Össz rend": "251"
                                },
                                {
                                    "Szállítás dátuma": "2015-10-16",
                                    "Szállítási mód": "RÉSZÖSSZEG",
                                    "Össz rend": "258"
                                },
                                {
                                    "Szállítás dátuma": "2015-10-17",
                                    "Szállítási mód": "RÉSZÖSSZEG",
                                    "Össz rend": "186"
                                },
                                {
                                    "Szállítás dátuma": "2015-10-18",
                                    "Szállítási mód": "RÉSZÖSSZEG",
                                    "Össz rend": "219"
                                },
                                {
                                    "Szállítás dátuma": "2015-10-19",
                                    "Szállítási mód": "RÉSZÖSSZEG",
                                    "Össz rend": "184"
                                },
                                {
                                    "Szállítás dátuma": "2015-10-20",
                                    "Szállítási mód": "RÉSZÖSSZEG",
                                    "Össz rend": "260"
                                },
                                {
                                    "Szállítás dátuma": "2015-10-21",
                                    "Szállítási mód": "RÉSZÖSSZEG",
                                    "Össz rend": "191"
                                },
                                {
                                    "Szállítás dátuma": "2015-10-22",
                                    "Szállítási mód": "RÉSZÖSSZEG",
                                    "Össz rend": "153"
                                },
                                {
                                    "Szállítás dátuma": "2015-10-23",
                                    "Szállítási mód": "RÉSZÖSSZEG",
                                    "Össz rend": "207"
                                },
                                {
                                    "Szállítás dátuma": "2015-10-24",
                                    "Szállítási mód": "RÉSZÖSSZEG",
                                    "Össz rend": "186"
                                },
                                {
                                    "Szállítás dátuma": "2015-10-25",
                                    "Szállítási mód": "RÉSZÖSSZEG",
                                    "Össz rend": "234"
                                },
                                {
                                    "Szállítás dátuma": "2015-10-26",
                                    "Szállítási mód": "RÉSZÖSSZEG",
                                    "Össz rend": "221"
                                },
                                {
                                    "Szállítás dátuma": "2015-10-27",
                                    "Szállítási mód": "RÉSZÖSSZEG",
                                    "Össz rend": "188"
                                },
                                {
                                    "Szállítás dátuma": "2015-10-28",
                                    "Szállítási mód": "RÉSZÖSSZEG",
                                    "Össz rend": "194"
                                },
                                {
                                    "Szállítás dátuma": "2015-10-29",
                                    "Szállítási mód": "RÉSZÖSSZEG",
                                    "Össz rend": "191"
                                },
                                {
                                    "Szállítás dátuma": "2015-10-30",
                                    "Szállítási mód": "RÉSZÖSSZEG",
                                    "Össz rend": "214"
                                },
                                {
                                    "Szállítás dátuma": "2015-10-31",
                                    "Szállítási mód": "RÉSZÖSSZEG",
                                    "Össz rend": "176"
                                },
                                {
                                    "Szállítás dátuma": "2015-11-01",
                                    "Szállítási mód": "RÉSZÖSSZEG",
                                    "Össz rend": "148"
                                },
                                {
                                    "Szállítás dátuma": "2015-11-02",
                                    "Szállítási mód": "RÉSZÖSSZEG",
                                    "Össz rend": "191"
                                },
                                {
                                    "Szállítás dátuma": "2015-11-03",
                                    "Szállítási mód": "RÉSZÖSSZEG",
                                    "Össz rend": "304"
                                },
                                {
                                    "Szállítás dátuma": "2015-11-04",
                                    "Szállítási mód": "RÉSZÖSSZEG",
                                    "Össz rend": "181"
                                },
                                {
                                    "Szállítás dátuma": "2015-11-05",
                                    "Szállítási mód": "RÉSZÖSSZEG",
                                    "Össz rend": "173"
                                },
                                {
                                    "Szállítás dátuma": "2015-11-06",
                                    "Szállítási mód": "RÉSZÖSSZEG",
                                    "Össz rend": "211"
                                },
                                {
                                    "Szállítás dátuma": "2015-11-07",
                                    "Szállítási mód": "RÉSZÖSSZEG",
                                    "Össz rend": "206"
                                },
                                {
                                    "Szállítás dátuma": "2015-11-08",
                                    "Szállítási mód": "RÉSZÖSSZEG",
                                    "Össz rend": "210"
                                },
                                {
                                    "Szállítás dátuma": "2015-11-09",
                                    "Szállítási mód": "RÉSZÖSSZEG",
                                    "Össz rend": "206"
                                },
                                {
                                    "Szállítás dátuma": "2015-11-10",
                                    "Szállítási mód": "RÉSZÖSSZEG",
                                    "Össz rend": "219"
                                },
                                {
                                    "Szállítás dátuma": "2015-11-11",
                                    "Szállítási mód": "RÉSZÖSSZEG",
                                    "Össz rend": "200"
                                },
                                {
                                    "Szállítás dátuma": "2015-11-12",
                                    "Szállítási mód": "RÉSZÖSSZEG",
                                    "Össz rend": "149"
                                },
                                {
                                    "Szállítás dátuma": "2015-11-13",
                                    "Szállítási mód": "RÉSZÖSSZEG",
                                    "Össz rend": "188"
                                },
                                {
                                    "Szállítás dátuma": "2015-11-14",
                                    "Szállítási mód": "RÉSZÖSSZEG",
                                    "Össz rend": "230"
                                },
                                {
                                    "Szállítás dátuma": "2015-11-15",
                                    "Szállítási mód": "RÉSZÖSSZEG",
                                    "Össz rend": "164"
                                },
                                {
                                    "Szállítás dátuma": "2015-11-16",
                                    "Szállítási mód": "RÉSZÖSSZEG",
                                    "Össz rend": "230"
                                },
                                {
                                    "Szállítás dátuma": "2015-11-17",
                                    "Szállítási mód": "RÉSZÖSSZEG",
                                    "Össz rend": "195"
                                },
                                {
                                    "Szállítás dátuma": "2015-11-18",
                                    "Szállítási mód": "RÉSZÖSSZEG",
                                    "Össz rend": "219"
                                },
                                {
                                    "Szállítás dátuma": "2015-11-19",
                                    "Szállítási mód": "RÉSZÖSSZEG",
                                    "Össz rend": "190"
                                },
                                {
                                    "Szállítás dátuma": "2015-11-20",
                                    "Szállítási mód": "RÉSZÖSSZEG",
                                    "Össz rend": "168"
                                },
                                {
                                    "Szállítás dátuma": "2015-11-21",
                                    "Szállítási mód": "RÉSZÖSSZEG",
                                    "Össz rend": "205"
                                },
                                {
                                    "Szállítás dátuma": "2015-11-22",
                                    "Szállítási mód": "RÉSZÖSSZEG",
                                    "Össz rend": "240"
                                },
                                {
                                    "Szállítás dátuma": "2015-11-23",
                                    "Szállítási mód": "RÉSZÖSSZEG",
                                    "Össz rend": "209"
                                },
                                {
                                    "Szállítás dátuma": "2015-11-24",
                                    "Szállítási mód": "RÉSZÖSSZEG",
                                    "Össz rend": "245"
                                },
                                {
                                    "Szállítás dátuma": "2015-11-25",
                                    "Szállítási mód": "RÉSZÖSSZEG",
                                    "Össz rend": "167"
                                },
                                {
                                    "Szállítás dátuma": "2015-11-26",
                                    "Szállítási mód": "RÉSZÖSSZEG",
                                    "Össz rend": "186"
                                },
                                {
                                    "Szállítás dátuma": "2015-11-27",
                                    "Szállítási mód": "RÉSZÖSSZEG",
                                    "Össz rend": "177"
                                },
                                {
                                    "Szállítás dátuma": "2015-11-28",
                                    "Szállítási mód": "RÉSZÖSSZEG",
                                    "Össz rend": "266"
                                },
                                {
                                    "Szállítás dátuma": "2015-11-29",
                                    "Szállítási mód": "RÉSZÖSSZEG",
                                    "Össz rend": "167"
                                },
                                {
                                    "Szállítás dátuma": "2015-11-30",
                                    "Szállítási mód": "RÉSZÖSSZEG",
                                    "Össz rend": "205"
                                },
                                {
                                    "Szállítás dátuma": "2015-12-01",
                                    "Szállítási mód": "RÉSZÖSSZEG",
                                    "Össz rend": "185"
                                },
                                {
                                    "Szállítás dátuma": "2015-12-02",
                                    "Szállítási mód": "RÉSZÖSSZEG",
                                    "Össz rend": "226"
                                },
                                {
                                    "Szállítás dátuma": "2015-12-03",
                                    "Szállítási mód": "RÉSZÖSSZEG",
                                    "Össz rend": "217"
                                },
                                {
                                    "Szállítás dátuma": "2015-12-04",
                                    "Szállítási mód": "RÉSZÖSSZEG",
                                    "Össz rend": "185"
                                },
                                {
                                    "Szállítás dátuma": "2015-12-05",
                                    "Szállítási mód": "RÉSZÖSSZEG",
                                    "Össz rend": "267"
                                },
                                {
                                    "Szállítás dátuma": "2015-12-06",
                                    "Szállítási mód": "RÉSZÖSSZEG",
                                    "Össz rend": "150"
                                },
                                {
                                    "Szállítás dátuma": "2015-12-07",
                                    "Szállítási mód": "RÉSZÖSSZEG",
                                    "Össz rend": "263"
                                },
                                {
                                    "Szállítás dátuma": "2015-12-08",
                                    "Szállítási mód": "RÉSZÖSSZEG",
                                    "Össz rend": "207"
                                },
                                {
                                    "Szállítás dátuma": "2015-12-09",
                                    "Szállítási mód": "RÉSZÖSSZEG",
                                    "Össz rend": "211"
                                },
                                {
                                    "Szállítás dátuma": "2015-12-10",
                                    "Szállítási mód": "RÉSZÖSSZEG",
                                    "Össz rend": "256"
                                },
                                {
                                    "Szállítás dátuma": "2015-12-11",
                                    "Szállítási mód": "RÉSZÖSSZEG",
                                    "Össz rend": "230"
                                },
                                {
                                    "Szállítás dátuma": "2015-12-12",
                                    "Szállítási mód": "RÉSZÖSSZEG",
                                    "Össz rend": "224"
                                },
                                {
                                    "Szállítás dátuma": "2015-12-13",
                                    "Szállítási mód": "RÉSZÖSSZEG",
                                    "Össz rend": "171"
                                },
                                {
                                    "Szállítás dátuma": "2015-12-14",
                                    "Szállítási mód": "RÉSZÖSSZEG",
                                    "Össz rend": "212"
                                },
                                {
                                    "Szállítás dátuma": "2015-12-15",
                                    "Szállítási mód": "RÉSZÖSSZEG",
                                    "Össz rend": "184"
                                },
                                {
                                    "Szállítás dátuma": "2015-12-16",
                                    "Szállítási mód": "RÉSZÖSSZEG",
                                    "Össz rend": "179"
                                },
                                {
                                    "Szállítás dátuma": "2015-12-17",
                                    "Szállítási mód": "RÉSZÖSSZEG",
                                    "Össz rend": "186"
                                },
                                {
                                    "Szállítás dátuma": "2015-12-18",
                                    "Szállítási mód": "RÉSZÖSSZEG",
                                    "Össz rend": "274"
                                },
                                {
                                    "Szállítás dátuma": "2015-12-19",
                                    "Szállítási mód": "RÉSZÖSSZEG",
                                    "Össz rend": "164"
                                },
                                {
                                    "Szállítás dátuma": "2015-12-20",
                                    "Szállítási mód": "RÉSZÖSSZEG",
                                    "Össz rend": "222"
                                },
                                {
                                    "Szállítás dátuma": "2015-12-21",
                                    "Szállítási mód": "RÉSZÖSSZEG",
                                    "Össz rend": "164"
                                },
                                {
                                    "Szállítás dátuma": "2015-12-22",
                                    "Szállítási mód": "RÉSZÖSSZEG",
                                    "Össz rend": "210"
                                },
                                {
                                    "Szállítás dátuma": "2015-12-23",
                                    "Szállítási mód": "RÉSZÖSSZEG",
                                    "Össz rend": "191"
                                },
                                {
                                    "Szállítás dátuma": "2015-12-24",
                                    "Szállítási mód": "RÉSZÖSSZEG",
                                    "Össz rend": "196"
                                },
                                {
                                    "Szállítás dátuma": "2015-12-25",
                                    "Szállítási mód": "RÉSZÖSSZEG",
                                    "Össz rend": "181"
                                },
                                {
                                    "Szállítás dátuma": "2015-12-26",
                                    "Szállítási mód": "RÉSZÖSSZEG",
                                    "Össz rend": "222"
                                },
                                {
                                    "Szállítás dátuma": "2015-12-27",
                                    "Szállítási mód": "RÉSZÖSSZEG",
                                    "Össz rend": "208"
                                },
                                {
                                    "Szállítás dátuma": "2015-12-28",
                                    "Szállítási mód": "RÉSZÖSSZEG",
                                    "Össz rend": "244"
                                },
                                {
                                    "Szállítás dátuma": "2015-12-29",
                                    "Szállítási mód": "RÉSZÖSSZEG",
                                    "Össz rend": "247"
                                },
                                {
                                    "Szállítás dátuma": "2015-12-30",
                                    "Szállítási mód": "RÉSZÖSSZEG",
                                    "Össz rend": "190"
                                },
                                {
                                    "Szállítás dátuma": "2015-12-31",
                                    "Szállítási mód": "RÉSZÖSSZEG",
                                    "Össz rend": "206"
                                },
                                {
                                    "Szállítás dátuma": "2016-01-01",
                                    "Szállítási mód": "RÉSZÖSSZEG",
                                    "Össz rend": "240"
                                },
                                {
                                    "Szállítás dátuma": "2016-01-02",
                                    "Szállítási mód": "RÉSZÖSSZEG",
                                    "Össz rend": "206"
                                },
                                {
                                    "Szállítás dátuma": "2016-01-03",
                                    "Szállítási mód": "RÉSZÖSSZEG",
                                    "Össz rend": "257"
                                },
                                {
                                    "Szállítás dátuma": "2016-01-04",
                                    "Szállítási mód": "RÉSZÖSSZEG",
                                    "Össz rend": "233"
                                },
                                {
                                    "Szállítás dátuma": "2016-01-05",
                                    "Szállítási mód": "RÉSZÖSSZEG",
                                    "Össz rend": "192"
                                },
                                {
                                    "Szállítás dátuma": "2016-01-06",
                                    "Szállítási mód": "RÉSZÖSSZEG",
                                    "Össz rend": "193"
                                },
                                {
                                    "Szállítás dátuma": "2016-01-07",
                                    "Szállítási mód": "RÉSZÖSSZEG",
                                    "Össz rend": "142"
                                },
                                {
                                    "Szállítás dátuma": "2016-01-08",
                                    "Szállítási mód": "RÉSZÖSSZEG",
                                    "Össz rend": "269"
                                },
                                {
                                    "Szállítás dátuma": "2016-01-09",
                                    "Szállítási mód": "RÉSZÖSSZEG",
                                    "Össz rend": "196"
                                },
                                {
                                    "Szállítás dátuma": "2016-01-10",
                                    "Szállítási mód": "RÉSZÖSSZEG",
                                    "Össz rend": "204"
                                },
                                {
                                    "Szállítás dátuma": "2016-01-11",
                                    "Szállítási mód": "RÉSZÖSSZEG",
                                    "Össz rend": "201"
                                },
                                {
                                    "Szállítás dátuma": "2016-01-12",
                                    "Szállítási mód": "RÉSZÖSSZEG",
                                    "Össz rend": "189"
                                },
                                {
                                    "Szállítás dátuma": "2016-01-13",
                                    "Szállítási mód": "RÉSZÖSSZEG",
                                    "Össz rend": "201"
                                },
                                {
                                    "Szállítás dátuma": "2016-01-14",
                                    "Szállítási mód": "RÉSZÖSSZEG",
                                    "Össz rend": "226"
                                },
                                {
                                    "Szállítás dátuma": "2016-01-15",
                                    "Szállítási mód": "RÉSZÖSSZEG",
                                    "Össz rend": "229"
                                },
                                {
                                    "Szállítás dátuma": "2016-01-16",
                                    "Szállítási mód": "RÉSZÖSSZEG",
                                    "Össz rend": "218"
                                },
                                {
                                    "Szállítás dátuma": "2016-01-17",
                                    "Szállítási mód": "RÉSZÖSSZEG",
                                    "Össz rend": "203"
                                },
                                {
                                    "Szállítás dátuma": "2016-01-18",
                                    "Szállítási mód": "RÉSZÖSSZEG",
                                    "Össz rend": "173"
                                },
                                {
                                    "Szállítás dátuma": "2016-01-19",
                                    "Szállítási mód": "RÉSZÖSSZEG",
                                    "Össz rend": "176"
                                },
                                {
                                    "Szállítás dátuma": "2016-01-20",
                                    "Szállítási mód": "RÉSZÖSSZEG",
                                    "Össz rend": "200"
                                },
                                {
                                    "Szállítás dátuma": "2016-01-21",
                                    "Szállítási mód": "RÉSZÖSSZEG",
                                    "Össz rend": "281"
                                },
                                {
                                    "Szállítás dátuma": "2016-01-22",
                                    "Szállítási mód": "RÉSZÖSSZEG",
                                    "Össz rend": "206"
                                },
                                {
                                    "Szállítás dátuma": "2016-01-23",
                                    "Szállítási mód": "RÉSZÖSSZEG",
                                    "Össz rend": "175"
                                },
                                {
                                    "Szállítás dátuma": "2016-01-24",
                                    "Szállítási mód": "RÉSZÖSSZEG",
                                    "Össz rend": "241"
                                },
                                {
                                    "Szállítás dátuma": "2016-01-25",
                                    "Szállítási mód": "RÉSZÖSSZEG",
                                    "Össz rend": "136"
                                },
                                {
                                    "Szállítás dátuma": "2016-01-26",
                                    "Szállítási mód": "RÉSZÖSSZEG",
                                    "Össz rend": "144"
                                },
                                {
                                    "Szállítás dátuma": "2016-01-27",
                                    "Szállítási mód": "RÉSZÖSSZEG",
                                    "Össz rend": "195"
                                },
                                {
                                    "Szállítás dátuma": "2016-01-28",
                                    "Szállítási mód": "RÉSZÖSSZEG",
                                    "Össz rend": "207"
                                },
                                {
                                    "Szállítás dátuma": "2016-01-29",
                                    "Szállítási mód": "RÉSZÖSSZEG",
                                    "Össz rend": "198"
                                },
                                {
                                    "Szállítás dátuma": "2016-01-30",
                                    "Szállítási mód": "RÉSZÖSSZEG",
                                    "Össz rend": "239"
                                },
                                {
                                    "Szállítás dátuma": "2016-01-31",
                                    "Szállítási mód": "RÉSZÖSSZEG",
                                    "Össz rend": "191"
                                },
                                {
                                    "Szállítás dátuma": "2016-02-01",
                                    "Szállítási mód": "RÉSZÖSSZEG",
                                    "Össz rend": "246"
                                },
                                {
                                    "Szállítás dátuma": "2016-02-02",
                                    "Szállítási mód": "RÉSZÖSSZEG",
                                    "Össz rend": "211"
                                },
                                {
                                    "Szállítás dátuma": "2016-02-03",
                                    "Szállítási mód": "RÉSZÖSSZEG",
                                    "Össz rend": "236"
                                },
                                {
                                    "Szállítás dátuma": "2016-02-04",
                                    "Szállítási mód": "RÉSZÖSSZEG",
                                    "Össz rend": "199"
                                },
                                {
                                    "Szállítás dátuma": "2016-02-05",
                                    "Szállítási mód": "RÉSZÖSSZEG",
                                    "Össz rend": "233"
                                },
                                {
                                    "Szállítás dátuma": "2016-02-06",
                                    "Szállítási mód": "RÉSZÖSSZEG",
                                    "Össz rend": "287"
                                },
                                {
                                    "Szállítás dátuma": "2016-02-07",
                                    "Szállítási mód": "RÉSZÖSSZEG",
                                    "Össz rend": "164"
                                },
                                {
                                    "Szállítás dátuma": "2016-02-08",
                                    "Szállítási mód": "RÉSZÖSSZEG",
                                    "Össz rend": "230"
                                },
                                {
                                    "Szállítás dátuma": "2016-02-09",
                                    "Szállítási mód": "RÉSZÖSSZEG",
                                    "Össz rend": "222"
                                },
                                {
                                    "Szállítás dátuma": "2016-02-10",
                                    "Szállítási mód": "RÉSZÖSSZEG",
                                    "Össz rend": "196"
                                },
                                {
                                    "Szállítás dátuma": "2016-02-11",
                                    "Szállítási mód": "RÉSZÖSSZEG",
                                    "Össz rend": "217"
                                },
                                {
                                    "Szállítás dátuma": "2016-02-12",
                                    "Szállítási mód": "RÉSZÖSSZEG",
                                    "Össz rend": "232"
                                },
                                {
                                    "Szállítás dátuma": "2016-02-13",
                                    "Szállítási mód": "RÉSZÖSSZEG",
                                    "Össz rend": "195"
                                },
                                {
                                    "Szállítás dátuma": "2016-02-14",
                                    "Szállítási mód": "RÉSZÖSSZEG",
                                    "Össz rend": "219"
                                },
                                {
                                    "Szállítás dátuma": "2016-02-15",
                                    "Szállítási mód": "RÉSZÖSSZEG",
                                    "Össz rend": "246"
                                },
                                {
                                    "Szállítás dátuma": "2016-02-16",
                                    "Szállítási mód": "RÉSZÖSSZEG",
                                    "Össz rend": "209"
                                },
                                {
                                    "Szállítás dátuma": "2016-02-17",
                                    "Szállítási mód": "RÉSZÖSSZEG",
                                    "Össz rend": "250"
                                },
                                {
                                    "Szállítás dátuma": "2016-02-18",
                                    "Szállítási mód": "RÉSZÖSSZEG",
                                    "Össz rend": "131"
                                },
                                {
                                    "Szállítás dátuma": "2016-02-19",
                                    "Szállítási mód": "RÉSZÖSSZEG",
                                    "Össz rend": "217"
                                },
                                {
                                    "Szállítás dátuma": "2016-02-20",
                                    "Szállítási mód": "RÉSZÖSSZEG",
                                    "Össz rend": "204"
                                },
                                {
                                    "Szállítás dátuma": "2016-02-21",
                                    "Szállítási mód": "RÉSZÖSSZEG",
                                    "Össz rend": "206"
                                },
                                {
                                    "Szállítás dátuma": "2016-02-22",
                                    "Szállítási mód": "RÉSZÖSSZEG",
                                    "Össz rend": "245"
                                },
                                {
                                    "Szállítás dátuma": "2016-02-23",
                                    "Szállítási mód": "RÉSZÖSSZEG",
                                    "Össz rend": "183"
                                },
                                {
                                    "Szállítás dátuma": "2016-02-24",
                                    "Szállítási mód": "RÉSZÖSSZEG",
                                    "Össz rend": "185"
                                },
                                {
                                    "Szállítás dátuma": "2016-02-25",
                                    "Szállítási mód": "RÉSZÖSSZEG",
                                    "Össz rend": "188"
                                },
                                {
                                    "Szállítás dátuma": "2016-02-26",
                                    "Szállítási mód": "RÉSZÖSSZEG",
                                    "Össz rend": "232"
                                },
                                {
                                    "Szállítás dátuma": "2016-02-27",
                                    "Szállítási mód": "RÉSZÖSSZEG",
                                    "Össz rend": "199"
                                },
                                {
                                    "Szállítás dátuma": "2016-02-28",
                                    "Szállítási mód": "RÉSZÖSSZEG",
                                    "Össz rend": "217"
                                },
                                {
                                    "Szállítás dátuma": "2016-02-29",
                                    "Szállítási mód": "RÉSZÖSSZEG",
                                    "Össz rend": "223"
                                },
                                {
                                    "Szállítás dátuma": "2016-03-01",
                                    "Szállítási mód": "RÉSZÖSSZEG",
                                    "Össz rend": "256"
                                },
                                {
                                    "Szállítás dátuma": "2016-03-02",
                                    "Szállítási mód": "RÉSZÖSSZEG",
                                    "Össz rend": "203"
                                },
                                {
                                    "Szállítás dátuma": "2016-03-03",
                                    "Szállítási mód": "RÉSZÖSSZEG",
                                    "Össz rend": "250"
                                },
                                {
                                    "Szállítás dátuma": "2016-03-04",
                                    "Szállítási mód": "RÉSZÖSSZEG",
                                    "Össz rend": "220"
                                },
                                {
                                    "Szállítás dátuma": "2016-03-05",
                                    "Szállítási mód": "RÉSZÖSSZEG",
                                    "Össz rend": "251"
                                },
                                {
                                    "Szállítás dátuma": "2016-03-06",
                                    "Szállítási mód": "RÉSZÖSSZEG",
                                    "Össz rend": "184"
                                },
                                {
                                    "Szállítás dátuma": "2016-03-07",
                                    "Szállítási mód": "RÉSZÖSSZEG",
                                    "Össz rend": "197"
                                },
                                {
                                    "Szállítás dátuma": "2016-03-08",
                                    "Szállítási mód": "RÉSZÖSSZEG",
                                    "Össz rend": "159"
                                },
                                {
                                    "Szállítás dátuma": "2016-03-09",
                                    "Szállítási mód": "RÉSZÖSSZEG",
                                    "Össz rend": "208"
                                },
                                {
                                    "Szállítás dátuma": "2016-03-10",
                                    "Szállítási mód": "RÉSZÖSSZEG",
                                    "Össz rend": "235"
                                },
                                {
                                    "Szállítás dátuma": "2016-03-11",
                                    "Szállítási mód": "RÉSZÖSSZEG",
                                    "Össz rend": "200"
                                },
                                {
                                    "Szállítás dátuma": "2016-03-12",
                                    "Szállítási mód": "RÉSZÖSSZEG",
                                    "Össz rend": "260"
                                },
                                {
                                    "Szállítás dátuma": "2016-03-13",
                                    "Szállítási mód": "RÉSZÖSSZEG",
                                    "Össz rend": "191"
                                },
                                {
                                    "Szállítás dátuma": "2016-03-14",
                                    "Szállítási mód": "RÉSZÖSSZEG",
                                    "Össz rend": "224"
                                },
                                {
                                    "Szállítás dátuma": "2016-03-15",
                                    "Szállítási mód": "RÉSZÖSSZEG",
                                    "Össz rend": "211"
                                },
                                {
                                    "Szállítás dátuma": "2016-03-16",
                                    "Szállítási mód": "RÉSZÖSSZEG",
                                    "Össz rend": "169"
                                },
                                {
                                    "Szállítás dátuma": "2016-03-17",
                                    "Szállítási mód": "RÉSZÖSSZEG",
                                    "Össz rend": "195"
                                },
                                {
                                    "Szállítás dátuma": "2016-03-18",
                                    "Szállítási mód": "RÉSZÖSSZEG",
                                    "Össz rend": "192"
                                },
                                {
                                    "Szállítás dátuma": "2016-03-19",
                                    "Szállítási mód": "RÉSZÖSSZEG",
                                    "Össz rend": "195"
                                },
                                {
                                    "Szállítás dátuma": "2016-03-20",
                                    "Szállítási mód": "RÉSZÖSSZEG",
                                    "Össz rend": "308"
                                },
                                {
                                    "Szállítás dátuma": "2016-03-21",
                                    "Szállítási mód": "RÉSZÖSSZEG",
                                    "Össz rend": "263"
                                },
                                {
                                    "Szállítás dátuma": "2016-03-22",
                                    "Szállítási mód": "RÉSZÖSSZEG",
                                    "Össz rend": "224"
                                },
                                {
                                    "Szállítás dátuma": "2016-03-23",
                                    "Szállítási mód": "RÉSZÖSSZEG",
                                    "Össz rend": "214"
                                },
                                {
                                    "Szállítás dátuma": "2016-03-24",
                                    "Szállítási mód": "RÉSZÖSSZEG",
                                    "Össz rend": "199"
                                },
                                {
                                    "Szállítás dátuma": "2016-03-25",
                                    "Szállítási mód": "RÉSZÖSSZEG",
                                    "Össz rend": "238"
                                },
                                {
                                    "Szállítás dátuma": "2016-03-26",
                                    "Szállítási mód": "RÉSZÖSSZEG",
                                    "Össz rend": "238"
                                },
                                {
                                    "Szállítás dátuma": "2016-03-27",
                                    "Szállítási mód": "RÉSZÖSSZEG",
                                    "Össz rend": "230"
                                },
                                {
                                    "Szállítás dátuma": "2016-03-28",
                                    "Szállítási mód": "RÉSZÖSSZEG",
                                    "Össz rend": "174"
                                },
                                {
                                    "Szállítás dátuma": "2016-03-29",
                                    "Szállítási mód": "RÉSZÖSSZEG",
                                    "Össz rend": "176"
                                },
                                {
                                    "Szállítás dátuma": "2016-03-30",
                                    "Szállítási mód": "RÉSZÖSSZEG",
                                    "Össz rend": "222"
                                },
                                {
                                    "Szállítás dátuma": "2016-03-31",
                                    "Szállítási mód": "RÉSZÖSSZEG",
                                    "Össz rend": "199"
                                },
                                {
                                    "Szállítás dátuma": "2016-04-01",
                                    "Szállítási mód": "RÉSZÖSSZEG",
                                    "Össz rend": "227"
                                },
                                {
                                    "Szállítás dátuma": "2016-04-02",
                                    "Szállítási mód": "RÉSZÖSSZEG",
                                    "Össz rend": "207"
                                },
                                {
                                    "Szállítás dátuma": "2016-04-03",
                                    "Szállítási mód": "RÉSZÖSSZEG",
                                    "Össz rend": "203"
                                },
                                {
                                    "Szállítás dátuma": "2016-04-04",
                                    "Szállítási mód": "RÉSZÖSSZEG",
                                    "Össz rend": "201"
                                },
                                {
                                    "Szállítás dátuma": "2016-04-05",
                                    "Szállítási mód": "RÉSZÖSSZEG",
                                    "Össz rend": "216"
                                },
                                {
                                    "Szállítás dátuma": "2016-04-06",
                                    "Szállítási mód": "RÉSZÖSSZEG",
                                    "Össz rend": "191"
                                },
                                {
                                    "Szállítás dátuma": "2016-04-07",
                                    "Szállítási mód": "RÉSZÖSSZEG",
                                    "Össz rend": "220"
                                },
                                {
                                    "Szállítás dátuma": "2016-04-08",
                                    "Szállítási mód": "RÉSZÖSSZEG",
                                    "Össz rend": "262"
                                },
                                {
                                    "Szállítás dátuma": "2016-04-09",
                                    "Szállítási mód": "RÉSZÖSSZEG",
                                    "Össz rend": "257"
                                },
                                {
                                    "Szállítás dátuma": "2016-04-10",
                                    "Szállítási mód": "RÉSZÖSSZEG",
                                    "Össz rend": "254"
                                },
                                {
                                    "Szállítás dátuma": "2016-04-11",
                                    "Szállítási mód": "RÉSZÖSSZEG",
                                    "Össz rend": "235"
                                },
                                {
                                    "Szállítás dátuma": "2016-04-12",
                                    "Szállítási mód": "RÉSZÖSSZEG",
                                    "Össz rend": "190"
                                },
                                {
                                    "Szállítás dátuma": "2016-04-13",
                                    "Szállítási mód": "RÉSZÖSSZEG",
                                    "Össz rend": "190"
                                },
                                {
                                    "Szállítás dátuma": "2016-04-14",
                                    "Szállítási mód": "RÉSZÖSSZEG",
                                    "Össz rend": "219"
                                },
                                {
                                    "Szállítás dátuma": "2016-04-15",
                                    "Szállítási mód": "RÉSZÖSSZEG",
                                    "Össz rend": "233"
                                },
                                {
                                    "Szállítás dátuma": "2016-04-16",
                                    "Szállítási mód": "RÉSZÖSSZEG",
                                    "Össz rend": "196"
                                },
                                {
                                    "Szállítás dátuma": "2016-04-17",
                                    "Szállítási mód": "RÉSZÖSSZEG",
                                    "Össz rend": "266"
                                },
                                {
                                    "Szállítás dátuma": "2016-04-18",
                                    "Szállítási mód": "RÉSZÖSSZEG",
                                    "Össz rend": "209"
                                },
                                {
                                    "Szállítás dátuma": "2016-04-19",
                                    "Szállítási mód": "RÉSZÖSSZEG",
                                    "Össz rend": "242"
                                },
                                {
                                    "Szállítás dátuma": "2016-04-20",
                                    "Szállítási mód": "RÉSZÖSSZEG",
                                    "Össz rend": "164"
                                },
                                {
                                    "Szállítás dátuma": "2016-04-21",
                                    "Szállítási mód": "RÉSZÖSSZEG",
                                    "Össz rend": "172"
                                },
                                {
                                    "Szállítás dátuma": "2016-04-22",
                                    "Szállítási mód": "RÉSZÖSSZEG",
                                    "Össz rend": "141"
                                },
                                {
                                    "Szállítás dátuma": "2016-04-23",
                                    "Szállítási mód": "RÉSZÖSSZEG",
                                    "Össz rend": "189"
                                },
                                {
                                    "Szállítás dátuma": "2016-04-24",
                                    "Szállítási mód": "RÉSZÖSSZEG",
                                    "Össz rend": "252"
                                },
                                {
                                    "Szállítás dátuma": "2016-04-25",
                                    "Szállítási mód": "RÉSZÖSSZEG",
                                    "Össz rend": "272"
                                },
                                {
                                    "Szállítás dátuma": "2016-04-26",
                                    "Szállítási mód": "RÉSZÖSSZEG",
                                    "Össz rend": "236"
                                },
                                {
                                    "Szállítás dátuma": "2016-04-27",
                                    "Szállítási mód": "RÉSZÖSSZEG",
                                    "Össz rend": "210"
                                },
                                {
                                    "Szállítás dátuma": "2016-04-28",
                                    "Szállítási mód": "RÉSZÖSSZEG",
                                    "Össz rend": "191"
                                },
                                {
                                    "Szállítás dátuma": "2016-04-29",
                                    "Szállítási mód": "RÉSZÖSSZEG",
                                    "Össz rend": "223"
                                },
                                {
                                    "Szállítás dátuma": "2016-04-30",
                                    "Szállítási mód": "RÉSZÖSSZEG",
                                    "Össz rend": "196"
                                },
                                {
                                    "Szállítás dátuma": "2016-05-01",
                                    "Szállítási mód": "RÉSZÖSSZEG",
                                    "Össz rend": "182"
                                },
                                {
                                    "Szállítás dátuma": "2016-05-02",
                                    "Szállítási mód": "RÉSZÖSSZEG",
                                    "Össz rend": "220"
                                },
                                {
                                    "Szállítás dátuma": "2016-05-03",
                                    "Szállítási mód": "RÉSZÖSSZEG",
                                    "Össz rend": "153"
                                },
                                {
                                    "Szállítás dátuma": "2016-05-04",
                                    "Szállítási mód": "RÉSZÖSSZEG",
                                    "Össz rend": "254"
                                },
                                {
                                    "Szállítás dátuma": "2016-05-05",
                                    "Szállítási mód": "RÉSZÖSSZEG",
                                    "Össz rend": "212"
                                },
                                {
                                    "Szállítás dátuma": "2016-05-06",
                                    "Szállítási mód": "RÉSZÖSSZEG",
                                    "Össz rend": "224"
                                },
                                {
                                    "Szállítás dátuma": "2016-05-07",
                                    "Szállítási mód": "RÉSZÖSSZEG",
                                    "Össz rend": "210"
                                },
                                {
                                    "Szállítás dátuma": "2016-05-08",
                                    "Szállítási mód": "RÉSZÖSSZEG",
                                    "Össz rend": "232"
                                },
                                {
                                    "Szállítás dátuma": "2016-05-09",
                                    "Szállítási mód": "RÉSZÖSSZEG",
                                    "Össz rend": "269"
                                },
                                {
                                    "Szállítás dátuma": "2016-05-10",
                                    "Szállítási mód": "RÉSZÖSSZEG",
                                    "Össz rend": "211"
                                },
                                {
                                    "Szállítás dátuma": "2016-05-11",
                                    "Szállítási mód": "RÉSZÖSSZEG",
                                    "Össz rend": "214"
                                },
                                {
                                    "Szállítás dátuma": "2016-05-12",
                                    "Szállítási mód": "RÉSZÖSSZEG",
                                    "Össz rend": "234"
                                },
                                {
                                    "Szállítás dátuma": "2016-05-13",
                                    "Szállítási mód": "RÉSZÖSSZEG",
                                    "Össz rend": "183"
                                },
                                {
                                    "Szállítás dátuma": "2016-05-14",
                                    "Szállítási mód": "RÉSZÖSSZEG",
                                    "Össz rend": "188"
                                },
                                {
                                    "Szállítás dátuma": "2016-05-15",
                                    "Szállítási mód": "RÉSZÖSSZEG",
                                    "Össz rend": "144"
                                },
                                {
                                    "Szállítás dátuma": "2016-05-16",
                                    "Szállítási mód": "RÉSZÖSSZEG",
                                    "Össz rend": "198"
                                },
                                {
                                    "Szállítás dátuma": "2016-05-17",
                                    "Szállítási mód": "RÉSZÖSSZEG",
                                    "Össz rend": "223"
                                },
                                {
                                    "Szállítás dátuma": "2016-05-18",
                                    "Szállítási mód": "RÉSZÖSSZEG",
                                    "Össz rend": "177"
                                },
                                {
                                    "Szállítás dátuma": "2016-05-19",
                                    "Szállítási mód": "RÉSZÖSSZEG",
                                    "Össz rend": "211"
                                },
                                {
                                    "Szállítás dátuma": "2016-05-20",
                                    "Szállítási mód": "RÉSZÖSSZEG",
                                    "Össz rend": "207"
                                },
                                {
                                    "Szállítás dátuma": "2016-05-21",
                                    "Szállítási mód": "RÉSZÖSSZEG",
                                    "Össz rend": "209"
                                },
                                {
                                    "Szállítás dátuma": "2016-05-22",
                                    "Szállítási mód": "RÉSZÖSSZEG",
                                    "Össz rend": "160"
                                },
                                {
                                    "Szállítás dátuma": "2016-05-23",
                                    "Szállítási mód": "RÉSZÖSSZEG",
                                    "Össz rend": "208"
                                },
                                {
                                    "Szállítás dátuma": "2016-05-24",
                                    "Szállítási mód": "RÉSZÖSSZEG",
                                    "Össz rend": "211"
                                },
                                {
                                    "Szállítás dátuma": "2016-05-25",
                                    "Szállítási mód": "RÉSZÖSSZEG",
                                    "Össz rend": "230"
                                },
                                {
                                    "Szállítás dátuma": "2016-05-26",
                                    "Szállítási mód": "RÉSZÖSSZEG",
                                    "Össz rend": "141"
                                },
                                {
                                    "Szállítás dátuma": "2016-05-27",
                                    "Szállítási mód": "RÉSZÖSSZEG",
                                    "Össz rend": "234"
                                },
                                {
                                    "Szállítás dátuma": "2016-05-28",
                                    "Szállítási mód": "RÉSZÖSSZEG",
                                    "Össz rend": "155"
                                },
                                {
                                    "Szállítás dátuma": "2016-05-29",
                                    "Szállítási mód": "RÉSZÖSSZEG",
                                    "Össz rend": "216"
                                },
                                {
                                    "Szállítás dátuma": "2016-05-30",
                                    "Szállítási mód": "RÉSZÖSSZEG",
                                    "Össz rend": "187"
                                },
                                {
                                    "Szállítás dátuma": "2016-05-31",
                                    "Szállítási mód": "RÉSZÖSSZEG",
                                    "Össz rend": "242"
                                },
                                {
                                    "Szállítás dátuma": "2016-06-01",
                                    "Szállítási mód": "RÉSZÖSSZEG",
                                    "Össz rend": "212"
                                },
                                {
                                    "Szállítás dátuma": "2016-06-02",
                                    "Szállítási mód": "RÉSZÖSSZEG",
                                    "Össz rend": "201"
                                },
                                {
                                    "Szállítás dátuma": "2016-06-03",
                                    "Szállítási mód": "RÉSZÖSSZEG",
                                    "Össz rend": "190"
                                },
                                {
                                    "Szállítás dátuma": "2016-06-04",
                                    "Szállítási mód": "RÉSZÖSSZEG",
                                    "Össz rend": "212"
                                },
                                {
                                    "Szállítás dátuma": "2016-06-05",
                                    "Szállítási mód": "RÉSZÖSSZEG",
                                    "Össz rend": "172"
                                },
                                {
                                    "Szállítás dátuma": "2016-06-06",
                                    "Szállítási mód": "RÉSZÖSSZEG",
                                    "Össz rend": "231"
                                },
                                {
                                    "Szállítás dátuma": "2016-06-07",
                                    "Szállítási mód": "RÉSZÖSSZEG",
                                    "Össz rend": "227"
                                },
                                {
                                    "Szállítás dátuma": "2016-06-08",
                                    "Szállítási mód": "RÉSZÖSSZEG",
                                    "Össz rend": "218"
                                },
                                {
                                    "Szállítás dátuma": "2016-06-09",
                                    "Szállítási mód": "RÉSZÖSSZEG",
                                    "Össz rend": "211"
                                },
                                {
                                    "Szállítás dátuma": "2016-06-10",
                                    "Szállítási mód": "RÉSZÖSSZEG",
                                    "Össz rend": "229"
                                },
                                {
                                    "Szállítás dátuma": "2016-06-11",
                                    "Szállítási mód": "RÉSZÖSSZEG",
                                    "Össz rend": "260"
                                },
                                {
                                    "Szállítás dátuma": "2016-06-12",
                                    "Szállítási mód": "RÉSZÖSSZEG",
                                    "Össz rend": "222"
                                },
                                {
                                    "Szállítás dátuma": "2016-06-13",
                                    "Szállítási mód": "RÉSZÖSSZEG",
                                    "Össz rend": "170"
                                },
                                {
                                    "Szállítás dátuma": "2016-06-14",
                                    "Szállítási mód": "RÉSZÖSSZEG",
                                    "Össz rend": "205"
                                },
                                {
                                    "Szállítás dátuma": "2016-06-15",
                                    "Szállítási mód": "RÉSZÖSSZEG",
                                    "Össz rend": "242"
                                },
                                {
                                    "Szállítás dátuma": "2016-06-16",
                                    "Szállítási mód": "RÉSZÖSSZEG",
                                    "Össz rend": "168"
                                },
                                {
                                    "Szállítás dátuma": "2016-06-17",
                                    "Szállítási mód": "RÉSZÖSSZEG",
                                    "Össz rend": "232"
                                },
                                {
                                    "Szállítás dátuma": "2016-06-18",
                                    "Szállítási mód": "RÉSZÖSSZEG",
                                    "Össz rend": "164"
                                },
                                {
                                    "Szállítás dátuma": "2016-06-19",
                                    "Szállítási mód": "RÉSZÖSSZEG",
                                    "Össz rend": "240"
                                },
                                {
                                    "Szállítás dátuma": "2016-06-20",
                                    "Szállítási mód": "RÉSZÖSSZEG",
                                    "Össz rend": "204"
                                },
                                {
                                    "Szállítás dátuma": "2016-06-21",
                                    "Szállítási mód": "RÉSZÖSSZEG",
                                    "Össz rend": "171"
                                },
                                {
                                    "Szállítás dátuma": "2016-06-22",
                                    "Szállítási mód": "RÉSZÖSSZEG",
                                    "Össz rend": "190"
                                },
                                {
                                    "Szállítás dátuma": "2016-06-23",
                                    "Szállítási mód": "RÉSZÖSSZEG",
                                    "Össz rend": "195"
                                },
                                {
                                    "Szállítás dátuma": "2016-06-24",
                                    "Szállítási mód": "RÉSZÖSSZEG",
                                    "Össz rend": "224"
                                },
                                {
                                    "Szállítás dátuma": "2016-06-25",
                                    "Szállítási mód": "RÉSZÖSSZEG",
                                    "Össz rend": "215"
                                },
                                {
                                    "Szállítás dátuma": "2016-06-26",
                                    "Szállítási mód": "RÉSZÖSSZEG",
                                    "Össz rend": "252"
                                },
                                {
                                    "Szállítás dátuma": "2016-06-27",
                                    "Szállítási mód": "RÉSZÖSSZEG",
                                    "Össz rend": "165"
                                },
                                {
                                    "Szállítás dátuma": "2016-06-28",
                                    "Szállítási mód": "RÉSZÖSSZEG",
                                    "Össz rend": "229"
                                },
                                {
                                    "Szállítás dátuma": "2016-06-29",
                                    "Szállítási mód": "RÉSZÖSSZEG",
                                    "Össz rend": "218"
                                },
                                {
                                    "Szállítás dátuma": "2016-06-30",
                                    "Szállítási mód": "RÉSZÖSSZEG",
                                    "Össz rend": "217"
                                },
                                {
                                    "Szállítás dátuma": "2016-07-01",
                                    "Szállítási mód": "RÉSZÖSSZEG",
                                    "Össz rend": "203"
                                },
                                {
                                    "Szállítás dátuma": "2016-07-02",
                                    "Szállítási mód": "RÉSZÖSSZEG",
                                    "Össz rend": "202"
                                },
                                {
                                    "Szállítás dátuma": "2016-07-03",
                                    "Szállítási mód": "RÉSZÖSSZEG",
                                    "Össz rend": "227"
                                },
                                {
                                    "Szállítás dátuma": "2016-07-04",
                                    "Szállítási mód": "RÉSZÖSSZEG",
                                    "Össz rend": "282"
                                },
                                {
                                    "Szállítás dátuma": "2016-07-05",
                                    "Szállítási mód": "RÉSZÖSSZEG",
                                    "Össz rend": "200"
                                },
                                {
                                    "Szállítás dátuma": "2016-07-06",
                                    "Szállítási mód": "RÉSZÖSSZEG",
                                    "Össz rend": "200"
                                },
                                {
                                    "Szállítás dátuma": "2016-07-07",
                                    "Szállítási mód": "RÉSZÖSSZEG",
                                    "Össz rend": "143"
                                },
                                {
                                    "Szállítás dátuma": "2016-07-08",
                                    "Szállítási mód": "RÉSZÖSSZEG",
                                    "Össz rend": "196"
                                },
                                {
                                    "Szállítás dátuma": "2016-07-09",
                                    "Szállítási mód": "RÉSZÖSSZEG",
                                    "Össz rend": "222"
                                },
                                {
                                    "Szállítás dátuma": "2016-07-10",
                                    "Szállítási mód": "RÉSZÖSSZEG",
                                    "Össz rend": "200"
                                },
                                {
                                    "Szállítás dátuma": "2016-07-11",
                                    "Szállítási mód": "RÉSZÖSSZEG",
                                    "Össz rend": "248"
                                },
                                {
                                    "Szállítás dátuma": "2016-07-12",
                                    "Szállítási mód": "RÉSZÖSSZEG",
                                    "Össz rend": "224"
                                },
                                {
                                    "Szállítás dátuma": "2016-07-13",
                                    "Szállítási mód": "RÉSZÖSSZEG",
                                    "Össz rend": "229"
                                },
                                {
                                    "Szállítás dátuma": "2016-07-14",
                                    "Szállítási mód": "RÉSZÖSSZEG",
                                    "Össz rend": "179"
                                },
                                {
                                    "Szállítás dátuma": "2016-07-15",
                                    "Szállítási mód": "RÉSZÖSSZEG",
                                    "Össz rend": "195"
                                },
                                {
                                    "Szállítás dátuma": "2016-07-16",
                                    "Szállítási mód": "RÉSZÖSSZEG",
                                    "Össz rend": "196"
                                },
                                {
                                    "Szállítás dátuma": "2016-07-17",
                                    "Szállítási mód": "RÉSZÖSSZEG",
                                    "Össz rend": "166"
                                },
                                {
                                    "Szállítás dátuma": "2016-07-18",
                                    "Szállítási mód": "RÉSZÖSSZEG",
                                    "Össz rend": "185"
                                },
                                {
                                    "Szállítás dátuma": "2016-07-19",
                                    "Szállítási mód": "RÉSZÖSSZEG",
                                    "Össz rend": "267"
                                },
                                {
                                    "Szállítás dátuma": "2016-07-20",
                                    "Szállítási mód": "RÉSZÖSSZEG",
                                    "Össz rend": "199"
                                },
                                {
                                    "Szállítás dátuma": "2016-07-21",
                                    "Szállítási mód": "RÉSZÖSSZEG",
                                    "Össz rend": "224"
                                },
                                {
                                    "Szállítás dátuma": "2016-07-22",
                                    "Szállítási mód": "RÉSZÖSSZEG",
                                    "Össz rend": "206"
                                },
                                {
                                    "Szállítás dátuma": "2016-07-23",
                                    "Szállítási mód": "RÉSZÖSSZEG",
                                    "Össz rend": "162"
                                },
                                {
                                    "Szállítás dátuma": "2016-07-24",
                                    "Szállítási mód": "RÉSZÖSSZEG",
                                    "Össz rend": "178"
                                },
                                {
                                    "Szállítás dátuma": "2016-07-25",
                                    "Szállítási mód": "RÉSZÖSSZEG",
                                    "Össz rend": "173"
                                },
                                {
                                    "Szállítás dátuma": "2016-07-26",
                                    "Szállítási mód": "RÉSZÖSSZEG",
                                    "Össz rend": "202"
                                },
                                {
                                    "Szállítás dátuma": "2016-07-27",
                                    "Szállítási mód": "RÉSZÖSSZEG",
                                    "Össz rend": "220"
                                },
                                {
                                    "Szállítás dátuma": "2016-07-28",
                                    "Szállítási mód": "RÉSZÖSSZEG",
                                    "Össz rend": "172"
                                },
                                {
                                    "Szállítás dátuma": "2016-07-29",
                                    "Szállítási mód": "RÉSZÖSSZEG",
                                    "Össz rend": "228"
                                },
                                {
                                    "Szállítás dátuma": "2016-07-30",
                                    "Szállítási mód": "RÉSZÖSSZEG",
                                    "Össz rend": "172"
                                },
                                {
                                    "Szállítás dátuma": "2016-07-31",
                                    "Szállítási mód": "RÉSZÖSSZEG",
                                    "Össz rend": "263"
                                },
                                {
                                    "Szállítás dátuma": "2016-08-01",
                                    "Szállítási mód": "RÉSZÖSSZEG",
                                    "Össz rend": "218"
                                },
                                {
                                    "Szállítás dátuma": "2016-08-02",
                                    "Szállítási mód": "RÉSZÖSSZEG",
                                    "Össz rend": "181"
                                },
                                {
                                    "Szállítás dátuma": "2016-08-03",
                                    "Szállítási mód": "RÉSZÖSSZEG",
                                    "Össz rend": "200"
                                },
                                {
                                    "Szállítás dátuma": "2016-08-04",
                                    "Szállítási mód": "RÉSZÖSSZEG",
                                    "Össz rend": "191"
                                },
                                {
                                    "Szállítás dátuma": "2016-08-05",
                                    "Szállítási mód": "RÉSZÖSSZEG",
                                    "Össz rend": "220"
                                },
                                {
                                    "Szállítás dátuma": "2016-08-06",
                                    "Szállítási mód": "RÉSZÖSSZEG",
                                    "Össz rend": "193"
                                },
                                {
                                    "Szállítás dátuma": "2016-08-07",
                                    "Szállítási mód": "RÉSZÖSSZEG",
                                    "Össz rend": "180"
                                },
                                {
                                    "Szállítás dátuma": "2016-08-08",
                                    "Szállítási mód": "RÉSZÖSSZEG",
                                    "Össz rend": "179"
                                },
                                {
                                    "Szállítás dátuma": "2016-08-09",
                                    "Szállítási mód": "RÉSZÖSSZEG",
                                    "Össz rend": "244"
                                },
                                {
                                    "Szállítás dátuma": "2016-08-10",
                                    "Szállítási mód": "RÉSZÖSSZEG",
                                    "Össz rend": "219"
                                },
                                {
                                    "Szállítás dátuma": "2016-08-11",
                                    "Szállítási mód": "RÉSZÖSSZEG",
                                    "Össz rend": "204"
                                },
                                {
                                    "Szállítás dátuma": "2016-08-12",
                                    "Szállítási mód": "RÉSZÖSSZEG",
                                    "Össz rend": "234"
                                },
                                {
                                    "Szállítás dátuma": "2016-08-13",
                                    "Szállítási mód": "RÉSZÖSSZEG",
                                    "Össz rend": "265"
                                },
                                {
                                    "Szállítás dátuma": "2016-08-14",
                                    "Szállítási mód": "RÉSZÖSSZEG",
                                    "Össz rend": "226"
                                },
                                {
                                    "Szállítás dátuma": "2016-08-15",
                                    "Szállítási mód": "RÉSZÖSSZEG",
                                    "Össz rend": "280"
                                },
                                {
                                    "Szállítás dátuma": "2016-08-16",
                                    "Szállítási mód": "RÉSZÖSSZEG",
                                    "Össz rend": "177"
                                },
                                {
                                    "Szállítás dátuma": "2016-08-17",
                                    "Szállítási mód": "RÉSZÖSSZEG",
                                    "Össz rend": "204"
                                },
                                {
                                    "Szállítás dátuma": "2016-08-18",
                                    "Szállítási mód": "RÉSZÖSSZEG",
                                    "Össz rend": "194"
                                },
                                {
                                    "Szállítás dátuma": "2016-08-19",
                                    "Szállítási mód": "RÉSZÖSSZEG",
                                    "Össz rend": "184"
                                },
                                {
                                    "Szállítás dátuma": "2016-08-20",
                                    "Szállítási mód": "RÉSZÖSSZEG",
                                    "Össz rend": "220"
                                },
                                {
                                    "Szállítás dátuma": "2016-08-21",
                                    "Szállítási mód": "RÉSZÖSSZEG",
                                    "Össz rend": "203"
                                },
                                {
                                    "Szállítás dátuma": "2016-08-22",
                                    "Szállítási mód": "RÉSZÖSSZEG",
                                    "Össz rend": "153"
                                },
                                {
                                    "Szállítás dátuma": "2016-08-23",
                                    "Szállítási mód": "RÉSZÖSSZEG",
                                    "Össz rend": "194"
                                },
                                {
                                    "Szállítás dátuma": "2016-08-24",
                                    "Szállítási mód": "RÉSZÖSSZEG",
                                    "Össz rend": "259"
                                },
                                {
                                    "Szállítás dátuma": "2016-08-25",
                                    "Szállítási mód": "RÉSZÖSSZEG",
                                    "Össz rend": "218"
                                },
                                {
                                    "Szállítás dátuma": "2016-08-26",
                                    "Szállítási mód": "RÉSZÖSSZEG",
                                    "Össz rend": "214"
                                },
                                {
                                    "Szállítás dátuma": "2016-08-27",
                                    "Szállítási mód": "RÉSZÖSSZEG",
                                    "Össz rend": "249"
                                },
                                {
                                    "Szállítás dátuma": "2016-08-28",
                                    "Szállítási mód": "RÉSZÖSSZEG",
                                    "Össz rend": "250"
                                },
                                {
                                    "Szállítás dátuma": "2016-08-29",
                                    "Szállítási mód": "RÉSZÖSSZEG",
                                    "Össz rend": "180"
                                },
                                {
                                    "Szállítás dátuma": "2016-08-30",
                                    "Szállítási mód": "RÉSZÖSSZEG",
                                    "Össz rend": "141"
                                },
                                {
                                    "Szállítás dátuma": "2016-08-31",
                                    "Szállítási mód": "RÉSZÖSSZEG",
                                    "Össz rend": "175"
                                },
                                {
                                    "Szállítás dátuma": "2016-09-01",
                                    "Szállítási mód": "RÉSZÖSSZEG",
                                    "Össz rend": "171"
                                },
                                {
                                    "Szállítás dátuma": "2016-09-02",
                                    "Szállítási mód": "RÉSZÖSSZEG",
                                    "Össz rend": "231"
                                },
                                {
                                    "Szállítás dátuma": "2016-09-03",
                                    "Szállítási mód": "RÉSZÖSSZEG",
                                    "Össz rend": "234"
                                },
                                {
                                    "Szállítás dátuma": "2016-09-04",
                                    "Szállítási mód": "RÉSZÖSSZEG",
                                    "Össz rend": "251"
                                },
                                {
                                    "Szállítás dátuma": "2016-09-05",
                                    "Szállítási mód": "RÉSZÖSSZEG",
                                    "Össz rend": "204"
                                },
                                {
                                    "Szállítás dátuma": "2016-09-06",
                                    "Szállítási mód": "RÉSZÖSSZEG",
                                    "Össz rend": "247"
                                },
                                {
                                    "Szállítás dátuma": "2016-09-07",
                                    "Szállítási mód": "RÉSZÖSSZEG",
                                    "Össz rend": "239"
                                },
                                {
                                    "Szállítás dátuma": "2016-09-08",
                                    "Szállítási mód": "RÉSZÖSSZEG",
                                    "Össz rend": "224"
                                },
                                {
                                    "Szállítás dátuma": "2016-09-09",
                                    "Szállítási mód": "RÉSZÖSSZEG",
                                    "Össz rend": "213"
                                },
                                {
                                    "Szállítás dátuma": "2016-09-10",
                                    "Szállítási mód": "RÉSZÖSSZEG",
                                    "Össz rend": "196"
                                },
                                {
                                    "Szállítás dátuma": "2016-09-11",
                                    "Szállítási mód": "RÉSZÖSSZEG",
                                    "Össz rend": "247"
                                },
                                {
                                    "Szállítás dátuma": "2016-09-12",
                                    "Szállítási mód": "RÉSZÖSSZEG",
                                    "Össz rend": "160"
                                },
                                {
                                    "Szállítás dátuma": "2016-09-13",
                                    "Szállítási mód": "RÉSZÖSSZEG",
                                    "Össz rend": "214"
                                },
                                {
                                    "Szállítás dátuma": "2016-09-14",
                                    "Szállítási mód": "RÉSZÖSSZEG",
                                    "Össz rend": "249"
                                },
                                {
                                    "Szállítás dátuma": "2016-09-15",
                                    "Szállítási mód": "RÉSZÖSSZEG",
                                    "Össz rend": "261"
                                },
                                {
                                    "Szállítás dátuma": "2016-09-16",
                                    "Szállítási mód": "RÉSZÖSSZEG",
                                    "Össz rend": "190"
                                },
                                {
                                    "Szállítás dátuma": "2016-09-17",
                                    "Szállítási mód": "RÉSZÖSSZEG",
                                    "Össz rend": "194"
                                },
                                {
                                    "Szállítás dátuma": "2016-09-18",
                                    "Szállítási mód": "RÉSZÖSSZEG",
                                    "Össz rend": "257"
                                },
                                {
                                    "Szállítás dátuma": "2016-09-19",
                                    "Szállítási mód": "RÉSZÖSSZEG",
                                    "Össz rend": "163"
                                },
                                {
                                    "Szállítás dátuma": "2016-09-20",
                                    "Szállítási mód": "RÉSZÖSSZEG",
                                    "Össz rend": "213"
                                },
                                {
                                    "Szállítás dátuma": "2016-09-21",
                                    "Szállítási mód": "RÉSZÖSSZEG",
                                    "Össz rend": "134"
                                },
                                {
                                    "Szállítás dátuma": "2016-09-22",
                                    "Szállítási mód": "RÉSZÖSSZEG",
                                    "Össz rend": "176"
                                },
                                {
                                    "Szállítás dátuma": "2016-09-23",
                                    "Szállítási mód": "RÉSZÖSSZEG",
                                    "Össz rend": "185"
                                },
                                {
                                    "Szállítás dátuma": "2016-09-24",
                                    "Szállítási mód": "RÉSZÖSSZEG",
                                    "Össz rend": "176"
                                },
                                {
                                    "Szállítás dátuma": "2016-09-25",
                                    "Szállítási mód": "RÉSZÖSSZEG",
                                    "Össz rend": "192"
                                },
                                {
                                    "Szállítás dátuma": "2016-09-26",
                                    "Szállítási mód": "RÉSZÖSSZEG",
                                    "Össz rend": "202"
                                },
                                {
                                    "Szállítás dátuma": "2016-09-27",
                                    "Szállítási mód": "RÉSZÖSSZEG",
                                    "Össz rend": "244"
                                },
                                {
                                    "Szállítás dátuma": "2016-09-28",
                                    "Szállítási mód": "RÉSZÖSSZEG",
                                    "Össz rend": "220"
                                },
                                {
                                    "Szállítás dátuma": "2016-09-29",
                                    "Szállítási mód": "RÉSZÖSSZEG",
                                    "Össz rend": "160"
                                },
                                {
                                    "Szállítás dátuma": "2016-09-30",
                                    "Szállítási mód": "RÉSZÖSSZEG",
                                    "Össz rend": "257"
                                },
                                {
                                    "Szállítás dátuma": "2016-10-01",
                                    "Szállítási mód": "RÉSZÖSSZEG",
                                    "Össz rend": "215"
                                },
                                {
                                    "Szállítás dátuma": "2016-10-02",
                                    "Szállítási mód": "RÉSZÖSSZEG",
                                    "Össz rend": "204"
                                },
                                {
                                    "Szállítás dátuma": "2016-10-03",
                                    "Szállítási mód": "RÉSZÖSSZEG",
                                    "Össz rend": "189"
                                },
                                {
                                    "Szállítás dátuma": "2016-10-04",
                                    "Szállítási mód": "RÉSZÖSSZEG",
                                    "Össz rend": "191"
                                },
                                {
                                    "Szállítás dátuma": "2016-10-05",
                                    "Szállítási mód": "RÉSZÖSSZEG",
                                    "Össz rend": "232"
                                },
                                {
                                    "Szállítás dátuma": "2016-10-06",
                                    "Szállítási mód": "RÉSZÖSSZEG",
                                    "Össz rend": "198"
                                },
                                {
                                    "Szállítás dátuma": "2016-10-07",
                                    "Szállítási mód": "RÉSZÖSSZEG",
                                    "Össz rend": "183"
                                },
                                {
                                    "Szállítás dátuma": "2016-10-08",
                                    "Szállítási mód": "RÉSZÖSSZEG",
                                    "Össz rend": "212"
                                },
                                {
                                    "Szállítás dátuma": "2016-10-09",
                                    "Szállítási mód": "RÉSZÖSSZEG",
                                    "Össz rend": "241"
                                },
                                {
                                    "Szállítás dátuma": "2016-10-10",
                                    "Szállítási mód": "RÉSZÖSSZEG",
                                    "Össz rend": "188"
                                },
                                {
                                    "Szállítás dátuma": "2016-10-11",
                                    "Szállítási mód": "RÉSZÖSSZEG",
                                    "Össz rend": "227"
                                },
                                {
                                    "Szállítás dátuma": "2016-10-12",
                                    "Szállítási mód": "RÉSZÖSSZEG",
                                    "Össz rend": "265"
                                },
                                {
                                    "Szállítás dátuma": "2016-10-13",
                                    "Szállítási mód": "RÉSZÖSSZEG",
                                    "Össz rend": "247"
                                },
                                {
                                    "Szállítás dátuma": "2016-10-14",
                                    "Szállítási mód": "RÉSZÖSSZEG",
                                    "Össz rend": "188"
                                },
                                {
                                    "Szállítás dátuma": "2016-10-15",
                                    "Szállítási mód": "RÉSZÖSSZEG",
                                    "Össz rend": "237"
                                },
                                {
                                    "Szállítás dátuma": "2016-10-16",
                                    "Szállítási mód": "RÉSZÖSSZEG",
                                    "Össz rend": "190"
                                },
                                {
                                    "Szállítás dátuma": "2016-10-17",
                                    "Szállítási mód": "RÉSZÖSSZEG",
                                    "Össz rend": "286"
                                },
                                {
                                    "Szállítás dátuma": "2016-10-18",
                                    "Szállítási mód": "RÉSZÖSSZEG",
                                    "Össz rend": "187"
                                },
                                {
                                    "Szállítás dátuma": "2016-10-19",
                                    "Szállítási mód": "RÉSZÖSSZEG",
                                    "Össz rend": "234"
                                },
                                {
                                    "Szállítás dátuma": "2016-10-20",
                                    "Szállítási mód": "RÉSZÖSSZEG",
                                    "Össz rend": "173"
                                },
                                {
                                    "Szállítás dátuma": "2016-10-21",
                                    "Szállítási mód": "RÉSZÖSSZEG",
                                    "Össz rend": "258"
                                },
                                {
                                    "Szállítás dátuma": "2016-10-22",
                                    "Szállítási mód": "RÉSZÖSSZEG",
                                    "Össz rend": "243"
                                },
                                {
                                    "Szállítás dátuma": "2016-10-23",
                                    "Szállítási mód": "RÉSZÖSSZEG",
                                    "Össz rend": "228"
                                },
                                {
                                    "Szállítás dátuma": "2016-10-24",
                                    "Szállítási mód": "RÉSZÖSSZEG",
                                    "Össz rend": "141"
                                },
                                {
                                    "Szállítás dátuma": "2016-10-25",
                                    "Szállítási mód": "RÉSZÖSSZEG",
                                    "Össz rend": "285"
                                },
                                {
                                    "Szállítás dátuma": "2016-10-26",
                                    "Szállítási mód": "RÉSZÖSSZEG",
                                    "Össz rend": "185"
                                },
                                {
                                    "Szállítás dátuma": "2016-10-27",
                                    "Szállítási mód": "RÉSZÖSSZEG",
                                    "Össz rend": "208"
                                },
                                {
                                    "Szállítás dátuma": "2016-10-28",
                                    "Szállítási mód": "RÉSZÖSSZEG",
                                    "Össz rend": "202"
                                },
                                {
                                    "Szállítás dátuma": "2016-10-29",
                                    "Szállítási mód": "RÉSZÖSSZEG",
                                    "Össz rend": "184"
                                },
                                {
                                    "Szállítás dátuma": "2016-10-30",
                                    "Szállítási mód": "RÉSZÖSSZEG",
                                    "Össz rend": "282"
                                },
                                {
                                    "Szállítás dátuma": "2016-10-31",
                                    "Szállítási mód": "RÉSZÖSSZEG",
                                    "Össz rend": "242"
                                },
                                {
                                    "Szállítás dátuma": "2016-11-01",
                                    "Szállítási mód": "RÉSZÖSSZEG",
                                    "Össz rend": "198"
                                },
                                {
                                    "Szállítás dátuma": "2016-11-02",
                                    "Szállítási mód": "RÉSZÖSSZEG",
                                    "Össz rend": "173"
                                },
                                {
                                    "Szállítás dátuma": "2016-11-03",
                                    "Szállítási mód": "RÉSZÖSSZEG",
                                    "Össz rend": "193"
                                },
                                {
                                    "Szállítás dátuma": "2016-11-04",
                                    "Szállítási mód": "RÉSZÖSSZEG",
                                    "Össz rend": "173"
                                },
                                {
                                    "Szállítás dátuma": "2016-11-05",
                                    "Szállítási mód": "RÉSZÖSSZEG",
                                    "Össz rend": "227"
                                },
                                {
                                    "Szállítás dátuma": "2016-11-06",
                                    "Szállítási mód": "RÉSZÖSSZEG",
                                    "Össz rend": "220"
                                },
                                {
                                    "Szállítás dátuma": "2016-11-07",
                                    "Szállítási mód": "RÉSZÖSSZEG",
                                    "Össz rend": "174"
                                },
                                {
                                    "Szállítás dátuma": "2016-11-08",
                                    "Szállítási mód": "RÉSZÖSSZEG",
                                    "Össz rend": "215"
                                },
                                {
                                    "Szállítás dátuma": "2016-11-09",
                                    "Szállítási mód": "RÉSZÖSSZEG",
                                    "Össz rend": "160"
                                },
                                {
                                    "Szállítás dátuma": "2016-11-10",
                                    "Szállítási mód": "RÉSZÖSSZEG",
                                    "Össz rend": "193"
                                },
                                {
                                    "Szállítás dátuma": "2016-11-11",
                                    "Szállítási mód": "RÉSZÖSSZEG",
                                    "Össz rend": "182"
                                },
                                {
                                    "Szállítás dátuma": "2016-11-12",
                                    "Szállítási mód": "RÉSZÖSSZEG",
                                    "Össz rend": "268"
                                },
                                {
                                    "Szállítás dátuma": "2016-11-13",
                                    "Szállítási mód": "RÉSZÖSSZEG",
                                    "Össz rend": "255"
                                },
                                {
                                    "Szállítás dátuma": "2016-11-14",
                                    "Szállítási mód": "RÉSZÖSSZEG",
                                    "Össz rend": "278"
                                },
                                {
                                    "Szállítás dátuma": "2016-11-15",
                                    "Szállítási mód": "RÉSZÖSSZEG",
                                    "Össz rend": "179"
                                },
                                {
                                    "Szállítás dátuma": "2016-11-16",
                                    "Szállítási mód": "RÉSZÖSSZEG",
                                    "Össz rend": "243"
                                },
                                {
                                    "Szállítás dátuma": "2016-11-17",
                                    "Szállítási mód": "RÉSZÖSSZEG",
                                    "Össz rend": "189"
                                },
                                {
                                    "Szállítás dátuma": "2016-11-18",
                                    "Szállítási mód": "RÉSZÖSSZEG",
                                    "Össz rend": "197"
                                },
                                {
                                    "Szállítás dátuma": "2016-11-19",
                                    "Szállítási mód": "RÉSZÖSSZEG",
                                    "Össz rend": "196"
                                },
                                {
                                    "Szállítás dátuma": "2016-11-20",
                                    "Szállítási mód": "RÉSZÖSSZEG",
                                    "Össz rend": "207"
                                },
                                {
                                    "Szállítás dátuma": "2016-11-21",
                                    "Szállítási mód": "RÉSZÖSSZEG",
                                    "Össz rend": "188"
                                },
                                {
                                    "Szállítás dátuma": "2016-11-22",
                                    "Szállítási mód": "RÉSZÖSSZEG",
                                    "Össz rend": "193"
                                },
                                {
                                    "Szállítás dátuma": "2016-11-23",
                                    "Szállítási mód": "RÉSZÖSSZEG",
                                    "Össz rend": "170"
                                },
                                {
                                    "Szállítás dátuma": "2016-11-24",
                                    "Szállítási mód": "RÉSZÖSSZEG",
                                    "Össz rend": "190"
                                },
                                {
                                    "Szállítás dátuma": "2016-11-25",
                                    "Szállítási mód": "RÉSZÖSSZEG",
                                    "Össz rend": "178"
                                },
                                {
                                    "Szállítás dátuma": "2016-11-26",
                                    "Szállítási mód": "RÉSZÖSSZEG",
                                    "Össz rend": "251"
                                },
                                {
                                    "Szállítás dátuma": "2016-11-27",
                                    "Szállítási mód": "RÉSZÖSSZEG",
                                    "Össz rend": "243"
                                },
                                {
                                    "Szállítás dátuma": "2016-11-28",
                                    "Szállítási mód": "RÉSZÖSSZEG",
                                    "Össz rend": "244"
                                },
                                {
                                    "Szállítás dátuma": "2016-11-29",
                                    "Szállítási mód": "RÉSZÖSSZEG",
                                    "Össz rend": "230"
                                },
                                {
                                    "Szállítás dátuma": "2016-11-30",
                                    "Szállítási mód": "RÉSZÖSSZEG",
                                    "Össz rend": "165"
                                },
                                {
                                    "Szállítás dátuma": "2016-12-01",
                                    "Szállítási mód": "RÉSZÖSSZEG",
                                    "Össz rend": "258"
                                },
                                {
                                    "Szállítás dátuma": "2016-12-02",
                                    "Szállítási mód": "RÉSZÖSSZEG",
                                    "Össz rend": "158"
                                },
                                {
                                    "Szállítás dátuma": "2016-12-03",
                                    "Szállítási mód": "RÉSZÖSSZEG",
                                    "Össz rend": "167"
                                },
                                {
                                    "Szállítás dátuma": "2016-12-04",
                                    "Szállítási mód": "RÉSZÖSSZEG",
                                    "Össz rend": "248"
                                },
                                {
                                    "Szállítás dátuma": "2016-12-05",
                                    "Szállítási mód": "RÉSZÖSSZEG",
                                    "Össz rend": "215"
                                },
                                {
                                    "Szállítás dátuma": "2016-12-06",
                                    "Szállítási mód": "RÉSZÖSSZEG",
                                    "Össz rend": "190"
                                },
                                {
                                    "Szállítás dátuma": "2016-12-07",
                                    "Szállítási mód": "RÉSZÖSSZEG",
                                    "Össz rend": "205"
                                },
                                {
                                    "Szállítás dátuma": "2016-12-08",
                                    "Szállítási mód": "RÉSZÖSSZEG",
                                    "Össz rend": "222"
                                },
                                {
                                    "Szállítás dátuma": "2016-12-09",
                                    "Szállítási mód": "RÉSZÖSSZEG",
                                    "Össz rend": "229"
                                },
                                {
                                    "Szállítás dátuma": "2016-12-10",
                                    "Szállítási mód": "RÉSZÖSSZEG",
                                    "Össz rend": "223"
                                },
                                {
                                    "Szállítás dátuma": "2016-12-11",
                                    "Szállítási mód": "RÉSZÖSSZEG",
                                    "Össz rend": "207"
                                },
                                {
                                    "Szállítás dátuma": "2016-12-12",
                                    "Szállítási mód": "RÉSZÖSSZEG",
                                    "Össz rend": "207"
                                },
                                {
                                    "Szállítás dátuma": "2016-12-13",
                                    "Szállítási mód": "RÉSZÖSSZEG",
                                    "Össz rend": "220"
                                },
                                {
                                    "Szállítás dátuma": "2016-12-14",
                                    "Szállítási mód": "RÉSZÖSSZEG",
                                    "Össz rend": "196"
                                },
                                {
                                    "Szállítás dátuma": "2016-12-15",
                                    "Szállítási mód": "RÉSZÖSSZEG",
                                    "Össz rend": "178"
                                },
                                {
                                    "Szállítás dátuma": "2016-12-16",
                                    "Szállítási mód": "RÉSZÖSSZEG",
                                    "Össz rend": "174"
                                },
                                {
                                    "Szállítás dátuma": "2016-12-17",
                                    "Szállítási mód": "RÉSZÖSSZEG",
                                    "Össz rend": "198"
                                },
                                {
                                    "Szállítás dátuma": "2016-12-18",
                                    "Szállítási mód": "RÉSZÖSSZEG",
                                    "Össz rend": "156"
                                },
                                {
                                    "Szállítás dátuma": "2016-12-19",
                                    "Szállítási mód": "RÉSZÖSSZEG",
                                    "Össz rend": "147"
                                },
                                {
                                    "Szállítás dátuma": "2016-12-20",
                                    "Szállítási mód": "RÉSZÖSSZEG",
                                    "Össz rend": "210"
                                },
                                {
                                    "Szállítás dátuma": "2016-12-21",
                                    "Szállítási mód": "RÉSZÖSSZEG",
                                    "Össz rend": "263"
                                },
                                {
                                    "Szállítás dátuma": "2016-12-22",
                                    "Szállítási mód": "RÉSZÖSSZEG",
                                    "Össz rend": "166"
                                },
                                {
                                    "Szállítás dátuma": "2016-12-23",
                                    "Szállítási mód": "RÉSZÖSSZEG",
                                    "Össz rend": "215"
                                },
                                {
                                    "Szállítás dátuma": "2016-12-24",
                                    "Szállítási mód": "RÉSZÖSSZEG",
                                    "Össz rend": "160"
                                },
                                {
                                    "Szállítás dátuma": "2016-12-25",
                                    "Szállítási mód": "RÉSZÖSSZEG",
                                    "Össz rend": "215"
                                },
                                {
                                    "Szállítás dátuma": "2016-12-26",
                                    "Szállítási mód": "RÉSZÖSSZEG",
                                    "Össz rend": "258"
                                },
                                {
                                    "Szállítás dátuma": "2016-12-27",
                                    "Szállítási mód": "RÉSZÖSSZEG",
                                    "Össz rend": "260"
                                },
                                {
                                    "Szállítás dátuma": "2016-12-28",
                                    "Szállítási mód": "RÉSZÖSSZEG",
                                    "Össz rend": "170"
                                },
                                {
                                    "Szállítás dátuma": "2016-12-29",
                                    "Szállítási mód": "RÉSZÖSSZEG",
                                    "Össz rend": "289"
                                },
                                {
                                    "Szállítás dátuma": "2016-12-30",
                                    "Szállítási mód": "RÉSZÖSSZEG",
                                    "Össz rend": "202"
                                },
                                {
                                    "Szállítás dátuma": "2016-12-31",
                                    "Szállítási mód": "RÉSZÖSSZEG",
                                    "Össz rend": "199"
                                },
                                {
                                    "Szállítás dátuma": "2017-01-01",
                                    "Szállítási mód": "RÉSZÖSSZEG",
                                    "Össz rend": "195"
                                },
                                {
                                    "Szállítás dátuma": "2017-01-02",
                                    "Szállítási mód": "RÉSZÖSSZEG",
                                    "Össz rend": "185"
                                },
                                {
                                    "Szállítás dátuma": "2017-01-03",
                                    "Szállítási mód": "RÉSZÖSSZEG",
                                    "Össz rend": "174"
                                },
                                {
                                    "Szállítás dátuma": "2017-01-04",
                                    "Szállítási mód": "RÉSZÖSSZEG",
                                    "Össz rend": "202"
                                },
                                {
                                    "Szállítás dátuma": "2017-01-05",
                                    "Szállítási mód": "RÉSZÖSSZEG",
                                    "Össz rend": "219"
                                },
                                {
                                    "Szállítás dátuma": "2017-01-06",
                                    "Szállítási mód": "RÉSZÖSSZEG",
                                    "Össz rend": "223"
                                },
                                {
                                    "Szállítás dátuma": "2017-01-07",
                                    "Szállítási mód": "RÉSZÖSSZEG",
                                    "Össz rend": "201"
                                },
                                {
                                    "Szállítás dátuma": "2017-01-08",
                                    "Szállítási mód": "RÉSZÖSSZEG",
                                    "Össz rend": "161"
                                },
                                {
                                    "Szállítás dátuma": "2017-01-09",
                                    "Szállítási mód": "RÉSZÖSSZEG",
                                    "Össz rend": "254"
                                },
                                {
                                    "Szállítás dátuma": "2017-01-10",
                                    "Szállítási mód": "RÉSZÖSSZEG",
                                    "Össz rend": "193"
                                },
                                {
                                    "Szállítás dátuma": "2017-01-11",
                                    "Szállítási mód": "RÉSZÖSSZEG",
                                    "Össz rend": "246"
                                },
                                {
                                    "Szállítás dátuma": "2017-01-12",
                                    "Szállítási mód": "RÉSZÖSSZEG",
                                    "Össz rend": "202"
                                },
                                {
                                    "Szállítás dátuma": "2017-01-13",
                                    "Szállítási mód": "RÉSZÖSSZEG",
                                    "Össz rend": "218"
                                },
                                {
                                    "Szállítás dátuma": "2017-01-14",
                                    "Szállítási mód": "RÉSZÖSSZEG",
                                    "Össz rend": "221"
                                },
                                {
                                    "Szállítás dátuma": "2017-01-15",
                                    "Szállítási mód": "RÉSZÖSSZEG",
                                    "Össz rend": "183"
                                },
                                {
                                    "Szállítás dátuma": "2017-01-16",
                                    "Szállítási mód": "RÉSZÖSSZEG",
                                    "Össz rend": "191"
                                },
                                {
                                    "Szállítás dátuma": "2017-01-17",
                                    "Szállítási mód": "RÉSZÖSSZEG",
                                    "Össz rend": "231"
                                },
                                {
                                    "Szállítás dátuma": "2017-01-18",
                                    "Szállítási mód": "RÉSZÖSSZEG",
                                    "Össz rend": "197"
                                },
                                {
                                    "Szállítás dátuma": "2017-01-19",
                                    "Szállítási mód": "RÉSZÖSSZEG",
                                    "Össz rend": "185"
                                },
                                {
                                    "Szállítás dátuma": "2017-01-20",
                                    "Szállítási mód": "RÉSZÖSSZEG",
                                    "Össz rend": "174"
                                },
                                {
                                    "Szállítás dátuma": "2017-01-21",
                                    "Szállítási mód": "RÉSZÖSSZEG",
                                    "Össz rend": "180"
                                },
                                {
                                    "Szállítás dátuma": "2017-01-22",
                                    "Szállítási mód": "RÉSZÖSSZEG",
                                    "Össz rend": "226"
                                },
                                {
                                    "Szállítás dátuma": "2017-01-23",
                                    "Szállítási mód": "RÉSZÖSSZEG",
                                    "Össz rend": "232"
                                },
                                {
                                    "Szállítás dátuma": "2017-01-24",
                                    "Szállítási mód": "RÉSZÖSSZEG",
                                    "Össz rend": "205"
                                },
                                {
                                    "Szállítás dátuma": "2017-01-25",
                                    "Szállítási mód": "RÉSZÖSSZEG",
                                    "Össz rend": "169"
                                },
                                {
                                    "Szállítás dátuma": "2017-01-26",
                                    "Szállítási mód": "RÉSZÖSSZEG",
                                    "Össz rend": "238"
                                },
                                {
                                    "Szállítás dátuma": "2017-01-27",
                                    "Szállítási mód": "RÉSZÖSSZEG",
                                    "Össz rend": "119"
                                },
                                {
                                    "Szállítás dátuma": "2017-01-28",
                                    "Szállítási mód": "RÉSZÖSSZEG",
                                    "Össz rend": "204"
                                },
                                {
                                    "Szállítás dátuma": "2017-01-29",
                                    "Szállítási mód": "RÉSZÖSSZEG",
                                    "Össz rend": "225"
                                },
                                {
                                    "Szállítás dátuma": "2017-01-30",
                                    "Szállítási mód": "RÉSZÖSSZEG",
                                    "Össz rend": "210"
                                },
                                {
                                    "Szállítás dátuma": "2017-01-31",
                                    "Szállítási mód": "RÉSZÖSSZEG",
                                    "Össz rend": "185"
                                },
                                {
                                    "Szállítás dátuma": "2017-02-01",
                                    "Szállítási mód": "RÉSZÖSSZEG",
                                    "Össz rend": "147"
                                },
                                {
                                    "Szállítás dátuma": "2017-02-02",
                                    "Szállítási mód": "RÉSZÖSSZEG",
                                    "Össz rend": "243"
                                },
                                {
                                    "Szállítás dátuma": "2017-02-03",
                                    "Szállítási mód": "RÉSZÖSSZEG",
                                    "Össz rend": "193"
                                },
                                {
                                    "Szállítás dátuma": "2017-02-04",
                                    "Szállítási mód": "RÉSZÖSSZEG",
                                    "Össz rend": "174"
                                },
                                {
                                    "Szállítás dátuma": "2017-02-05",
                                    "Szállítási mód": "RÉSZÖSSZEG",
                                    "Össz rend": "131"
                                },
                                {
                                    "Szállítás dátuma": "2017-02-06",
                                    "Szállítási mód": "RÉSZÖSSZEG",
                                    "Össz rend": "204"
                                },
                                {
                                    "Szállítás dátuma": "2017-02-07",
                                    "Szállítási mód": "RÉSZÖSSZEG",
                                    "Össz rend": "202"
                                },
                                {
                                    "Szállítás dátuma": "2017-02-08",
                                    "Szállítási mód": "RÉSZÖSSZEG",
                                    "Össz rend": "255"
                                },
                                {
                                    "Szállítás dátuma": "2017-02-09",
                                    "Szállítási mód": "RÉSZÖSSZEG",
                                    "Össz rend": "197"
                                },
                                {
                                    "Szállítás dátuma": "2017-02-10",
                                    "Szállítási mód": "RÉSZÖSSZEG",
                                    "Össz rend": "234"
                                },
                                {
                                    "Szállítás dátuma": "2017-02-11",
                                    "Szállítási mód": "RÉSZÖSSZEG",
                                    "Össz rend": "191"
                                },
                                {
                                    "Szállítás dátuma": "2017-02-12",
                                    "Szállítási mód": "RÉSZÖSSZEG",
                                    "Össz rend": "160"
                                },
                                {
                                    "Szállítás dátuma": "2017-02-13",
                                    "Szállítási mód": "RÉSZÖSSZEG",
                                    "Össz rend": "213"
                                },
                                {
                                    "Szállítás dátuma": "2017-02-14",
                                    "Szállítási mód": "RÉSZÖSSZEG",
                                    "Össz rend": "229"
                                },
                                {
                                    "Szállítás dátuma": "2017-02-15",
                                    "Szállítási mód": "RÉSZÖSSZEG",
                                    "Össz rend": "179"
                                },
                                {
                                    "Szállítás dátuma": "2017-02-16",
                                    "Szállítási mód": "RÉSZÖSSZEG",
                                    "Össz rend": "232"
                                },
                                {
                                    "Szállítás dátuma": "2017-02-17",
                                    "Szállítási mód": "RÉSZÖSSZEG",
                                    "Össz rend": "229"
                                },
                                {
                                    "Szállítás dátuma": "2017-02-18",
                                    "Szállítási mód": "RÉSZÖSSZEG",
                                    "Össz rend": "253"
                                },
                                {
                                    "Szállítás dátuma": "2017-02-19",
                                    "Szállítási mód": "RÉSZÖSSZEG",
                                    "Össz rend": "193"
                                },
                                {
                                    "Szállítás dátuma": "2017-02-20",
                                    "Szállítási mód": "RÉSZÖSSZEG",
                                    "Össz rend": "129"
                                },
                                {
                                    "Szállítás dátuma": "2017-02-21",
                                    "Szállítási mód": "RÉSZÖSSZEG",
                                    "Össz rend": "193"
                                },
                                {
                                    "Szállítás dátuma": "2017-02-22",
                                    "Szállítási mód": "RÉSZÖSSZEG",
                                    "Össz rend": "229"
                                },
                                {
                                    "Szállítás dátuma": "2017-02-23",
                                    "Szállítási mód": "RÉSZÖSSZEG",
                                    "Össz rend": "191"
                                },
                                {
                                    "Szállítás dátuma": "2017-02-24",
                                    "Szállítási mód": "RÉSZÖSSZEG",
                                    "Össz rend": "178"
                                },
                                {
                                    "Szállítás dátuma": "2017-02-25",
                                    "Szállítási mód": "RÉSZÖSSZEG",
                                    "Össz rend": "182"
                                },
                                {
                                    "Szállítás dátuma": "2017-02-26",
                                    "Szállítási mód": "RÉSZÖSSZEG",
                                    "Össz rend": "216"
                                },
                                {
                                    "Szállítás dátuma": "2017-02-27",
                                    "Szállítási mód": "RÉSZÖSSZEG",
                                    "Össz rend": "226"
                                },
                                {
                                    "Szállítás dátuma": "2017-02-28",
                                    "Szállítási mód": "RÉSZÖSSZEG",
                                    "Össz rend": "294"
                                },
                                {
                                    "Szállítás dátuma": "2017-03-01",
                                    "Szállítási mód": "RÉSZÖSSZEG",
                                    "Össz rend": "155"
                                },
                                {
                                    "Szállítás dátuma": "2017-03-02",
                                    "Szállítási mód": "RÉSZÖSSZEG",
                                    "Össz rend": "134"
                                },
                                {
                                    "Szállítás dátuma": "2017-03-03",
                                    "Szállítási mód": "RÉSZÖSSZEG",
                                    "Össz rend": "213"
                                },
                                {
                                    "Szállítás dátuma": "2017-03-04",
                                    "Szállítási mód": "RÉSZÖSSZEG",
                                    "Össz rend": "148"
                                },
                                {
                                    "Szállítás dátuma": "2017-03-05",
                                    "Szállítási mód": "RÉSZÖSSZEG",
                                    "Össz rend": "244"
                                },
                                {
                                    "Szállítás dátuma": "2017-03-06",
                                    "Szállítási mód": "RÉSZÖSSZEG",
                                    "Össz rend": "274"
                                },
                                {
                                    "Szállítás dátuma": "2017-03-07",
                                    "Szállítási mód": "RÉSZÖSSZEG",
                                    "Össz rend": "241"
                                },
                                {
                                    "Szállítás dátuma": "2017-03-08",
                                    "Szállítási mód": "RÉSZÖSSZEG",
                                    "Össz rend": "179"
                                },
                                {
                                    "Szállítás dátuma": "2017-03-09",
                                    "Szállítási mód": "RÉSZÖSSZEG",
                                    "Össz rend": "189"
                                },
                                {
                                    "Szállítás dátuma": "2017-03-10",
                                    "Szállítási mód": "RÉSZÖSSZEG",
                                    "Össz rend": "176"
                                },
                                {
                                    "Szállítás dátuma": "2017-03-11",
                                    "Szállítási mód": "RÉSZÖSSZEG",
                                    "Össz rend": "189"
                                },
                                {
                                    "Szállítás dátuma": "2017-03-12",
                                    "Szállítási mód": "RÉSZÖSSZEG",
                                    "Össz rend": "175"
                                },
                                {
                                    "Szállítás dátuma": "2017-03-13",
                                    "Szállítási mód": "RÉSZÖSSZEG",
                                    "Össz rend": "170"
                                },
                                {
                                    "Szállítás dátuma": "2017-03-14",
                                    "Szállítási mód": "RÉSZÖSSZEG",
                                    "Össz rend": "178"
                                },
                                {
                                    "Szállítás dátuma": "2017-03-15",
                                    "Szállítási mód": "RÉSZÖSSZEG",
                                    "Össz rend": "247"
                                },
                                {
                                    "Szállítás dátuma": "2017-03-16",
                                    "Szállítási mód": "RÉSZÖSSZEG",
                                    "Össz rend": "235"
                                },
                                {
                                    "Szállítás dátuma": "2017-03-17",
                                    "Szállítási mód": "RÉSZÖSSZEG",
                                    "Össz rend": "240"
                                },
                                {
                                    "Szállítás dátuma": "2017-03-18",
                                    "Szállítási mód": "RÉSZÖSSZEG",
                                    "Össz rend": "220"
                                },
                                {
                                    "Szállítás dátuma": "2017-03-19",
                                    "Szállítási mód": "RÉSZÖSSZEG",
                                    "Össz rend": "248"
                                },
                                {
                                    "Szállítás dátuma": "2017-03-20",
                                    "Szállítási mód": "RÉSZÖSSZEG",
                                    "Össz rend": "191"
                                },
                                {
                                    "Szállítás dátuma": "2017-03-21",
                                    "Szállítási mód": "RÉSZÖSSZEG",
                                    "Össz rend": "216"
                                },
                                {
                                    "Szállítás dátuma": "2017-03-22",
                                    "Szállítási mód": "RÉSZÖSSZEG",
                                    "Össz rend": "162"
                                },
                                {
                                    "Szállítás dátuma": "2017-03-23",
                                    "Szállítási mód": "RÉSZÖSSZEG",
                                    "Össz rend": "230"
                                },
                                {
                                    "Szállítás dátuma": "2017-03-24",
                                    "Szállítási mód": "RÉSZÖSSZEG",
                                    "Össz rend": "231"
                                },
                                {
                                    "Szállítás dátuma": "2017-03-25",
                                    "Szállítási mód": "RÉSZÖSSZEG",
                                    "Össz rend": "171"
                                },
                                {
                                    "Szállítás dátuma": "2017-03-26",
                                    "Szállítási mód": "RÉSZÖSSZEG",
                                    "Össz rend": "217"
                                },
                                {
                                    "Szállítás dátuma": "2017-03-27",
                                    "Szállítási mód": "RÉSZÖSSZEG",
                                    "Össz rend": "208"
                                },
                                {
                                    "Szállítás dátuma": "2017-03-28",
                                    "Szállítási mód": "RÉSZÖSSZEG",
                                    "Össz rend": "200"
                                },
                                {
                                    "Szállítás dátuma": "2017-03-29",
                                    "Szállítási mód": "RÉSZÖSSZEG",
                                    "Össz rend": "219"
                                },
                                {
                                    "Szállítás dátuma": "2017-03-30",
                                    "Szállítási mód": "RÉSZÖSSZEG",
                                    "Össz rend": "236"
                                },
                                {
                                    "Szállítás dátuma": "2017-03-31",
                                    "Szállítási mód": "RÉSZÖSSZEG",
                                    "Össz rend": "220"
                                },
                                {
                                    "Szállítás dátuma": "2017-04-01",
                                    "Szállítási mód": "RÉSZÖSSZEG",
                                    "Össz rend": "170"
                                },
                                {
                                    "Szállítás dátuma": "2017-04-02",
                                    "Szállítási mód": "RÉSZÖSSZEG",
                                    "Össz rend": "213"
                                },
                                {
                                    "Szállítás dátuma": "2017-04-03",
                                    "Szállítási mód": "RÉSZÖSSZEG",
                                    "Össz rend": "188"
                                },
                                {
                                    "Szállítás dátuma": "2017-04-04",
                                    "Szállítási mód": "RÉSZÖSSZEG",
                                    "Össz rend": "175"
                                },
                                {
                                    "Szállítás dátuma": "2017-04-05",
                                    "Szállítási mód": "RÉSZÖSSZEG",
                                    "Össz rend": "188"
                                },
                                {
                                    "Szállítás dátuma": "2017-04-06",
                                    "Szállítási mód": "RÉSZÖSSZEG",
                                    "Össz rend": "106"
                                },
                                {
                                    "Szállítás dátuma": "2017-04-07",
                                    "Szállítási mód": "RÉSZÖSSZEG",
                                    "Össz rend": "152"
                                },
                                {
                                    "Szállítás dátuma": "2017-04-08",
                                    "Szállítási mód": "RÉSZÖSSZEG",
                                    "Össz rend": "120"
                                },
                                {
                                    "Szállítás dátuma": "2017-04-09",
                                    "Szállítási mód": "RÉSZÖSSZEG",
                                    "Össz rend": "79"
                                },
                                {
                                    "Szállítás dátuma": "2017-04-10",
                                    "Szállítási mód": "RÉSZÖSSZEG",
                                    "Össz rend": "32"
                                },
                                {
                                    "Szállítás dátuma": "2017-04-11",
                                    "Szállítási mód": "RÉSZÖSSZEG",
                                    "Össz rend": "21"
                                },
                                {
                                    "Szállítás dátuma": "VÉGÖSSZEG",
                                    "Szállítási mód": "VÉGÖSSZEG",
                                    "Össz rend": "145706"
                                }
                            ]
                        },
                        "text/html": [
                            "<table>",
                            "<tr><th>Szállítás dátuma</th><th>Szállítási mód</th><th>Össz rend</th></tr>",
                            "<tr><td>2015-05-03</td><td>RÉSZÖSSZEG</td><td>4</td></tr>",
                            "<tr><td>2015-05-04</td><td>RÉSZÖSSZEG</td><td>31</td></tr>",
                            "<tr><td>2015-05-05</td><td>RÉSZÖSSZEG</td><td>81</td></tr>",
                            "<tr><td>2015-05-06</td><td>RÉSZÖSSZEG</td><td>126</td></tr>",
                            "<tr><td>2015-05-07</td><td>RÉSZÖSSZEG</td><td>94</td></tr>",
                            "<tr><td>2015-05-08</td><td>RÉSZÖSSZEG</td><td>106</td></tr>",
                            "<tr><td>2015-05-09</td><td>RÉSZÖSSZEG</td><td>159</td></tr>",
                            "<tr><td>2015-05-10</td><td>RÉSZÖSSZEG</td><td>168</td></tr>",
                            "<tr><td>2015-05-11</td><td>RÉSZÖSSZEG</td><td>195</td></tr>",
                            "<tr><td>2015-05-12</td><td>RÉSZÖSSZEG</td><td>196</td></tr>",
                            "<tr><td>2015-05-13</td><td>RÉSZÖSSZEG</td><td>198</td></tr>",
                            "<tr><td>2015-05-14</td><td>RÉSZÖSSZEG</td><td>277</td></tr>",
                            "<tr><td>2015-05-15</td><td>RÉSZÖSSZEG</td><td>188</td></tr>",
                            "<tr><td>2015-05-16</td><td>RÉSZÖSSZEG</td><td>198</td></tr>",
                            "<tr><td>2015-05-17</td><td>RÉSZÖSSZEG</td><td>129</td></tr>",
                            "<tr><td>2015-05-18</td><td>RÉSZÖSSZEG</td><td>225</td></tr>",
                            "<tr><td>2015-05-19</td><td>RÉSZÖSSZEG</td><td>199</td></tr>",
                            "<tr><td>2015-05-20</td><td>RÉSZÖSSZEG</td><td>245</td></tr>",
                            "<tr><td>2015-05-21</td><td>RÉSZÖSSZEG</td><td>198</td></tr>",
                            "<tr><td>2015-05-22</td><td>RÉSZÖSSZEG</td><td>202</td></tr>",
                            "<tr><td>2015-05-23</td><td>RÉSZÖSSZEG</td><td>139</td></tr>",
                            "<tr><td>2015-05-24</td><td>RÉSZÖSSZEG</td><td>150</td></tr>",
                            "<tr><td>2015-05-25</td><td>RÉSZÖSSZEG</td><td>173</td></tr>",
                            "<tr><td>2015-05-26</td><td>RÉSZÖSSZEG</td><td>204</td></tr>",
                            "<tr><td>2015-05-27</td><td>RÉSZÖSSZEG</td><td>231</td></tr>",
                            "<tr><td>2015-05-28</td><td>RÉSZÖSSZEG</td><td>229</td></tr>",
                            "<tr><td>2015-05-29</td><td>RÉSZÖSSZEG</td><td>263</td></tr>",
                            "<tr><td>2015-05-30</td><td>RÉSZÖSSZEG</td><td>203</td></tr>",
                            "<tr><td>2015-05-31</td><td>RÉSZÖSSZEG</td><td>123</td></tr>",
                            "<tr><td>2015-06-01</td><td>RÉSZÖSSZEG</td><td>181</td></tr>",
                            "<tr><td>2015-06-02</td><td>RÉSZÖSSZEG</td><td>175</td></tr>",
                            "<tr><td>2015-06-03</td><td>RÉSZÖSSZEG</td><td>220</td></tr>",
                            "<tr><td>2015-06-04</td><td>RÉSZÖSSZEG</td><td>210</td></tr>",
                            "<tr><td>2015-06-05</td><td>RÉSZÖSSZEG</td><td>230</td></tr>",
                            "<tr><td>2015-06-06</td><td>RÉSZÖSSZEG</td><td>236</td></tr>",
                            "<tr><td>2015-06-07</td><td>RÉSZÖSSZEG</td><td>221</td></tr>",
                            "<tr><td>2015-06-08</td><td>RÉSZÖSSZEG</td><td>149</td></tr>",
                            "<tr><td>2015-06-09</td><td>RÉSZÖSSZEG</td><td>172</td></tr>",
                            "<tr><td>2015-06-10</td><td>RÉSZÖSSZEG</td><td>221</td></tr>",
                            "<tr><td>2015-06-11</td><td>RÉSZÖSSZEG</td><td>173</td></tr>",
                            "<tr><td>2015-06-12</td><td>RÉSZÖSSZEG</td><td>231</td></tr>",
                            "<tr><td>2015-06-13</td><td>RÉSZÖSSZEG</td><td>215</td></tr>",
                            "<tr><td>2015-06-14</td><td>RÉSZÖSSZEG</td><td>207</td></tr>",
                            "<tr><td>2015-06-15</td><td>RÉSZÖSSZEG</td><td>205</td></tr>",
                            "<tr><td>2015-06-16</td><td>RÉSZÖSSZEG</td><td>133</td></tr>",
                            "<tr><td>2015-06-17</td><td>RÉSZÖSSZEG</td><td>229</td></tr>",
                            "<tr><td>2015-06-18</td><td>RÉSZÖSSZEG</td><td>238</td></tr>",
                            "<tr><td>2015-06-19</td><td>RÉSZÖSSZEG</td><td>176</td></tr>",
                            "<tr><td>2015-06-20</td><td>RÉSZÖSSZEG</td><td>198</td></tr>",
                            "<tr><td>2015-06-21</td><td>RÉSZÖSSZEG</td><td>179</td></tr>",
                            "<tr><td>2015-06-22</td><td>RÉSZÖSSZEG</td><td>240</td></tr>",
                            "<tr><td>2015-06-23</td><td>RÉSZÖSSZEG</td><td>227</td></tr>",
                            "<tr><td>2015-06-24</td><td>RÉSZÖSSZEG</td><td>129</td></tr>",
                            "<tr><td>2015-06-25</td><td>RÉSZÖSSZEG</td><td>247</td></tr>",
                            "<tr><td>2015-06-26</td><td>RÉSZÖSSZEG</td><td>271</td></tr>",
                            "<tr><td>2015-06-27</td><td>RÉSZÖSSZEG</td><td>173</td></tr>",
                            "<tr><td>2015-06-28</td><td>RÉSZÖSSZEG</td><td>163</td></tr>",
                            "<tr><td>2015-06-29</td><td>RÉSZÖSSZEG</td><td>207</td></tr>",
                            "<tr><td>2015-06-30</td><td>RÉSZÖSSZEG</td><td>208</td></tr>",
                            "<tr><td>2015-07-01</td><td>RÉSZÖSSZEG</td><td>138</td></tr>",
                            "<tr><td>2015-07-02</td><td>RÉSZÖSSZEG</td><td>183</td></tr>",
                            "<tr><td>2015-07-03</td><td>RÉSZÖSSZEG</td><td>175</td></tr>",
                            "<tr><td>2015-07-04</td><td>RÉSZÖSSZEG</td><td>221</td></tr>",
                            "<tr><td>2015-07-05</td><td>RÉSZÖSSZEG</td><td>220</td></tr>",
                            "<tr><td>2015-07-06</td><td>RÉSZÖSSZEG</td><td>231</td></tr>",
                            "<tr><td>2015-07-07</td><td>RÉSZÖSSZEG</td><td>266</td></tr>",
                            "<tr><td>2015-07-08</td><td>RÉSZÖSSZEG</td><td>177</td></tr>",
                            "<tr><td>2015-07-09</td><td>RÉSZÖSSZEG</td><td>198</td></tr>",
                            "<tr><td>2015-07-10</td><td>RÉSZÖSSZEG</td><td>182</td></tr>",
                            "<tr><td>2015-07-11</td><td>RÉSZÖSSZEG</td><td>175</td></tr>",
                            "<tr><td>2015-07-12</td><td>RÉSZÖSSZEG</td><td>218</td></tr>",
                            "<tr><td>2015-07-13</td><td>RÉSZÖSSZEG</td><td>208</td></tr>",
                            "<tr><td>2015-07-14</td><td>RÉSZÖSSZEG</td><td>188</td></tr>",
                            "<tr><td>2015-07-15</td><td>RÉSZÖSSZEG</td><td>256</td></tr>",
                            "<tr><td>2015-07-16</td><td>RÉSZÖSSZEG</td><td>187</td></tr>",
                            "<tr><td>2015-07-17</td><td>RÉSZÖSSZEG</td><td>176</td></tr>",
                            "<tr><td>2015-07-18</td><td>RÉSZÖSSZEG</td><td>159</td></tr>",
                            "<tr><td>2015-07-19</td><td>RÉSZÖSSZEG</td><td>187</td></tr>",
                            "<tr><td>2015-07-20</td><td>RÉSZÖSSZEG</td><td>260</td></tr>",
                            "<tr><td>2015-07-21</td><td>RÉSZÖSSZEG</td><td>242</td></tr>",
                            "<tr><td>2015-07-22</td><td>RÉSZÖSSZEG</td><td>163</td></tr>",
                            "<tr><td>2015-07-23</td><td>RÉSZÖSSZEG</td><td>180</td></tr>",
                            "<tr><td>2015-07-24</td><td>RÉSZÖSSZEG</td><td>219</td></tr>",
                            "<tr><td>2015-07-25</td><td>RÉSZÖSSZEG</td><td>200</td></tr>",
                            "<tr><td>2015-07-26</td><td>RÉSZÖSSZEG</td><td>236</td></tr>",
                            "<tr><td>2015-07-27</td><td>RÉSZÖSSZEG</td><td>155</td></tr>",
                            "<tr><td>2015-07-28</td><td>RÉSZÖSSZEG</td><td>180</td></tr>",
                            "<tr><td>2015-07-29</td><td>RÉSZÖSSZEG</td><td>161</td></tr>",
                            "<tr><td>2015-07-30</td><td>RÉSZÖSSZEG</td><td>238</td></tr>",
                            "<tr><td>2015-07-31</td><td>RÉSZÖSSZEG</td><td>270</td></tr>",
                            "<tr><td>2015-08-01</td><td>RÉSZÖSSZEG</td><td>248</td></tr>",
                            "<tr><td>2015-08-02</td><td>RÉSZÖSSZEG</td><td>229</td></tr>",
                            "<tr><td>2015-08-03</td><td>RÉSZÖSSZEG</td><td>229</td></tr>",
                            "<tr><td>2015-08-04</td><td>RÉSZÖSSZEG</td><td>250</td></tr>",
                            "<tr><td>2015-08-05</td><td>RÉSZÖSSZEG</td><td>233</td></tr>",
                            "<tr><td>2015-08-06</td><td>RÉSZÖSSZEG</td><td>140</td></tr>",
                            "<tr><td>2015-08-07</td><td>RÉSZÖSSZEG</td><td>259</td></tr>",
                            "<tr><td>2015-08-08</td><td>RÉSZÖSSZEG</td><td>258</td></tr>",
                            "<tr><td>2015-08-09</td><td>RÉSZÖSSZEG</td><td>187</td></tr>",
                            "<tr><td>2015-08-10</td><td>RÉSZÖSSZEG</td><td>196</td></tr>",
                            "<tr><td>2015-08-11</td><td>RÉSZÖSSZEG</td><td>241</td></tr>",
                            "<tr><td>2015-08-12</td><td>RÉSZÖSSZEG</td><td>202</td></tr>",
                            "<tr><td>2015-08-13</td><td>RÉSZÖSSZEG</td><td>250</td></tr>",
                            "<tr><td>2015-08-14</td><td>RÉSZÖSSZEG</td><td>255</td></tr>",
                            "<tr><td>2015-08-15</td><td>RÉSZÖSSZEG</td><td>172</td></tr>",
                            "<tr><td>2015-08-16</td><td>RÉSZÖSSZEG</td><td>189</td></tr>",
                            "<tr><td>2015-08-17</td><td>RÉSZÖSSZEG</td><td>203</td></tr>",
                            "<tr><td>2015-08-18</td><td>RÉSZÖSSZEG</td><td>167</td></tr>",
                            "<tr><td>2015-08-19</td><td>RÉSZÖSSZEG</td><td>170</td></tr>",
                            "<tr><td>2015-08-20</td><td>RÉSZÖSSZEG</td><td>227</td></tr>",
                            "<tr><td>2015-08-21</td><td>RÉSZÖSSZEG</td><td>199</td></tr>",
                            "<tr><td>2015-08-22</td><td>RÉSZÖSSZEG</td><td>251</td></tr>",
                            "<tr><td>2015-08-23</td><td>RÉSZÖSSZEG</td><td>173</td></tr>",
                            "<tr><td>2015-08-24</td><td>RÉSZÖSSZEG</td><td>191</td></tr>",
                            "<tr><td>2015-08-25</td><td>RÉSZÖSSZEG</td><td>235</td></tr>",
                            "<tr><td>2015-08-26</td><td>RÉSZÖSSZEG</td><td>267</td></tr>",
                            "<tr><td>2015-08-27</td><td>RÉSZÖSSZEG</td><td>152</td></tr>",
                            "<tr><td>2015-08-28</td><td>RÉSZÖSSZEG</td><td>221</td></tr>",
                            "<tr><td>2015-08-29</td><td>RÉSZÖSSZEG</td><td>183</td></tr>",
                            "<tr><td>2015-08-30</td><td>RÉSZÖSSZEG</td><td>236</td></tr>",
                            "<tr><td>2015-08-31</td><td>RÉSZÖSSZEG</td><td>205</td></tr>",
                            "<tr><td>2015-09-01</td><td>RÉSZÖSSZEG</td><td>246</td></tr>",
                            "<tr><td>2015-09-02</td><td>RÉSZÖSSZEG</td><td>165</td></tr>",
                            "<tr><td>2015-09-03</td><td>RÉSZÖSSZEG</td><td>234</td></tr>",
                            "<tr><td>2015-09-04</td><td>RÉSZÖSSZEG</td><td>256</td></tr>",
                            "<tr><td>2015-09-05</td><td>RÉSZÖSSZEG</td><td>187</td></tr>",
                            "<tr><td>2015-09-06</td><td>RÉSZÖSSZEG</td><td>209</td></tr>",
                            "<tr><td>2015-09-07</td><td>RÉSZÖSSZEG</td><td>237</td></tr>",
                            "<tr><td>2015-09-08</td><td>RÉSZÖSSZEG</td><td>193</td></tr>",
                            "<tr><td>2015-09-09</td><td>RÉSZÖSSZEG</td><td>204</td></tr>",
                            "<tr><td>2015-09-10</td><td>RÉSZÖSSZEG</td><td>265</td></tr>",
                            "<tr><td>2015-09-11</td><td>RÉSZÖSSZEG</td><td>219</td></tr>",
                            "<tr><td>2015-09-12</td><td>RÉSZÖSSZEG</td><td>240</td></tr>",
                            "<tr><td>2015-09-13</td><td>RÉSZÖSSZEG</td><td>195</td></tr>",
                            "<tr><td>2015-09-14</td><td>RÉSZÖSSZEG</td><td>210</td></tr>",
                            "<tr><td>2015-09-15</td><td>RÉSZÖSSZEG</td><td>140</td></tr>",
                            "<tr><td>2015-09-16</td><td>RÉSZÖSSZEG</td><td>199</td></tr>",
                            "<tr><td>2015-09-17</td><td>RÉSZÖSSZEG</td><td>226</td></tr>",
                            "<tr><td>2015-09-18</td><td>RÉSZÖSSZEG</td><td>212</td></tr>",
                            "<tr><td>2015-09-19</td><td>RÉSZÖSSZEG</td><td>196</td></tr>",
                            "<tr><td>2015-09-20</td><td>RÉSZÖSSZEG</td><td>263</td></tr>",
                            "<tr><td>2015-09-21</td><td>RÉSZÖSSZEG</td><td>164</td></tr>",
                            "<tr><td>2015-09-22</td><td>RÉSZÖSSZEG</td><td>221</td></tr>",
                            "<tr><td>2015-09-23</td><td>RÉSZÖSSZEG</td><td>187</td></tr>",
                            "<tr><td>2015-09-24</td><td>RÉSZÖSSZEG</td><td>264</td></tr>",
                            "<tr><td>2015-09-25</td><td>RÉSZÖSSZEG</td><td>186</td></tr>",
                            "<tr><td>2015-09-26</td><td>RÉSZÖSSZEG</td><td>240</td></tr>",
                            "<tr><td>2015-09-27</td><td>RÉSZÖSSZEG</td><td>194</td></tr>",
                            "<tr><td>2015-09-28</td><td>RÉSZÖSSZEG</td><td>269</td></tr>",
                            "<tr><td>2015-09-29</td><td>RÉSZÖSSZEG</td><td>252</td></tr>",
                            "<tr><td>2015-09-30</td><td>RÉSZÖSSZEG</td><td>151</td></tr>",
                            "<tr><td>2015-10-01</td><td>RÉSZÖSSZEG</td><td>207</td></tr>",
                            "<tr><td>2015-10-02</td><td>RÉSZÖSSZEG</td><td>153</td></tr>",
                            "<tr><td>2015-10-03</td><td>RÉSZÖSSZEG</td><td>242</td></tr>",
                            "<tr><td>2015-10-04</td><td>RÉSZÖSSZEG</td><td>197</td></tr>",
                            "<tr><td>2015-10-05</td><td>RÉSZÖSSZEG</td><td>226</td></tr>",
                            "<tr><td>2015-10-06</td><td>RÉSZÖSSZEG</td><td>163</td></tr>",
                            "<tr><td>2015-10-07</td><td>RÉSZÖSSZEG</td><td>230</td></tr>",
                            "<tr><td>2015-10-08</td><td>RÉSZÖSSZEG</td><td>216</td></tr>",
                            "<tr><td>2015-10-09</td><td>RÉSZÖSSZEG</td><td>235</td></tr>",
                            "<tr><td>2015-10-10</td><td>RÉSZÖSSZEG</td><td>216</td></tr>",
                            "<tr><td>2015-10-11</td><td>RÉSZÖSSZEG</td><td>184</td></tr>",
                            "<tr><td>2015-10-12</td><td>RÉSZÖSSZEG</td><td>237</td></tr>",
                            "<tr><td>2015-10-13</td><td>RÉSZÖSSZEG</td><td>174</td></tr>",
                            "<tr><td>2015-10-14</td><td>RÉSZÖSSZEG</td><td>163</td></tr>",
                            "<tr><td>2015-10-15</td><td>RÉSZÖSSZEG</td><td>251</td></tr>",
                            "<tr><td>2015-10-16</td><td>RÉSZÖSSZEG</td><td>258</td></tr>",
                            "<tr><td>2015-10-17</td><td>RÉSZÖSSZEG</td><td>186</td></tr>",
                            "<tr><td>2015-10-18</td><td>RÉSZÖSSZEG</td><td>219</td></tr>",
                            "<tr><td>2015-10-19</td><td>RÉSZÖSSZEG</td><td>184</td></tr>",
                            "<tr><td>2015-10-20</td><td>RÉSZÖSSZEG</td><td>260</td></tr>",
                            "<tr><td>2015-10-21</td><td>RÉSZÖSSZEG</td><td>191</td></tr>",
                            "<tr><td>2015-10-22</td><td>RÉSZÖSSZEG</td><td>153</td></tr>",
                            "<tr><td>2015-10-23</td><td>RÉSZÖSSZEG</td><td>207</td></tr>",
                            "<tr><td>2015-10-24</td><td>RÉSZÖSSZEG</td><td>186</td></tr>",
                            "<tr><td>2015-10-25</td><td>RÉSZÖSSZEG</td><td>234</td></tr>",
                            "<tr><td>2015-10-26</td><td>RÉSZÖSSZEG</td><td>221</td></tr>",
                            "<tr><td>2015-10-27</td><td>RÉSZÖSSZEG</td><td>188</td></tr>",
                            "<tr><td>2015-10-28</td><td>RÉSZÖSSZEG</td><td>194</td></tr>",
                            "<tr><td>2015-10-29</td><td>RÉSZÖSSZEG</td><td>191</td></tr>",
                            "<tr><td>2015-10-30</td><td>RÉSZÖSSZEG</td><td>214</td></tr>",
                            "<tr><td>2015-10-31</td><td>RÉSZÖSSZEG</td><td>176</td></tr>",
                            "<tr><td>2015-11-01</td><td>RÉSZÖSSZEG</td><td>148</td></tr>",
                            "<tr><td>2015-11-02</td><td>RÉSZÖSSZEG</td><td>191</td></tr>",
                            "<tr><td>2015-11-03</td><td>RÉSZÖSSZEG</td><td>304</td></tr>",
                            "<tr><td>2015-11-04</td><td>RÉSZÖSSZEG</td><td>181</td></tr>",
                            "<tr><td>2015-11-05</td><td>RÉSZÖSSZEG</td><td>173</td></tr>",
                            "<tr><td>2015-11-06</td><td>RÉSZÖSSZEG</td><td>211</td></tr>",
                            "<tr><td>2015-11-07</td><td>RÉSZÖSSZEG</td><td>206</td></tr>",
                            "<tr><td>2015-11-08</td><td>RÉSZÖSSZEG</td><td>210</td></tr>",
                            "<tr><td>2015-11-09</td><td>RÉSZÖSSZEG</td><td>206</td></tr>",
                            "<tr><td>2015-11-10</td><td>RÉSZÖSSZEG</td><td>219</td></tr>",
                            "<tr><td>2015-11-11</td><td>RÉSZÖSSZEG</td><td>200</td></tr>",
                            "<tr><td>2015-11-12</td><td>RÉSZÖSSZEG</td><td>149</td></tr>",
                            "<tr><td>2015-11-13</td><td>RÉSZÖSSZEG</td><td>188</td></tr>",
                            "<tr><td>2015-11-14</td><td>RÉSZÖSSZEG</td><td>230</td></tr>",
                            "<tr><td>2015-11-15</td><td>RÉSZÖSSZEG</td><td>164</td></tr>",
                            "<tr><td>2015-11-16</td><td>RÉSZÖSSZEG</td><td>230</td></tr>",
                            "<tr><td>2015-11-17</td><td>RÉSZÖSSZEG</td><td>195</td></tr>",
                            "<tr><td>2015-11-18</td><td>RÉSZÖSSZEG</td><td>219</td></tr>",
                            "<tr><td>2015-11-19</td><td>RÉSZÖSSZEG</td><td>190</td></tr>",
                            "<tr><td>2015-11-20</td><td>RÉSZÖSSZEG</td><td>168</td></tr>",
                            "<tr><td>2015-11-21</td><td>RÉSZÖSSZEG</td><td>205</td></tr>",
                            "<tr><td>2015-11-22</td><td>RÉSZÖSSZEG</td><td>240</td></tr>",
                            "<tr><td>2015-11-23</td><td>RÉSZÖSSZEG</td><td>209</td></tr>",
                            "<tr><td>2015-11-24</td><td>RÉSZÖSSZEG</td><td>245</td></tr>",
                            "<tr><td>2015-11-25</td><td>RÉSZÖSSZEG</td><td>167</td></tr>",
                            "<tr><td>2015-11-26</td><td>RÉSZÖSSZEG</td><td>186</td></tr>",
                            "<tr><td>2015-11-27</td><td>RÉSZÖSSZEG</td><td>177</td></tr>",
                            "<tr><td>2015-11-28</td><td>RÉSZÖSSZEG</td><td>266</td></tr>",
                            "<tr><td>2015-11-29</td><td>RÉSZÖSSZEG</td><td>167</td></tr>",
                            "<tr><td>2015-11-30</td><td>RÉSZÖSSZEG</td><td>205</td></tr>",
                            "<tr><td>2015-12-01</td><td>RÉSZÖSSZEG</td><td>185</td></tr>",
                            "<tr><td>2015-12-02</td><td>RÉSZÖSSZEG</td><td>226</td></tr>",
                            "<tr><td>2015-12-03</td><td>RÉSZÖSSZEG</td><td>217</td></tr>",
                            "<tr><td>2015-12-04</td><td>RÉSZÖSSZEG</td><td>185</td></tr>",
                            "<tr><td>2015-12-05</td><td>RÉSZÖSSZEG</td><td>267</td></tr>",
                            "<tr><td>2015-12-06</td><td>RÉSZÖSSZEG</td><td>150</td></tr>",
                            "<tr><td>2015-12-07</td><td>RÉSZÖSSZEG</td><td>263</td></tr>",
                            "<tr><td>2015-12-08</td><td>RÉSZÖSSZEG</td><td>207</td></tr>",
                            "<tr><td>2015-12-09</td><td>RÉSZÖSSZEG</td><td>211</td></tr>",
                            "<tr><td>2015-12-10</td><td>RÉSZÖSSZEG</td><td>256</td></tr>",
                            "<tr><td>2015-12-11</td><td>RÉSZÖSSZEG</td><td>230</td></tr>",
                            "<tr><td>2015-12-12</td><td>RÉSZÖSSZEG</td><td>224</td></tr>",
                            "<tr><td>2015-12-13</td><td>RÉSZÖSSZEG</td><td>171</td></tr>",
                            "<tr><td>2015-12-14</td><td>RÉSZÖSSZEG</td><td>212</td></tr>",
                            "<tr><td>2015-12-15</td><td>RÉSZÖSSZEG</td><td>184</td></tr>",
                            "<tr><td>2015-12-16</td><td>RÉSZÖSSZEG</td><td>179</td></tr>",
                            "<tr><td>2015-12-17</td><td>RÉSZÖSSZEG</td><td>186</td></tr>",
                            "<tr><td>2015-12-18</td><td>RÉSZÖSSZEG</td><td>274</td></tr>",
                            "<tr><td>2015-12-19</td><td>RÉSZÖSSZEG</td><td>164</td></tr>",
                            "<tr><td>2015-12-20</td><td>RÉSZÖSSZEG</td><td>222</td></tr>",
                            "<tr><td>2015-12-21</td><td>RÉSZÖSSZEG</td><td>164</td></tr>",
                            "<tr><td>2015-12-22</td><td>RÉSZÖSSZEG</td><td>210</td></tr>",
                            "<tr><td>2015-12-23</td><td>RÉSZÖSSZEG</td><td>191</td></tr>",
                            "<tr><td>2015-12-24</td><td>RÉSZÖSSZEG</td><td>196</td></tr>",
                            "<tr><td>2015-12-25</td><td>RÉSZÖSSZEG</td><td>181</td></tr>",
                            "<tr><td>2015-12-26</td><td>RÉSZÖSSZEG</td><td>222</td></tr>",
                            "<tr><td>2015-12-27</td><td>RÉSZÖSSZEG</td><td>208</td></tr>",
                            "<tr><td>2015-12-28</td><td>RÉSZÖSSZEG</td><td>244</td></tr>",
                            "<tr><td>2015-12-29</td><td>RÉSZÖSSZEG</td><td>247</td></tr>",
                            "<tr><td>2015-12-30</td><td>RÉSZÖSSZEG</td><td>190</td></tr>",
                            "<tr><td>2015-12-31</td><td>RÉSZÖSSZEG</td><td>206</td></tr>",
                            "<tr><td>2016-01-01</td><td>RÉSZÖSSZEG</td><td>240</td></tr>",
                            "<tr><td>2016-01-02</td><td>RÉSZÖSSZEG</td><td>206</td></tr>",
                            "<tr><td>2016-01-03</td><td>RÉSZÖSSZEG</td><td>257</td></tr>",
                            "<tr><td>2016-01-04</td><td>RÉSZÖSSZEG</td><td>233</td></tr>",
                            "<tr><td>2016-01-05</td><td>RÉSZÖSSZEG</td><td>192</td></tr>",
                            "<tr><td>2016-01-06</td><td>RÉSZÖSSZEG</td><td>193</td></tr>",
                            "<tr><td>2016-01-07</td><td>RÉSZÖSSZEG</td><td>142</td></tr>",
                            "<tr><td>2016-01-08</td><td>RÉSZÖSSZEG</td><td>269</td></tr>",
                            "<tr><td>2016-01-09</td><td>RÉSZÖSSZEG</td><td>196</td></tr>",
                            "<tr><td>2016-01-10</td><td>RÉSZÖSSZEG</td><td>204</td></tr>",
                            "<tr><td>2016-01-11</td><td>RÉSZÖSSZEG</td><td>201</td></tr>",
                            "<tr><td>2016-01-12</td><td>RÉSZÖSSZEG</td><td>189</td></tr>",
                            "<tr><td>2016-01-13</td><td>RÉSZÖSSZEG</td><td>201</td></tr>",
                            "<tr><td>2016-01-14</td><td>RÉSZÖSSZEG</td><td>226</td></tr>",
                            "<tr><td>2016-01-15</td><td>RÉSZÖSSZEG</td><td>229</td></tr>",
                            "<tr><td>2016-01-16</td><td>RÉSZÖSSZEG</td><td>218</td></tr>",
                            "<tr><td>2016-01-17</td><td>RÉSZÖSSZEG</td><td>203</td></tr>",
                            "<tr><td>2016-01-18</td><td>RÉSZÖSSZEG</td><td>173</td></tr>",
                            "<tr><td>2016-01-19</td><td>RÉSZÖSSZEG</td><td>176</td></tr>",
                            "<tr><td>2016-01-20</td><td>RÉSZÖSSZEG</td><td>200</td></tr>",
                            "<tr><td>2016-01-21</td><td>RÉSZÖSSZEG</td><td>281</td></tr>",
                            "<tr><td>2016-01-22</td><td>RÉSZÖSSZEG</td><td>206</td></tr>",
                            "<tr><td>2016-01-23</td><td>RÉSZÖSSZEG</td><td>175</td></tr>",
                            "<tr><td>2016-01-24</td><td>RÉSZÖSSZEG</td><td>241</td></tr>",
                            "<tr><td>2016-01-25</td><td>RÉSZÖSSZEG</td><td>136</td></tr>",
                            "<tr><td>2016-01-26</td><td>RÉSZÖSSZEG</td><td>144</td></tr>",
                            "<tr><td>2016-01-27</td><td>RÉSZÖSSZEG</td><td>195</td></tr>",
                            "<tr><td>2016-01-28</td><td>RÉSZÖSSZEG</td><td>207</td></tr>",
                            "<tr><td>2016-01-29</td><td>RÉSZÖSSZEG</td><td>198</td></tr>",
                            "<tr><td>2016-01-30</td><td>RÉSZÖSSZEG</td><td>239</td></tr>",
                            "<tr><td>2016-01-31</td><td>RÉSZÖSSZEG</td><td>191</td></tr>",
                            "<tr><td>2016-02-01</td><td>RÉSZÖSSZEG</td><td>246</td></tr>",
                            "<tr><td>2016-02-02</td><td>RÉSZÖSSZEG</td><td>211</td></tr>",
                            "<tr><td>2016-02-03</td><td>RÉSZÖSSZEG</td><td>236</td></tr>",
                            "<tr><td>2016-02-04</td><td>RÉSZÖSSZEG</td><td>199</td></tr>",
                            "<tr><td>2016-02-05</td><td>RÉSZÖSSZEG</td><td>233</td></tr>",
                            "<tr><td>2016-02-06</td><td>RÉSZÖSSZEG</td><td>287</td></tr>",
                            "<tr><td>2016-02-07</td><td>RÉSZÖSSZEG</td><td>164</td></tr>",
                            "<tr><td>2016-02-08</td><td>RÉSZÖSSZEG</td><td>230</td></tr>",
                            "<tr><td>2016-02-09</td><td>RÉSZÖSSZEG</td><td>222</td></tr>",
                            "<tr><td>2016-02-10</td><td>RÉSZÖSSZEG</td><td>196</td></tr>",
                            "<tr><td>2016-02-11</td><td>RÉSZÖSSZEG</td><td>217</td></tr>",
                            "<tr><td>2016-02-12</td><td>RÉSZÖSSZEG</td><td>232</td></tr>",
                            "<tr><td>2016-02-13</td><td>RÉSZÖSSZEG</td><td>195</td></tr>",
                            "<tr><td>2016-02-14</td><td>RÉSZÖSSZEG</td><td>219</td></tr>",
                            "<tr><td>2016-02-15</td><td>RÉSZÖSSZEG</td><td>246</td></tr>",
                            "<tr><td>2016-02-16</td><td>RÉSZÖSSZEG</td><td>209</td></tr>",
                            "<tr><td>2016-02-17</td><td>RÉSZÖSSZEG</td><td>250</td></tr>",
                            "<tr><td>2016-02-18</td><td>RÉSZÖSSZEG</td><td>131</td></tr>",
                            "<tr><td>2016-02-19</td><td>RÉSZÖSSZEG</td><td>217</td></tr>",
                            "<tr><td>2016-02-20</td><td>RÉSZÖSSZEG</td><td>204</td></tr>",
                            "<tr><td>2016-02-21</td><td>RÉSZÖSSZEG</td><td>206</td></tr>",
                            "<tr><td>2016-02-22</td><td>RÉSZÖSSZEG</td><td>245</td></tr>",
                            "<tr><td>2016-02-23</td><td>RÉSZÖSSZEG</td><td>183</td></tr>",
                            "<tr><td>2016-02-24</td><td>RÉSZÖSSZEG</td><td>185</td></tr>",
                            "<tr><td>2016-02-25</td><td>RÉSZÖSSZEG</td><td>188</td></tr>",
                            "<tr><td>2016-02-26</td><td>RÉSZÖSSZEG</td><td>232</td></tr>",
                            "<tr><td>2016-02-27</td><td>RÉSZÖSSZEG</td><td>199</td></tr>",
                            "<tr><td>2016-02-28</td><td>RÉSZÖSSZEG</td><td>217</td></tr>",
                            "<tr><td>2016-02-29</td><td>RÉSZÖSSZEG</td><td>223</td></tr>",
                            "<tr><td>2016-03-01</td><td>RÉSZÖSSZEG</td><td>256</td></tr>",
                            "<tr><td>2016-03-02</td><td>RÉSZÖSSZEG</td><td>203</td></tr>",
                            "<tr><td>2016-03-03</td><td>RÉSZÖSSZEG</td><td>250</td></tr>",
                            "<tr><td>2016-03-04</td><td>RÉSZÖSSZEG</td><td>220</td></tr>",
                            "<tr><td>2016-03-05</td><td>RÉSZÖSSZEG</td><td>251</td></tr>",
                            "<tr><td>2016-03-06</td><td>RÉSZÖSSZEG</td><td>184</td></tr>",
                            "<tr><td>2016-03-07</td><td>RÉSZÖSSZEG</td><td>197</td></tr>",
                            "<tr><td>2016-03-08</td><td>RÉSZÖSSZEG</td><td>159</td></tr>",
                            "<tr><td>2016-03-09</td><td>RÉSZÖSSZEG</td><td>208</td></tr>",
                            "<tr><td>2016-03-10</td><td>RÉSZÖSSZEG</td><td>235</td></tr>",
                            "<tr><td>2016-03-11</td><td>RÉSZÖSSZEG</td><td>200</td></tr>",
                            "<tr><td>2016-03-12</td><td>RÉSZÖSSZEG</td><td>260</td></tr>",
                            "<tr><td>2016-03-13</td><td>RÉSZÖSSZEG</td><td>191</td></tr>",
                            "<tr><td>2016-03-14</td><td>RÉSZÖSSZEG</td><td>224</td></tr>",
                            "<tr><td>2016-03-15</td><td>RÉSZÖSSZEG</td><td>211</td></tr>",
                            "<tr><td>2016-03-16</td><td>RÉSZÖSSZEG</td><td>169</td></tr>",
                            "<tr><td>2016-03-17</td><td>RÉSZÖSSZEG</td><td>195</td></tr>",
                            "<tr><td>2016-03-18</td><td>RÉSZÖSSZEG</td><td>192</td></tr>",
                            "<tr><td>2016-03-19</td><td>RÉSZÖSSZEG</td><td>195</td></tr>",
                            "<tr><td>2016-03-20</td><td>RÉSZÖSSZEG</td><td>308</td></tr>",
                            "<tr><td>2016-03-21</td><td>RÉSZÖSSZEG</td><td>263</td></tr>",
                            "<tr><td>2016-03-22</td><td>RÉSZÖSSZEG</td><td>224</td></tr>",
                            "<tr><td>2016-03-23</td><td>RÉSZÖSSZEG</td><td>214</td></tr>",
                            "<tr><td>2016-03-24</td><td>RÉSZÖSSZEG</td><td>199</td></tr>",
                            "<tr><td>2016-03-25</td><td>RÉSZÖSSZEG</td><td>238</td></tr>",
                            "<tr><td>2016-03-26</td><td>RÉSZÖSSZEG</td><td>238</td></tr>",
                            "<tr><td>2016-03-27</td><td>RÉSZÖSSZEG</td><td>230</td></tr>",
                            "<tr><td>2016-03-28</td><td>RÉSZÖSSZEG</td><td>174</td></tr>",
                            "<tr><td>2016-03-29</td><td>RÉSZÖSSZEG</td><td>176</td></tr>",
                            "<tr><td>2016-03-30</td><td>RÉSZÖSSZEG</td><td>222</td></tr>",
                            "<tr><td>2016-03-31</td><td>RÉSZÖSSZEG</td><td>199</td></tr>",
                            "<tr><td>2016-04-01</td><td>RÉSZÖSSZEG</td><td>227</td></tr>",
                            "<tr><td>2016-04-02</td><td>RÉSZÖSSZEG</td><td>207</td></tr>",
                            "<tr><td>2016-04-03</td><td>RÉSZÖSSZEG</td><td>203</td></tr>",
                            "<tr><td>2016-04-04</td><td>RÉSZÖSSZEG</td><td>201</td></tr>",
                            "<tr><td>2016-04-05</td><td>RÉSZÖSSZEG</td><td>216</td></tr>",
                            "<tr><td>2016-04-06</td><td>RÉSZÖSSZEG</td><td>191</td></tr>",
                            "<tr><td>2016-04-07</td><td>RÉSZÖSSZEG</td><td>220</td></tr>",
                            "<tr><td>2016-04-08</td><td>RÉSZÖSSZEG</td><td>262</td></tr>",
                            "<tr><td>2016-04-09</td><td>RÉSZÖSSZEG</td><td>257</td></tr>",
                            "<tr><td>2016-04-10</td><td>RÉSZÖSSZEG</td><td>254</td></tr>",
                            "<tr><td>2016-04-11</td><td>RÉSZÖSSZEG</td><td>235</td></tr>",
                            "<tr><td>2016-04-12</td><td>RÉSZÖSSZEG</td><td>190</td></tr>",
                            "<tr><td>2016-04-13</td><td>RÉSZÖSSZEG</td><td>190</td></tr>",
                            "<tr><td>2016-04-14</td><td>RÉSZÖSSZEG</td><td>219</td></tr>",
                            "<tr><td>2016-04-15</td><td>RÉSZÖSSZEG</td><td>233</td></tr>",
                            "<tr><td>2016-04-16</td><td>RÉSZÖSSZEG</td><td>196</td></tr>",
                            "<tr><td>2016-04-17</td><td>RÉSZÖSSZEG</td><td>266</td></tr>",
                            "<tr><td>2016-04-18</td><td>RÉSZÖSSZEG</td><td>209</td></tr>",
                            "<tr><td>2016-04-19</td><td>RÉSZÖSSZEG</td><td>242</td></tr>",
                            "<tr><td>2016-04-20</td><td>RÉSZÖSSZEG</td><td>164</td></tr>",
                            "<tr><td>2016-04-21</td><td>RÉSZÖSSZEG</td><td>172</td></tr>",
                            "<tr><td>2016-04-22</td><td>RÉSZÖSSZEG</td><td>141</td></tr>",
                            "<tr><td>2016-04-23</td><td>RÉSZÖSSZEG</td><td>189</td></tr>",
                            "<tr><td>2016-04-24</td><td>RÉSZÖSSZEG</td><td>252</td></tr>",
                            "<tr><td>2016-04-25</td><td>RÉSZÖSSZEG</td><td>272</td></tr>",
                            "<tr><td>2016-04-26</td><td>RÉSZÖSSZEG</td><td>236</td></tr>",
                            "<tr><td>2016-04-27</td><td>RÉSZÖSSZEG</td><td>210</td></tr>",
                            "<tr><td>2016-04-28</td><td>RÉSZÖSSZEG</td><td>191</td></tr>",
                            "<tr><td>2016-04-29</td><td>RÉSZÖSSZEG</td><td>223</td></tr>",
                            "<tr><td>2016-04-30</td><td>RÉSZÖSSZEG</td><td>196</td></tr>",
                            "<tr><td>2016-05-01</td><td>RÉSZÖSSZEG</td><td>182</td></tr>",
                            "<tr><td>2016-05-02</td><td>RÉSZÖSSZEG</td><td>220</td></tr>",
                            "<tr><td>2016-05-03</td><td>RÉSZÖSSZEG</td><td>153</td></tr>",
                            "<tr><td>2016-05-04</td><td>RÉSZÖSSZEG</td><td>254</td></tr>",
                            "<tr><td>2016-05-05</td><td>RÉSZÖSSZEG</td><td>212</td></tr>",
                            "<tr><td>2016-05-06</td><td>RÉSZÖSSZEG</td><td>224</td></tr>",
                            "<tr><td>2016-05-07</td><td>RÉSZÖSSZEG</td><td>210</td></tr>",
                            "<tr><td>2016-05-08</td><td>RÉSZÖSSZEG</td><td>232</td></tr>",
                            "<tr><td>2016-05-09</td><td>RÉSZÖSSZEG</td><td>269</td></tr>",
                            "<tr><td>2016-05-10</td><td>RÉSZÖSSZEG</td><td>211</td></tr>",
                            "<tr><td>2016-05-11</td><td>RÉSZÖSSZEG</td><td>214</td></tr>",
                            "<tr><td>2016-05-12</td><td>RÉSZÖSSZEG</td><td>234</td></tr>",
                            "<tr><td>2016-05-13</td><td>RÉSZÖSSZEG</td><td>183</td></tr>",
                            "<tr><td>2016-05-14</td><td>RÉSZÖSSZEG</td><td>188</td></tr>",
                            "<tr><td>2016-05-15</td><td>RÉSZÖSSZEG</td><td>144</td></tr>",
                            "<tr><td>2016-05-16</td><td>RÉSZÖSSZEG</td><td>198</td></tr>",
                            "<tr><td>2016-05-17</td><td>RÉSZÖSSZEG</td><td>223</td></tr>",
                            "<tr><td>2016-05-18</td><td>RÉSZÖSSZEG</td><td>177</td></tr>",
                            "<tr><td>2016-05-19</td><td>RÉSZÖSSZEG</td><td>211</td></tr>",
                            "<tr><td>2016-05-20</td><td>RÉSZÖSSZEG</td><td>207</td></tr>",
                            "<tr><td>2016-05-21</td><td>RÉSZÖSSZEG</td><td>209</td></tr>",
                            "<tr><td>2016-05-22</td><td>RÉSZÖSSZEG</td><td>160</td></tr>",
                            "<tr><td>2016-05-23</td><td>RÉSZÖSSZEG</td><td>208</td></tr>",
                            "<tr><td>2016-05-24</td><td>RÉSZÖSSZEG</td><td>211</td></tr>",
                            "<tr><td>2016-05-25</td><td>RÉSZÖSSZEG</td><td>230</td></tr>",
                            "<tr><td>2016-05-26</td><td>RÉSZÖSSZEG</td><td>141</td></tr>",
                            "<tr><td>2016-05-27</td><td>RÉSZÖSSZEG</td><td>234</td></tr>",
                            "<tr><td>2016-05-28</td><td>RÉSZÖSSZEG</td><td>155</td></tr>",
                            "<tr><td>2016-05-29</td><td>RÉSZÖSSZEG</td><td>216</td></tr>",
                            "<tr><td>2016-05-30</td><td>RÉSZÖSSZEG</td><td>187</td></tr>",
                            "<tr><td>2016-05-31</td><td>RÉSZÖSSZEG</td><td>242</td></tr>",
                            "<tr><td>2016-06-01</td><td>RÉSZÖSSZEG</td><td>212</td></tr>",
                            "<tr><td>2016-06-02</td><td>RÉSZÖSSZEG</td><td>201</td></tr>",
                            "<tr><td>2016-06-03</td><td>RÉSZÖSSZEG</td><td>190</td></tr>",
                            "<tr><td>2016-06-04</td><td>RÉSZÖSSZEG</td><td>212</td></tr>",
                            "<tr><td>2016-06-05</td><td>RÉSZÖSSZEG</td><td>172</td></tr>",
                            "<tr><td>2016-06-06</td><td>RÉSZÖSSZEG</td><td>231</td></tr>",
                            "<tr><td>2016-06-07</td><td>RÉSZÖSSZEG</td><td>227</td></tr>",
                            "<tr><td>2016-06-08</td><td>RÉSZÖSSZEG</td><td>218</td></tr>",
                            "<tr><td>2016-06-09</td><td>RÉSZÖSSZEG</td><td>211</td></tr>",
                            "<tr><td>2016-06-10</td><td>RÉSZÖSSZEG</td><td>229</td></tr>",
                            "<tr><td>2016-06-11</td><td>RÉSZÖSSZEG</td><td>260</td></tr>",
                            "<tr><td>2016-06-12</td><td>RÉSZÖSSZEG</td><td>222</td></tr>",
                            "<tr><td>2016-06-13</td><td>RÉSZÖSSZEG</td><td>170</td></tr>",
                            "<tr><td>2016-06-14</td><td>RÉSZÖSSZEG</td><td>205</td></tr>",
                            "<tr><td>2016-06-15</td><td>RÉSZÖSSZEG</td><td>242</td></tr>",
                            "<tr><td>2016-06-16</td><td>RÉSZÖSSZEG</td><td>168</td></tr>",
                            "<tr><td>2016-06-17</td><td>RÉSZÖSSZEG</td><td>232</td></tr>",
                            "<tr><td>2016-06-18</td><td>RÉSZÖSSZEG</td><td>164</td></tr>",
                            "<tr><td>2016-06-19</td><td>RÉSZÖSSZEG</td><td>240</td></tr>",
                            "<tr><td>2016-06-20</td><td>RÉSZÖSSZEG</td><td>204</td></tr>",
                            "<tr><td>2016-06-21</td><td>RÉSZÖSSZEG</td><td>171</td></tr>",
                            "<tr><td>2016-06-22</td><td>RÉSZÖSSZEG</td><td>190</td></tr>",
                            "<tr><td>2016-06-23</td><td>RÉSZÖSSZEG</td><td>195</td></tr>",
                            "<tr><td>2016-06-24</td><td>RÉSZÖSSZEG</td><td>224</td></tr>",
                            "<tr><td>2016-06-25</td><td>RÉSZÖSSZEG</td><td>215</td></tr>",
                            "<tr><td>2016-06-26</td><td>RÉSZÖSSZEG</td><td>252</td></tr>",
                            "<tr><td>2016-06-27</td><td>RÉSZÖSSZEG</td><td>165</td></tr>",
                            "<tr><td>2016-06-28</td><td>RÉSZÖSSZEG</td><td>229</td></tr>",
                            "<tr><td>2016-06-29</td><td>RÉSZÖSSZEG</td><td>218</td></tr>",
                            "<tr><td>2016-06-30</td><td>RÉSZÖSSZEG</td><td>217</td></tr>",
                            "<tr><td>2016-07-01</td><td>RÉSZÖSSZEG</td><td>203</td></tr>",
                            "<tr><td>2016-07-02</td><td>RÉSZÖSSZEG</td><td>202</td></tr>",
                            "<tr><td>2016-07-03</td><td>RÉSZÖSSZEG</td><td>227</td></tr>",
                            "<tr><td>2016-07-04</td><td>RÉSZÖSSZEG</td><td>282</td></tr>",
                            "<tr><td>2016-07-05</td><td>RÉSZÖSSZEG</td><td>200</td></tr>",
                            "<tr><td>2016-07-06</td><td>RÉSZÖSSZEG</td><td>200</td></tr>",
                            "<tr><td>2016-07-07</td><td>RÉSZÖSSZEG</td><td>143</td></tr>",
                            "<tr><td>2016-07-08</td><td>RÉSZÖSSZEG</td><td>196</td></tr>",
                            "<tr><td>2016-07-09</td><td>RÉSZÖSSZEG</td><td>222</td></tr>",
                            "<tr><td>2016-07-10</td><td>RÉSZÖSSZEG</td><td>200</td></tr>",
                            "<tr><td>2016-07-11</td><td>RÉSZÖSSZEG</td><td>248</td></tr>",
                            "<tr><td>2016-07-12</td><td>RÉSZÖSSZEG</td><td>224</td></tr>",
                            "<tr><td>2016-07-13</td><td>RÉSZÖSSZEG</td><td>229</td></tr>",
                            "<tr><td>2016-07-14</td><td>RÉSZÖSSZEG</td><td>179</td></tr>",
                            "<tr><td>2016-07-15</td><td>RÉSZÖSSZEG</td><td>195</td></tr>",
                            "<tr><td>2016-07-16</td><td>RÉSZÖSSZEG</td><td>196</td></tr>",
                            "<tr><td>2016-07-17</td><td>RÉSZÖSSZEG</td><td>166</td></tr>",
                            "<tr><td>2016-07-18</td><td>RÉSZÖSSZEG</td><td>185</td></tr>",
                            "<tr><td>2016-07-19</td><td>RÉSZÖSSZEG</td><td>267</td></tr>",
                            "<tr><td>2016-07-20</td><td>RÉSZÖSSZEG</td><td>199</td></tr>",
                            "<tr><td>2016-07-21</td><td>RÉSZÖSSZEG</td><td>224</td></tr>",
                            "<tr><td>2016-07-22</td><td>RÉSZÖSSZEG</td><td>206</td></tr>",
                            "<tr><td>2016-07-23</td><td>RÉSZÖSSZEG</td><td>162</td></tr>",
                            "<tr><td>2016-07-24</td><td>RÉSZÖSSZEG</td><td>178</td></tr>",
                            "<tr><td>2016-07-25</td><td>RÉSZÖSSZEG</td><td>173</td></tr>",
                            "<tr><td>2016-07-26</td><td>RÉSZÖSSZEG</td><td>202</td></tr>",
                            "<tr><td>2016-07-27</td><td>RÉSZÖSSZEG</td><td>220</td></tr>",
                            "<tr><td>2016-07-28</td><td>RÉSZÖSSZEG</td><td>172</td></tr>",
                            "<tr><td>2016-07-29</td><td>RÉSZÖSSZEG</td><td>228</td></tr>",
                            "<tr><td>2016-07-30</td><td>RÉSZÖSSZEG</td><td>172</td></tr>",
                            "<tr><td>2016-07-31</td><td>RÉSZÖSSZEG</td><td>263</td></tr>",
                            "<tr><td>2016-08-01</td><td>RÉSZÖSSZEG</td><td>218</td></tr>",
                            "<tr><td>2016-08-02</td><td>RÉSZÖSSZEG</td><td>181</td></tr>",
                            "<tr><td>2016-08-03</td><td>RÉSZÖSSZEG</td><td>200</td></tr>",
                            "<tr><td>2016-08-04</td><td>RÉSZÖSSZEG</td><td>191</td></tr>",
                            "<tr><td>2016-08-05</td><td>RÉSZÖSSZEG</td><td>220</td></tr>",
                            "<tr><td>2016-08-06</td><td>RÉSZÖSSZEG</td><td>193</td></tr>",
                            "<tr><td>2016-08-07</td><td>RÉSZÖSSZEG</td><td>180</td></tr>",
                            "<tr><td>2016-08-08</td><td>RÉSZÖSSZEG</td><td>179</td></tr>",
                            "<tr><td>2016-08-09</td><td>RÉSZÖSSZEG</td><td>244</td></tr>",
                            "<tr><td>2016-08-10</td><td>RÉSZÖSSZEG</td><td>219</td></tr>",
                            "<tr><td>2016-08-11</td><td>RÉSZÖSSZEG</td><td>204</td></tr>",
                            "<tr><td>2016-08-12</td><td>RÉSZÖSSZEG</td><td>234</td></tr>",
                            "<tr><td>2016-08-13</td><td>RÉSZÖSSZEG</td><td>265</td></tr>",
                            "<tr><td>2016-08-14</td><td>RÉSZÖSSZEG</td><td>226</td></tr>",
                            "<tr><td>2016-08-15</td><td>RÉSZÖSSZEG</td><td>280</td></tr>",
                            "<tr><td>2016-08-16</td><td>RÉSZÖSSZEG</td><td>177</td></tr>",
                            "<tr><td>2016-08-17</td><td>RÉSZÖSSZEG</td><td>204</td></tr>",
                            "<tr><td>2016-08-18</td><td>RÉSZÖSSZEG</td><td>194</td></tr>",
                            "<tr><td>2016-08-19</td><td>RÉSZÖSSZEG</td><td>184</td></tr>",
                            "<tr><td>2016-08-20</td><td>RÉSZÖSSZEG</td><td>220</td></tr>",
                            "<tr><td>2016-08-21</td><td>RÉSZÖSSZEG</td><td>203</td></tr>",
                            "<tr><td>2016-08-22</td><td>RÉSZÖSSZEG</td><td>153</td></tr>",
                            "<tr><td>2016-08-23</td><td>RÉSZÖSSZEG</td><td>194</td></tr>",
                            "<tr><td>2016-08-24</td><td>RÉSZÖSSZEG</td><td>259</td></tr>",
                            "<tr><td>2016-08-25</td><td>RÉSZÖSSZEG</td><td>218</td></tr>",
                            "<tr><td>2016-08-26</td><td>RÉSZÖSSZEG</td><td>214</td></tr>",
                            "<tr><td>2016-08-27</td><td>RÉSZÖSSZEG</td><td>249</td></tr>",
                            "<tr><td>2016-08-28</td><td>RÉSZÖSSZEG</td><td>250</td></tr>",
                            "<tr><td>2016-08-29</td><td>RÉSZÖSSZEG</td><td>180</td></tr>",
                            "<tr><td>2016-08-30</td><td>RÉSZÖSSZEG</td><td>141</td></tr>",
                            "<tr><td>2016-08-31</td><td>RÉSZÖSSZEG</td><td>175</td></tr>",
                            "<tr><td>2016-09-01</td><td>RÉSZÖSSZEG</td><td>171</td></tr>",
                            "<tr><td>2016-09-02</td><td>RÉSZÖSSZEG</td><td>231</td></tr>",
                            "<tr><td>2016-09-03</td><td>RÉSZÖSSZEG</td><td>234</td></tr>",
                            "<tr><td>2016-09-04</td><td>RÉSZÖSSZEG</td><td>251</td></tr>",
                            "<tr><td>2016-09-05</td><td>RÉSZÖSSZEG</td><td>204</td></tr>",
                            "<tr><td>2016-09-06</td><td>RÉSZÖSSZEG</td><td>247</td></tr>",
                            "<tr><td>2016-09-07</td><td>RÉSZÖSSZEG</td><td>239</td></tr>",
                            "<tr><td>2016-09-08</td><td>RÉSZÖSSZEG</td><td>224</td></tr>",
                            "<tr><td>2016-09-09</td><td>RÉSZÖSSZEG</td><td>213</td></tr>",
                            "<tr><td>2016-09-10</td><td>RÉSZÖSSZEG</td><td>196</td></tr>",
                            "<tr><td>2016-09-11</td><td>RÉSZÖSSZEG</td><td>247</td></tr>",
                            "<tr><td>2016-09-12</td><td>RÉSZÖSSZEG</td><td>160</td></tr>",
                            "<tr><td>2016-09-13</td><td>RÉSZÖSSZEG</td><td>214</td></tr>",
                            "<tr><td>2016-09-14</td><td>RÉSZÖSSZEG</td><td>249</td></tr>",
                            "<tr><td>2016-09-15</td><td>RÉSZÖSSZEG</td><td>261</td></tr>",
                            "<tr><td>2016-09-16</td><td>RÉSZÖSSZEG</td><td>190</td></tr>",
                            "<tr><td>2016-09-17</td><td>RÉSZÖSSZEG</td><td>194</td></tr>",
                            "<tr><td>2016-09-18</td><td>RÉSZÖSSZEG</td><td>257</td></tr>",
                            "<tr><td>2016-09-19</td><td>RÉSZÖSSZEG</td><td>163</td></tr>",
                            "<tr><td>2016-09-20</td><td>RÉSZÖSSZEG</td><td>213</td></tr>",
                            "<tr><td>2016-09-21</td><td>RÉSZÖSSZEG</td><td>134</td></tr>",
                            "<tr><td>2016-09-22</td><td>RÉSZÖSSZEG</td><td>176</td></tr>",
                            "<tr><td>2016-09-23</td><td>RÉSZÖSSZEG</td><td>185</td></tr>",
                            "<tr><td>2016-09-24</td><td>RÉSZÖSSZEG</td><td>176</td></tr>",
                            "<tr><td>2016-09-25</td><td>RÉSZÖSSZEG</td><td>192</td></tr>",
                            "<tr><td>2016-09-26</td><td>RÉSZÖSSZEG</td><td>202</td></tr>",
                            "<tr><td>2016-09-27</td><td>RÉSZÖSSZEG</td><td>244</td></tr>",
                            "<tr><td>2016-09-28</td><td>RÉSZÖSSZEG</td><td>220</td></tr>",
                            "<tr><td>2016-09-29</td><td>RÉSZÖSSZEG</td><td>160</td></tr>",
                            "<tr><td>2016-09-30</td><td>RÉSZÖSSZEG</td><td>257</td></tr>",
                            "<tr><td>2016-10-01</td><td>RÉSZÖSSZEG</td><td>215</td></tr>",
                            "<tr><td>2016-10-02</td><td>RÉSZÖSSZEG</td><td>204</td></tr>",
                            "<tr><td>2016-10-03</td><td>RÉSZÖSSZEG</td><td>189</td></tr>",
                            "<tr><td>2016-10-04</td><td>RÉSZÖSSZEG</td><td>191</td></tr>",
                            "<tr><td>2016-10-05</td><td>RÉSZÖSSZEG</td><td>232</td></tr>",
                            "<tr><td>2016-10-06</td><td>RÉSZÖSSZEG</td><td>198</td></tr>",
                            "<tr><td>2016-10-07</td><td>RÉSZÖSSZEG</td><td>183</td></tr>",
                            "<tr><td>2016-10-08</td><td>RÉSZÖSSZEG</td><td>212</td></tr>",
                            "<tr><td>2016-10-09</td><td>RÉSZÖSSZEG</td><td>241</td></tr>",
                            "<tr><td>2016-10-10</td><td>RÉSZÖSSZEG</td><td>188</td></tr>",
                            "<tr><td>2016-10-11</td><td>RÉSZÖSSZEG</td><td>227</td></tr>",
                            "<tr><td>2016-10-12</td><td>RÉSZÖSSZEG</td><td>265</td></tr>",
                            "<tr><td>2016-10-13</td><td>RÉSZÖSSZEG</td><td>247</td></tr>",
                            "<tr><td>2016-10-14</td><td>RÉSZÖSSZEG</td><td>188</td></tr>",
                            "<tr><td>2016-10-15</td><td>RÉSZÖSSZEG</td><td>237</td></tr>",
                            "<tr><td>2016-10-16</td><td>RÉSZÖSSZEG</td><td>190</td></tr>",
                            "<tr><td>2016-10-17</td><td>RÉSZÖSSZEG</td><td>286</td></tr>",
                            "<tr><td>2016-10-18</td><td>RÉSZÖSSZEG</td><td>187</td></tr>",
                            "<tr><td>2016-10-19</td><td>RÉSZÖSSZEG</td><td>234</td></tr>",
                            "<tr><td>2016-10-20</td><td>RÉSZÖSSZEG</td><td>173</td></tr>",
                            "<tr><td>2016-10-21</td><td>RÉSZÖSSZEG</td><td>258</td></tr>",
                            "<tr><td>2016-10-22</td><td>RÉSZÖSSZEG</td><td>243</td></tr>",
                            "<tr><td>2016-10-23</td><td>RÉSZÖSSZEG</td><td>228</td></tr>",
                            "<tr><td>2016-10-24</td><td>RÉSZÖSSZEG</td><td>141</td></tr>",
                            "<tr><td>2016-10-25</td><td>RÉSZÖSSZEG</td><td>285</td></tr>",
                            "<tr><td>2016-10-26</td><td>RÉSZÖSSZEG</td><td>185</td></tr>",
                            "<tr><td>2016-10-27</td><td>RÉSZÖSSZEG</td><td>208</td></tr>",
                            "<tr><td>2016-10-28</td><td>RÉSZÖSSZEG</td><td>202</td></tr>",
                            "<tr><td>2016-10-29</td><td>RÉSZÖSSZEG</td><td>184</td></tr>",
                            "<tr><td>2016-10-30</td><td>RÉSZÖSSZEG</td><td>282</td></tr>",
                            "<tr><td>2016-10-31</td><td>RÉSZÖSSZEG</td><td>242</td></tr>",
                            "<tr><td>2016-11-01</td><td>RÉSZÖSSZEG</td><td>198</td></tr>",
                            "<tr><td>2016-11-02</td><td>RÉSZÖSSZEG</td><td>173</td></tr>",
                            "<tr><td>2016-11-03</td><td>RÉSZÖSSZEG</td><td>193</td></tr>",
                            "<tr><td>2016-11-04</td><td>RÉSZÖSSZEG</td><td>173</td></tr>",
                            "<tr><td>2016-11-05</td><td>RÉSZÖSSZEG</td><td>227</td></tr>",
                            "<tr><td>2016-11-06</td><td>RÉSZÖSSZEG</td><td>220</td></tr>",
                            "<tr><td>2016-11-07</td><td>RÉSZÖSSZEG</td><td>174</td></tr>",
                            "<tr><td>2016-11-08</td><td>RÉSZÖSSZEG</td><td>215</td></tr>",
                            "<tr><td>2016-11-09</td><td>RÉSZÖSSZEG</td><td>160</td></tr>",
                            "<tr><td>2016-11-10</td><td>RÉSZÖSSZEG</td><td>193</td></tr>",
                            "<tr><td>2016-11-11</td><td>RÉSZÖSSZEG</td><td>182</td></tr>",
                            "<tr><td>2016-11-12</td><td>RÉSZÖSSZEG</td><td>268</td></tr>",
                            "<tr><td>2016-11-13</td><td>RÉSZÖSSZEG</td><td>255</td></tr>",
                            "<tr><td>2016-11-14</td><td>RÉSZÖSSZEG</td><td>278</td></tr>",
                            "<tr><td>2016-11-15</td><td>RÉSZÖSSZEG</td><td>179</td></tr>",
                            "<tr><td>2016-11-16</td><td>RÉSZÖSSZEG</td><td>243</td></tr>",
                            "<tr><td>2016-11-17</td><td>RÉSZÖSSZEG</td><td>189</td></tr>",
                            "<tr><td>2016-11-18</td><td>RÉSZÖSSZEG</td><td>197</td></tr>",
                            "<tr><td>2016-11-19</td><td>RÉSZÖSSZEG</td><td>196</td></tr>",
                            "<tr><td>2016-11-20</td><td>RÉSZÖSSZEG</td><td>207</td></tr>",
                            "<tr><td>2016-11-21</td><td>RÉSZÖSSZEG</td><td>188</td></tr>",
                            "<tr><td>2016-11-22</td><td>RÉSZÖSSZEG</td><td>193</td></tr>",
                            "<tr><td>2016-11-23</td><td>RÉSZÖSSZEG</td><td>170</td></tr>",
                            "<tr><td>2016-11-24</td><td>RÉSZÖSSZEG</td><td>190</td></tr>",
                            "<tr><td>2016-11-25</td><td>RÉSZÖSSZEG</td><td>178</td></tr>",
                            "<tr><td>2016-11-26</td><td>RÉSZÖSSZEG</td><td>251</td></tr>",
                            "<tr><td>2016-11-27</td><td>RÉSZÖSSZEG</td><td>243</td></tr>",
                            "<tr><td>2016-11-28</td><td>RÉSZÖSSZEG</td><td>244</td></tr>",
                            "<tr><td>2016-11-29</td><td>RÉSZÖSSZEG</td><td>230</td></tr>",
                            "<tr><td>2016-11-30</td><td>RÉSZÖSSZEG</td><td>165</td></tr>",
                            "<tr><td>2016-12-01</td><td>RÉSZÖSSZEG</td><td>258</td></tr>",
                            "<tr><td>2016-12-02</td><td>RÉSZÖSSZEG</td><td>158</td></tr>",
                            "<tr><td>2016-12-03</td><td>RÉSZÖSSZEG</td><td>167</td></tr>",
                            "<tr><td>2016-12-04</td><td>RÉSZÖSSZEG</td><td>248</td></tr>",
                            "<tr><td>2016-12-05</td><td>RÉSZÖSSZEG</td><td>215</td></tr>",
                            "<tr><td>2016-12-06</td><td>RÉSZÖSSZEG</td><td>190</td></tr>",
                            "<tr><td>2016-12-07</td><td>RÉSZÖSSZEG</td><td>205</td></tr>",
                            "<tr><td>2016-12-08</td><td>RÉSZÖSSZEG</td><td>222</td></tr>",
                            "<tr><td>2016-12-09</td><td>RÉSZÖSSZEG</td><td>229</td></tr>",
                            "<tr><td>2016-12-10</td><td>RÉSZÖSSZEG</td><td>223</td></tr>",
                            "<tr><td>2016-12-11</td><td>RÉSZÖSSZEG</td><td>207</td></tr>",
                            "<tr><td>2016-12-12</td><td>RÉSZÖSSZEG</td><td>207</td></tr>",
                            "<tr><td>2016-12-13</td><td>RÉSZÖSSZEG</td><td>220</td></tr>",
                            "<tr><td>2016-12-14</td><td>RÉSZÖSSZEG</td><td>196</td></tr>",
                            "<tr><td>2016-12-15</td><td>RÉSZÖSSZEG</td><td>178</td></tr>",
                            "<tr><td>2016-12-16</td><td>RÉSZÖSSZEG</td><td>174</td></tr>",
                            "<tr><td>2016-12-17</td><td>RÉSZÖSSZEG</td><td>198</td></tr>",
                            "<tr><td>2016-12-18</td><td>RÉSZÖSSZEG</td><td>156</td></tr>",
                            "<tr><td>2016-12-19</td><td>RÉSZÖSSZEG</td><td>147</td></tr>",
                            "<tr><td>2016-12-20</td><td>RÉSZÖSSZEG</td><td>210</td></tr>",
                            "<tr><td>2016-12-21</td><td>RÉSZÖSSZEG</td><td>263</td></tr>",
                            "<tr><td>2016-12-22</td><td>RÉSZÖSSZEG</td><td>166</td></tr>",
                            "<tr><td>2016-12-23</td><td>RÉSZÖSSZEG</td><td>215</td></tr>",
                            "<tr><td>2016-12-24</td><td>RÉSZÖSSZEG</td><td>160</td></tr>",
                            "<tr><td>2016-12-25</td><td>RÉSZÖSSZEG</td><td>215</td></tr>",
                            "<tr><td>2016-12-26</td><td>RÉSZÖSSZEG</td><td>258</td></tr>",
                            "<tr><td>2016-12-27</td><td>RÉSZÖSSZEG</td><td>260</td></tr>",
                            "<tr><td>2016-12-28</td><td>RÉSZÖSSZEG</td><td>170</td></tr>",
                            "<tr><td>2016-12-29</td><td>RÉSZÖSSZEG</td><td>289</td></tr>",
                            "<tr><td>2016-12-30</td><td>RÉSZÖSSZEG</td><td>202</td></tr>",
                            "<tr><td>2016-12-31</td><td>RÉSZÖSSZEG</td><td>199</td></tr>",
                            "<tr><td>2017-01-01</td><td>RÉSZÖSSZEG</td><td>195</td></tr>",
                            "<tr><td>2017-01-02</td><td>RÉSZÖSSZEG</td><td>185</td></tr>",
                            "<tr><td>2017-01-03</td><td>RÉSZÖSSZEG</td><td>174</td></tr>",
                            "<tr><td>2017-01-04</td><td>RÉSZÖSSZEG</td><td>202</td></tr>",
                            "<tr><td>2017-01-05</td><td>RÉSZÖSSZEG</td><td>219</td></tr>",
                            "<tr><td>2017-01-06</td><td>RÉSZÖSSZEG</td><td>223</td></tr>",
                            "<tr><td>2017-01-07</td><td>RÉSZÖSSZEG</td><td>201</td></tr>",
                            "<tr><td>2017-01-08</td><td>RÉSZÖSSZEG</td><td>161</td></tr>",
                            "<tr><td>2017-01-09</td><td>RÉSZÖSSZEG</td><td>254</td></tr>",
                            "<tr><td>2017-01-10</td><td>RÉSZÖSSZEG</td><td>193</td></tr>",
                            "<tr><td>2017-01-11</td><td>RÉSZÖSSZEG</td><td>246</td></tr>",
                            "<tr><td>2017-01-12</td><td>RÉSZÖSSZEG</td><td>202</td></tr>",
                            "<tr><td>2017-01-13</td><td>RÉSZÖSSZEG</td><td>218</td></tr>",
                            "<tr><td>2017-01-14</td><td>RÉSZÖSSZEG</td><td>221</td></tr>",
                            "<tr><td>2017-01-15</td><td>RÉSZÖSSZEG</td><td>183</td></tr>",
                            "<tr><td>2017-01-16</td><td>RÉSZÖSSZEG</td><td>191</td></tr>",
                            "<tr><td>2017-01-17</td><td>RÉSZÖSSZEG</td><td>231</td></tr>",
                            "<tr><td>2017-01-18</td><td>RÉSZÖSSZEG</td><td>197</td></tr>",
                            "<tr><td>2017-01-19</td><td>RÉSZÖSSZEG</td><td>185</td></tr>",
                            "<tr><td>2017-01-20</td><td>RÉSZÖSSZEG</td><td>174</td></tr>",
                            "<tr><td>2017-01-21</td><td>RÉSZÖSSZEG</td><td>180</td></tr>",
                            "<tr><td>2017-01-22</td><td>RÉSZÖSSZEG</td><td>226</td></tr>",
                            "<tr><td>2017-01-23</td><td>RÉSZÖSSZEG</td><td>232</td></tr>",
                            "<tr><td>2017-01-24</td><td>RÉSZÖSSZEG</td><td>205</td></tr>",
                            "<tr><td>2017-01-25</td><td>RÉSZÖSSZEG</td><td>169</td></tr>",
                            "<tr><td>2017-01-26</td><td>RÉSZÖSSZEG</td><td>238</td></tr>",
                            "<tr><td>2017-01-27</td><td>RÉSZÖSSZEG</td><td>119</td></tr>",
                            "<tr><td>2017-01-28</td><td>RÉSZÖSSZEG</td><td>204</td></tr>",
                            "<tr><td>2017-01-29</td><td>RÉSZÖSSZEG</td><td>225</td></tr>",
                            "<tr><td>2017-01-30</td><td>RÉSZÖSSZEG</td><td>210</td></tr>",
                            "<tr><td>2017-01-31</td><td>RÉSZÖSSZEG</td><td>185</td></tr>",
                            "<tr><td>2017-02-01</td><td>RÉSZÖSSZEG</td><td>147</td></tr>",
                            "<tr><td>2017-02-02</td><td>RÉSZÖSSZEG</td><td>243</td></tr>",
                            "<tr><td>2017-02-03</td><td>RÉSZÖSSZEG</td><td>193</td></tr>",
                            "<tr><td>2017-02-04</td><td>RÉSZÖSSZEG</td><td>174</td></tr>",
                            "<tr><td>2017-02-05</td><td>RÉSZÖSSZEG</td><td>131</td></tr>",
                            "<tr><td>2017-02-06</td><td>RÉSZÖSSZEG</td><td>204</td></tr>",
                            "<tr><td>2017-02-07</td><td>RÉSZÖSSZEG</td><td>202</td></tr>",
                            "<tr><td>2017-02-08</td><td>RÉSZÖSSZEG</td><td>255</td></tr>",
                            "<tr><td>2017-02-09</td><td>RÉSZÖSSZEG</td><td>197</td></tr>",
                            "<tr><td>2017-02-10</td><td>RÉSZÖSSZEG</td><td>234</td></tr>",
                            "<tr><td>2017-02-11</td><td>RÉSZÖSSZEG</td><td>191</td></tr>",
                            "<tr><td>2017-02-12</td><td>RÉSZÖSSZEG</td><td>160</td></tr>",
                            "<tr><td>2017-02-13</td><td>RÉSZÖSSZEG</td><td>213</td></tr>",
                            "<tr><td>2017-02-14</td><td>RÉSZÖSSZEG</td><td>229</td></tr>",
                            "<tr><td>2017-02-15</td><td>RÉSZÖSSZEG</td><td>179</td></tr>",
                            "<tr><td>2017-02-16</td><td>RÉSZÖSSZEG</td><td>232</td></tr>",
                            "<tr><td>2017-02-17</td><td>RÉSZÖSSZEG</td><td>229</td></tr>",
                            "<tr><td>2017-02-18</td><td>RÉSZÖSSZEG</td><td>253</td></tr>",
                            "<tr><td>2017-02-19</td><td>RÉSZÖSSZEG</td><td>193</td></tr>",
                            "<tr><td>2017-02-20</td><td>RÉSZÖSSZEG</td><td>129</td></tr>",
                            "<tr><td>2017-02-21</td><td>RÉSZÖSSZEG</td><td>193</td></tr>",
                            "<tr><td>2017-02-22</td><td>RÉSZÖSSZEG</td><td>229</td></tr>",
                            "<tr><td>2017-02-23</td><td>RÉSZÖSSZEG</td><td>191</td></tr>",
                            "<tr><td>2017-02-24</td><td>RÉSZÖSSZEG</td><td>178</td></tr>",
                            "<tr><td>2017-02-25</td><td>RÉSZÖSSZEG</td><td>182</td></tr>",
                            "<tr><td>2017-02-26</td><td>RÉSZÖSSZEG</td><td>216</td></tr>",
                            "<tr><td>2017-02-27</td><td>RÉSZÖSSZEG</td><td>226</td></tr>",
                            "<tr><td>2017-02-28</td><td>RÉSZÖSSZEG</td><td>294</td></tr>",
                            "<tr><td>2017-03-01</td><td>RÉSZÖSSZEG</td><td>155</td></tr>",
                            "<tr><td>2017-03-02</td><td>RÉSZÖSSZEG</td><td>134</td></tr>",
                            "<tr><td>2017-03-03</td><td>RÉSZÖSSZEG</td><td>213</td></tr>",
                            "<tr><td>2017-03-04</td><td>RÉSZÖSSZEG</td><td>148</td></tr>",
                            "<tr><td>2017-03-05</td><td>RÉSZÖSSZEG</td><td>244</td></tr>",
                            "<tr><td>2017-03-06</td><td>RÉSZÖSSZEG</td><td>274</td></tr>",
                            "<tr><td>2017-03-07</td><td>RÉSZÖSSZEG</td><td>241</td></tr>",
                            "<tr><td>2017-03-08</td><td>RÉSZÖSSZEG</td><td>179</td></tr>",
                            "<tr><td>2017-03-09</td><td>RÉSZÖSSZEG</td><td>189</td></tr>",
                            "<tr><td>2017-03-10</td><td>RÉSZÖSSZEG</td><td>176</td></tr>",
                            "<tr><td>2017-03-11</td><td>RÉSZÖSSZEG</td><td>189</td></tr>",
                            "<tr><td>2017-03-12</td><td>RÉSZÖSSZEG</td><td>175</td></tr>",
                            "<tr><td>2017-03-13</td><td>RÉSZÖSSZEG</td><td>170</td></tr>",
                            "<tr><td>2017-03-14</td><td>RÉSZÖSSZEG</td><td>178</td></tr>",
                            "<tr><td>2017-03-15</td><td>RÉSZÖSSZEG</td><td>247</td></tr>",
                            "<tr><td>2017-03-16</td><td>RÉSZÖSSZEG</td><td>235</td></tr>",
                            "<tr><td>2017-03-17</td><td>RÉSZÖSSZEG</td><td>240</td></tr>",
                            "<tr><td>2017-03-18</td><td>RÉSZÖSSZEG</td><td>220</td></tr>",
                            "<tr><td>2017-03-19</td><td>RÉSZÖSSZEG</td><td>248</td></tr>",
                            "<tr><td>2017-03-20</td><td>RÉSZÖSSZEG</td><td>191</td></tr>",
                            "<tr><td>2017-03-21</td><td>RÉSZÖSSZEG</td><td>216</td></tr>",
                            "<tr><td>2017-03-22</td><td>RÉSZÖSSZEG</td><td>162</td></tr>",
                            "<tr><td>2017-03-23</td><td>RÉSZÖSSZEG</td><td>230</td></tr>",
                            "<tr><td>2017-03-24</td><td>RÉSZÖSSZEG</td><td>231</td></tr>",
                            "<tr><td>2017-03-25</td><td>RÉSZÖSSZEG</td><td>171</td></tr>",
                            "<tr><td>2017-03-26</td><td>RÉSZÖSSZEG</td><td>217</td></tr>",
                            "<tr><td>2017-03-27</td><td>RÉSZÖSSZEG</td><td>208</td></tr>",
                            "<tr><td>2017-03-28</td><td>RÉSZÖSSZEG</td><td>200</td></tr>",
                            "<tr><td>2017-03-29</td><td>RÉSZÖSSZEG</td><td>219</td></tr>",
                            "<tr><td>2017-03-30</td><td>RÉSZÖSSZEG</td><td>236</td></tr>",
                            "<tr><td>2017-03-31</td><td>RÉSZÖSSZEG</td><td>220</td></tr>",
                            "<tr><td>2017-04-01</td><td>RÉSZÖSSZEG</td><td>170</td></tr>",
                            "<tr><td>2017-04-02</td><td>RÉSZÖSSZEG</td><td>213</td></tr>",
                            "<tr><td>2017-04-03</td><td>RÉSZÖSSZEG</td><td>188</td></tr>",
                            "<tr><td>2017-04-04</td><td>RÉSZÖSSZEG</td><td>175</td></tr>",
                            "<tr><td>2017-04-05</td><td>RÉSZÖSSZEG</td><td>188</td></tr>",
                            "<tr><td>2017-04-06</td><td>RÉSZÖSSZEG</td><td>106</td></tr>",
                            "<tr><td>2017-04-07</td><td>RÉSZÖSSZEG</td><td>152</td></tr>",
                            "<tr><td>2017-04-08</td><td>RÉSZÖSSZEG</td><td>120</td></tr>",
                            "<tr><td>2017-04-09</td><td>RÉSZÖSSZEG</td><td>79</td></tr>",
                            "<tr><td>2017-04-10</td><td>RÉSZÖSSZEG</td><td>32</td></tr>",
                            "<tr><td>2017-04-11</td><td>RÉSZÖSSZEG</td><td>21</td></tr>",
                            "<tr><td>VÉGÖSSZEG</td><td>VÉGÖSSZEG</td><td>145706</td></tr>",
                            "</table>"
                        ]
                    }
                }
            ],
            "execution_count": 19
        },
        {
            "cell_type": "markdown",
            "source": [
                "```\n",
                "3. Hány olyan ügyfél van, aki még nem rendelt semmit?\n",
                "```\n",
                "\n",
                "1. Csoportosítsuk őket nem szerint, azon belül életkor szerint!\n",
                "2. A lista tartalmazza a részösszegeket és a végösszeget is!\n",
                "\n",
                "![](https://moodle.uni-corvinus.hu/theme/image.php/adaptable/atto_h5p/1709548862/icon)"
            ],
            "metadata": {
                "azdata_cell_guid": "d7876bb9-76d0-4d07-baed-3cb17b2f96c3"
            },
            "attachments": {}
        },
        {
            "cell_type": "code",
            "source": [
                "SELECT  NEM,\r\n",
                "        (YEAR(GETDATE())-SZULEV) AS 'Életkor',\r\n",
                "        COUNT(*) AS 'Mennyiség'\r\n",
                "FROM Ugyfel\r\n",
                "WHERE [LOGIN] NOT IN (\r\n",
                "    SELECT  [LOGIN]\r\n",
                "    FROM Rendeles\r\n",
                "    GROUP BY [LOGIN]\r\n",
                "    )\r\n",
                "GROUP BY ROLLUP(NEM, (YEAR(GETDATE())-SZULEV))"
            ],
            "metadata": {
                "azdata_cell_guid": "56ec19ce-e249-4551-b2a8-f17569765acc",
                "language": "sql"
            },
            "outputs": [
                {
                    "output_type": "display_data",
                    "data": {
                        "text/html": "(12 rows affected)"
                    },
                    "metadata": {}
                },
                {
                    "output_type": "display_data",
                    "data": {
                        "text/html": "Total execution time: 00:00:00.068"
                    },
                    "metadata": {}
                },
                {
                    "output_type": "execute_result",
                    "metadata": {},
                    "execution_count": 22,
                    "data": {
                        "application/vnd.dataresource+json": {
                            "schema": {
                                "fields": [
                                    {
                                        "name": "NEM"
                                    },
                                    {
                                        "name": "Életkor"
                                    },
                                    {
                                        "name": "Mennyiség"
                                    }
                                ]
                            },
                            "data": [
                                {
                                    "NEM": "F",
                                    "Életkor": "24",
                                    "Mennyiség": "1"
                                },
                                {
                                    "NEM": "F",
                                    "Életkor": "26",
                                    "Mennyiség": "1"
                                },
                                {
                                    "NEM": "F",
                                    "Életkor": "28",
                                    "Mennyiség": "1"
                                },
                                {
                                    "NEM": "F",
                                    "Életkor": "45",
                                    "Mennyiség": "1"
                                },
                                {
                                    "NEM": "F",
                                    "Életkor": "55",
                                    "Mennyiség": "1"
                                },
                                {
                                    "NEM": "F",
                                    "Életkor": "56",
                                    "Mennyiség": "1"
                                },
                                {
                                    "NEM": "F",
                                    "Életkor": "NULL",
                                    "Mennyiség": "6"
                                },
                                {
                                    "NEM": "N",
                                    "Életkor": "30",
                                    "Mennyiség": "1"
                                },
                                {
                                    "NEM": "N",
                                    "Életkor": "37",
                                    "Mennyiség": "1"
                                },
                                {
                                    "NEM": "N",
                                    "Életkor": "49",
                                    "Mennyiség": "1"
                                },
                                {
                                    "NEM": "N",
                                    "Életkor": "NULL",
                                    "Mennyiség": "3"
                                },
                                {
                                    "NEM": "NULL",
                                    "Életkor": "NULL",
                                    "Mennyiség": "9"
                                }
                            ]
                        },
                        "text/html": [
                            "<table>",
                            "<tr><th>NEM</th><th>Életkor</th><th>Mennyiség</th></tr>",
                            "<tr><td>F</td><td>24</td><td>1</td></tr>",
                            "<tr><td>F</td><td>26</td><td>1</td></tr>",
                            "<tr><td>F</td><td>28</td><td>1</td></tr>",
                            "<tr><td>F</td><td>45</td><td>1</td></tr>",
                            "<tr><td>F</td><td>55</td><td>1</td></tr>",
                            "<tr><td>F</td><td>56</td><td>1</td></tr>",
                            "<tr><td>F</td><td>NULL</td><td>6</td></tr>",
                            "<tr><td>N</td><td>30</td><td>1</td></tr>",
                            "<tr><td>N</td><td>37</td><td>1</td></tr>",
                            "<tr><td>N</td><td>49</td><td>1</td></tr>",
                            "<tr><td>N</td><td>NULL</td><td>3</td></tr>",
                            "<tr><td>NULL</td><td>NULL</td><td>9</td></tr>",
                            "</table>"
                        ]
                    }
                }
            ],
            "execution_count": 22
        },
        {
            "cell_type": "markdown",
            "source": [
                "4. <span style=\"color: rgb(36, 41, 47); font-family: -apple-system, BlinkMacSystemFont, &quot;Segoe UI&quot;, Helvetica, Arial, sans-serif, &quot;Apple Color Emoji&quot;, &quot;Segoe UI Emoji&quot;; font-size: 16px;\">Készítsünk listát a megrendelt termékek legkisebb és legnagyobb egységáráról szállítási dátum, azon belül szállítási mód szerinti bontásban!</span>\n",
                "\n",
                "1. A lista csak a 2015 májusi szállításokat tartalmazza!\n",
                "2. Jelenítsük meg a részösszegeket és a végösszeget is!"
            ],
            "metadata": {
                "azdata_cell_guid": "8e7fef82-8022-49a0-8255-fc2846c2134b"
            },
            "attachments": {}
        },
        {
            "cell_type": "code",
            "source": [
                "SELECT  r.SZALL_DATUM,\r\n",
                "        r.SZALL_MOD,\r\n",
                "        MIN(ren.EGYSEGAR) AS 'Min ár',\r\n",
                "        MAX(ren.EGYSEGAR) AS 'Max ár'\r\n",
                "FROM Rendeles r JOIN Rendeles_tetel ren ON r.SORSZAM = ren.SORSZAM\r\n",
                "WHERE r.SZALL_DATUM BETWEEN '2015.05.01' AND '2015.05.31'\r\n",
                "GROUP BY ROLLUP(SZALL_DATUM, SZALL_MOD)"
            ],
            "metadata": {
                "azdata_cell_guid": "36f7b396-4a1f-45e5-8720-2302537c91bc",
                "language": "sql"
            },
            "outputs": [
                {
                    "output_type": "display_data",
                    "data": {
                        "text/html": "(115 rows affected)"
                    },
                    "metadata": {}
                },
                {
                    "output_type": "display_data",
                    "data": {
                        "text/html": "Total execution time: 00:00:00.086"
                    },
                    "metadata": {}
                },
                {
                    "output_type": "execute_result",
                    "metadata": {},
                    "execution_count": 27,
                    "data": {
                        "application/vnd.dataresource+json": {
                            "schema": {
                                "fields": [
                                    {
                                        "name": "SZALL_DATUM"
                                    },
                                    {
                                        "name": "SZALL_MOD"
                                    },
                                    {
                                        "name": "Min ár"
                                    },
                                    {
                                        "name": "Max ár"
                                    }
                                ]
                            },
                            "data": [
                                {
                                    "SZALL_DATUM": "2015-05-03",
                                    "SZALL_MOD": "GLS",
                                    "Min ár": "17",
                                    "Max ár": "400"
                                },
                                {
                                    "SZALL_DATUM": "2015-05-03",
                                    "SZALL_MOD": "NULL",
                                    "Min ár": "17",
                                    "Max ár": "400"
                                },
                                {
                                    "SZALL_DATUM": "2015-05-04",
                                    "SZALL_MOD": "GLS",
                                    "Min ár": "9",
                                    "Max ár": "1251"
                                },
                                {
                                    "SZALL_DATUM": "2015-05-04",
                                    "SZALL_MOD": "Posta",
                                    "Min ár": "12",
                                    "Max ár": "15363"
                                },
                                {
                                    "SZALL_DATUM": "2015-05-04",
                                    "SZALL_MOD": "Személyes átvétel",
                                    "Min ár": "23",
                                    "Max ár": "15363"
                                },
                                {
                                    "SZALL_DATUM": "2015-05-04",
                                    "SZALL_MOD": "NULL",
                                    "Min ár": "9",
                                    "Max ár": "15363"
                                },
                                {
                                    "SZALL_DATUM": "2015-05-05",
                                    "SZALL_MOD": "GLS",
                                    "Min ár": "18",
                                    "Max ár": "29090"
                                },
                                {
                                    "SZALL_DATUM": "2015-05-05",
                                    "SZALL_MOD": "Posta",
                                    "Min ár": "10",
                                    "Max ár": "29090"
                                },
                                {
                                    "SZALL_DATUM": "2015-05-05",
                                    "SZALL_MOD": "Személyes átvétel",
                                    "Min ár": "11",
                                    "Max ár": "366"
                                },
                                {
                                    "SZALL_DATUM": "2015-05-05",
                                    "SZALL_MOD": "NULL",
                                    "Min ár": "10",
                                    "Max ár": "29090"
                                },
                                {
                                    "SZALL_DATUM": "2015-05-06",
                                    "SZALL_MOD": "GLS",
                                    "Min ár": "7",
                                    "Max ár": "35454"
                                },
                                {
                                    "SZALL_DATUM": "2015-05-06",
                                    "SZALL_MOD": "Posta",
                                    "Min ár": "8",
                                    "Max ár": "702"
                                },
                                {
                                    "SZALL_DATUM": "2015-05-06",
                                    "SZALL_MOD": "Személyes átvétel",
                                    "Min ár": "2",
                                    "Max ár": "41818"
                                },
                                {
                                    "SZALL_DATUM": "2015-05-06",
                                    "SZALL_MOD": "NULL",
                                    "Min ár": "2",
                                    "Max ár": "41818"
                                },
                                {
                                    "SZALL_DATUM": "2015-05-07",
                                    "SZALL_MOD": "GLS",
                                    "Min ár": "3",
                                    "Max ár": "41818"
                                },
                                {
                                    "SZALL_DATUM": "2015-05-07",
                                    "SZALL_MOD": "Posta",
                                    "Min ár": "12",
                                    "Max ár": "394"
                                },
                                {
                                    "SZALL_DATUM": "2015-05-07",
                                    "SZALL_MOD": "Személyes átvétel",
                                    "Min ár": "2",
                                    "Max ár": "1604"
                                },
                                {
                                    "SZALL_DATUM": "2015-05-07",
                                    "SZALL_MOD": "NULL",
                                    "Min ár": "2",
                                    "Max ár": "41818"
                                },
                                {
                                    "SZALL_DATUM": "2015-05-08",
                                    "SZALL_MOD": "GLS",
                                    "Min ár": "2",
                                    "Max ár": "15363"
                                },
                                {
                                    "SZALL_DATUM": "2015-05-08",
                                    "SZALL_MOD": "Posta",
                                    "Min ár": "12",
                                    "Max ár": "35454"
                                },
                                {
                                    "SZALL_DATUM": "2015-05-08",
                                    "SZALL_MOD": "Személyes átvétel",
                                    "Min ár": "5",
                                    "Max ár": "41818"
                                },
                                {
                                    "SZALL_DATUM": "2015-05-08",
                                    "SZALL_MOD": "NULL",
                                    "Min ár": "2",
                                    "Max ár": "41818"
                                },
                                {
                                    "SZALL_DATUM": "2015-05-09",
                                    "SZALL_MOD": "GLS",
                                    "Min ár": "7",
                                    "Max ár": "12954"
                                },
                                {
                                    "SZALL_DATUM": "2015-05-09",
                                    "SZALL_MOD": "Posta",
                                    "Min ár": "13",
                                    "Max ár": "1604"
                                },
                                {
                                    "SZALL_DATUM": "2015-05-09",
                                    "SZALL_MOD": "Személyes átvétel",
                                    "Min ár": "2",
                                    "Max ár": "41818"
                                },
                                {
                                    "SZALL_DATUM": "2015-05-09",
                                    "SZALL_MOD": "NULL",
                                    "Min ár": "2",
                                    "Max ár": "41818"
                                },
                                {
                                    "SZALL_DATUM": "2015-05-10",
                                    "SZALL_MOD": "GLS",
                                    "Min ár": "10",
                                    "Max ár": "35454"
                                },
                                {
                                    "SZALL_DATUM": "2015-05-10",
                                    "SZALL_MOD": "Posta",
                                    "Min ár": "5",
                                    "Max ár": "29090"
                                },
                                {
                                    "SZALL_DATUM": "2015-05-10",
                                    "SZALL_MOD": "Személyes átvétel",
                                    "Min ár": "0",
                                    "Max ár": "789"
                                },
                                {
                                    "SZALL_DATUM": "2015-05-10",
                                    "SZALL_MOD": "NULL",
                                    "Min ár": "0",
                                    "Max ár": "35454"
                                },
                                {
                                    "SZALL_DATUM": "2015-05-11",
                                    "SZALL_MOD": "GLS",
                                    "Min ár": "7",
                                    "Max ár": "41818"
                                },
                                {
                                    "SZALL_DATUM": "2015-05-11",
                                    "SZALL_MOD": "Posta",
                                    "Min ár": "2",
                                    "Max ár": "29090"
                                },
                                {
                                    "SZALL_DATUM": "2015-05-11",
                                    "SZALL_MOD": "Személyes átvétel",
                                    "Min ár": "8",
                                    "Max ár": "35454"
                                },
                                {
                                    "SZALL_DATUM": "2015-05-11",
                                    "SZALL_MOD": "NULL",
                                    "Min ár": "2",
                                    "Max ár": "41818"
                                },
                                {
                                    "SZALL_DATUM": "2015-05-12",
                                    "SZALL_MOD": "GLS",
                                    "Min ár": "7",
                                    "Max ár": "6272"
                                },
                                {
                                    "SZALL_DATUM": "2015-05-12",
                                    "SZALL_MOD": "Posta",
                                    "Min ár": "0",
                                    "Max ár": "41818"
                                },
                                {
                                    "SZALL_DATUM": "2015-05-12",
                                    "SZALL_MOD": "Személyes átvétel",
                                    "Min ár": "7",
                                    "Max ár": "35454"
                                },
                                {
                                    "SZALL_DATUM": "2015-05-12",
                                    "SZALL_MOD": "NULL",
                                    "Min ár": "0",
                                    "Max ár": "41818"
                                },
                                {
                                    "SZALL_DATUM": "2015-05-13",
                                    "SZALL_MOD": "GLS",
                                    "Min ár": "17",
                                    "Max ár": "15363"
                                },
                                {
                                    "SZALL_DATUM": "2015-05-13",
                                    "SZALL_MOD": "Posta",
                                    "Min ár": "0",
                                    "Max ár": "41818"
                                },
                                {
                                    "SZALL_DATUM": "2015-05-13",
                                    "SZALL_MOD": "Személyes átvétel",
                                    "Min ár": "5",
                                    "Max ár": "29090"
                                },
                                {
                                    "SZALL_DATUM": "2015-05-13",
                                    "SZALL_MOD": "NULL",
                                    "Min ár": "0",
                                    "Max ár": "41818"
                                },
                                {
                                    "SZALL_DATUM": "2015-05-14",
                                    "SZALL_MOD": "GLS",
                                    "Min ár": "2",
                                    "Max ár": "41818"
                                },
                                {
                                    "SZALL_DATUM": "2015-05-14",
                                    "SZALL_MOD": "Posta",
                                    "Min ár": "3",
                                    "Max ár": "41818"
                                },
                                {
                                    "SZALL_DATUM": "2015-05-14",
                                    "SZALL_MOD": "Személyes átvétel",
                                    "Min ár": "0",
                                    "Max ár": "41818"
                                },
                                {
                                    "SZALL_DATUM": "2015-05-14",
                                    "SZALL_MOD": "NULL",
                                    "Min ár": "0",
                                    "Max ár": "41818"
                                },
                                {
                                    "SZALL_DATUM": "2015-05-15",
                                    "SZALL_MOD": "GLS",
                                    "Min ár": "5",
                                    "Max ár": "15363"
                                },
                                {
                                    "SZALL_DATUM": "2015-05-15",
                                    "SZALL_MOD": "Posta",
                                    "Min ár": "5",
                                    "Max ár": "15363"
                                },
                                {
                                    "SZALL_DATUM": "2015-05-15",
                                    "SZALL_MOD": "Személyes átvétel",
                                    "Min ár": "2",
                                    "Max ár": "41818"
                                },
                                {
                                    "SZALL_DATUM": "2015-05-15",
                                    "SZALL_MOD": "NULL",
                                    "Min ár": "2",
                                    "Max ár": "41818"
                                },
                                {
                                    "SZALL_DATUM": "2015-05-16",
                                    "SZALL_MOD": "GLS",
                                    "Min ár": "7",
                                    "Max ár": "41818"
                                },
                                {
                                    "SZALL_DATUM": "2015-05-16",
                                    "SZALL_MOD": "Posta",
                                    "Min ár": "8",
                                    "Max ár": "35454"
                                },
                                {
                                    "SZALL_DATUM": "2015-05-16",
                                    "SZALL_MOD": "Személyes átvétel",
                                    "Min ár": "2",
                                    "Max ár": "29090"
                                },
                                {
                                    "SZALL_DATUM": "2015-05-16",
                                    "SZALL_MOD": "NULL",
                                    "Min ár": "2",
                                    "Max ár": "41818"
                                },
                                {
                                    "SZALL_DATUM": "2015-05-17",
                                    "SZALL_MOD": "GLS",
                                    "Min ár": "2",
                                    "Max ár": "29090"
                                },
                                {
                                    "SZALL_DATUM": "2015-05-17",
                                    "SZALL_MOD": "Posta",
                                    "Min ár": "23",
                                    "Max ár": "35454"
                                },
                                {
                                    "SZALL_DATUM": "2015-05-17",
                                    "SZALL_MOD": "Személyes átvétel",
                                    "Min ár": "13",
                                    "Max ár": "35454"
                                },
                                {
                                    "SZALL_DATUM": "2015-05-17",
                                    "SZALL_MOD": "NULL",
                                    "Min ár": "2",
                                    "Max ár": "35454"
                                },
                                {
                                    "SZALL_DATUM": "2015-05-18",
                                    "SZALL_MOD": "GLS",
                                    "Min ár": "7",
                                    "Max ár": "35454"
                                },
                                {
                                    "SZALL_DATUM": "2015-05-18",
                                    "SZALL_MOD": "Posta",
                                    "Min ár": "12",
                                    "Max ár": "41818"
                                },
                                {
                                    "SZALL_DATUM": "2015-05-18",
                                    "SZALL_MOD": "Személyes átvétel",
                                    "Min ár": "3",
                                    "Max ár": "41818"
                                },
                                {
                                    "SZALL_DATUM": "2015-05-18",
                                    "SZALL_MOD": "NULL",
                                    "Min ár": "3",
                                    "Max ár": "41818"
                                },
                                {
                                    "SZALL_DATUM": "2015-05-19",
                                    "SZALL_MOD": "GLS",
                                    "Min ár": "5",
                                    "Max ár": "41818"
                                },
                                {
                                    "SZALL_DATUM": "2015-05-19",
                                    "SZALL_MOD": "Posta",
                                    "Min ár": "13",
                                    "Max ár": "41818"
                                },
                                {
                                    "SZALL_DATUM": "2015-05-19",
                                    "SZALL_MOD": "Személyes átvétel",
                                    "Min ár": "7",
                                    "Max ár": "12954"
                                },
                                {
                                    "SZALL_DATUM": "2015-05-19",
                                    "SZALL_MOD": "NULL",
                                    "Min ár": "5",
                                    "Max ár": "41818"
                                },
                                {
                                    "SZALL_DATUM": "2015-05-20",
                                    "SZALL_MOD": "GLS",
                                    "Min ár": "5",
                                    "Max ár": "41818"
                                },
                                {
                                    "SZALL_DATUM": "2015-05-20",
                                    "SZALL_MOD": "Posta",
                                    "Min ár": "7",
                                    "Max ár": "1251"
                                },
                                {
                                    "SZALL_DATUM": "2015-05-20",
                                    "SZALL_MOD": "Személyes átvétel",
                                    "Min ár": "7",
                                    "Max ár": "41818"
                                },
                                {
                                    "SZALL_DATUM": "2015-05-20",
                                    "SZALL_MOD": "NULL",
                                    "Min ár": "5",
                                    "Max ár": "41818"
                                },
                                {
                                    "SZALL_DATUM": "2015-05-21",
                                    "SZALL_MOD": "GLS",
                                    "Min ár": "9",
                                    "Max ár": "10818"
                                },
                                {
                                    "SZALL_DATUM": "2015-05-21",
                                    "SZALL_MOD": "Posta",
                                    "Min ár": "3",
                                    "Max ár": "15363"
                                },
                                {
                                    "SZALL_DATUM": "2015-05-21",
                                    "SZALL_MOD": "Személyes átvétel",
                                    "Min ár": "2",
                                    "Max ár": "29090"
                                },
                                {
                                    "SZALL_DATUM": "2015-05-21",
                                    "SZALL_MOD": "NULL",
                                    "Min ár": "2",
                                    "Max ár": "29090"
                                },
                                {
                                    "SZALL_DATUM": "2015-05-22",
                                    "SZALL_MOD": "GLS",
                                    "Min ár": "0",
                                    "Max ár": "41818"
                                },
                                {
                                    "SZALL_DATUM": "2015-05-22",
                                    "SZALL_MOD": "Posta",
                                    "Min ár": "2",
                                    "Max ár": "21818"
                                },
                                {
                                    "SZALL_DATUM": "2015-05-22",
                                    "SZALL_MOD": "Személyes átvétel",
                                    "Min ár": "4",
                                    "Max ár": "29090"
                                },
                                {
                                    "SZALL_DATUM": "2015-05-22",
                                    "SZALL_MOD": "NULL",
                                    "Min ár": "0",
                                    "Max ár": "41818"
                                },
                                {
                                    "SZALL_DATUM": "2015-05-23",
                                    "SZALL_MOD": "GLS",
                                    "Min ár": "0",
                                    "Max ár": "35454"
                                },
                                {
                                    "SZALL_DATUM": "2015-05-23",
                                    "SZALL_MOD": "Posta",
                                    "Min ár": "0",
                                    "Max ár": "990"
                                },
                                {
                                    "SZALL_DATUM": "2015-05-23",
                                    "SZALL_MOD": "Személyes átvétel",
                                    "Min ár": "9",
                                    "Max ár": "15363"
                                },
                                {
                                    "SZALL_DATUM": "2015-05-23",
                                    "SZALL_MOD": "NULL",
                                    "Min ár": "0",
                                    "Max ár": "35454"
                                },
                                {
                                    "SZALL_DATUM": "2015-05-24",
                                    "SZALL_MOD": "GLS",
                                    "Min ár": "5",
                                    "Max ár": "35454"
                                },
                                {
                                    "SZALL_DATUM": "2015-05-24",
                                    "SZALL_MOD": "Posta",
                                    "Min ár": "5",
                                    "Max ár": "41818"
                                },
                                {
                                    "SZALL_DATUM": "2015-05-24",
                                    "SZALL_MOD": "Személyes átvétel",
                                    "Min ár": "8",
                                    "Max ár": "35454"
                                },
                                {
                                    "SZALL_DATUM": "2015-05-24",
                                    "SZALL_MOD": "NULL",
                                    "Min ár": "5",
                                    "Max ár": "41818"
                                },
                                {
                                    "SZALL_DATUM": "2015-05-25",
                                    "SZALL_MOD": "GLS",
                                    "Min ár": "0",
                                    "Max ár": "1042"
                                },
                                {
                                    "SZALL_DATUM": "2015-05-25",
                                    "SZALL_MOD": "Posta",
                                    "Min ár": "27",
                                    "Max ár": "10818"
                                },
                                {
                                    "SZALL_DATUM": "2015-05-25",
                                    "SZALL_MOD": "Személyes átvétel",
                                    "Min ár": "3",
                                    "Max ár": "41818"
                                },
                                {
                                    "SZALL_DATUM": "2015-05-25",
                                    "SZALL_MOD": "NULL",
                                    "Min ár": "0",
                                    "Max ár": "41818"
                                },
                                {
                                    "SZALL_DATUM": "2015-05-26",
                                    "SZALL_MOD": "GLS",
                                    "Min ár": "2",
                                    "Max ár": "35454"
                                },
                                {
                                    "SZALL_DATUM": "2015-05-26",
                                    "SZALL_MOD": "Posta",
                                    "Min ár": "17",
                                    "Max ár": "7272"
                                },
                                {
                                    "SZALL_DATUM": "2015-05-26",
                                    "SZALL_MOD": "Személyes átvétel",
                                    "Min ár": "2",
                                    "Max ár": "29090"
                                },
                                {
                                    "SZALL_DATUM": "2015-05-26",
                                    "SZALL_MOD": "NULL",
                                    "Min ár": "2",
                                    "Max ár": "35454"
                                },
                                {
                                    "SZALL_DATUM": "2015-05-27",
                                    "SZALL_MOD": "GLS",
                                    "Min ár": "2",
                                    "Max ár": "41818"
                                },
                                {
                                    "SZALL_DATUM": "2015-05-27",
                                    "SZALL_MOD": "Posta",
                                    "Min ár": "7",
                                    "Max ár": "41818"
                                },
                                {
                                    "SZALL_DATUM": "2015-05-27",
                                    "SZALL_MOD": "Személyes átvétel",
                                    "Min ár": "2",
                                    "Max ár": "41818"
                                },
                                {
                                    "SZALL_DATUM": "2015-05-27",
                                    "SZALL_MOD": "NULL",
                                    "Min ár": "2",
                                    "Max ár": "41818"
                                },
                                {
                                    "SZALL_DATUM": "2015-05-28",
                                    "SZALL_MOD": "GLS",
                                    "Min ár": "2",
                                    "Max ár": "41818"
                                },
                                {
                                    "SZALL_DATUM": "2015-05-28",
                                    "SZALL_MOD": "Posta",
                                    "Min ár": "12",
                                    "Max ár": "35454"
                                },
                                {
                                    "SZALL_DATUM": "2015-05-28",
                                    "SZALL_MOD": "Személyes átvétel",
                                    "Min ár": "5",
                                    "Max ár": "41818"
                                },
                                {
                                    "SZALL_DATUM": "2015-05-28",
                                    "SZALL_MOD": "NULL",
                                    "Min ár": "2",
                                    "Max ár": "41818"
                                },
                                {
                                    "SZALL_DATUM": "2015-05-29",
                                    "SZALL_MOD": "GLS",
                                    "Min ár": "3",
                                    "Max ár": "21818"
                                },
                                {
                                    "SZALL_DATUM": "2015-05-29",
                                    "SZALL_MOD": "Posta",
                                    "Min ár": "2",
                                    "Max ár": "21818"
                                },
                                {
                                    "SZALL_DATUM": "2015-05-29",
                                    "SZALL_MOD": "Személyes átvétel",
                                    "Min ár": "3",
                                    "Max ár": "41818"
                                },
                                {
                                    "SZALL_DATUM": "2015-05-29",
                                    "SZALL_MOD": "NULL",
                                    "Min ár": "2",
                                    "Max ár": "41818"
                                },
                                {
                                    "SZALL_DATUM": "2015-05-30",
                                    "SZALL_MOD": "GLS",
                                    "Min ár": "4",
                                    "Max ár": "35454"
                                },
                                {
                                    "SZALL_DATUM": "2015-05-30",
                                    "SZALL_MOD": "Posta",
                                    "Min ár": "2",
                                    "Max ár": "990"
                                },
                                {
                                    "SZALL_DATUM": "2015-05-30",
                                    "SZALL_MOD": "Személyes átvétel",
                                    "Min ár": "3",
                                    "Max ár": "41818"
                                },
                                {
                                    "SZALL_DATUM": "2015-05-30",
                                    "SZALL_MOD": "NULL",
                                    "Min ár": "2",
                                    "Max ár": "41818"
                                },
                                {
                                    "SZALL_DATUM": "2015-05-31",
                                    "SZALL_MOD": "GLS",
                                    "Min ár": "16",
                                    "Max ár": "35454"
                                },
                                {
                                    "SZALL_DATUM": "2015-05-31",
                                    "SZALL_MOD": "Posta",
                                    "Min ár": "13",
                                    "Max ár": "12954"
                                },
                                {
                                    "SZALL_DATUM": "2015-05-31",
                                    "SZALL_MOD": "Személyes átvétel",
                                    "Min ár": "13",
                                    "Max ár": "35454"
                                },
                                {
                                    "SZALL_DATUM": "2015-05-31",
                                    "SZALL_MOD": "NULL",
                                    "Min ár": "13",
                                    "Max ár": "35454"
                                },
                                {
                                    "SZALL_DATUM": "NULL",
                                    "SZALL_MOD": "NULL",
                                    "Min ár": "0",
                                    "Max ár": "41818"
                                }
                            ]
                        },
                        "text/html": [
                            "<table>",
                            "<tr><th>SZALL_DATUM</th><th>SZALL_MOD</th><th>Min ár</th><th>Max ár</th></tr>",
                            "<tr><td>2015-05-03</td><td>GLS</td><td>17</td><td>400</td></tr>",
                            "<tr><td>2015-05-03</td><td>NULL</td><td>17</td><td>400</td></tr>",
                            "<tr><td>2015-05-04</td><td>GLS</td><td>9</td><td>1251</td></tr>",
                            "<tr><td>2015-05-04</td><td>Posta</td><td>12</td><td>15363</td></tr>",
                            "<tr><td>2015-05-04</td><td>Személyes átvétel</td><td>23</td><td>15363</td></tr>",
                            "<tr><td>2015-05-04</td><td>NULL</td><td>9</td><td>15363</td></tr>",
                            "<tr><td>2015-05-05</td><td>GLS</td><td>18</td><td>29090</td></tr>",
                            "<tr><td>2015-05-05</td><td>Posta</td><td>10</td><td>29090</td></tr>",
                            "<tr><td>2015-05-05</td><td>Személyes átvétel</td><td>11</td><td>366</td></tr>",
                            "<tr><td>2015-05-05</td><td>NULL</td><td>10</td><td>29090</td></tr>",
                            "<tr><td>2015-05-06</td><td>GLS</td><td>7</td><td>35454</td></tr>",
                            "<tr><td>2015-05-06</td><td>Posta</td><td>8</td><td>702</td></tr>",
                            "<tr><td>2015-05-06</td><td>Személyes átvétel</td><td>2</td><td>41818</td></tr>",
                            "<tr><td>2015-05-06</td><td>NULL</td><td>2</td><td>41818</td></tr>",
                            "<tr><td>2015-05-07</td><td>GLS</td><td>3</td><td>41818</td></tr>",
                            "<tr><td>2015-05-07</td><td>Posta</td><td>12</td><td>394</td></tr>",
                            "<tr><td>2015-05-07</td><td>Személyes átvétel</td><td>2</td><td>1604</td></tr>",
                            "<tr><td>2015-05-07</td><td>NULL</td><td>2</td><td>41818</td></tr>",
                            "<tr><td>2015-05-08</td><td>GLS</td><td>2</td><td>15363</td></tr>",
                            "<tr><td>2015-05-08</td><td>Posta</td><td>12</td><td>35454</td></tr>",
                            "<tr><td>2015-05-08</td><td>Személyes átvétel</td><td>5</td><td>41818</td></tr>",
                            "<tr><td>2015-05-08</td><td>NULL</td><td>2</td><td>41818</td></tr>",
                            "<tr><td>2015-05-09</td><td>GLS</td><td>7</td><td>12954</td></tr>",
                            "<tr><td>2015-05-09</td><td>Posta</td><td>13</td><td>1604</td></tr>",
                            "<tr><td>2015-05-09</td><td>Személyes átvétel</td><td>2</td><td>41818</td></tr>",
                            "<tr><td>2015-05-09</td><td>NULL</td><td>2</td><td>41818</td></tr>",
                            "<tr><td>2015-05-10</td><td>GLS</td><td>10</td><td>35454</td></tr>",
                            "<tr><td>2015-05-10</td><td>Posta</td><td>5</td><td>29090</td></tr>",
                            "<tr><td>2015-05-10</td><td>Személyes átvétel</td><td>0</td><td>789</td></tr>",
                            "<tr><td>2015-05-10</td><td>NULL</td><td>0</td><td>35454</td></tr>",
                            "<tr><td>2015-05-11</td><td>GLS</td><td>7</td><td>41818</td></tr>",
                            "<tr><td>2015-05-11</td><td>Posta</td><td>2</td><td>29090</td></tr>",
                            "<tr><td>2015-05-11</td><td>Személyes átvétel</td><td>8</td><td>35454</td></tr>",
                            "<tr><td>2015-05-11</td><td>NULL</td><td>2</td><td>41818</td></tr>",
                            "<tr><td>2015-05-12</td><td>GLS</td><td>7</td><td>6272</td></tr>",
                            "<tr><td>2015-05-12</td><td>Posta</td><td>0</td><td>41818</td></tr>",
                            "<tr><td>2015-05-12</td><td>Személyes átvétel</td><td>7</td><td>35454</td></tr>",
                            "<tr><td>2015-05-12</td><td>NULL</td><td>0</td><td>41818</td></tr>",
                            "<tr><td>2015-05-13</td><td>GLS</td><td>17</td><td>15363</td></tr>",
                            "<tr><td>2015-05-13</td><td>Posta</td><td>0</td><td>41818</td></tr>",
                            "<tr><td>2015-05-13</td><td>Személyes átvétel</td><td>5</td><td>29090</td></tr>",
                            "<tr><td>2015-05-13</td><td>NULL</td><td>0</td><td>41818</td></tr>",
                            "<tr><td>2015-05-14</td><td>GLS</td><td>2</td><td>41818</td></tr>",
                            "<tr><td>2015-05-14</td><td>Posta</td><td>3</td><td>41818</td></tr>",
                            "<tr><td>2015-05-14</td><td>Személyes átvétel</td><td>0</td><td>41818</td></tr>",
                            "<tr><td>2015-05-14</td><td>NULL</td><td>0</td><td>41818</td></tr>",
                            "<tr><td>2015-05-15</td><td>GLS</td><td>5</td><td>15363</td></tr>",
                            "<tr><td>2015-05-15</td><td>Posta</td><td>5</td><td>15363</td></tr>",
                            "<tr><td>2015-05-15</td><td>Személyes átvétel</td><td>2</td><td>41818</td></tr>",
                            "<tr><td>2015-05-15</td><td>NULL</td><td>2</td><td>41818</td></tr>",
                            "<tr><td>2015-05-16</td><td>GLS</td><td>7</td><td>41818</td></tr>",
                            "<tr><td>2015-05-16</td><td>Posta</td><td>8</td><td>35454</td></tr>",
                            "<tr><td>2015-05-16</td><td>Személyes átvétel</td><td>2</td><td>29090</td></tr>",
                            "<tr><td>2015-05-16</td><td>NULL</td><td>2</td><td>41818</td></tr>",
                            "<tr><td>2015-05-17</td><td>GLS</td><td>2</td><td>29090</td></tr>",
                            "<tr><td>2015-05-17</td><td>Posta</td><td>23</td><td>35454</td></tr>",
                            "<tr><td>2015-05-17</td><td>Személyes átvétel</td><td>13</td><td>35454</td></tr>",
                            "<tr><td>2015-05-17</td><td>NULL</td><td>2</td><td>35454</td></tr>",
                            "<tr><td>2015-05-18</td><td>GLS</td><td>7</td><td>35454</td></tr>",
                            "<tr><td>2015-05-18</td><td>Posta</td><td>12</td><td>41818</td></tr>",
                            "<tr><td>2015-05-18</td><td>Személyes átvétel</td><td>3</td><td>41818</td></tr>",
                            "<tr><td>2015-05-18</td><td>NULL</td><td>3</td><td>41818</td></tr>",
                            "<tr><td>2015-05-19</td><td>GLS</td><td>5</td><td>41818</td></tr>",
                            "<tr><td>2015-05-19</td><td>Posta</td><td>13</td><td>41818</td></tr>",
                            "<tr><td>2015-05-19</td><td>Személyes átvétel</td><td>7</td><td>12954</td></tr>",
                            "<tr><td>2015-05-19</td><td>NULL</td><td>5</td><td>41818</td></tr>",
                            "<tr><td>2015-05-20</td><td>GLS</td><td>5</td><td>41818</td></tr>",
                            "<tr><td>2015-05-20</td><td>Posta</td><td>7</td><td>1251</td></tr>",
                            "<tr><td>2015-05-20</td><td>Személyes átvétel</td><td>7</td><td>41818</td></tr>",
                            "<tr><td>2015-05-20</td><td>NULL</td><td>5</td><td>41818</td></tr>",
                            "<tr><td>2015-05-21</td><td>GLS</td><td>9</td><td>10818</td></tr>",
                            "<tr><td>2015-05-21</td><td>Posta</td><td>3</td><td>15363</td></tr>",
                            "<tr><td>2015-05-21</td><td>Személyes átvétel</td><td>2</td><td>29090</td></tr>",
                            "<tr><td>2015-05-21</td><td>NULL</td><td>2</td><td>29090</td></tr>",
                            "<tr><td>2015-05-22</td><td>GLS</td><td>0</td><td>41818</td></tr>",
                            "<tr><td>2015-05-22</td><td>Posta</td><td>2</td><td>21818</td></tr>",
                            "<tr><td>2015-05-22</td><td>Személyes átvétel</td><td>4</td><td>29090</td></tr>",
                            "<tr><td>2015-05-22</td><td>NULL</td><td>0</td><td>41818</td></tr>",
                            "<tr><td>2015-05-23</td><td>GLS</td><td>0</td><td>35454</td></tr>",
                            "<tr><td>2015-05-23</td><td>Posta</td><td>0</td><td>990</td></tr>",
                            "<tr><td>2015-05-23</td><td>Személyes átvétel</td><td>9</td><td>15363</td></tr>",
                            "<tr><td>2015-05-23</td><td>NULL</td><td>0</td><td>35454</td></tr>",
                            "<tr><td>2015-05-24</td><td>GLS</td><td>5</td><td>35454</td></tr>",
                            "<tr><td>2015-05-24</td><td>Posta</td><td>5</td><td>41818</td></tr>",
                            "<tr><td>2015-05-24</td><td>Személyes átvétel</td><td>8</td><td>35454</td></tr>",
                            "<tr><td>2015-05-24</td><td>NULL</td><td>5</td><td>41818</td></tr>",
                            "<tr><td>2015-05-25</td><td>GLS</td><td>0</td><td>1042</td></tr>",
                            "<tr><td>2015-05-25</td><td>Posta</td><td>27</td><td>10818</td></tr>",
                            "<tr><td>2015-05-25</td><td>Személyes átvétel</td><td>3</td><td>41818</td></tr>",
                            "<tr><td>2015-05-25</td><td>NULL</td><td>0</td><td>41818</td></tr>",
                            "<tr><td>2015-05-26</td><td>GLS</td><td>2</td><td>35454</td></tr>",
                            "<tr><td>2015-05-26</td><td>Posta</td><td>17</td><td>7272</td></tr>",
                            "<tr><td>2015-05-26</td><td>Személyes átvétel</td><td>2</td><td>29090</td></tr>",
                            "<tr><td>2015-05-26</td><td>NULL</td><td>2</td><td>35454</td></tr>",
                            "<tr><td>2015-05-27</td><td>GLS</td><td>2</td><td>41818</td></tr>",
                            "<tr><td>2015-05-27</td><td>Posta</td><td>7</td><td>41818</td></tr>",
                            "<tr><td>2015-05-27</td><td>Személyes átvétel</td><td>2</td><td>41818</td></tr>",
                            "<tr><td>2015-05-27</td><td>NULL</td><td>2</td><td>41818</td></tr>",
                            "<tr><td>2015-05-28</td><td>GLS</td><td>2</td><td>41818</td></tr>",
                            "<tr><td>2015-05-28</td><td>Posta</td><td>12</td><td>35454</td></tr>",
                            "<tr><td>2015-05-28</td><td>Személyes átvétel</td><td>5</td><td>41818</td></tr>",
                            "<tr><td>2015-05-28</td><td>NULL</td><td>2</td><td>41818</td></tr>",
                            "<tr><td>2015-05-29</td><td>GLS</td><td>3</td><td>21818</td></tr>",
                            "<tr><td>2015-05-29</td><td>Posta</td><td>2</td><td>21818</td></tr>",
                            "<tr><td>2015-05-29</td><td>Személyes átvétel</td><td>3</td><td>41818</td></tr>",
                            "<tr><td>2015-05-29</td><td>NULL</td><td>2</td><td>41818</td></tr>",
                            "<tr><td>2015-05-30</td><td>GLS</td><td>4</td><td>35454</td></tr>",
                            "<tr><td>2015-05-30</td><td>Posta</td><td>2</td><td>990</td></tr>",
                            "<tr><td>2015-05-30</td><td>Személyes átvétel</td><td>3</td><td>41818</td></tr>",
                            "<tr><td>2015-05-30</td><td>NULL</td><td>2</td><td>41818</td></tr>",
                            "<tr><td>2015-05-31</td><td>GLS</td><td>16</td><td>35454</td></tr>",
                            "<tr><td>2015-05-31</td><td>Posta</td><td>13</td><td>12954</td></tr>",
                            "<tr><td>2015-05-31</td><td>Személyes átvétel</td><td>13</td><td>35454</td></tr>",
                            "<tr><td>2015-05-31</td><td>NULL</td><td>13</td><td>35454</td></tr>",
                            "<tr><td>NULL</td><td>NULL</td><td>0</td><td>41818</td></tr>",
                            "</table>"
                        ]
                    }
                }
            ],
            "execution_count": 27
        },
        {
            "cell_type": "markdown",
            "source": [
                "5. <span style=\"color: rgb(36, 41, 47); font-family: -apple-system, BlinkMacSystemFont, &quot;Segoe UI&quot;, Helvetica, Arial, sans-serif, &quot;Apple Color Emoji&quot;, &quot;Segoe UI Emoji&quot;; font-size: 16px;\">Készítsünk csoportot a termékek listaára alapján a következők szerint:&nbsp;<br></span> <span style=\"color: rgb(36, 41, 47); font-family: -apple-system, BlinkMacSystemFont, &quot;Segoe UI&quot;, Helvetica, Arial, sans-serif, &quot;Apple Color Emoji&quot;, &quot;Segoe UI Emoji&quot;; font-size: 16px;\">Az \"olcsó\" termékek legyenek azok, amelyek listaára 3000 alatt van.<br>&nbsp;A \"drága\" termékek legyenek az 5000 felettiek, a többi legyen \"közepes\".</span>\n",
                "\n",
                "1. Listázzuk az egyes csoportokat, és a csoportokba tartozó termékek darabszámát!\n",
                "2. A lista jelenítse meg a végösszeget is!"
            ],
            "metadata": {
                "azdata_cell_guid": "84239ca2-6b5e-49f5-9860-d44c11d6de32"
            },
            "attachments": {}
        },
        {
            "cell_type": "code",
            "source": [
                "SELECT  CASE\r\n",
                "            WHEN LISTAAR < 3000 THEN 'Olcsó'\r\n",
                "            WHEN LISTAAR > 5000 THEN 'Drága'\r\n",
                "            ELSE 'Közepes'\r\n",
                "        END AS 'Kategótiák',\r\n",
                "        COUNT(*)\r\n",
                "FROM Termek\r\n",
                "GROUP By ROLLUP(\r\n",
                "        CASE\r\n",
                "            WHEN LISTAAR < 3000 THEN 'Olcsó'\r\n",
                "            WHEN LISTAAR > 5000 THEN 'Drága'\r\n",
                "            ELSE 'Közepes'\r\n",
                "        END\r\n",
                ")"
            ],
            "metadata": {
                "azdata_cell_guid": "06d9a62b-9430-424b-a135-d80e675f0eb3",
                "language": "sql"
            },
            "outputs": [
{
    "output_type": "display_data",
    "data": {
        "text/html": "(4 rows affected)"
    },
    "metadata": {}
}, {
    "output_type": "display_data",
    "data": {
        "text/html": "Total execution time: 00:00:00.020"
    },
    "metadata": {}
}, {
    "output_type": "execute_result",
    "metadata": {},
    "execution_count": 30,
    "data": {
        "application/vnd.dataresource+json": {
            "schema": {
                "fields": [
                    {
                        "name": "Kategótiák"
                    },
                    {
                        "name": "(No column name)"
                    }
                ]
            },
            "data": [
                {
                    "Kategótiák": "Drága",
                    "(No column name)": "20"
                },
                {
                    "Kategótiák": "Közepes",
                    "(No column name)": "5"
                },
                {
                    "Kategótiák": "Olcsó",
                    "(No column name)": "526"
                },
                {
                    "Kategótiák": "NULL",
                    "(No column name)": "551"
                }
            ]
        },
        "text/html": [
            "<table>",
            "<tr><th>Kategótiák</th><th>(No column name)</th></tr>",
            "<tr><td>Drága</td><td>20</td></tr>",
            "<tr><td>Közepes</td><td>5</td></tr>",
            "<tr><td>Olcsó</td><td>526</td></tr>",
            "<tr><td>NULL</td><td>551</td></tr>",
            "</table>"
        ]
    }
}
],
            "execution_count": 30
        },
        {
            "cell_type": "markdown",
            "source": [
                "6. <span style=\"font-weight: 600; color: rgb(36, 41, 47); font-family: -apple-system, BlinkMacSystemFont, &quot;Segoe UI&quot;, Helvetica, Arial, sans-serif, &quot;Apple Color Emoji&quot;, &quot;Segoe UI Emoji&quot;; font-size: 16px;\">Készítsünk listát az ügyfelek adatairól név szerinti sorrendben.</span>\n",
                "\n",
                "1. Minden sorban jelenjen meg a sorrend szerint előző, illetve következő ügyfél neve is.\n",
                "2. Ha nincs előző vagy következő ügyfél, akkor a 'Nincs' jelenjen meg!"
            ],
            "metadata": {
                "azdata_cell_guid": "b0d15045-3c43-4f3a-b8d4-76b4f24e5546"
            },
            "attachments": {}
        },
        {
            "cell_type": "code",
            "source": [
                ""
            ],
            "metadata": {
                "azdata_cell_guid": "f2b7400d-1255-40ac-9250-4d57f9da5357",
                "language": "sql"
            },
            "outputs": [],
            "execution_count": null
        },
        {
            "cell_type": "markdown",
            "source": [
                "7. <span style=\"font-weight: 600; color: rgb(36, 41, 47); font-family: -apple-system, BlinkMacSystemFont, &quot;Segoe UI&quot;, Helvetica, Arial, sans-serif, &quot;Apple Color Emoji&quot;, &quot;Segoe UI Emoji&quot;; font-size: 16px;\">Készítsünk lekérdezést, amely megmutatja, hogy melyik termékkategóriába hány termék tartozik. A lista a kategória nevét és a darabszámot jelenítse meg.</span>\n",
                "\n",
                "1. A lista ne tartalmazzon duplikált sorokat.\n",
                "2. A feladatot partíciók segítségével oldjuk meg!"
            ],
            "metadata": {
                "azdata_cell_guid": "7ebf7ddd-1bd2-4246-815a-be8ae37e3b5b"
            },
            "attachments": {}
        },
        {
            "cell_type": "code",
            "source": [
                ""
            ],
            "metadata": {
                "azdata_cell_guid": "84b7e896-f36e-4985-88f5-e0f706494fef",
                "language": "sql"
            },
            "outputs": [],
            "execution_count": null
        },
        {
            "cell_type": "markdown",
            "source": [
                "8. <span style=\"font-weight: 600; color: rgb(36, 41, 47); font-family: -apple-system, BlinkMacSystemFont, &quot;Segoe UI&quot;, Helvetica, Arial, sans-serif, &quot;Apple Color Emoji&quot;, &quot;Segoe UI Emoji&quot;; font-size: 16px;\">Készítsünk listát a rendelési tételekről. Az egyes rendelési tételeket termékenként soroljuk be 4 osztályba a rendelés mennyisége alapján. Jelenítsük meg ezt az információt is egy új oszlopban, az oszlop neve legyen 'Mennyiségi kategória'.</span>\n",
                "\n",
                "1. A lista csak a 100 Ft feletti egységárú rendelési tételeket vegye figyelembe!"
            ],
            "metadata": {
                "azdata_cell_guid": "27a3d3dc-eafb-4a5e-b103-9f465b9eda8f"
            },
            "attachments": {}
        },
        {
            "cell_type": "code",
            "source": [
                ""
            ],
            "metadata": {
                "azdata_cell_guid": "f09edb3f-649b-4a96-958e-9e12774ae8b7",
                "language": "sql"
            },
            "outputs": [],
            "execution_count": null
        },
        {
            "cell_type": "markdown",
            "source": [
                "9. <span style=\"font-weight: 600; color: rgb(36, 41, 47); font-family: -apple-system, BlinkMacSystemFont, &quot;Segoe UI&quot;, Helvetica, Arial, sans-serif, &quot;Apple Color Emoji&quot;, &quot;Segoe UI Emoji&quot;; font-size: 16px;\">Listázzuk a termékek kódját, megnevezését, kategóriájának nevét, és listaárát.</span>\n",
                "\n",
                "1. A listát egészítsük ki két új oszloppal, amelyek a kategória legolcsóbb, illetve legdrágább termékének árát tartalmazzák.\n",
                "2. A két új oszlop létrehozásánál partíciókkal dolgozzunk!"
            ],
            "metadata": {
                "azdata_cell_guid": "f12a331a-0e26-4d3d-9c68-812316286577"
            },
            "attachments": {}
        },
        {
            "cell_type": "code",
            "source": [
                ""
            ],
            "metadata": {
                "azdata_cell_guid": "10a77fc9-e61a-46fc-a401-59720d82bc50",
                "language": "sql"
            },
            "outputs": [],
            "execution_count": null
        },
        {
            "cell_type": "markdown",
            "source": [
                "10. <span style=\"font-weight: 600; color: rgb(36, 41, 47); font-family: -apple-system, BlinkMacSystemFont, &quot;Segoe UI&quot;, Helvetica, Arial, sans-serif, &quot;Apple Color Emoji&quot;, &quot;Segoe UI Emoji&quot;; font-size: 16px;\">Készítsünk listát a rendelésekről. A lista legyen rendezve ügyfelenként (LOGIN), azon belül a rendelés dátuma szerint. A listához készítsünk sorszámozást is. A sorszám a következő formában jelenjen meg: sorszám_év_login. Pl: 1_2015_adam1</span>\n",
                "\n",
                "1. A számozás login-onként, azon belül rendelési évenként kezdődjön újra.\n",
                "2. A sorszám oszlop neve legyen Azonosító"
            ],
            "metadata": {
                "azdata_cell_guid": "9229e2b6-e200-4499-b95b-2d0222149831"
            },
            "attachments": {}
        },
        {
            "cell_type": "code",
            "source": [
                ""
            ],
            "metadata": {
                "azdata_cell_guid": "8b49ed67-28c6-4880-82a8-cd369e5bba99",
                "language": "sql"
            },
            "outputs": [],
            "execution_count": null
        },
        {
            "cell_type": "markdown",
            "source": [
                "11. <span style=\"color: rgb(36, 41, 47); font-family: -apple-system, BlinkMacSystemFont, &quot;Segoe UI&quot;, Helvetica, Arial, sans-serif, &quot;Apple Color Emoji&quot;, &quot;Segoe UI Emoji&quot;; font-size: 16px;\">Készítsünk listát a termékek adatairól listaár szerint növekvő sorrendben! A lista jelenítse meg két új oszlopban a sorrend szerint előző, illetve következő termék listaárát is a termék saját kategóriájában és raktárában!</span>\n",
                "\n",
                "1. Ahol nincs előző vagy következő érték, ott 0 jelenjen meg!\n",
                "2. Az oszlopokat nevezzük el értelemszerűen!"
            ],
            "metadata": {
                "azdata_cell_guid": "7f5fc7a7-3b6a-4d89-b292-490830afb0c6"
            },
            "attachments": {}
        },
        {
            "cell_type": "code",
            "source": [
                ""
            ],
            "metadata": {
                "azdata_cell_guid": "4a9ece40-f782-4c0d-92cd-9c21969067ed",
                "language": "sql"
            },
            "outputs": [],
            "execution_count": null
        },
        {
            "cell_type": "markdown",
            "source": [
                "12. <span style=\"color: rgb(36, 41, 47); font-family: -apple-system, BlinkMacSystemFont, &quot;Segoe UI&quot;, Helvetica, Arial, sans-serif, &quot;Apple Color Emoji&quot;, &quot;Segoe UI Emoji&quot;; font-size: 16px;\">Listázzuk a termékek kódját, nevét és listaárát listaár szerinti sorrendben!</span>\n",
                "\n",
                "1. Vegyünk fel egy új oszlopot Mozgóátlag néven, amely minden esetben az aktuális termék, az előző, és a következő termék átlagárát tartalmazza!\n",
                "2. A mozgóátlagot kerekítsük két tizedesre!"
            ],
            "metadata": {
                "azdata_cell_guid": "5a483c52-bb98-44bb-bd03-1146d4b0abfa"
            },
            "attachments": {}
        },
        {
            "cell_type": "code",
            "source": [
                ""
            ],
            "metadata": {
                "azdata_cell_guid": "dd6e89bd-08f9-4b18-8460-03c45b503df0",
                "language": "sql"
            },
            "outputs": [],
            "execution_count": null
        },
        {
            "cell_type": "markdown",
            "source": [
                "13. <span style=\"color: rgb(36, 41, 47); font-family: -apple-system, BlinkMacSystemFont, &quot;Segoe UI&quot;, Helvetica, Arial, sans-serif, &quot;Apple Color Emoji&quot;, &quot;Segoe UI Emoji&quot;; font-size: 16px;\">Készítsünk listát, amely a rendelések sorszámát és a rendelés értékét tartalmazza. A listát egészítsük ki egy új oszloppal, amely minden rendelés esetén addigi rendelések összegét tartalmazza (az aktuálisat is beleértve)!</span>\n",
                "\n",
                "1. A listát rendezzük sorszám szerint növekvő sorrendbe.\n",
                "2. A lista ne tartalmazzon duplikált sorokat!"
            ],
            "metadata": {
                "azdata_cell_guid": "85d5cb66-96c6-42de-99cf-85ab22d08548"
            },
            "attachments": {}
        },
        {
            "cell_type": "code",
            "source": [
                ""
            ],
            "metadata": {
                "azdata_cell_guid": "cb07d64b-0eaa-498b-b4d2-0b46971e95ce",
                "language": "sql"
            },
            "outputs": [],
            "execution_count": null
        },
        {
            "cell_type": "markdown",
            "source": [
                "14. <span style=\"color: rgb(36, 41, 47); font-family: -apple-system, BlinkMacSystemFont, &quot;Segoe UI&quot;, Helvetica, Arial, sans-serif, &quot;Apple Color Emoji&quot;, &quot;Segoe UI Emoji&quot;; font-size: 16px;\">Készítsünk listát a termékek kódjáról, nevéről, kategória azonosítójáról, raktár azonosítójáról és listaáráról, valamint a termék adott szempontok szerinti rangsorokban elfoglalt helyezéseiről. (Szempontonként külön oszlopban, a helyezéseknél növekvő sorrendet feltételezve). A szempontok a következők legyenek: listaár, kategória szerinti listaár, és raktárkód szerinti listaár.</span>\n",
                "\n",
                "1. Az oszlopokat nevezzük el értelemszerűen.\n",
                "2. A helyezések egyenlőség esetén \"sűrűn\" kövessék egymást.\n",
                "3. A lista legyen rendezett kategória azonosító, azon belül listaár szerint!"
            ],
            "metadata": {
                "azdata_cell_guid": "f95ad665-a807-4099-bf06-64ed974f866f"
            },
            "attachments": {}
        },
        {
            "cell_type": "code",
            "source": [
                ""
            ],
            "metadata": {
                "azdata_cell_guid": "74c7ec8a-ae4a-4d03-b1c4-e8f6bb1be12c",
                "language": "sql"
            },
            "outputs": [],
            "execution_count": null
        },
        {
            "cell_type": "markdown",
            "source": [
                "15. <span style=\"color: rgb(36, 41, 47); font-family: -apple-system, BlinkMacSystemFont, &quot;Segoe UI&quot;, Helvetica, Arial, sans-serif, &quot;Apple Color Emoji&quot;, &quot;Segoe UI Emoji&quot;; font-size: 16px;\">Készítsünk listát a rendelési tételekről, amely minden sor esetén göngyölítve tartalmazza az ügyfél adott rendelési tételig meglévő rendelési tételeinek összértékét!</span>\n",
                "\n",
                "1. Az új oszlop neve legyen Eddigi rendelési tételek összértéke!\n",
                "2. Az ügyfél neve is jelenjen meg!"
            ],
            "metadata": {
                "azdata_cell_guid": "93552388-ffec-49ff-99e5-ae8dc8072601"
            },
            "attachments": {}
        },
        {
            "cell_type": "code",
            "source": [
                ""
            ],
            "metadata": {
                "azdata_cell_guid": "0e7f547f-7d96-4611-b1c2-0fa84a581e79",
                "language": "sql"
            },
            "outputs": [],
            "execution_count": null
        }
    ]
}