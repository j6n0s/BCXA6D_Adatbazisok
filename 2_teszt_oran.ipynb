{
    "metadata": {
        "kernelspec": {
            "name": "SQL",
            "display_name": "SQL",
            "language": "sql"
        },
        "language_info": {
            "name": "sql",
            "version": ""
        }
    },
    "nbformat_minor": 2,
    "nbformat": 4,
    "cells": [
        {
            "cell_type": "code",
            "source": [
                "SELECT  *,\r\n",
                "        LEFT(CIM, 4) AS 'Irányítószám'\r\n",
                "FROM Szallashely\r\n",
                "WHERE CSILLAGOK_SZAMA = 3"
            ],
            "metadata": {
                "azdata_cell_guid": "7c8c25fd-68cb-441f-820d-96e253cddae9",
                "language": "sql"
            },
            "outputs": [
                {
                    "output_type": "display_data",
                    "data": {
                        "text/html": "(8 rows affected)"
                    },
                    "metadata": {}
                },
                {
                    "output_type": "display_data",
                    "data": {
                        "text/html": "Total execution time: 00:00:00.006"
                    },
                    "metadata": {}
                },
                {
                    "output_type": "execute_result",
                    "metadata": {},
                    "execution_count": 3,
                    "data": {
                        "application/vnd.dataresource+json": {
                            "schema": {
                                "fields": [
                                    {
                                        "name": "SZALLAS_ID"
                                    },
                                    {
                                        "name": "SZALLAS_NEV"
                                    },
                                    {
                                        "name": "HELY"
                                    },
                                    {
                                        "name": "CSILLAGOK_SZAMA"
                                    },
                                    {
                                        "name": "TIPUS"
                                    },
                                    {
                                        "name": "ROGZITETTE"
                                    },
                                    {
                                        "name": "ROGZ_IDO"
                                    },
                                    {
                                        "name": "CIM"
                                    },
                                    {
                                        "name": "Irányítószám"
                                    }
                                ]
                            },
                            "data": [
                                {
                                    "SZALLAS_ID": "4",
                                    "SZALLAS_NEV": "Fortuna panzió",
                                    "HELY": "Budapest",
                                    "CSILLAGOK_SZAMA": "3",
                                    "TIPUS": "panzió",
                                    "ROGZITETTE": "Béla",
                                    "ROGZ_IDO": "2016-03-07",
                                    "CIM": "1019 Budapest XIV. Cinkotai út 86.",
                                    "Irányítószám": "1019"
                                },
                                {
                                    "SZALLAS_ID": "5",
                                    "SZALLAS_NEV": "Fortuna Panzió",
                                    "HELY": "Békés megye",
                                    "CSILLAGOK_SZAMA": "3",
                                    "TIPUS": "panzió",
                                    "ROGZITETTE": "Sára",
                                    "ROGZ_IDO": "2016-03-08",
                                    "CIM": "5900 Orosháza, Gyopárosfürdő Tópart utca 3.",
                                    "Irányítószám": "5900"
                                },
                                {
                                    "SZALLAS_ID": "6",
                                    "SZALLAS_NEV": "Kentaur Hotel",
                                    "HELY": "Balaton-dél",
                                    "CSILLAGOK_SZAMA": "3",
                                    "TIPUS": "Hotel",
                                    "ROGZITETTE": "Béla",
                                    "ROGZ_IDO": "2016-03-08",
                                    "CIM": "8600 Siófok (Széplak), Akácfa utca 1",
                                    "Irányítószám": "8600"
                                },
                                {
                                    "SZALLAS_ID": "9",
                                    "SZALLAS_NEV": "Jáde panzió",
                                    "HELY": "Balaton-dél",
                                    "CSILLAGOK_SZAMA": "3",
                                    "TIPUS": "panzió",
                                    "ROGZITETTE": "Mari",
                                    "ROGZ_IDO": "2016-03-16",
                                    "CIM": "8624 Balatonföldvár, Kiss u.2.",
                                    "Irányítószám": "8624"
                                },
                                {
                                    "SZALLAS_ID": "12",
                                    "SZALLAS_NEV": "Gold Hotel",
                                    "HELY": "Budapest",
                                    "CSILLAGOK_SZAMA": "3",
                                    "TIPUS": "Hotel",
                                    "ROGZITETTE": "Béla",
                                    "ROGZ_IDO": "2016-03-24",
                                    "CIM": "1016 Budapest, Hegyalja út 12",
                                    "Irányítószám": "1016"
                                },
                                {
                                    "SZALLAS_ID": "13",
                                    "SZALLAS_NEV": "Riviéra Panzió",
                                    "HELY": "Csongrád megye",
                                    "CSILLAGOK_SZAMA": "3",
                                    "TIPUS": "panzió",
                                    "ROGZITETTE": "Sára",
                                    "ROGZ_IDO": "2016-03-27",
                                    "CIM": "6722 Szeged, Petőfi Sándor út 3.",
                                    "Irányítószám": "6722"
                                },
                                {
                                    "SZALLAS_ID": "15",
                                    "SZALLAS_NEV": "Tímárház Panzió",
                                    "HELY": "Balaton-dél",
                                    "CSILLAGOK_SZAMA": "3",
                                    "TIPUS": "panzió",
                                    "ROGZITETTE": "Béla",
                                    "ROGZ_IDO": "2016-03-29",
                                    "CIM": "8600 Siófok, Virág utca 1",
                                    "Irányítószám": "8600"
                                },
                                {
                                    "SZALLAS_ID": "16",
                                    "SZALLAS_NEV": "Bagoly Hotel",
                                    "HELY": "Pest megye",
                                    "CSILLAGOK_SZAMA": "3",
                                    "TIPUS": "Hotel",
                                    "ROGZITETTE": "Mari",
                                    "ROGZ_IDO": "2016-04-01",
                                    "CIM": "2230 Gyömrő, Bergszász u. 5.",
                                    "Irányítószám": "2230"
                                }
                            ]
                        },
                        "text/html": [
                            "<table>",
                            "<tr><th>SZALLAS_ID</th><th>SZALLAS_NEV</th><th>HELY</th><th>CSILLAGOK_SZAMA</th><th>TIPUS</th><th>ROGZITETTE</th><th>ROGZ_IDO</th><th>CIM</th><th>Irányítószám</th></tr>",
                            "<tr><td>4</td><td>Fortuna panzió</td><td>Budapest</td><td>3</td><td>panzió</td><td>Béla</td><td>2016-03-07</td><td>1019 Budapest XIV. Cinkotai út 86.</td><td>1019</td></tr>",
                            "<tr><td>5</td><td>Fortuna Panzió</td><td>Békés megye</td><td>3</td><td>panzió</td><td>Sára</td><td>2016-03-08</td><td>5900 Orosháza, Gyopárosfürdő Tópart utca 3.</td><td>5900</td></tr>",
                            "<tr><td>6</td><td>Kentaur Hotel</td><td>Balaton-dél</td><td>3</td><td>Hotel</td><td>Béla</td><td>2016-03-08</td><td>8600 Siófok (Széplak), Akácfa utca 1</td><td>8600</td></tr>",
                            "<tr><td>9</td><td>Jáde panzió</td><td>Balaton-dél</td><td>3</td><td>panzió</td><td>Mari</td><td>2016-03-16</td><td>8624 Balatonföldvár, Kiss u.2.</td><td>8624</td></tr>",
                            "<tr><td>12</td><td>Gold Hotel</td><td>Budapest</td><td>3</td><td>Hotel</td><td>Béla</td><td>2016-03-24</td><td>1016 Budapest, Hegyalja út 12</td><td>1016</td></tr>",
                            "<tr><td>13</td><td>Riviéra Panzió</td><td>Csongrád megye</td><td>3</td><td>panzió</td><td>Sára</td><td>2016-03-27</td><td>6722 Szeged, Petőfi Sándor út 3.</td><td>6722</td></tr>",
                            "<tr><td>15</td><td>Tímárház Panzió</td><td>Balaton-dél</td><td>3</td><td>panzió</td><td>Béla</td><td>2016-03-29</td><td>8600 Siófok, Virág utca 1</td><td>8600</td></tr>",
                            "<tr><td>16</td><td>Bagoly Hotel</td><td>Pest megye</td><td>3</td><td>Hotel</td><td>Mari</td><td>2016-04-01</td><td>2230 Gyömrő, Bergszász u. 5.</td><td>2230</td></tr>",
                            "</table>"
                        ]
                    }
                }
            ],
            "execution_count": 3
        },
        {
            "cell_type": "code",
            "source": [
                "SELECT  SZALLAS_ID,\r\n",
                "        SZALLAS_NEV,\r\n",
                "        HELY,\r\n",
                "        DATEDIFF(day, ROGZ_IDO, GETDATE()) AS 'Eltelt napok száma'\r\n",
                "FROM Szallashely\r\n",
                "WHERE TIPUS <> 'panzió' AND TIPUS <> 'vendégház'"
            ],
            "metadata": {
                "azdata_cell_guid": "0fa29b6e-c7ae-4edc-95ac-311ac9664b47",
                "language": "sql"
            },
            "outputs": [
                {
                    "output_type": "display_data",
                    "data": {
                        "text/html": "(10 rows affected)"
                    },
                    "metadata": {}
                },
                {
                    "output_type": "display_data",
                    "data": {
                        "text/html": "Total execution time: 00:00:00.003"
                    },
                    "metadata": {}
                },
                {
                    "output_type": "execute_result",
                    "metadata": {},
                    "execution_count": 10,
                    "data": {
                        "application/vnd.dataresource+json": {
                            "schema": {
                                "fields": [
                                    {
                                        "name": "SZALLAS_ID"
                                    },
                                    {
                                        "name": "SZALLAS_NEV"
                                    },
                                    {
                                        "name": "HELY"
                                    },
                                    {
                                        "name": "Eltelt napok száma"
                                    }
                                ]
                            },
                            "data": [
                                {
                                    "SZALLAS_ID": "3",
                                    "SZALLAS_NEV": "Fortuna Apartman",
                                    "HELY": "Hajdúbihar megye",
                                    "Eltelt napok száma": "2908"
                                },
                                {
                                    "SZALLAS_ID": "6",
                                    "SZALLAS_NEV": "Kentaur Hotel",
                                    "HELY": "Balaton-dél",
                                    "Eltelt napok száma": "2906"
                                },
                                {
                                    "SZALLAS_ID": "7",
                                    "SZALLAS_NEV": "Szieszta Apartmanház",
                                    "HELY": "Balaton-dél",
                                    "Eltelt napok száma": "2903"
                                },
                                {
                                    "SZALLAS_ID": "8",
                                    "SZALLAS_NEV": "Hotel Három Hattyú",
                                    "HELY": "Balaton-dél",
                                    "Eltelt napok száma": "2901"
                                },
                                {
                                    "SZALLAS_ID": "10",
                                    "SZALLAS_NEV": "Lagúna Hotel",
                                    "HELY": "Budapest",
                                    "Eltelt napok száma": "2894"
                                },
                                {
                                    "SZALLAS_ID": "12",
                                    "SZALLAS_NEV": "Gold Hotel",
                                    "HELY": "Budapest",
                                    "Eltelt napok száma": "2890"
                                },
                                {
                                    "SZALLAS_ID": "16",
                                    "SZALLAS_NEV": "Bagoly Hotel",
                                    "HELY": "Pest megye",
                                    "Eltelt napok száma": "2882"
                                },
                                {
                                    "SZALLAS_ID": "17",
                                    "SZALLAS_NEV": "Szarvas Hotel",
                                    "HELY": "Tolna megye",
                                    "Eltelt napok száma": "2879"
                                },
                                {
                                    "SZALLAS_ID": "18",
                                    "SZALLAS_NEV": "Fortuna Apartman",
                                    "HELY": "Dél-Somogy",
                                    "Eltelt napok száma": "2876"
                                },
                                {
                                    "SZALLAS_ID": "20",
                                    "SZALLAS_NEV": "Kollégium",
                                    "HELY": "Budapest",
                                    "Eltelt napok száma": "2876"
                                }
                            ]
                        },
                        "text/html": [
                            "<table>",
                            "<tr><th>SZALLAS_ID</th><th>SZALLAS_NEV</th><th>HELY</th><th>Eltelt napok száma</th></tr>",
                            "<tr><td>3</td><td>Fortuna Apartman</td><td>Hajdúbihar megye</td><td>2908</td></tr>",
                            "<tr><td>6</td><td>Kentaur Hotel</td><td>Balaton-dél</td><td>2906</td></tr>",
                            "<tr><td>7</td><td>Szieszta Apartmanház</td><td>Balaton-dél</td><td>2903</td></tr>",
                            "<tr><td>8</td><td>Hotel Három Hattyú</td><td>Balaton-dél</td><td>2901</td></tr>",
                            "<tr><td>10</td><td>Lagúna Hotel</td><td>Budapest</td><td>2894</td></tr>",
                            "<tr><td>12</td><td>Gold Hotel</td><td>Budapest</td><td>2890</td></tr>",
                            "<tr><td>16</td><td>Bagoly Hotel</td><td>Pest megye</td><td>2882</td></tr>",
                            "<tr><td>17</td><td>Szarvas Hotel</td><td>Tolna megye</td><td>2879</td></tr>",
                            "<tr><td>18</td><td>Fortuna Apartman</td><td>Dél-Somogy</td><td>2876</td></tr>",
                            "<tr><td>20</td><td>Kollégium</td><td>Budapest</td><td>2876</td></tr>",
                            "</table>"
                        ]
                    }
                }
            ],
            "execution_count": 10
        }
    ]
}