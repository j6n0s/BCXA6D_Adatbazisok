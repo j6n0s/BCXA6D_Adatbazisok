{
    "metadata": {
        "kernelspec": {
            "name": "SQL",
            "display_name": "SQL",
            "language": "sql"
        },
        "language_info": {
            "name": "sql",
            "version": ""
        }
    },
    "nbformat_minor": 2,
    "nbformat": 4,
    "cells": [
        {
            "cell_type": "markdown",
            "source": [
                "1."
            ],
            "metadata": {
                "azdata_cell_guid": "aea22b81-3f1e-4492-aa83-ecc6ea7d2f78"
            },
            "attachments": {}
        },
        {
            "cell_type": "code",
            "source": [
                "SELECT  IIF(GROUPING(SZOBA_FK) = 1, 'Végösszeg', CAST(SZOBA_FK AS nvarchar(10))),\r\n",
                "        CASE\r\n",
                "            WHEN GROUPING_ID(SZOBA_FK, YEAR(METTOL)) = 1 THEN 'Részösszeg'\r\n",
                "            WHEN GROUPING_ID(SZOBA_FK, YEAR(METTOL)) = 3 THEN 'Végösszeg'\r\n",
                "            ELSE CAST(YEAR(METTOL) AS nvarchar(4))\r\n",
                "        END AS 'Évek',\r\n",
                "        COUNT(*) AS 'db szám'\r\n",
                "FROM Foglalas\r\n",
                "GROUP BY\r\n",
                "ROLLUP(SZOBA_FK, YEAR(METTOL))"
            ],
            "metadata": {
                "azdata_cell_guid": "853081ca-41b3-412c-a2cf-bd7a585b5796",
                "language": "sql"
            },
            "outputs": [
                {
                    "output_type": "display_data",
                    "data": {
                        "text/html": "(513 rows affected)"
                    },
                    "metadata": {}
                },
                {
                    "output_type": "display_data",
                    "data": {
                        "text/html": "Total execution time: 00:00:00.011"
                    },
                    "metadata": {}
                },
                {
                    "output_type": "execute_result",
                    "metadata": {},
                    "execution_count": 3,
                    "data": {
                        "application/vnd.dataresource+json": {
                            "schema": {
                                "fields": [
                                    {
                                        "name": "(No column name)"
                                    },
                                    {
                                        "name": "(No column name)"
                                    },
                                    {
                                        "name": "(No column name)"
                                    }
                                ]
                            },
                            "data": [
                                {
                                    "(No column name)": "8"
                                },
                                {
                                    "(No column name)": "8"
                                },
                                {
                                    "(No column name)": "4"
                                },
                                {
                                    "(No column name)": "4"
                                },
                                {
                                    "(No column name)": "6"
                                },
                                {
                                    "(No column name)": "2"
                                },
                                {
                                    "(No column name)": "8"
                                },
                                {
                                    "(No column name)": "5"
                                },
                                {
                                    "(No column name)": "1"
                                },
                                {
                                    "(No column name)": "6"
                                },
                                {
                                    "(No column name)": "4"
                                },
                                {
                                    "(No column name)": "4"
                                },
                                {
                                    "(No column name)": "6"
                                },
                                {
                                    "(No column name)": "6"
                                },
                                {
                                    "(No column name)": "6"
                                },
                                {
                                    "(No column name)": "6"
                                },
                                {
                                    "(No column name)": "5"
                                },
                                {
                                    "(No column name)": "5"
                                },
                                {
                                    "(No column name)": "4"
                                },
                                {
                                    "(No column name)": "2"
                                },
                                {
                                    "(No column name)": "6"
                                },
                                {
                                    "(No column name)": "4"
                                },
                                {
                                    "(No column name)": "4"
                                },
                                {
                                    "(No column name)": "3"
                                },
                                {
                                    "(No column name)": "1"
                                },
                                {
                                    "(No column name)": "4"
                                },
                                {
                                    "(No column name)": "8"
                                },
                                {
                                    "(No column name)": "1"
                                },
                                {
                                    "(No column name)": "9"
                                },
                                {
                                    "(No column name)": "3"
                                },
                                {
                                    "(No column name)": "1"
                                },
                                {
                                    "(No column name)": "4"
                                },
                                {
                                    "(No column name)": "2"
                                },
                                {
                                    "(No column name)": "1"
                                },
                                {
                                    "(No column name)": "3"
                                },
                                {
                                    "(No column name)": "4"
                                },
                                {
                                    "(No column name)": "2"
                                },
                                {
                                    "(No column name)": "6"
                                },
                                {
                                    "(No column name)": "4"
                                },
                                {
                                    "(No column name)": "1"
                                },
                                {
                                    "(No column name)": "5"
                                },
                                {
                                    "(No column name)": "5"
                                },
                                {
                                    "(No column name)": "1"
                                },
                                {
                                    "(No column name)": "6"
                                },
                                {
                                    "(No column name)": "5"
                                },
                                {
                                    "(No column name)": "1"
                                },
                                {
                                    "(No column name)": "6"
                                },
                                {
                                    "(No column name)": "5"
                                },
                                {
                                    "(No column name)": "1"
                                },
                                {
                                    "(No column name)": "6"
                                },
                                {
                                    "(No column name)": "5"
                                },
                                {
                                    "(No column name)": "5"
                                },
                                {
                                    "(No column name)": "4"
                                },
                                {
                                    "(No column name)": "4"
                                },
                                {
                                    "(No column name)": "6"
                                },
                                {
                                    "(No column name)": "6"
                                },
                                {
                                    "(No column name)": "3"
                                },
                                {
                                    "(No column name)": "3"
                                },
                                {
                                    "(No column name)": "2"
                                },
                                {
                                    "(No column name)": "1"
                                },
                                {
                                    "(No column name)": "3"
                                },
                                {
                                    "(No column name)": "2"
                                },
                                {
                                    "(No column name)": "2"
                                },
                                {
                                    "(No column name)": "2"
                                },
                                {
                                    "(No column name)": "2"
                                },
                                {
                                    "(No column name)": "6"
                                },
                                {
                                    "(No column name)": "1"
                                },
                                {
                                    "(No column name)": "7"
                                },
                                {
                                    "(No column name)": "5"
                                },
                                {
                                    "(No column name)": "1"
                                },
                                {
                                    "(No column name)": "6"
                                },
                                {
                                    "(No column name)": "5"
                                },
                                {
                                    "(No column name)": "1"
                                },
                                {
                                    "(No column name)": "6"
                                },
                                {
                                    "(No column name)": "3"
                                },
                                {
                                    "(No column name)": "3"
                                },
                                {
                                    "(No column name)": "3"
                                },
                                {
                                    "(No column name)": "3"
                                },
                                {
                                    "(No column name)": "1"
                                },
                                {
                                    "(No column name)": "1"
                                },
                                {
                                    "(No column name)": "6"
                                },
                                {
                                    "(No column name)": "6"
                                },
                                {
                                    "(No column name)": "4"
                                },
                                {
                                    "(No column name)": "4"
                                },
                                {
                                    "(No column name)": "6"
                                },
                                {
                                    "(No column name)": "3"
                                },
                                {
                                    "(No column name)": "9"
                                },
                                {
                                    "(No column name)": "6"
                                },
                                {
                                    "(No column name)": "6"
                                },
                                {
                                    "(No column name)": "3"
                                },
                                {
                                    "(No column name)": "3"
                                },
                                {
                                    "(No column name)": "5"
                                },
                                {
                                    "(No column name)": "3"
                                },
                                {
                                    "(No column name)": "8"
                                },
                                {
                                    "(No column name)": "4"
                                },
                                {
                                    "(No column name)": "3"
                                },
                                {
                                    "(No column name)": "7"
                                },
                                {
                                    "(No column name)": "4"
                                },
                                {
                                    "(No column name)": "4"
                                },
                                {
                                    "(No column name)": "2"
                                },
                                {
                                    "(No column name)": "2"
                                },
                                {
                                    "(No column name)": "5"
                                },
                                {
                                    "(No column name)": "1"
                                },
                                {
                                    "(No column name)": "6"
                                },
                                {
                                    "(No column name)": "6"
                                },
                                {
                                    "(No column name)": "2"
                                },
                                {
                                    "(No column name)": "8"
                                },
                                {
                                    "(No column name)": "4"
                                },
                                {
                                    "(No column name)": "2"
                                },
                                {
                                    "(No column name)": "6"
                                },
                                {
                                    "(No column name)": "5"
                                },
                                {
                                    "(No column name)": "5"
                                },
                                {
                                    "(No column name)": "3"
                                },
                                {
                                    "(No column name)": "1"
                                },
                                {
                                    "(No column name)": "4"
                                },
                                {
                                    "(No column name)": "2"
                                },
                                {
                                    "(No column name)": "2"
                                },
                                {
                                    "(No column name)": "6"
                                },
                                {
                                    "(No column name)": "3"
                                },
                                {
                                    "(No column name)": "9"
                                },
                                {
                                    "(No column name)": "6"
                                },
                                {
                                    "(No column name)": "1"
                                },
                                {
                                    "(No column name)": "7"
                                },
                                {
                                    "(No column name)": "4"
                                },
                                {
                                    "(No column name)": "4"
                                },
                                {
                                    "(No column name)": "3"
                                },
                                {
                                    "(No column name)": "2"
                                },
                                {
                                    "(No column name)": "5"
                                },
                                {
                                    "(No column name)": "3"
                                },
                                {
                                    "(No column name)": "2"
                                },
                                {
                                    "(No column name)": "5"
                                },
                                {
                                    "(No column name)": "2"
                                },
                                {
                                    "(No column name)": "2"
                                },
                                {
                                    "(No column name)": "6"
                                },
                                {
                                    "(No column name)": "6"
                                },
                                {
                                    "(No column name)": "6"
                                },
                                {
                                    "(No column name)": "2"
                                },
                                {
                                    "(No column name)": "8"
                                },
                                {
                                    "(No column name)": "2"
                                },
                                {
                                    "(No column name)": "2"
                                },
                                {
                                    "(No column name)": "2"
                                },
                                {
                                    "(No column name)": "2"
                                },
                                {
                                    "(No column name)": "4"
                                },
                                {
                                    "(No column name)": "12"
                                },
                                {
                                    "(No column name)": "1"
                                },
                                {
                                    "(No column name)": "13"
                                },
                                {
                                    "(No column name)": "6"
                                },
                                {
                                    "(No column name)": "1"
                                },
                                {
                                    "(No column name)": "7"
                                },
                                {
                                    "(No column name)": "1"
                                },
                                {
                                    "(No column name)": "1"
                                },
                                {
                                    "(No column name)": "4"
                                },
                                {
                                    "(No column name)": "1"
                                },
                                {
                                    "(No column name)": "5"
                                },
                                {
                                    "(No column name)": "4"
                                },
                                {
                                    "(No column name)": "1"
                                },
                                {
                                    "(No column name)": "5"
                                },
                                {
                                    "(No column name)": "4"
                                },
                                {
                                    "(No column name)": "4"
                                },
                                {
                                    "(No column name)": "3"
                                },
                                {
                                    "(No column name)": "3"
                                },
                                {
                                    "(No column name)": "6"
                                },
                                {
                                    "(No column name)": "1"
                                },
                                {
                                    "(No column name)": "1"
                                },
                                {
                                    "(No column name)": "4"
                                },
                                {
                                    "(No column name)": "4"
                                },
                                {
                                    "(No column name)": "4"
                                },
                                {
                                    "(No column name)": "2"
                                },
                                {
                                    "(No column name)": "6"
                                },
                                {
                                    "(No column name)": "3"
                                },
                                {
                                    "(No column name)": "3"
                                },
                                {
                                    "(No column name)": "4"
                                },
                                {
                                    "(No column name)": "4"
                                },
                                {
                                    "(No column name)": "10"
                                },
                                {
                                    "(No column name)": "1"
                                },
                                {
                                    "(No column name)": "11"
                                },
                                {
                                    "(No column name)": "3"
                                },
                                {
                                    "(No column name)": "3"
                                },
                                {
                                    "(No column name)": "4"
                                },
                                {
                                    "(No column name)": "4"
                                },
                                {
                                    "(No column name)": "4"
                                },
                                {
                                    "(No column name)": "4"
                                },
                                {
                                    "(No column name)": "9"
                                },
                                {
                                    "(No column name)": "9"
                                },
                                {
                                    "(No column name)": "1"
                                },
                                {
                                    "(No column name)": "2"
                                },
                                {
                                    "(No column name)": "3"
                                },
                                {
                                    "(No column name)": "2"
                                },
                                {
                                    "(No column name)": "1"
                                },
                                {
                                    "(No column name)": "3"
                                },
                                {
                                    "(No column name)": "4"
                                },
                                {
                                    "(No column name)": "2"
                                },
                                {
                                    "(No column name)": "6"
                                },
                                {
                                    "(No column name)": "5"
                                },
                                {
                                    "(No column name)": "1"
                                },
                                {
                                    "(No column name)": "6"
                                },
                                {
                                    "(No column name)": "4"
                                },
                                {
                                    "(No column name)": "1"
                                },
                                {
                                    "(No column name)": "5"
                                },
                                {
                                    "(No column name)": "7"
                                },
                                {
                                    "(No column name)": "7"
                                },
                                {
                                    "(No column name)": "1"
                                },
                                {
                                    "(No column name)": "4"
                                },
                                {
                                    "(No column name)": "5"
                                },
                                {
                                    "(No column name)": "6"
                                },
                                {
                                    "(No column name)": "6"
                                },
                                {
                                    "(No column name)": "8"
                                },
                                {
                                    "(No column name)": "8"
                                },
                                {
                                    "(No column name)": "4"
                                },
                                {
                                    "(No column name)": "4"
                                },
                                {
                                    "(No column name)": "3"
                                },
                                {
                                    "(No column name)": "1"
                                },
                                {
                                    "(No column name)": "4"
                                },
                                {
                                    "(No column name)": "4"
                                },
                                {
                                    "(No column name)": "1"
                                },
                                {
                                    "(No column name)": "5"
                                },
                                {
                                    "(No column name)": "4"
                                },
                                {
                                    "(No column name)": "1"
                                },
                                {
                                    "(No column name)": "5"
                                },
                                {
                                    "(No column name)": "6"
                                },
                                {
                                    "(No column name)": "2"
                                },
                                {
                                    "(No column name)": "8"
                                },
                                {
                                    "(No column name)": "7"
                                },
                                {
                                    "(No column name)": "1"
                                },
                                {
                                    "(No column name)": "8"
                                },
                                {
                                    "(No column name)": "4"
                                },
                                {
                                    "(No column name)": "4"
                                },
                                {
                                    "(No column name)": "4"
                                },
                                {
                                    "(No column name)": "4"
                                },
                                {
                                    "(No column name)": "4"
                                },
                                {
                                    "(No column name)": "2"
                                },
                                {
                                    "(No column name)": "6"
                                },
                                {
                                    "(No column name)": "5"
                                },
                                {
                                    "(No column name)": "5"
                                },
                                {
                                    "(No column name)": "8"
                                },
                                {
                                    "(No column name)": "2"
                                },
                                {
                                    "(No column name)": "10"
                                },
                                {
                                    "(No column name)": "3"
                                },
                                {
                                    "(No column name)": "1"
                                },
                                {
                                    "(No column name)": "4"
                                },
                                {
                                    "(No column name)": "5"
                                },
                                {
                                    "(No column name)": "2"
                                },
                                {
                                    "(No column name)": "7"
                                },
                                {
                                    "(No column name)": "5"
                                },
                                {
                                    "(No column name)": "2"
                                },
                                {
                                    "(No column name)": "7"
                                },
                                {
                                    "(No column name)": "4"
                                },
                                {
                                    "(No column name)": "4"
                                },
                                {
                                    "(No column name)": "4"
                                },
                                {
                                    "(No column name)": "1"
                                },
                                {
                                    "(No column name)": "5"
                                },
                                {
                                    "(No column name)": "3"
                                },
                                {
                                    "(No column name)": "1"
                                },
                                {
                                    "(No column name)": "4"
                                },
                                {
                                    "(No column name)": "2"
                                },
                                {
                                    "(No column name)": "1"
                                },
                                {
                                    "(No column name)": "3"
                                },
                                {
                                    "(No column name)": "2"
                                },
                                {
                                    "(No column name)": "2"
                                },
                                {
                                    "(No column name)": "3"
                                },
                                {
                                    "(No column name)": "1"
                                },
                                {
                                    "(No column name)": "4"
                                },
                                {
                                    "(No column name)": "2"
                                },
                                {
                                    "(No column name)": "2"
                                },
                                {
                                    "(No column name)": "4"
                                },
                                {
                                    "(No column name)": "1"
                                },
                                {
                                    "(No column name)": "1"
                                },
                                {
                                    "(No column name)": "2"
                                },
                                {
                                    "(No column name)": "5"
                                },
                                {
                                    "(No column name)": "1"
                                },
                                {
                                    "(No column name)": "6"
                                },
                                {
                                    "(No column name)": "3"
                                },
                                {
                                    "(No column name)": "2"
                                },
                                {
                                    "(No column name)": "5"
                                },
                                {
                                    "(No column name)": "2"
                                },
                                {
                                    "(No column name)": "2"
                                },
                                {
                                    "(No column name)": "6"
                                },
                                {
                                    "(No column name)": "1"
                                },
                                {
                                    "(No column name)": "7"
                                },
                                {
                                    "(No column name)": "6"
                                },
                                {
                                    "(No column name)": "2"
                                },
                                {
                                    "(No column name)": "8"
                                },
                                {
                                    "(No column name)": "5"
                                },
                                {
                                    "(No column name)": "5"
                                },
                                {
                                    "(No column name)": "4"
                                },
                                {
                                    "(No column name)": "1"
                                },
                                {
                                    "(No column name)": "5"
                                },
                                {
                                    "(No column name)": "3"
                                },
                                {
                                    "(No column name)": "2"
                                },
                                {
                                    "(No column name)": "5"
                                },
                                {
                                    "(No column name)": "3"
                                },
                                {
                                    "(No column name)": "1"
                                },
                                {
                                    "(No column name)": "4"
                                },
                                {
                                    "(No column name)": "5"
                                },
                                {
                                    "(No column name)": "2"
                                },
                                {
                                    "(No column name)": "7"
                                },
                                {
                                    "(No column name)": "2"
                                },
                                {
                                    "(No column name)": "2"
                                },
                                {
                                    "(No column name)": "7"
                                },
                                {
                                    "(No column name)": "1"
                                },
                                {
                                    "(No column name)": "8"
                                },
                                {
                                    "(No column name)": "5"
                                },
                                {
                                    "(No column name)": "2"
                                },
                                {
                                    "(No column name)": "7"
                                },
                                {
                                    "(No column name)": "3"
                                },
                                {
                                    "(No column name)": "2"
                                },
                                {
                                    "(No column name)": "5"
                                },
                                {
                                    "(No column name)": "4"
                                },
                                {
                                    "(No column name)": "2"
                                },
                                {
                                    "(No column name)": "6"
                                },
                                {
                                    "(No column name)": "8"
                                },
                                {
                                    "(No column name)": "8"
                                },
                                {
                                    "(No column name)": "8"
                                },
                                {
                                    "(No column name)": "1"
                                },
                                {
                                    "(No column name)": "9"
                                },
                                {
                                    "(No column name)": "5"
                                },
                                {
                                    "(No column name)": "5"
                                },
                                {
                                    "(No column name)": "4"
                                },
                                {
                                    "(No column name)": "2"
                                },
                                {
                                    "(No column name)": "6"
                                },
                                {
                                    "(No column name)": "1"
                                },
                                {
                                    "(No column name)": "1"
                                },
                                {
                                    "(No column name)": "4"
                                },
                                {
                                    "(No column name)": "2"
                                },
                                {
                                    "(No column name)": "6"
                                },
                                {
                                    "(No column name)": "6"
                                },
                                {
                                    "(No column name)": "1"
                                },
                                {
                                    "(No column name)": "7"
                                },
                                {
                                    "(No column name)": "3"
                                },
                                {
                                    "(No column name)": "2"
                                },
                                {
                                    "(No column name)": "5"
                                },
                                {
                                    "(No column name)": "2"
                                },
                                {
                                    "(No column name)": "2"
                                },
                                {
                                    "(No column name)": "4"
                                },
                                {
                                    "(No column name)": "5"
                                },
                                {
                                    "(No column name)": "1"
                                },
                                {
                                    "(No column name)": "6"
                                },
                                {
                                    "(No column name)": "4"
                                },
                                {
                                    "(No column name)": "1"
                                },
                                {
                                    "(No column name)": "5"
                                },
                                {
                                    "(No column name)": "5"
                                },
                                {
                                    "(No column name)": "1"
                                },
                                {
                                    "(No column name)": "6"
                                },
                                {
                                    "(No column name)": "5"
                                },
                                {
                                    "(No column name)": "1"
                                },
                                {
                                    "(No column name)": "6"
                                },
                                {
                                    "(No column name)": "5"
                                },
                                {
                                    "(No column name)": "1"
                                },
                                {
                                    "(No column name)": "6"
                                },
                                {
                                    "(No column name)": "3"
                                },
                                {
                                    "(No column name)": "3"
                                },
                                {
                                    "(No column name)": "3"
                                },
                                {
                                    "(No column name)": "3"
                                },
                                {
                                    "(No column name)": "6"
                                },
                                {
                                    "(No column name)": "6"
                                },
                                {
                                    "(No column name)": "7"
                                },
                                {
                                    "(No column name)": "7"
                                },
                                {
                                    "(No column name)": "5"
                                },
                                {
                                    "(No column name)": "2"
                                },
                                {
                                    "(No column name)": "7"
                                },
                                {
                                    "(No column name)": "8"
                                },
                                {
                                    "(No column name)": "8"
                                },
                                {
                                    "(No column name)": "6"
                                },
                                {
                                    "(No column name)": "6"
                                },
                                {
                                    "(No column name)": "1"
                                },
                                {
                                    "(No column name)": "1"
                                },
                                {
                                    "(No column name)": "2"
                                },
                                {
                                    "(No column name)": "6"
                                },
                                {
                                    "(No column name)": "1"
                                },
                                {
                                    "(No column name)": "7"
                                },
                                {
                                    "(No column name)": "4"
                                },
                                {
                                    "(No column name)": "1"
                                },
                                {
                                    "(No column name)": "5"
                                },
                                {
                                    "(No column name)": "5"
                                },
                                {
                                    "(No column name)": "1"
                                },
                                {
                                    "(No column name)": "6"
                                },
                                {
                                    "(No column name)": "5"
                                },
                                {
                                    "(No column name)": "1"
                                },
                                {
                                    "(No column name)": "6"
                                },
                                {
                                    "(No column name)": "1"
                                },
                                {
                                    "(No column name)": "1"
                                },
                                {
                                    "(No column name)": "5"
                                },
                                {
                                    "(No column name)": "1"
                                },
                                {
                                    "(No column name)": "6"
                                },
                                {
                                    "(No column name)": "6"
                                },
                                {
                                    "(No column name)": "1"
                                },
                                {
                                    "(No column name)": "7"
                                },
                                {
                                    "(No column name)": "5"
                                },
                                {
                                    "(No column name)": "1"
                                },
                                {
                                    "(No column name)": "6"
                                },
                                {
                                    "(No column name)": "3"
                                },
                                {
                                    "(No column name)": "3"
                                },
                                {
                                    "(No column name)": "3"
                                },
                                {
                                    "(No column name)": "1"
                                },
                                {
                                    "(No column name)": "4"
                                },
                                {
                                    "(No column name)": "2"
                                },
                                {
                                    "(No column name)": "3"
                                },
                                {
                                    "(No column name)": "5"
                                },
                                {
                                    "(No column name)": "4"
                                },
                                {
                                    "(No column name)": "1"
                                },
                                {
                                    "(No column name)": "5"
                                },
                                {
                                    "(No column name)": "4"
                                },
                                {
                                    "(No column name)": "1"
                                },
                                {
                                    "(No column name)": "5"
                                },
                                {
                                    "(No column name)": "4"
                                },
                                {
                                    "(No column name)": "3"
                                },
                                {
                                    "(No column name)": "7"
                                },
                                {
                                    "(No column name)": "4"
                                },
                                {
                                    "(No column name)": "1"
                                },
                                {
                                    "(No column name)": "5"
                                },
                                {
                                    "(No column name)": "3"
                                },
                                {
                                    "(No column name)": "3"
                                },
                                {
                                    "(No column name)": "4"
                                },
                                {
                                    "(No column name)": "1"
                                },
                                {
                                    "(No column name)": "5"
                                },
                                {
                                    "(No column name)": "5"
                                },
                                {
                                    "(No column name)": "1"
                                },
                                {
                                    "(No column name)": "6"
                                },
                                {
                                    "(No column name)": "3"
                                },
                                {
                                    "(No column name)": "3"
                                },
                                {
                                    "(No column name)": "6"
                                },
                                {
                                    "(No column name)": "1"
                                },
                                {
                                    "(No column name)": "7"
                                },
                                {
                                    "(No column name)": "5"
                                },
                                {
                                    "(No column name)": "5"
                                },
                                {
                                    "(No column name)": "7"
                                },
                                {
                                    "(No column name)": "7"
                                },
                                {
                                    "(No column name)": "2"
                                },
                                {
                                    "(No column name)": "1"
                                },
                                {
                                    "(No column name)": "3"
                                },
                                {
                                    "(No column name)": "1"
                                },
                                {
                                    "(No column name)": "1"
                                },
                                {
                                    "(No column name)": "2"
                                },
                                {
                                    "(No column name)": "5"
                                },
                                {
                                    "(No column name)": "5"
                                },
                                {
                                    "(No column name)": "5"
                                },
                                {
                                    "(No column name)": "1"
                                },
                                {
                                    "(No column name)": "6"
                                },
                                {
                                    "(No column name)": "5"
                                },
                                {
                                    "(No column name)": "5"
                                },
                                {
                                    "(No column name)": "4"
                                },
                                {
                                    "(No column name)": "1"
                                },
                                {
                                    "(No column name)": "5"
                                },
                                {
                                    "(No column name)": "7"
                                },
                                {
                                    "(No column name)": "2"
                                },
                                {
                                    "(No column name)": "9"
                                },
                                {
                                    "(No column name)": "3"
                                },
                                {
                                    "(No column name)": "1"
                                },
                                {
                                    "(No column name)": "4"
                                },
                                {
                                    "(No column name)": "4"
                                },
                                {
                                    "(No column name)": "4"
                                },
                                {
                                    "(No column name)": "5"
                                },
                                {
                                    "(No column name)": "5"
                                },
                                {
                                    "(No column name)": "4"
                                },
                                {
                                    "(No column name)": "2"
                                },
                                {
                                    "(No column name)": "6"
                                },
                                {
                                    "(No column name)": "3"
                                },
                                {
                                    "(No column name)": "1"
                                },
                                {
                                    "(No column name)": "4"
                                },
                                {
                                    "(No column name)": "4"
                                },
                                {
                                    "(No column name)": "4"
                                },
                                {
                                    "(No column name)": "2"
                                },
                                {
                                    "(No column name)": "1"
                                },
                                {
                                    "(No column name)": "3"
                                },
                                {
                                    "(No column name)": "1"
                                },
                                {
                                    "(No column name)": "2"
                                },
                                {
                                    "(No column name)": "3"
                                },
                                {
                                    "(No column name)": "6"
                                },
                                {
                                    "(No column name)": "6"
                                },
                                {
                                    "(No column name)": "10"
                                },
                                {
                                    "(No column name)": "2"
                                },
                                {
                                    "(No column name)": "12"
                                },
                                {
                                    "(No column name)": "3"
                                },
                                {
                                    "(No column name)": "1"
                                },
                                {
                                    "(No column name)": "4"
                                },
                                {
                                    "(No column name)": "4"
                                },
                                {
                                    "(No column name)": "4"
                                },
                                {
                                    "(No column name)": "10"
                                },
                                {
                                    "(No column name)": "2"
                                },
                                {
                                    "(No column name)": "12"
                                },
                                {
                                    "(No column name)": "3"
                                },
                                {
                                    "(No column name)": "1"
                                },
                                {
                                    "(No column name)": "4"
                                },
                                {
                                    "(No column name)": "7"
                                },
                                {
                                    "(No column name)": "7"
                                },
                                {
                                    "(No column name)": "6"
                                },
                                {
                                    "(No column name)": "6"
                                },
                                {
                                    "(No column name)": "3"
                                },
                                {
                                    "(No column name)": "2"
                                },
                                {
                                    "(No column name)": "5"
                                },
                                {
                                    "(No column name)": "4"
                                },
                                {
                                    "(No column name)": "1"
                                },
                                {
                                    "(No column name)": "5"
                                },
                                {
                                    "(No column name)": "3"
                                },
                                {
                                    "(No column name)": "2"
                                },
                                {
                                    "(No column name)": "5"
                                },
                                {
                                    "(No column name)": "2"
                                },
                                {
                                    "(No column name)": "2"
                                },
                                {
                                    "(No column name)": "7"
                                },
                                {
                                    "(No column name)": "7"
                                },
                                {
                                    "(No column name)": "1"
                                },
                                {
                                    "(No column name)": "1"
                                },
                                {
                                    "(No column name)": "4"
                                },
                                {
                                    "(No column name)": "2"
                                },
                                {
                                    "(No column name)": "6"
                                },
                                {
                                    "(No column name)": "4"
                                },
                                {
                                    "(No column name)": "4"
                                },
                                {
                                    "(No column name)": "6"
                                },
                                {
                                    "(No column name)": "6"
                                },
                                {
                                    "(No column name)": "7"
                                },
                                {
                                    "(No column name)": "1"
                                },
                                {
                                    "(No column name)": "8"
                                },
                                {
                                    "(No column name)": "1027"
                                }
                            ]
                        },
                        "text/html": [
                            "<table>",
                            "<tr><th>(No column name)</th><th>(No column name)</th><th>(No column name)</th></tr>",
                            "<tr><td>1</td><td>2016</td><td>8</td></tr>",
                            "<tr><td>1</td><td>Részösszeg</td><td>8</td></tr>",
                            "<tr><td>2</td><td>2016</td><td>4</td></tr>",
                            "<tr><td>2</td><td>Részösszeg</td><td>4</td></tr>",
                            "<tr><td>3</td><td>2016</td><td>6</td></tr>",
                            "<tr><td>3</td><td>2017</td><td>2</td></tr>",
                            "<tr><td>3</td><td>Részösszeg</td><td>8</td></tr>",
                            "<tr><td>4</td><td>2016</td><td>5</td></tr>",
                            "<tr><td>4</td><td>2017</td><td>1</td></tr>",
                            "<tr><td>4</td><td>Részösszeg</td><td>6</td></tr>",
                            "<tr><td>5</td><td>2016</td><td>4</td></tr>",
                            "<tr><td>5</td><td>Részösszeg</td><td>4</td></tr>",
                            "<tr><td>6</td><td>2016</td><td>6</td></tr>",
                            "<tr><td>6</td><td>Részösszeg</td><td>6</td></tr>",
                            "<tr><td>7</td><td>2016</td><td>6</td></tr>",
                            "<tr><td>7</td><td>Részösszeg</td><td>6</td></tr>",
                            "<tr><td>8</td><td>2016</td><td>5</td></tr>",
                            "<tr><td>8</td><td>Részösszeg</td><td>5</td></tr>",
                            "<tr><td>9</td><td>2016</td><td>4</td></tr>",
                            "<tr><td>9</td><td>2017</td><td>2</td></tr>",
                            "<tr><td>9</td><td>Részösszeg</td><td>6</td></tr>",
                            "<tr><td>10</td><td>2016</td><td>4</td></tr>",
                            "<tr><td>10</td><td>Részösszeg</td><td>4</td></tr>",
                            "<tr><td>11</td><td>2016</td><td>3</td></tr>",
                            "<tr><td>11</td><td>2017</td><td>1</td></tr>",
                            "<tr><td>11</td><td>Részösszeg</td><td>4</td></tr>",
                            "<tr><td>12</td><td>2016</td><td>8</td></tr>",
                            "<tr><td>12</td><td>2017</td><td>1</td></tr>",
                            "<tr><td>12</td><td>Részösszeg</td><td>9</td></tr>",
                            "<tr><td>13</td><td>2016</td><td>3</td></tr>",
                            "<tr><td>13</td><td>2017</td><td>1</td></tr>",
                            "<tr><td>13</td><td>Részösszeg</td><td>4</td></tr>",
                            "<tr><td>14</td><td>2016</td><td>2</td></tr>",
                            "<tr><td>14</td><td>2017</td><td>1</td></tr>",
                            "<tr><td>14</td><td>Részösszeg</td><td>3</td></tr>",
                            "<tr><td>15</td><td>2016</td><td>4</td></tr>",
                            "<tr><td>15</td><td>2017</td><td>2</td></tr>",
                            "<tr><td>15</td><td>Részösszeg</td><td>6</td></tr>",
                            "<tr><td>16</td><td>2016</td><td>4</td></tr>",
                            "<tr><td>16</td><td>2017</td><td>1</td></tr>",
                            "<tr><td>16</td><td>Részösszeg</td><td>5</td></tr>",
                            "<tr><td>17</td><td>2016</td><td>5</td></tr>",
                            "<tr><td>17</td><td>2017</td><td>1</td></tr>",
                            "<tr><td>17</td><td>Részösszeg</td><td>6</td></tr>",
                            "<tr><td>18</td><td>2016</td><td>5</td></tr>",
                            "<tr><td>18</td><td>2017</td><td>1</td></tr>",
                            "<tr><td>18</td><td>Részösszeg</td><td>6</td></tr>",
                            "<tr><td>19</td><td>2016</td><td>5</td></tr>",
                            "<tr><td>19</td><td>2017</td><td>1</td></tr>",
                            "<tr><td>19</td><td>Részösszeg</td><td>6</td></tr>",
                            "<tr><td>20</td><td>2016</td><td>5</td></tr>",
                            "<tr><td>20</td><td>Részösszeg</td><td>5</td></tr>",
                            "<tr><td>21</td><td>2016</td><td>4</td></tr>",
                            "<tr><td>21</td><td>Részösszeg</td><td>4</td></tr>",
                            "<tr><td>22</td><td>2016</td><td>6</td></tr>",
                            "<tr><td>22</td><td>Részösszeg</td><td>6</td></tr>",
                            "<tr><td>23</td><td>2016</td><td>3</td></tr>",
                            "<tr><td>23</td><td>Részösszeg</td><td>3</td></tr>",
                            "<tr><td>24</td><td>2016</td><td>2</td></tr>",
                            "<tr><td>24</td><td>2017</td><td>1</td></tr>",
                            "<tr><td>24</td><td>Részösszeg</td><td>3</td></tr>",
                            "<tr><td>25</td><td>2016</td><td>2</td></tr>",
                            "<tr><td>25</td><td>Részösszeg</td><td>2</td></tr>",
                            "<tr><td>26</td><td>2016</td><td>2</td></tr>",
                            "<tr><td>26</td><td>Részösszeg</td><td>2</td></tr>",
                            "<tr><td>27</td><td>2016</td><td>6</td></tr>",
                            "<tr><td>27</td><td>2017</td><td>1</td></tr>",
                            "<tr><td>27</td><td>Részösszeg</td><td>7</td></tr>",
                            "<tr><td>28</td><td>2016</td><td>5</td></tr>",
                            "<tr><td>28</td><td>2017</td><td>1</td></tr>",
                            "<tr><td>28</td><td>Részösszeg</td><td>6</td></tr>",
                            "<tr><td>29</td><td>2016</td><td>5</td></tr>",
                            "<tr><td>29</td><td>2017</td><td>1</td></tr>",
                            "<tr><td>29</td><td>Részösszeg</td><td>6</td></tr>",
                            "<tr><td>30</td><td>2016</td><td>3</td></tr>",
                            "<tr><td>30</td><td>Részösszeg</td><td>3</td></tr>",
                            "<tr><td>31</td><td>2016</td><td>3</td></tr>",
                            "<tr><td>31</td><td>Részösszeg</td><td>3</td></tr>",
                            "<tr><td>32</td><td>2016</td><td>1</td></tr>",
                            "<tr><td>32</td><td>Részösszeg</td><td>1</td></tr>",
                            "<tr><td>33</td><td>2016</td><td>6</td></tr>",
                            "<tr><td>33</td><td>Részösszeg</td><td>6</td></tr>",
                            "<tr><td>34</td><td>2016</td><td>4</td></tr>",
                            "<tr><td>34</td><td>Részösszeg</td><td>4</td></tr>",
                            "<tr><td>35</td><td>2016</td><td>6</td></tr>",
                            "<tr><td>35</td><td>2017</td><td>3</td></tr>",
                            "<tr><td>35</td><td>Részösszeg</td><td>9</td></tr>",
                            "<tr><td>36</td><td>2016</td><td>6</td></tr>",
                            "<tr><td>36</td><td>Részösszeg</td><td>6</td></tr>",
                            "<tr><td>37</td><td>2016</td><td>3</td></tr>",
                            "<tr><td>37</td><td>Részösszeg</td><td>3</td></tr>",
                            "<tr><td>38</td><td>2016</td><td>5</td></tr>",
                            "<tr><td>38</td><td>2017</td><td>3</td></tr>",
                            "<tr><td>38</td><td>Részösszeg</td><td>8</td></tr>",
                            "<tr><td>39</td><td>2016</td><td>4</td></tr>",
                            "<tr><td>39</td><td>2017</td><td>3</td></tr>",
                            "<tr><td>39</td><td>Részösszeg</td><td>7</td></tr>",
                            "<tr><td>40</td><td>2016</td><td>4</td></tr>",
                            "<tr><td>40</td><td>Részösszeg</td><td>4</td></tr>",
                            "<tr><td>41</td><td>2016</td><td>2</td></tr>",
                            "<tr><td>41</td><td>Részösszeg</td><td>2</td></tr>",
                            "<tr><td>42</td><td>2016</td><td>5</td></tr>",
                            "<tr><td>42</td><td>2017</td><td>1</td></tr>",
                            "<tr><td>42</td><td>Részösszeg</td><td>6</td></tr>",
                            "<tr><td>43</td><td>2016</td><td>6</td></tr>",
                            "<tr><td>43</td><td>2017</td><td>2</td></tr>",
                            "<tr><td>43</td><td>Részösszeg</td><td>8</td></tr>",
                            "<tr><td>44</td><td>2016</td><td>4</td></tr>",
                            "<tr><td>44</td><td>2017</td><td>2</td></tr>",
                            "<tr><td>44</td><td>Részösszeg</td><td>6</td></tr>",
                            "<tr><td>45</td><td>2016</td><td>5</td></tr>",
                            "<tr><td>45</td><td>Részösszeg</td><td>5</td></tr>",
                            "<tr><td>46</td><td>2016</td><td>3</td></tr>",
                            "<tr><td>46</td><td>2017</td><td>1</td></tr>",
                            "<tr><td>46</td><td>Részösszeg</td><td>4</td></tr>",
                            "<tr><td>47</td><td>2016</td><td>2</td></tr>",
                            "<tr><td>47</td><td>Részösszeg</td><td>2</td></tr>",
                            "<tr><td>48</td><td>2016</td><td>6</td></tr>",
                            "<tr><td>48</td><td>2017</td><td>3</td></tr>",
                            "<tr><td>48</td><td>Részösszeg</td><td>9</td></tr>",
                            "<tr><td>49</td><td>2016</td><td>6</td></tr>",
                            "<tr><td>49</td><td>2017</td><td>1</td></tr>",
                            "<tr><td>49</td><td>Részösszeg</td><td>7</td></tr>",
                            "<tr><td>50</td><td>2016</td><td>4</td></tr>",
                            "<tr><td>50</td><td>Részösszeg</td><td>4</td></tr>",
                            "<tr><td>51</td><td>2016</td><td>3</td></tr>",
                            "<tr><td>51</td><td>2017</td><td>2</td></tr>",
                            "<tr><td>51</td><td>Részösszeg</td><td>5</td></tr>",
                            "<tr><td>52</td><td>2016</td><td>3</td></tr>",
                            "<tr><td>52</td><td>2017</td><td>2</td></tr>",
                            "<tr><td>52</td><td>Részösszeg</td><td>5</td></tr>",
                            "<tr><td>53</td><td>2016</td><td>2</td></tr>",
                            "<tr><td>53</td><td>Részösszeg</td><td>2</td></tr>",
                            "<tr><td>54</td><td>2016</td><td>6</td></tr>",
                            "<tr><td>54</td><td>Részösszeg</td><td>6</td></tr>",
                            "<tr><td>55</td><td>2016</td><td>6</td></tr>",
                            "<tr><td>55</td><td>2017</td><td>2</td></tr>",
                            "<tr><td>55</td><td>Részösszeg</td><td>8</td></tr>",
                            "<tr><td>56</td><td>2016</td><td>2</td></tr>",
                            "<tr><td>56</td><td>Részösszeg</td><td>2</td></tr>",
                            "<tr><td>57</td><td>2016</td><td>2</td></tr>",
                            "<tr><td>57</td><td>2017</td><td>2</td></tr>",
                            "<tr><td>57</td><td>Részösszeg</td><td>4</td></tr>",
                            "<tr><td>58</td><td>2016</td><td>12</td></tr>",
                            "<tr><td>58</td><td>2017</td><td>1</td></tr>",
                            "<tr><td>58</td><td>Részösszeg</td><td>13</td></tr>",
                            "<tr><td>59</td><td>2016</td><td>6</td></tr>",
                            "<tr><td>59</td><td>2017</td><td>1</td></tr>",
                            "<tr><td>59</td><td>Részösszeg</td><td>7</td></tr>",
                            "<tr><td>60</td><td>2016</td><td>1</td></tr>",
                            "<tr><td>60</td><td>Részösszeg</td><td>1</td></tr>",
                            "<tr><td>61</td><td>2016</td><td>4</td></tr>",
                            "<tr><td>61</td><td>2017</td><td>1</td></tr>",
                            "<tr><td>61</td><td>Részösszeg</td><td>5</td></tr>",
                            "<tr><td>62</td><td>2016</td><td>4</td></tr>",
                            "<tr><td>62</td><td>2017</td><td>1</td></tr>",
                            "<tr><td>62</td><td>Részösszeg</td><td>5</td></tr>",
                            "<tr><td>63</td><td>2016</td><td>4</td></tr>",
                            "<tr><td>63</td><td>Részösszeg</td><td>4</td></tr>",
                            "<tr><td>64</td><td>2016</td><td>3</td></tr>",
                            "<tr><td>64</td><td>2017</td><td>3</td></tr>",
                            "<tr><td>64</td><td>Részösszeg</td><td>6</td></tr>",
                            "<tr><td>65</td><td>2016</td><td>1</td></tr>",
                            "<tr><td>65</td><td>Részösszeg</td><td>1</td></tr>",
                            "<tr><td>66</td><td>2016</td><td>4</td></tr>",
                            "<tr><td>66</td><td>Részösszeg</td><td>4</td></tr>",
                            "<tr><td>67</td><td>2016</td><td>4</td></tr>",
                            "<tr><td>67</td><td>2017</td><td>2</td></tr>",
                            "<tr><td>67</td><td>Részösszeg</td><td>6</td></tr>",
                            "<tr><td>68</td><td>2016</td><td>3</td></tr>",
                            "<tr><td>68</td><td>Részösszeg</td><td>3</td></tr>",
                            "<tr><td>69</td><td>2016</td><td>4</td></tr>",
                            "<tr><td>69</td><td>Részösszeg</td><td>4</td></tr>",
                            "<tr><td>70</td><td>2016</td><td>10</td></tr>",
                            "<tr><td>70</td><td>2017</td><td>1</td></tr>",
                            "<tr><td>70</td><td>Részösszeg</td><td>11</td></tr>",
                            "<tr><td>71</td><td>2016</td><td>3</td></tr>",
                            "<tr><td>71</td><td>Részösszeg</td><td>3</td></tr>",
                            "<tr><td>72</td><td>2016</td><td>4</td></tr>",
                            "<tr><td>72</td><td>Részösszeg</td><td>4</td></tr>",
                            "<tr><td>73</td><td>2016</td><td>4</td></tr>",
                            "<tr><td>73</td><td>Részösszeg</td><td>4</td></tr>",
                            "<tr><td>74</td><td>2016</td><td>9</td></tr>",
                            "<tr><td>74</td><td>Részösszeg</td><td>9</td></tr>",
                            "<tr><td>75</td><td>2016</td><td>1</td></tr>",
                            "<tr><td>75</td><td>2017</td><td>2</td></tr>",
                            "<tr><td>75</td><td>Részösszeg</td><td>3</td></tr>",
                            "<tr><td>76</td><td>2016</td><td>2</td></tr>",
                            "<tr><td>76</td><td>2017</td><td>1</td></tr>",
                            "<tr><td>76</td><td>Részösszeg</td><td>3</td></tr>",
                            "<tr><td>77</td><td>2016</td><td>4</td></tr>",
                            "<tr><td>77</td><td>2017</td><td>2</td></tr>",
                            "<tr><td>77</td><td>Részösszeg</td><td>6</td></tr>",
                            "<tr><td>78</td><td>2016</td><td>5</td></tr>",
                            "<tr><td>78</td><td>2017</td><td>1</td></tr>",
                            "<tr><td>78</td><td>Részösszeg</td><td>6</td></tr>",
                            "<tr><td>79</td><td>2016</td><td>4</td></tr>",
                            "<tr><td>79</td><td>2017</td><td>1</td></tr>",
                            "<tr><td>79</td><td>Részösszeg</td><td>5</td></tr>",
                            "<tr><td>80</td><td>2016</td><td>7</td></tr>",
                            "<tr><td>80</td><td>Részösszeg</td><td>7</td></tr>",
                            "<tr><td>81</td><td>2016</td><td>1</td></tr>",
                            "<tr><td>81</td><td>2017</td><td>4</td></tr>",
                            "<tr><td>81</td><td>Részösszeg</td><td>5</td></tr>",
                            "<tr><td>82</td><td>2016</td><td>6</td></tr>",
                            "<tr><td>82</td><td>Részösszeg</td><td>6</td></tr>",
                            "<tr><td>83</td><td>2016</td><td>8</td></tr>",
                            "<tr><td>83</td><td>Részösszeg</td><td>8</td></tr>",
                            "<tr><td>84</td><td>2016</td><td>4</td></tr>",
                            "<tr><td>84</td><td>Részösszeg</td><td>4</td></tr>",
                            "<tr><td>85</td><td>2016</td><td>3</td></tr>",
                            "<tr><td>85</td><td>2017</td><td>1</td></tr>",
                            "<tr><td>85</td><td>Részösszeg</td><td>4</td></tr>",
                            "<tr><td>86</td><td>2016</td><td>4</td></tr>",
                            "<tr><td>86</td><td>2017</td><td>1</td></tr>",
                            "<tr><td>86</td><td>Részösszeg</td><td>5</td></tr>",
                            "<tr><td>87</td><td>2016</td><td>4</td></tr>",
                            "<tr><td>87</td><td>2017</td><td>1</td></tr>",
                            "<tr><td>87</td><td>Részösszeg</td><td>5</td></tr>",
                            "<tr><td>88</td><td>2016</td><td>6</td></tr>",
                            "<tr><td>88</td><td>2017</td><td>2</td></tr>",
                            "<tr><td>88</td><td>Részösszeg</td><td>8</td></tr>",
                            "<tr><td>89</td><td>2016</td><td>7</td></tr>",
                            "<tr><td>89</td><td>2017</td><td>1</td></tr>",
                            "<tr><td>89</td><td>Részösszeg</td><td>8</td></tr>",
                            "<tr><td>90</td><td>2016</td><td>4</td></tr>",
                            "<tr><td>90</td><td>Részösszeg</td><td>4</td></tr>",
                            "<tr><td>91</td><td>2016</td><td>4</td></tr>",
                            "<tr><td>91</td><td>Részösszeg</td><td>4</td></tr>",
                            "<tr><td>92</td><td>2016</td><td>4</td></tr>",
                            "<tr><td>92</td><td>2017</td><td>2</td></tr>",
                            "<tr><td>92</td><td>Részösszeg</td><td>6</td></tr>",
                            "<tr><td>93</td><td>2016</td><td>5</td></tr>",
                            "<tr><td>93</td><td>Részösszeg</td><td>5</td></tr>",
                            "<tr><td>94</td><td>2016</td><td>8</td></tr>",
                            "<tr><td>94</td><td>2017</td><td>2</td></tr>",
                            "<tr><td>94</td><td>Részösszeg</td><td>10</td></tr>",
                            "<tr><td>95</td><td>2016</td><td>3</td></tr>",
                            "<tr><td>95</td><td>2017</td><td>1</td></tr>",
                            "<tr><td>95</td><td>Részösszeg</td><td>4</td></tr>",
                            "<tr><td>96</td><td>2016</td><td>5</td></tr>",
                            "<tr><td>96</td><td>2017</td><td>2</td></tr>",
                            "<tr><td>96</td><td>Részösszeg</td><td>7</td></tr>",
                            "<tr><td>97</td><td>2016</td><td>5</td></tr>",
                            "<tr><td>97</td><td>2017</td><td>2</td></tr>",
                            "<tr><td>97</td><td>Részösszeg</td><td>7</td></tr>",
                            "<tr><td>98</td><td>2016</td><td>4</td></tr>",
                            "<tr><td>98</td><td>Részösszeg</td><td>4</td></tr>",
                            "<tr><td>99</td><td>2016</td><td>4</td></tr>",
                            "<tr><td>99</td><td>2017</td><td>1</td></tr>",
                            "<tr><td>99</td><td>Részösszeg</td><td>5</td></tr>",
                            "<tr><td>100</td><td>2016</td><td>3</td></tr>",
                            "<tr><td>100</td><td>2017</td><td>1</td></tr>",
                            "<tr><td>100</td><td>Részösszeg</td><td>4</td></tr>",
                            "<tr><td>101</td><td>2016</td><td>2</td></tr>",
                            "<tr><td>101</td><td>2017</td><td>1</td></tr>",
                            "<tr><td>101</td><td>Részösszeg</td><td>3</td></tr>",
                            "<tr><td>102</td><td>2016</td><td>2</td></tr>",
                            "<tr><td>102</td><td>Részösszeg</td><td>2</td></tr>",
                            "<tr><td>103</td><td>2016</td><td>3</td></tr>",
                            "<tr><td>103</td><td>2017</td><td>1</td></tr>",
                            "<tr><td>103</td><td>Részösszeg</td><td>4</td></tr>",
                            "<tr><td>104</td><td>2016</td><td>2</td></tr>",
                            "<tr><td>104</td><td>2017</td><td>2</td></tr>",
                            "<tr><td>104</td><td>Részösszeg</td><td>4</td></tr>",
                            "<tr><td>105</td><td>2016</td><td>1</td></tr>",
                            "<tr><td>105</td><td>2017</td><td>1</td></tr>",
                            "<tr><td>105</td><td>Részösszeg</td><td>2</td></tr>",
                            "<tr><td>106</td><td>2016</td><td>5</td></tr>",
                            "<tr><td>106</td><td>2017</td><td>1</td></tr>",
                            "<tr><td>106</td><td>Részösszeg</td><td>6</td></tr>",
                            "<tr><td>107</td><td>2016</td><td>3</td></tr>",
                            "<tr><td>107</td><td>2017</td><td>2</td></tr>",
                            "<tr><td>107</td><td>Részösszeg</td><td>5</td></tr>",
                            "<tr><td>108</td><td>2016</td><td>2</td></tr>",
                            "<tr><td>108</td><td>Részösszeg</td><td>2</td></tr>",
                            "<tr><td>109</td><td>2016</td><td>6</td></tr>",
                            "<tr><td>109</td><td>2017</td><td>1</td></tr>",
                            "<tr><td>109</td><td>Részösszeg</td><td>7</td></tr>",
                            "<tr><td>110</td><td>2016</td><td>6</td></tr>",
                            "<tr><td>110</td><td>2017</td><td>2</td></tr>",
                            "<tr><td>110</td><td>Részösszeg</td><td>8</td></tr>",
                            "<tr><td>111</td><td>2016</td><td>5</td></tr>",
                            "<tr><td>111</td><td>Részösszeg</td><td>5</td></tr>",
                            "<tr><td>112</td><td>2016</td><td>4</td></tr>",
                            "<tr><td>112</td><td>2017</td><td>1</td></tr>",
                            "<tr><td>112</td><td>Részösszeg</td><td>5</td></tr>",
                            "<tr><td>113</td><td>2016</td><td>3</td></tr>",
                            "<tr><td>113</td><td>2017</td><td>2</td></tr>",
                            "<tr><td>113</td><td>Részösszeg</td><td>5</td></tr>",
                            "<tr><td>114</td><td>2016</td><td>3</td></tr>",
                            "<tr><td>114</td><td>2017</td><td>1</td></tr>",
                            "<tr><td>114</td><td>Részösszeg</td><td>4</td></tr>",
                            "<tr><td>115</td><td>2016</td><td>5</td></tr>",
                            "<tr><td>115</td><td>2017</td><td>2</td></tr>",
                            "<tr><td>115</td><td>Részösszeg</td><td>7</td></tr>",
                            "<tr><td>116</td><td>2017</td><td>2</td></tr>",
                            "<tr><td>116</td><td>Részösszeg</td><td>2</td></tr>",
                            "<tr><td>117</td><td>2016</td><td>7</td></tr>",
                            "<tr><td>117</td><td>2017</td><td>1</td></tr>",
                            "<tr><td>117</td><td>Részösszeg</td><td>8</td></tr>",
                            "<tr><td>118</td><td>2016</td><td>5</td></tr>",
                            "<tr><td>118</td><td>2017</td><td>2</td></tr>",
                            "<tr><td>118</td><td>Részösszeg</td><td>7</td></tr>",
                            "<tr><td>119</td><td>2016</td><td>3</td></tr>",
                            "<tr><td>119</td><td>2017</td><td>2</td></tr>",
                            "<tr><td>119</td><td>Részösszeg</td><td>5</td></tr>",
                            "<tr><td>120</td><td>2016</td><td>4</td></tr>",
                            "<tr><td>120</td><td>2017</td><td>2</td></tr>",
                            "<tr><td>120</td><td>Részösszeg</td><td>6</td></tr>",
                            "<tr><td>121</td><td>2016</td><td>8</td></tr>",
                            "<tr><td>121</td><td>Részösszeg</td><td>8</td></tr>",
                            "<tr><td>122</td><td>2016</td><td>8</td></tr>",
                            "<tr><td>122</td><td>2017</td><td>1</td></tr>",
                            "<tr><td>122</td><td>Részösszeg</td><td>9</td></tr>",
                            "<tr><td>123</td><td>2016</td><td>5</td></tr>",
                            "<tr><td>123</td><td>Részösszeg</td><td>5</td></tr>",
                            "<tr><td>124</td><td>2016</td><td>4</td></tr>",
                            "<tr><td>124</td><td>2017</td><td>2</td></tr>",
                            "<tr><td>124</td><td>Részösszeg</td><td>6</td></tr>",
                            "<tr><td>125</td><td>2016</td><td>1</td></tr>",
                            "<tr><td>125</td><td>Részösszeg</td><td>1</td></tr>",
                            "<tr><td>126</td><td>2016</td><td>4</td></tr>",
                            "<tr><td>126</td><td>2017</td><td>2</td></tr>",
                            "<tr><td>126</td><td>Részösszeg</td><td>6</td></tr>",
                            "<tr><td>127</td><td>2016</td><td>6</td></tr>",
                            "<tr><td>127</td><td>2017</td><td>1</td></tr>",
                            "<tr><td>127</td><td>Részösszeg</td><td>7</td></tr>",
                            "<tr><td>128</td><td>2016</td><td>3</td></tr>",
                            "<tr><td>128</td><td>2017</td><td>2</td></tr>",
                            "<tr><td>128</td><td>Részösszeg</td><td>5</td></tr>",
                            "<tr><td>129</td><td>2016</td><td>2</td></tr>",
                            "<tr><td>129</td><td>2017</td><td>2</td></tr>",
                            "<tr><td>129</td><td>Részösszeg</td><td>4</td></tr>",
                            "<tr><td>130</td><td>2016</td><td>5</td></tr>",
                            "<tr><td>130</td><td>2017</td><td>1</td></tr>",
                            "<tr><td>130</td><td>Részösszeg</td><td>6</td></tr>",
                            "<tr><td>131</td><td>2016</td><td>4</td></tr>",
                            "<tr><td>131</td><td>2017</td><td>1</td></tr>",
                            "<tr><td>131</td><td>Részösszeg</td><td>5</td></tr>",
                            "<tr><td>132</td><td>2016</td><td>5</td></tr>",
                            "<tr><td>132</td><td>2017</td><td>1</td></tr>",
                            "<tr><td>132</td><td>Részösszeg</td><td>6</td></tr>",
                            "<tr><td>133</td><td>2016</td><td>5</td></tr>",
                            "<tr><td>133</td><td>2017</td><td>1</td></tr>",
                            "<tr><td>133</td><td>Részösszeg</td><td>6</td></tr>",
                            "<tr><td>134</td><td>2016</td><td>5</td></tr>",
                            "<tr><td>134</td><td>2017</td><td>1</td></tr>",
                            "<tr><td>134</td><td>Részösszeg</td><td>6</td></tr>",
                            "<tr><td>135</td><td>2016</td><td>3</td></tr>",
                            "<tr><td>135</td><td>Részösszeg</td><td>3</td></tr>",
                            "<tr><td>136</td><td>2016</td><td>3</td></tr>",
                            "<tr><td>136</td><td>Részösszeg</td><td>3</td></tr>",
                            "<tr><td>137</td><td>2016</td><td>6</td></tr>",
                            "<tr><td>137</td><td>Részösszeg</td><td>6</td></tr>",
                            "<tr><td>138</td><td>2016</td><td>7</td></tr>",
                            "<tr><td>138</td><td>Részösszeg</td><td>7</td></tr>",
                            "<tr><td>139</td><td>2016</td><td>5</td></tr>",
                            "<tr><td>139</td><td>2017</td><td>2</td></tr>",
                            "<tr><td>139</td><td>Részösszeg</td><td>7</td></tr>",
                            "<tr><td>140</td><td>2016</td><td>8</td></tr>",
                            "<tr><td>140</td><td>Részösszeg</td><td>8</td></tr>",
                            "<tr><td>141</td><td>2016</td><td>6</td></tr>",
                            "<tr><td>141</td><td>Részösszeg</td><td>6</td></tr>",
                            "<tr><td>142</td><td>2016</td><td>1</td></tr>",
                            "<tr><td>142</td><td>2017</td><td>1</td></tr>",
                            "<tr><td>142</td><td>Részösszeg</td><td>2</td></tr>",
                            "<tr><td>143</td><td>2016</td><td>6</td></tr>",
                            "<tr><td>143</td><td>2017</td><td>1</td></tr>",
                            "<tr><td>143</td><td>Részösszeg</td><td>7</td></tr>",
                            "<tr><td>144</td><td>2016</td><td>4</td></tr>",
                            "<tr><td>144</td><td>2017</td><td>1</td></tr>",
                            "<tr><td>144</td><td>Részösszeg</td><td>5</td></tr>",
                            "<tr><td>145</td><td>2016</td><td>5</td></tr>",
                            "<tr><td>145</td><td>2017</td><td>1</td></tr>",
                            "<tr><td>145</td><td>Részösszeg</td><td>6</td></tr>",
                            "<tr><td>146</td><td>2016</td><td>5</td></tr>",
                            "<tr><td>146</td><td>2017</td><td>1</td></tr>",
                            "<tr><td>146</td><td>Részösszeg</td><td>6</td></tr>",
                            "<tr><td>147</td><td>2016</td><td>1</td></tr>",
                            "<tr><td>147</td><td>Részösszeg</td><td>1</td></tr>",
                            "<tr><td>148</td><td>2016</td><td>5</td></tr>",
                            "<tr><td>148</td><td>2017</td><td>1</td></tr>",
                            "<tr><td>148</td><td>Részösszeg</td><td>6</td></tr>",
                            "<tr><td>149</td><td>2016</td><td>6</td></tr>",
                            "<tr><td>149</td><td>2017</td><td>1</td></tr>",
                            "<tr><td>149</td><td>Részösszeg</td><td>7</td></tr>",
                            "<tr><td>150</td><td>2016</td><td>5</td></tr>",
                            "<tr><td>150</td><td>2017</td><td>1</td></tr>",
                            "<tr><td>150</td><td>Részösszeg</td><td>6</td></tr>",
                            "<tr><td>151</td><td>2016</td><td>3</td></tr>",
                            "<tr><td>151</td><td>Részösszeg</td><td>3</td></tr>",
                            "<tr><td>152</td><td>2016</td><td>3</td></tr>",
                            "<tr><td>152</td><td>2017</td><td>1</td></tr>",
                            "<tr><td>152</td><td>Részösszeg</td><td>4</td></tr>",
                            "<tr><td>153</td><td>2016</td><td>2</td></tr>",
                            "<tr><td>153</td><td>2017</td><td>3</td></tr>",
                            "<tr><td>153</td><td>Részösszeg</td><td>5</td></tr>",
                            "<tr><td>154</td><td>2016</td><td>4</td></tr>",
                            "<tr><td>154</td><td>2017</td><td>1</td></tr>",
                            "<tr><td>154</td><td>Részösszeg</td><td>5</td></tr>",
                            "<tr><td>155</td><td>2016</td><td>4</td></tr>",
                            "<tr><td>155</td><td>2017</td><td>1</td></tr>",
                            "<tr><td>155</td><td>Részösszeg</td><td>5</td></tr>",
                            "<tr><td>156</td><td>2016</td><td>4</td></tr>",
                            "<tr><td>156</td><td>2017</td><td>3</td></tr>",
                            "<tr><td>156</td><td>Részösszeg</td><td>7</td></tr>",
                            "<tr><td>157</td><td>2016</td><td>4</td></tr>",
                            "<tr><td>157</td><td>2017</td><td>1</td></tr>",
                            "<tr><td>157</td><td>Részösszeg</td><td>5</td></tr>",
                            "<tr><td>158</td><td>2016</td><td>3</td></tr>",
                            "<tr><td>158</td><td>Részösszeg</td><td>3</td></tr>",
                            "<tr><td>160</td><td>2016</td><td>4</td></tr>",
                            "<tr><td>160</td><td>2017</td><td>1</td></tr>",
                            "<tr><td>160</td><td>Részösszeg</td><td>5</td></tr>",
                            "<tr><td>161</td><td>2016</td><td>5</td></tr>",
                            "<tr><td>161</td><td>2017</td><td>1</td></tr>",
                            "<tr><td>161</td><td>Részösszeg</td><td>6</td></tr>",
                            "<tr><td>162</td><td>2016</td><td>3</td></tr>",
                            "<tr><td>162</td><td>Részösszeg</td><td>3</td></tr>",
                            "<tr><td>163</td><td>2016</td><td>6</td></tr>",
                            "<tr><td>163</td><td>2017</td><td>1</td></tr>",
                            "<tr><td>163</td><td>Részösszeg</td><td>7</td></tr>",
                            "<tr><td>164</td><td>2016</td><td>5</td></tr>",
                            "<tr><td>164</td><td>Részösszeg</td><td>5</td></tr>",
                            "<tr><td>165</td><td>2016</td><td>7</td></tr>",
                            "<tr><td>165</td><td>Részösszeg</td><td>7</td></tr>",
                            "<tr><td>166</td><td>2016</td><td>2</td></tr>",
                            "<tr><td>166</td><td>2017</td><td>1</td></tr>",
                            "<tr><td>166</td><td>Részösszeg</td><td>3</td></tr>",
                            "<tr><td>167</td><td>2016</td><td>1</td></tr>",
                            "<tr><td>167</td><td>2017</td><td>1</td></tr>",
                            "<tr><td>167</td><td>Részösszeg</td><td>2</td></tr>",
                            "<tr><td>168</td><td>2016</td><td>5</td></tr>",
                            "<tr><td>168</td><td>Részösszeg</td><td>5</td></tr>",
                            "<tr><td>169</td><td>2016</td><td>5</td></tr>",
                            "<tr><td>169</td><td>2017</td><td>1</td></tr>",
                            "<tr><td>169</td><td>Részösszeg</td><td>6</td></tr>",
                            "<tr><td>170</td><td>2016</td><td>5</td></tr>",
                            "<tr><td>170</td><td>Részösszeg</td><td>5</td></tr>",
                            "<tr><td>171</td><td>2016</td><td>4</td></tr>",
                            "<tr><td>171</td><td>2017</td><td>1</td></tr>",
                            "<tr><td>171</td><td>Részösszeg</td><td>5</td></tr>",
                            "<tr><td>172</td><td>2016</td><td>7</td></tr>",
                            "<tr><td>172</td><td>2017</td><td>2</td></tr>",
                            "<tr><td>172</td><td>Részösszeg</td><td>9</td></tr>",
                            "<tr><td>173</td><td>2016</td><td>3</td></tr>",
                            "<tr><td>173</td><td>2017</td><td>1</td></tr>",
                            "<tr><td>173</td><td>Részösszeg</td><td>4</td></tr>",
                            "<tr><td>174</td><td>2016</td><td>4</td></tr>",
                            "<tr><td>174</td><td>Részösszeg</td><td>4</td></tr>",
                            "<tr><td>175</td><td>2016</td><td>5</td></tr>",
                            "<tr><td>175</td><td>Részösszeg</td><td>5</td></tr>",
                            "<tr><td>176</td><td>2016</td><td>4</td></tr>",
                            "<tr><td>176</td><td>2017</td><td>2</td></tr>",
                            "<tr><td>176</td><td>Részösszeg</td><td>6</td></tr>",
                            "<tr><td>177</td><td>2016</td><td>3</td></tr>",
                            "<tr><td>177</td><td>2017</td><td>1</td></tr>",
                            "<tr><td>177</td><td>Részösszeg</td><td>4</td></tr>",
                            "<tr><td>178</td><td>2016</td><td>4</td></tr>",
                            "<tr><td>178</td><td>Részösszeg</td><td>4</td></tr>",
                            "<tr><td>179</td><td>2016</td><td>2</td></tr>",
                            "<tr><td>179</td><td>2017</td><td>1</td></tr>",
                            "<tr><td>179</td><td>Részösszeg</td><td>3</td></tr>",
                            "<tr><td>180</td><td>2016</td><td>1</td></tr>",
                            "<tr><td>180</td><td>2017</td><td>2</td></tr>",
                            "<tr><td>180</td><td>Részösszeg</td><td>3</td></tr>",
                            "<tr><td>181</td><td>2016</td><td>6</td></tr>",
                            "<tr><td>181</td><td>Részösszeg</td><td>6</td></tr>",
                            "<tr><td>182</td><td>2016</td><td>10</td></tr>",
                            "<tr><td>182</td><td>2017</td><td>2</td></tr>",
                            "<tr><td>182</td><td>Részösszeg</td><td>12</td></tr>",
                            "<tr><td>183</td><td>2016</td><td>3</td></tr>",
                            "<tr><td>183</td><td>2017</td><td>1</td></tr>",
                            "<tr><td>183</td><td>Részösszeg</td><td>4</td></tr>",
                            "<tr><td>184</td><td>2016</td><td>4</td></tr>",
                            "<tr><td>184</td><td>Részösszeg</td><td>4</td></tr>",
                            "<tr><td>185</td><td>2016</td><td>10</td></tr>",
                            "<tr><td>185</td><td>2017</td><td>2</td></tr>",
                            "<tr><td>185</td><td>Részösszeg</td><td>12</td></tr>",
                            "<tr><td>186</td><td>2016</td><td>3</td></tr>",
                            "<tr><td>186</td><td>2017</td><td>1</td></tr>",
                            "<tr><td>186</td><td>Részösszeg</td><td>4</td></tr>",
                            "<tr><td>187</td><td>2016</td><td>7</td></tr>",
                            "<tr><td>187</td><td>Részösszeg</td><td>7</td></tr>",
                            "<tr><td>188</td><td>2016</td><td>6</td></tr>",
                            "<tr><td>188</td><td>Részösszeg</td><td>6</td></tr>",
                            "<tr><td>189</td><td>2016</td><td>3</td></tr>",
                            "<tr><td>189</td><td>2017</td><td>2</td></tr>",
                            "<tr><td>189</td><td>Részösszeg</td><td>5</td></tr>",
                            "<tr><td>190</td><td>2016</td><td>4</td></tr>",
                            "<tr><td>190</td><td>2017</td><td>1</td></tr>",
                            "<tr><td>190</td><td>Részösszeg</td><td>5</td></tr>",
                            "<tr><td>191</td><td>2016</td><td>3</td></tr>",
                            "<tr><td>191</td><td>2017</td><td>2</td></tr>",
                            "<tr><td>191</td><td>Részösszeg</td><td>5</td></tr>",
                            "<tr><td>192</td><td>2016</td><td>2</td></tr>",
                            "<tr><td>192</td><td>Részösszeg</td><td>2</td></tr>",
                            "<tr><td>193</td><td>2016</td><td>7</td></tr>",
                            "<tr><td>193</td><td>Részösszeg</td><td>7</td></tr>",
                            "<tr><td>194</td><td>2016</td><td>1</td></tr>",
                            "<tr><td>194</td><td>Részösszeg</td><td>1</td></tr>",
                            "<tr><td>195</td><td>2016</td><td>4</td></tr>",
                            "<tr><td>195</td><td>2017</td><td>2</td></tr>",
                            "<tr><td>195</td><td>Részösszeg</td><td>6</td></tr>",
                            "<tr><td>196</td><td>2016</td><td>4</td></tr>",
                            "<tr><td>196</td><td>Részösszeg</td><td>4</td></tr>",
                            "<tr><td>197</td><td>2016</td><td>6</td></tr>",
                            "<tr><td>197</td><td>Részösszeg</td><td>6</td></tr>",
                            "<tr><td>198</td><td>2016</td><td>7</td></tr>",
                            "<tr><td>198</td><td>2017</td><td>1</td></tr>",
                            "<tr><td>198</td><td>Részösszeg</td><td>8</td></tr>",
                            "<tr><td>Végösszeg</td><td>Végösszeg</td><td>1027</td></tr>",
                            "</table>"
                        ]
                    }
                }
            ],
            "execution_count": 3
        },
        {
            "cell_type": "markdown",
            "source": [
                "2."
            ],
            "metadata": {
                "azdata_cell_guid": "a0d3648f-7b3e-4157-8f7f-be248e1e68d7"
            },
            "attachments": {}
        },
        {
            "cell_type": "code",
            "source": [
                "SELECT  SZOBA_FK,\r\n",
                "        FOGLALAS_PK,\r\n",
                "        DATEDIFF(DAY, METTOL, MEDDIG) AS 'Foglalt napok száma',\r\n",
                "        IIF(LAG(DATEDIFF(DAY, METTOL, MEDDIG)) OVER(ORDER BY FOGLALAS_PK) IS NULL, 0, LAG(DATEDIFF(DAY, METTOL, MEDDIG)) OVER(ORDER BY FOGLALAS_PK))\r\n",
                "FROM Foglalas\r\n",
                ""
            ],
            "metadata": {
                "azdata_cell_guid": "a79f24db-8841-4a75-887b-5e820eac8d25",
                "language": "sql"
            },
            "outputs": [
                {
                    "output_type": "display_data",
                    "data": {
                        "text/html": "(1027 rows affected)"
                    },
                    "metadata": {}
                },
                {
                    "output_type": "display_data",
                    "data": {
                        "text/html": "Total execution time: 00:00:00.013"
                    },
                    "metadata": {}
                },
                {
                    "output_type": "execute_result",
                    "metadata": {},
                    "execution_count": 6,
                    "data": {
                        "application/vnd.dataresource+json": {
                            "schema": {
                                "fields": [
                                    {
                                        "name": "SZOBA_FK"
                                    },
                                    {
                                        "name": "FOGLALAS_PK"
                                    },
                                    {
                                        "name": "Foglalt napok száma"
                                    },
                                    {
                                        "name": "(No column name)"
                                    }
                                ]
                            },
                            "data": [
                                {
                                    "SZOBA_FK": "87",
                                    "FOGLALAS_PK": "558",
                                    "Foglalt napok száma": "4",
                                    "(No column name)": "0"
                                },
                                {
                                    "SZOBA_FK": "131",
                                    "FOGLALAS_PK": "559",
                                    "Foglalt napok száma": "2",
                                    "(No column name)": "4"
                                },
                                {
                                    "SZOBA_FK": "6",
                                    "FOGLALAS_PK": "560",
                                    "Foglalt napok száma": "6",
                                    "(No column name)": "2"
                                },
                                {
                                    "SZOBA_FK": "42",
                                    "FOGLALAS_PK": "561",
                                    "Foglalt napok száma": "4",
                                    "(No column name)": "6"
                                },
                                {
                                    "SZOBA_FK": "7",
                                    "FOGLALAS_PK": "562",
                                    "Foglalt napok száma": "4",
                                    "(No column name)": "4"
                                },
                                {
                                    "SZOBA_FK": "68",
                                    "FOGLALAS_PK": "563",
                                    "Foglalt napok száma": "5",
                                    "(No column name)": "4"
                                },
                                {
                                    "SZOBA_FK": "5",
                                    "FOGLALAS_PK": "564",
                                    "Foglalt napok száma": "2",
                                    "(No column name)": "5"
                                },
                                {
                                    "SZOBA_FK": "141",
                                    "FOGLALAS_PK": "565",
                                    "Foglalt napok száma": "6",
                                    "(No column name)": "2"
                                },
                                {
                                    "SZOBA_FK": "21",
                                    "FOGLALAS_PK": "566",
                                    "Foglalt napok száma": "6",
                                    "(No column name)": "6"
                                },
                                {
                                    "SZOBA_FK": "170",
                                    "FOGLALAS_PK": "567",
                                    "Foglalt napok száma": "7",
                                    "(No column name)": "6"
                                },
                                {
                                    "SZOBA_FK": "78",
                                    "FOGLALAS_PK": "568",
                                    "Foglalt napok száma": "1",
                                    "(No column name)": "7"
                                },
                                {
                                    "SZOBA_FK": "10",
                                    "FOGLALAS_PK": "569",
                                    "Foglalt napok száma": "3",
                                    "(No column name)": "1"
                                },
                                {
                                    "SZOBA_FK": "164",
                                    "FOGLALAS_PK": "570",
                                    "Foglalt napok száma": "7",
                                    "(No column name)": "3"
                                },
                                {
                                    "SZOBA_FK": "182",
                                    "FOGLALAS_PK": "571",
                                    "Foglalt napok száma": "2",
                                    "(No column name)": "7"
                                },
                                {
                                    "SZOBA_FK": "83",
                                    "FOGLALAS_PK": "572",
                                    "Foglalt napok száma": "7",
                                    "(No column name)": "2"
                                },
                                {
                                    "SZOBA_FK": "169",
                                    "FOGLALAS_PK": "573",
                                    "Foglalt napok száma": "5",
                                    "(No column name)": "7"
                                },
                                {
                                    "SZOBA_FK": "171",
                                    "FOGLALAS_PK": "574",
                                    "Foglalt napok száma": "2",
                                    "(No column name)": "5"
                                },
                                {
                                    "SZOBA_FK": "155",
                                    "FOGLALAS_PK": "575",
                                    "Foglalt napok száma": "1",
                                    "(No column name)": "2"
                                },
                                {
                                    "SZOBA_FK": "125",
                                    "FOGLALAS_PK": "576",
                                    "Foglalt napok száma": "1",
                                    "(No column name)": "1"
                                },
                                {
                                    "SZOBA_FK": "155",
                                    "FOGLALAS_PK": "577",
                                    "Foglalt napok száma": "3",
                                    "(No column name)": "1"
                                },
                                {
                                    "SZOBA_FK": "185",
                                    "FOGLALAS_PK": "578",
                                    "Foglalt napok száma": "6",
                                    "(No column name)": "3"
                                },
                                {
                                    "SZOBA_FK": "139",
                                    "FOGLALAS_PK": "579",
                                    "Foglalt napok száma": "2",
                                    "(No column name)": "6"
                                },
                                {
                                    "SZOBA_FK": "130",
                                    "FOGLALAS_PK": "580",
                                    "Foglalt napok száma": "3",
                                    "(No column name)": "2"
                                },
                                {
                                    "SZOBA_FK": "144",
                                    "FOGLALAS_PK": "581",
                                    "Foglalt napok száma": "4",
                                    "(No column name)": "3"
                                },
                                {
                                    "SZOBA_FK": "137",
                                    "FOGLALAS_PK": "582",
                                    "Foglalt napok száma": "3",
                                    "(No column name)": "4"
                                },
                                {
                                    "SZOBA_FK": "79",
                                    "FOGLALAS_PK": "583",
                                    "Foglalt napok száma": "6",
                                    "(No column name)": "3"
                                },
                                {
                                    "SZOBA_FK": "136",
                                    "FOGLALAS_PK": "584",
                                    "Foglalt napok száma": "2",
                                    "(No column name)": "6"
                                },
                                {
                                    "SZOBA_FK": "70",
                                    "FOGLALAS_PK": "585",
                                    "Foglalt napok száma": "5",
                                    "(No column name)": "2"
                                },
                                {
                                    "SZOBA_FK": "107",
                                    "FOGLALAS_PK": "586",
                                    "Foglalt napok száma": "6",
                                    "(No column name)": "5"
                                },
                                {
                                    "SZOBA_FK": "123",
                                    "FOGLALAS_PK": "587",
                                    "Foglalt napok száma": "7",
                                    "(No column name)": "6"
                                },
                                {
                                    "SZOBA_FK": "156",
                                    "FOGLALAS_PK": "588",
                                    "Foglalt napok száma": "7",
                                    "(No column name)": "7"
                                },
                                {
                                    "SZOBA_FK": "44",
                                    "FOGLALAS_PK": "589",
                                    "Foglalt napok száma": "2",
                                    "(No column name)": "7"
                                },
                                {
                                    "SZOBA_FK": "42",
                                    "FOGLALAS_PK": "590",
                                    "Foglalt napok száma": "5",
                                    "(No column name)": "2"
                                },
                                {
                                    "SZOBA_FK": "149",
                                    "FOGLALAS_PK": "591",
                                    "Foglalt napok száma": "1",
                                    "(No column name)": "5"
                                },
                                {
                                    "SZOBA_FK": "176",
                                    "FOGLALAS_PK": "592",
                                    "Foglalt napok száma": "5",
                                    "(No column name)": "1"
                                },
                                {
                                    "SZOBA_FK": "77",
                                    "FOGLALAS_PK": "593",
                                    "Foglalt napok száma": "3",
                                    "(No column name)": "5"
                                },
                                {
                                    "SZOBA_FK": "153",
                                    "FOGLALAS_PK": "594",
                                    "Foglalt napok száma": "3",
                                    "(No column name)": "3"
                                },
                                {
                                    "SZOBA_FK": "74",
                                    "FOGLALAS_PK": "595",
                                    "Foglalt napok száma": "7",
                                    "(No column name)": "3"
                                },
                                {
                                    "SZOBA_FK": "115",
                                    "FOGLALAS_PK": "596",
                                    "Foglalt napok száma": "7",
                                    "(No column name)": "7"
                                },
                                {
                                    "SZOBA_FK": "100",
                                    "FOGLALAS_PK": "597",
                                    "Foglalt napok száma": "1",
                                    "(No column name)": "7"
                                },
                                {
                                    "SZOBA_FK": "31",
                                    "FOGLALAS_PK": "598",
                                    "Foglalt napok száma": "2",
                                    "(No column name)": "1"
                                },
                                {
                                    "SZOBA_FK": "162",
                                    "FOGLALAS_PK": "599",
                                    "Foglalt napok száma": "4",
                                    "(No column name)": "2"
                                },
                                {
                                    "SZOBA_FK": "190",
                                    "FOGLALAS_PK": "600",
                                    "Foglalt napok száma": "7",
                                    "(No column name)": "4"
                                },
                                {
                                    "SZOBA_FK": "39",
                                    "FOGLALAS_PK": "601",
                                    "Foglalt napok száma": "6",
                                    "(No column name)": "7"
                                },
                                {
                                    "SZOBA_FK": "17",
                                    "FOGLALAS_PK": "602",
                                    "Foglalt napok száma": "6",
                                    "(No column name)": "6"
                                },
                                {
                                    "SZOBA_FK": "48",
                                    "FOGLALAS_PK": "603",
                                    "Foglalt napok száma": "3",
                                    "(No column name)": "6"
                                },
                                {
                                    "SZOBA_FK": "30",
                                    "FOGLALAS_PK": "604",
                                    "Foglalt napok száma": "2",
                                    "(No column name)": "3"
                                },
                                {
                                    "SZOBA_FK": "111",
                                    "FOGLALAS_PK": "605",
                                    "Foglalt napok száma": "7",
                                    "(No column name)": "2"
                                },
                                {
                                    "SZOBA_FK": "31",
                                    "FOGLALAS_PK": "606",
                                    "Foglalt napok száma": "1",
                                    "(No column name)": "7"
                                },
                                {
                                    "SZOBA_FK": "96",
                                    "FOGLALAS_PK": "607",
                                    "Foglalt napok száma": "4",
                                    "(No column name)": "1"
                                },
                                {
                                    "SZOBA_FK": "184",
                                    "FOGLALAS_PK": "608",
                                    "Foglalt napok száma": "2",
                                    "(No column name)": "4"
                                },
                                {
                                    "SZOBA_FK": "9",
                                    "FOGLALAS_PK": "609",
                                    "Foglalt napok száma": "2",
                                    "(No column name)": "2"
                                },
                                {
                                    "SZOBA_FK": "106",
                                    "FOGLALAS_PK": "610",
                                    "Foglalt napok száma": "3",
                                    "(No column name)": "2"
                                },
                                {
                                    "SZOBA_FK": "29",
                                    "FOGLALAS_PK": "611",
                                    "Foglalt napok száma": "5",
                                    "(No column name)": "3"
                                },
                                {
                                    "SZOBA_FK": "117",
                                    "FOGLALAS_PK": "612",
                                    "Foglalt napok száma": "2",
                                    "(No column name)": "5"
                                },
                                {
                                    "SZOBA_FK": "130",
                                    "FOGLALAS_PK": "613",
                                    "Foglalt napok száma": "3",
                                    "(No column name)": "2"
                                },
                                {
                                    "SZOBA_FK": "109",
                                    "FOGLALAS_PK": "614",
                                    "Foglalt napok száma": "4",
                                    "(No column name)": "3"
                                },
                                {
                                    "SZOBA_FK": "186",
                                    "FOGLALAS_PK": "615",
                                    "Foglalt napok száma": "3",
                                    "(No column name)": "4"
                                },
                                {
                                    "SZOBA_FK": "94",
                                    "FOGLALAS_PK": "616",
                                    "Foglalt napok száma": "4",
                                    "(No column name)": "3"
                                },
                                {
                                    "SZOBA_FK": "117",
                                    "FOGLALAS_PK": "617",
                                    "Foglalt napok száma": "3",
                                    "(No column name)": "4"
                                },
                                {
                                    "SZOBA_FK": "105",
                                    "FOGLALAS_PK": "618",
                                    "Foglalt napok száma": "1",
                                    "(No column name)": "3"
                                },
                                {
                                    "SZOBA_FK": "132",
                                    "FOGLALAS_PK": "619",
                                    "Foglalt napok száma": "7",
                                    "(No column name)": "1"
                                },
                                {
                                    "SZOBA_FK": "1",
                                    "FOGLALAS_PK": "620",
                                    "Foglalt napok száma": "5",
                                    "(No column name)": "7"
                                },
                                {
                                    "SZOBA_FK": "109",
                                    "FOGLALAS_PK": "621",
                                    "Foglalt napok száma": "7",
                                    "(No column name)": "5"
                                },
                                {
                                    "SZOBA_FK": "54",
                                    "FOGLALAS_PK": "622",
                                    "Foglalt napok száma": "7",
                                    "(No column name)": "7"
                                },
                                {
                                    "SZOBA_FK": "96",
                                    "FOGLALAS_PK": "623",
                                    "Foglalt napok száma": "7",
                                    "(No column name)": "7"
                                },
                                {
                                    "SZOBA_FK": "33",
                                    "FOGLALAS_PK": "624",
                                    "Foglalt napok száma": "6",
                                    "(No column name)": "7"
                                },
                                {
                                    "SZOBA_FK": "63",
                                    "FOGLALAS_PK": "625",
                                    "Foglalt napok száma": "3",
                                    "(No column name)": "6"
                                },
                                {
                                    "SZOBA_FK": "18",
                                    "FOGLALAS_PK": "626",
                                    "Foglalt napok száma": "3",
                                    "(No column name)": "3"
                                },
                                {
                                    "SZOBA_FK": "38",
                                    "FOGLALAS_PK": "627",
                                    "Foglalt napok száma": "6",
                                    "(No column name)": "3"
                                },
                                {
                                    "SZOBA_FK": "48",
                                    "FOGLALAS_PK": "628",
                                    "Foglalt napok száma": "2",
                                    "(No column name)": "6"
                                },
                                {
                                    "SZOBA_FK": "3",
                                    "FOGLALAS_PK": "629",
                                    "Foglalt napok száma": "4",
                                    "(No column name)": "2"
                                },
                                {
                                    "SZOBA_FK": "163",
                                    "FOGLALAS_PK": "630",
                                    "Foglalt napok száma": "2",
                                    "(No column name)": "4"
                                },
                                {
                                    "SZOBA_FK": "98",
                                    "FOGLALAS_PK": "631",
                                    "Foglalt napok száma": "6",
                                    "(No column name)": "2"
                                },
                                {
                                    "SZOBA_FK": "99",
                                    "FOGLALAS_PK": "632",
                                    "Foglalt napok száma": "1",
                                    "(No column name)": "6"
                                },
                                {
                                    "SZOBA_FK": "187",
                                    "FOGLALAS_PK": "633",
                                    "Foglalt napok száma": "6",
                                    "(No column name)": "1"
                                },
                                {
                                    "SZOBA_FK": "193",
                                    "FOGLALAS_PK": "634",
                                    "Foglalt napok száma": "6",
                                    "(No column name)": "6"
                                },
                                {
                                    "SZOBA_FK": "97",
                                    "FOGLALAS_PK": "635",
                                    "Foglalt napok száma": "3",
                                    "(No column name)": "6"
                                },
                                {
                                    "SZOBA_FK": "91",
                                    "FOGLALAS_PK": "636",
                                    "Foglalt napok száma": "6",
                                    "(No column name)": "3"
                                },
                                {
                                    "SZOBA_FK": "100",
                                    "FOGLALAS_PK": "637",
                                    "Foglalt napok száma": "5",
                                    "(No column name)": "6"
                                },
                                {
                                    "SZOBA_FK": "67",
                                    "FOGLALAS_PK": "638",
                                    "Foglalt napok száma": "5",
                                    "(No column name)": "5"
                                },
                                {
                                    "SZOBA_FK": "161",
                                    "FOGLALAS_PK": "639",
                                    "Foglalt napok száma": "4",
                                    "(No column name)": "5"
                                },
                                {
                                    "SZOBA_FK": "165",
                                    "FOGLALAS_PK": "640",
                                    "Foglalt napok száma": "3",
                                    "(No column name)": "4"
                                },
                                {
                                    "SZOBA_FK": "150",
                                    "FOGLALAS_PK": "641",
                                    "Foglalt napok száma": "3",
                                    "(No column name)": "3"
                                },
                                {
                                    "SZOBA_FK": "54",
                                    "FOGLALAS_PK": "642",
                                    "Foglalt napok száma": "5",
                                    "(No column name)": "3"
                                },
                                {
                                    "SZOBA_FK": "127",
                                    "FOGLALAS_PK": "643",
                                    "Foglalt napok száma": "2",
                                    "(No column name)": "5"
                                },
                                {
                                    "SZOBA_FK": "166",
                                    "FOGLALAS_PK": "644",
                                    "Foglalt napok száma": "7",
                                    "(No column name)": "2"
                                },
                                {
                                    "SZOBA_FK": "67",
                                    "FOGLALAS_PK": "645",
                                    "Foglalt napok száma": "6",
                                    "(No column name)": "7"
                                },
                                {
                                    "SZOBA_FK": "78",
                                    "FOGLALAS_PK": "646",
                                    "Foglalt napok száma": "3",
                                    "(No column name)": "6"
                                },
                                {
                                    "SZOBA_FK": "85",
                                    "FOGLALAS_PK": "647",
                                    "Foglalt napok száma": "3",
                                    "(No column name)": "3"
                                },
                                {
                                    "SZOBA_FK": "157",
                                    "FOGLALAS_PK": "648",
                                    "Foglalt napok száma": "4",
                                    "(No column name)": "3"
                                },
                                {
                                    "SZOBA_FK": "137",
                                    "FOGLALAS_PK": "649",
                                    "Foglalt napok száma": "5",
                                    "(No column name)": "4"
                                },
                                {
                                    "SZOBA_FK": "65",
                                    "FOGLALAS_PK": "650",
                                    "Foglalt napok száma": "6",
                                    "(No column name)": "5"
                                },
                                {
                                    "SZOBA_FK": "4",
                                    "FOGLALAS_PK": "651",
                                    "Foglalt napok száma": "7",
                                    "(No column name)": "6"
                                },
                                {
                                    "SZOBA_FK": "149",
                                    "FOGLALAS_PK": "652",
                                    "Foglalt napok száma": "1",
                                    "(No column name)": "7"
                                },
                                {
                                    "SZOBA_FK": "161",
                                    "FOGLALAS_PK": "653",
                                    "Foglalt napok száma": "7",
                                    "(No column name)": "1"
                                },
                                {
                                    "SZOBA_FK": "109",
                                    "FOGLALAS_PK": "654",
                                    "Foglalt napok száma": "5",
                                    "(No column name)": "7"
                                },
                                {
                                    "SZOBA_FK": "131",
                                    "FOGLALAS_PK": "655",
                                    "Foglalt napok száma": "1",
                                    "(No column name)": "5"
                                },
                                {
                                    "SZOBA_FK": "95",
                                    "FOGLALAS_PK": "656",
                                    "Foglalt napok száma": "7",
                                    "(No column name)": "1"
                                },
                                {
                                    "SZOBA_FK": "137",
                                    "FOGLALAS_PK": "657",
                                    "Foglalt napok száma": "6",
                                    "(No column name)": "7"
                                },
                                {
                                    "SZOBA_FK": "44",
                                    "FOGLALAS_PK": "658",
                                    "Foglalt napok száma": "6",
                                    "(No column name)": "6"
                                },
                                {
                                    "SZOBA_FK": "169",
                                    "FOGLALAS_PK": "659",
                                    "Foglalt napok száma": "6",
                                    "(No column name)": "6"
                                },
                                {
                                    "SZOBA_FK": "21",
                                    "FOGLALAS_PK": "660",
                                    "Foglalt napok száma": "5",
                                    "(No column name)": "6"
                                },
                                {
                                    "SZOBA_FK": "136",
                                    "FOGLALAS_PK": "661",
                                    "Foglalt napok száma": "5",
                                    "(No column name)": "5"
                                },
                                {
                                    "SZOBA_FK": "179",
                                    "FOGLALAS_PK": "662",
                                    "Foglalt napok száma": "2",
                                    "(No column name)": "5"
                                },
                                {
                                    "SZOBA_FK": "14",
                                    "FOGLALAS_PK": "663",
                                    "Foglalt napok száma": "1",
                                    "(No column name)": "2"
                                },
                                {
                                    "SZOBA_FK": "146",
                                    "FOGLALAS_PK": "664",
                                    "Foglalt napok száma": "3",
                                    "(No column name)": "1"
                                },
                                {
                                    "SZOBA_FK": "94",
                                    "FOGLALAS_PK": "665",
                                    "Foglalt napok száma": "7",
                                    "(No column name)": "3"
                                },
                                {
                                    "SZOBA_FK": "3",
                                    "FOGLALAS_PK": "666",
                                    "Foglalt napok száma": "6",
                                    "(No column name)": "7"
                                },
                                {
                                    "SZOBA_FK": "80",
                                    "FOGLALAS_PK": "667",
                                    "Foglalt napok száma": "6",
                                    "(No column name)": "6"
                                },
                                {
                                    "SZOBA_FK": "54",
                                    "FOGLALAS_PK": "668",
                                    "Foglalt napok száma": "1",
                                    "(No column name)": "6"
                                },
                                {
                                    "SZOBA_FK": "173",
                                    "FOGLALAS_PK": "669",
                                    "Foglalt napok száma": "7",
                                    "(No column name)": "1"
                                },
                                {
                                    "SZOBA_FK": "43",
                                    "FOGLALAS_PK": "670",
                                    "Foglalt napok száma": "4",
                                    "(No column name)": "7"
                                },
                                {
                                    "SZOBA_FK": "96",
                                    "FOGLALAS_PK": "671",
                                    "Foglalt napok száma": "4",
                                    "(No column name)": "4"
                                },
                                {
                                    "SZOBA_FK": "185",
                                    "FOGLALAS_PK": "672",
                                    "Foglalt napok száma": "3",
                                    "(No column name)": "4"
                                },
                                {
                                    "SZOBA_FK": "196",
                                    "FOGLALAS_PK": "673",
                                    "Foglalt napok száma": "5",
                                    "(No column name)": "3"
                                },
                                {
                                    "SZOBA_FK": "83",
                                    "FOGLALAS_PK": "674",
                                    "Foglalt napok száma": "4",
                                    "(No column name)": "5"
                                },
                                {
                                    "SZOBA_FK": "193",
                                    "FOGLALAS_PK": "675",
                                    "Foglalt napok száma": "2",
                                    "(No column name)": "4"
                                },
                                {
                                    "SZOBA_FK": "60",
                                    "FOGLALAS_PK": "676",
                                    "Foglalt napok száma": "2",
                                    "(No column name)": "2"
                                },
                                {
                                    "SZOBA_FK": "181",
                                    "FOGLALAS_PK": "677",
                                    "Foglalt napok száma": "4",
                                    "(No column name)": "2"
                                },
                                {
                                    "SZOBA_FK": "148",
                                    "FOGLALAS_PK": "678",
                                    "Foglalt napok száma": "4",
                                    "(No column name)": "4"
                                },
                                {
                                    "SZOBA_FK": "185",
                                    "FOGLALAS_PK": "679",
                                    "Foglalt napok száma": "5",
                                    "(No column name)": "4"
                                },
                                {
                                    "SZOBA_FK": "192",
                                    "FOGLALAS_PK": "680",
                                    "Foglalt napok száma": "4",
                                    "(No column name)": "5"
                                },
                                {
                                    "SZOBA_FK": "71",
                                    "FOGLALAS_PK": "681",
                                    "Foglalt napok száma": "3",
                                    "(No column name)": "4"
                                },
                                {
                                    "SZOBA_FK": "174",
                                    "FOGLALAS_PK": "682",
                                    "Foglalt napok száma": "3",
                                    "(No column name)": "3"
                                },
                                {
                                    "SZOBA_FK": "76",
                                    "FOGLALAS_PK": "683",
                                    "Foglalt napok száma": "7",
                                    "(No column name)": "3"
                                },
                                {
                                    "SZOBA_FK": "184",
                                    "FOGLALAS_PK": "684",
                                    "Foglalt napok száma": "3",
                                    "(No column name)": "7"
                                },
                                {
                                    "SZOBA_FK": "110",
                                    "FOGLALAS_PK": "685",
                                    "Foglalt napok száma": "1",
                                    "(No column name)": "3"
                                },
                                {
                                    "SZOBA_FK": "35",
                                    "FOGLALAS_PK": "686",
                                    "Foglalt napok száma": "6",
                                    "(No column name)": "1"
                                },
                                {
                                    "SZOBA_FK": "16",
                                    "FOGLALAS_PK": "687",
                                    "Foglalt napok száma": "3",
                                    "(No column name)": "6"
                                },
                                {
                                    "SZOBA_FK": "37",
                                    "FOGLALAS_PK": "688",
                                    "Foglalt napok száma": "2",
                                    "(No column name)": "3"
                                },
                                {
                                    "SZOBA_FK": "102",
                                    "FOGLALAS_PK": "689",
                                    "Foglalt napok száma": "5",
                                    "(No column name)": "2"
                                },
                                {
                                    "SZOBA_FK": "188",
                                    "FOGLALAS_PK": "690",
                                    "Foglalt napok száma": "4",
                                    "(No column name)": "5"
                                },
                                {
                                    "SZOBA_FK": "99",
                                    "FOGLALAS_PK": "691",
                                    "Foglalt napok száma": "5",
                                    "(No column name)": "4"
                                },
                                {
                                    "SZOBA_FK": "156",
                                    "FOGLALAS_PK": "692",
                                    "Foglalt napok száma": "6",
                                    "(No column name)": "5"
                                },
                                {
                                    "SZOBA_FK": "185",
                                    "FOGLALAS_PK": "693",
                                    "Foglalt napok száma": "2",
                                    "(No column name)": "6"
                                },
                                {
                                    "SZOBA_FK": "8",
                                    "FOGLALAS_PK": "694",
                                    "Foglalt napok száma": "4",
                                    "(No column name)": "2"
                                },
                                {
                                    "SZOBA_FK": "187",
                                    "FOGLALAS_PK": "695",
                                    "Foglalt napok száma": "6",
                                    "(No column name)": "4"
                                },
                                {
                                    "SZOBA_FK": "19",
                                    "FOGLALAS_PK": "696",
                                    "Foglalt napok száma": "1",
                                    "(No column name)": "6"
                                },
                                {
                                    "SZOBA_FK": "12",
                                    "FOGLALAS_PK": "697",
                                    "Foglalt napok száma": "2",
                                    "(No column name)": "1"
                                },
                                {
                                    "SZOBA_FK": "77",
                                    "FOGLALAS_PK": "698",
                                    "Foglalt napok száma": "4",
                                    "(No column name)": "2"
                                },
                                {
                                    "SZOBA_FK": "189",
                                    "FOGLALAS_PK": "699",
                                    "Foglalt napok száma": "2",
                                    "(No column name)": "4"
                                },
                                {
                                    "SZOBA_FK": "78",
                                    "FOGLALAS_PK": "700",
                                    "Foglalt napok száma": "5",
                                    "(No column name)": "2"
                                },
                                {
                                    "SZOBA_FK": "61",
                                    "FOGLALAS_PK": "701",
                                    "Foglalt napok száma": "2",
                                    "(No column name)": "5"
                                },
                                {
                                    "SZOBA_FK": "62",
                                    "FOGLALAS_PK": "702",
                                    "Foglalt napok száma": "5",
                                    "(No column name)": "2"
                                },
                                {
                                    "SZOBA_FK": "145",
                                    "FOGLALAS_PK": "703",
                                    "Foglalt napok száma": "4",
                                    "(No column name)": "5"
                                },
                                {
                                    "SZOBA_FK": "70",
                                    "FOGLALAS_PK": "704",
                                    "Foglalt napok száma": "3",
                                    "(No column name)": "4"
                                },
                                {
                                    "SZOBA_FK": "37",
                                    "FOGLALAS_PK": "705",
                                    "Foglalt napok száma": "4",
                                    "(No column name)": "3"
                                },
                                {
                                    "SZOBA_FK": "119",
                                    "FOGLALAS_PK": "706",
                                    "Foglalt napok száma": "2",
                                    "(No column name)": "4"
                                },
                                {
                                    "SZOBA_FK": "35",
                                    "FOGLALAS_PK": "707",
                                    "Foglalt napok száma": "2",
                                    "(No column name)": "2"
                                },
                                {
                                    "SZOBA_FK": "106",
                                    "FOGLALAS_PK": "708",
                                    "Foglalt napok száma": "7",
                                    "(No column name)": "2"
                                },
                                {
                                    "SZOBA_FK": "172",
                                    "FOGLALAS_PK": "709",
                                    "Foglalt napok száma": "5",
                                    "(No column name)": "7"
                                },
                                {
                                    "SZOBA_FK": "188",
                                    "FOGLALAS_PK": "710",
                                    "Foglalt napok száma": "7",
                                    "(No column name)": "5"
                                },
                                {
                                    "SZOBA_FK": "185",
                                    "FOGLALAS_PK": "711",
                                    "Foglalt napok száma": "3",
                                    "(No column name)": "7"
                                },
                                {
                                    "SZOBA_FK": "71",
                                    "FOGLALAS_PK": "712",
                                    "Foglalt napok száma": "1",
                                    "(No column name)": "3"
                                },
                                {
                                    "SZOBA_FK": "17",
                                    "FOGLALAS_PK": "713",
                                    "Foglalt napok száma": "6",
                                    "(No column name)": "1"
                                },
                                {
                                    "SZOBA_FK": "73",
                                    "FOGLALAS_PK": "714",
                                    "Foglalt napok száma": "7",
                                    "(No column name)": "6"
                                },
                                {
                                    "SZOBA_FK": "101",
                                    "FOGLALAS_PK": "715",
                                    "Foglalt napok száma": "3",
                                    "(No column name)": "7"
                                },
                                {
                                    "SZOBA_FK": "118",
                                    "FOGLALAS_PK": "716",
                                    "Foglalt napok száma": "1",
                                    "(No column name)": "3"
                                },
                                {
                                    "SZOBA_FK": "128",
                                    "FOGLALAS_PK": "717",
                                    "Foglalt napok száma": "2",
                                    "(No column name)": "1"
                                },
                                {
                                    "SZOBA_FK": "97",
                                    "FOGLALAS_PK": "718",
                                    "Foglalt napok száma": "7",
                                    "(No column name)": "2"
                                },
                                {
                                    "SZOBA_FK": "58",
                                    "FOGLALAS_PK": "719",
                                    "Foglalt napok száma": "3",
                                    "(No column name)": "7"
                                },
                                {
                                    "SZOBA_FK": "160",
                                    "FOGLALAS_PK": "720",
                                    "Foglalt napok száma": "2",
                                    "(No column name)": "3"
                                },
                                {
                                    "SZOBA_FK": "195",
                                    "FOGLALAS_PK": "721",
                                    "Foglalt napok száma": "4",
                                    "(No column name)": "2"
                                },
                                {
                                    "SZOBA_FK": "119",
                                    "FOGLALAS_PK": "722",
                                    "Foglalt napok száma": "1",
                                    "(No column name)": "4"
                                },
                                {
                                    "SZOBA_FK": "129",
                                    "FOGLALAS_PK": "723",
                                    "Foglalt napok száma": "7",
                                    "(No column name)": "1"
                                },
                                {
                                    "SZOBA_FK": "135",
                                    "FOGLALAS_PK": "724",
                                    "Foglalt napok száma": "6",
                                    "(No column name)": "7"
                                },
                                {
                                    "SZOBA_FK": "28",
                                    "FOGLALAS_PK": "725",
                                    "Foglalt napok száma": "5",
                                    "(No column name)": "6"
                                },
                                {
                                    "SZOBA_FK": "97",
                                    "FOGLALAS_PK": "726",
                                    "Foglalt napok száma": "4",
                                    "(No column name)": "5"
                                },
                                {
                                    "SZOBA_FK": "94",
                                    "FOGLALAS_PK": "727",
                                    "Foglalt napok száma": "3",
                                    "(No column name)": "4"
                                },
                                {
                                    "SZOBA_FK": "31",
                                    "FOGLALAS_PK": "728",
                                    "Foglalt napok száma": "4",
                                    "(No column name)": "3"
                                },
                                {
                                    "SZOBA_FK": "90",
                                    "FOGLALAS_PK": "729",
                                    "Foglalt napok száma": "2",
                                    "(No column name)": "4"
                                },
                                {
                                    "SZOBA_FK": "152",
                                    "FOGLALAS_PK": "730",
                                    "Foglalt napok száma": "2",
                                    "(No column name)": "2"
                                },
                                {
                                    "SZOBA_FK": "181",
                                    "FOGLALAS_PK": "731",
                                    "Foglalt napok száma": "6",
                                    "(No column name)": "2"
                                },
                                {
                                    "SZOBA_FK": "91",
                                    "FOGLALAS_PK": "732",
                                    "Foglalt napok száma": "4",
                                    "(No column name)": "6"
                                },
                                {
                                    "SZOBA_FK": "140",
                                    "FOGLALAS_PK": "733",
                                    "Foglalt napok száma": "1",
                                    "(No column name)": "4"
                                },
                                {
                                    "SZOBA_FK": "55",
                                    "FOGLALAS_PK": "734",
                                    "Foglalt napok száma": "6",
                                    "(No column name)": "1"
                                },
                                {
                                    "SZOBA_FK": "121",
                                    "FOGLALAS_PK": "735",
                                    "Foglalt napok száma": "6",
                                    "(No column name)": "6"
                                },
                                {
                                    "SZOBA_FK": "66",
                                    "FOGLALAS_PK": "736",
                                    "Foglalt napok száma": "3",
                                    "(No column name)": "6"
                                },
                                {
                                    "SZOBA_FK": "114",
                                    "FOGLALAS_PK": "737",
                                    "Foglalt napok száma": "2",
                                    "(No column name)": "3"
                                },
                                {
                                    "SZOBA_FK": "1",
                                    "FOGLALAS_PK": "738",
                                    "Foglalt napok száma": "7",
                                    "(No column name)": "2"
                                },
                                {
                                    "SZOBA_FK": "121",
                                    "FOGLALAS_PK": "739",
                                    "Foglalt napok száma": "6",
                                    "(No column name)": "7"
                                },
                                {
                                    "SZOBA_FK": "182",
                                    "FOGLALAS_PK": "740",
                                    "Foglalt napok száma": "3",
                                    "(No column name)": "6"
                                },
                                {
                                    "SZOBA_FK": "93",
                                    "FOGLALAS_PK": "741",
                                    "Foglalt napok száma": "7",
                                    "(No column name)": "3"
                                },
                                {
                                    "SZOBA_FK": "164",
                                    "FOGLALAS_PK": "742",
                                    "Foglalt napok száma": "6",
                                    "(No column name)": "7"
                                },
                                {
                                    "SZOBA_FK": "187",
                                    "FOGLALAS_PK": "743",
                                    "Foglalt napok száma": "2",
                                    "(No column name)": "6"
                                },
                                {
                                    "SZOBA_FK": "17",
                                    "FOGLALAS_PK": "744",
                                    "Foglalt napok száma": "1",
                                    "(No column name)": "2"
                                },
                                {
                                    "SZOBA_FK": "139",
                                    "FOGLALAS_PK": "745",
                                    "Foglalt napok száma": "1",
                                    "(No column name)": "1"
                                },
                                {
                                    "SZOBA_FK": "169",
                                    "FOGLALAS_PK": "746",
                                    "Foglalt napok száma": "7",
                                    "(No column name)": "1"
                                },
                                {
                                    "SZOBA_FK": "188",
                                    "FOGLALAS_PK": "747",
                                    "Foglalt napok száma": "3",
                                    "(No column name)": "7"
                                },
                                {
                                    "SZOBA_FK": "36",
                                    "FOGLALAS_PK": "748",
                                    "Foglalt napok száma": "2",
                                    "(No column name)": "3"
                                },
                                {
                                    "SZOBA_FK": "172",
                                    "FOGLALAS_PK": "749",
                                    "Foglalt napok száma": "6",
                                    "(No column name)": "2"
                                },
                                {
                                    "SZOBA_FK": "36",
                                    "FOGLALAS_PK": "750",
                                    "Foglalt napok száma": "6",
                                    "(No column name)": "6"
                                },
                                {
                                    "SZOBA_FK": "139",
                                    "FOGLALAS_PK": "751",
                                    "Foglalt napok száma": "4",
                                    "(No column name)": "6"
                                },
                                {
                                    "SZOBA_FK": "46",
                                    "FOGLALAS_PK": "752",
                                    "Foglalt napok száma": "5",
                                    "(No column name)": "4"
                                },
                                {
                                    "SZOBA_FK": "189",
                                    "FOGLALAS_PK": "753",
                                    "Foglalt napok száma": "1",
                                    "(No column name)": "5"
                                },
                                {
                                    "SZOBA_FK": "126",
                                    "FOGLALAS_PK": "754",
                                    "Foglalt napok száma": "4",
                                    "(No column name)": "1"
                                },
                                {
                                    "SZOBA_FK": "20",
                                    "FOGLALAS_PK": "755",
                                    "Foglalt napok száma": "6",
                                    "(No column name)": "4"
                                },
                                {
                                    "SZOBA_FK": "61",
                                    "FOGLALAS_PK": "756",
                                    "Foglalt napok száma": "6",
                                    "(No column name)": "6"
                                },
                                {
                                    "SZOBA_FK": "88",
                                    "FOGLALAS_PK": "757",
                                    "Foglalt napok száma": "7",
                                    "(No column name)": "6"
                                },
                                {
                                    "SZOBA_FK": "27",
                                    "FOGLALAS_PK": "758",
                                    "Foglalt napok száma": "3",
                                    "(No column name)": "7"
                                },
                                {
                                    "SZOBA_FK": "7",
                                    "FOGLALAS_PK": "759",
                                    "Foglalt napok száma": "7",
                                    "(No column name)": "3"
                                },
                                {
                                    "SZOBA_FK": "131",
                                    "FOGLALAS_PK": "760",
                                    "Foglalt napok száma": "4",
                                    "(No column name)": "7"
                                },
                                {
                                    "SZOBA_FK": "141",
                                    "FOGLALAS_PK": "761",
                                    "Foglalt napok száma": "3",
                                    "(No column name)": "4"
                                },
                                {
                                    "SZOBA_FK": "120",
                                    "FOGLALAS_PK": "762",
                                    "Foglalt napok száma": "3",
                                    "(No column name)": "3"
                                },
                                {
                                    "SZOBA_FK": "13",
                                    "FOGLALAS_PK": "763",
                                    "Foglalt napok száma": "4",
                                    "(No column name)": "3"
                                },
                                {
                                    "SZOBA_FK": "197",
                                    "FOGLALAS_PK": "764",
                                    "Foglalt napok száma": "7",
                                    "(No column name)": "4"
                                },
                                {
                                    "SZOBA_FK": "148",
                                    "FOGLALAS_PK": "765",
                                    "Foglalt napok száma": "3",
                                    "(No column name)": "7"
                                },
                                {
                                    "SZOBA_FK": "187",
                                    "FOGLALAS_PK": "766",
                                    "Foglalt napok száma": "1",
                                    "(No column name)": "3"
                                },
                                {
                                    "SZOBA_FK": "18",
                                    "FOGLALAS_PK": "767",
                                    "Foglalt napok száma": "3",
                                    "(No column name)": "1"
                                },
                                {
                                    "SZOBA_FK": "138",
                                    "FOGLALAS_PK": "768",
                                    "Foglalt napok száma": "6",
                                    "(No column name)": "3"
                                },
                                {
                                    "SZOBA_FK": "63",
                                    "FOGLALAS_PK": "769",
                                    "Foglalt napok száma": "5",
                                    "(No column name)": "6"
                                },
                                {
                                    "SZOBA_FK": "42",
                                    "FOGLALAS_PK": "770",
                                    "Foglalt napok száma": "3",
                                    "(No column name)": "5"
                                },
                                {
                                    "SZOBA_FK": "147",
                                    "FOGLALAS_PK": "771",
                                    "Foglalt napok száma": "4",
                                    "(No column name)": "3"
                                },
                                {
                                    "SZOBA_FK": "6",
                                    "FOGLALAS_PK": "772",
                                    "Foglalt napok száma": "6",
                                    "(No column name)": "4"
                                },
                                {
                                    "SZOBA_FK": "58",
                                    "FOGLALAS_PK": "773",
                                    "Foglalt napok száma": "2",
                                    "(No column name)": "6"
                                },
                                {
                                    "SZOBA_FK": "190",
                                    "FOGLALAS_PK": "774",
                                    "Foglalt napok száma": "5",
                                    "(No column name)": "2"
                                },
                                {
                                    "SZOBA_FK": "12",
                                    "FOGLALAS_PK": "775",
                                    "Foglalt napok száma": "4",
                                    "(No column name)": "5"
                                },
                                {
                                    "SZOBA_FK": "112",
                                    "FOGLALAS_PK": "776",
                                    "Foglalt napok száma": "4",
                                    "(No column name)": "4"
                                },
                                {
                                    "SZOBA_FK": "34",
                                    "FOGLALAS_PK": "777",
                                    "Foglalt napok száma": "3",
                                    "(No column name)": "4"
                                },
                                {
                                    "SZOBA_FK": "19",
                                    "FOGLALAS_PK": "778",
                                    "Foglalt napok száma": "1",
                                    "(No column name)": "3"
                                },
                                {
                                    "SZOBA_FK": "130",
                                    "FOGLALAS_PK": "779",
                                    "Foglalt napok száma": "6",
                                    "(No column name)": "1"
                                },
                                {
                                    "SZOBA_FK": "96",
                                    "FOGLALAS_PK": "780",
                                    "Foglalt napok száma": "1",
                                    "(No column name)": "6"
                                },
                                {
                                    "SZOBA_FK": "166",
                                    "FOGLALAS_PK": "781",
                                    "Foglalt napok száma": "7",
                                    "(No column name)": "1"
                                },
                                {
                                    "SZOBA_FK": "163",
                                    "FOGLALAS_PK": "782",
                                    "Foglalt napok száma": "3",
                                    "(No column name)": "7"
                                },
                                {
                                    "SZOBA_FK": "148",
                                    "FOGLALAS_PK": "783",
                                    "Foglalt napok száma": "7",
                                    "(No column name)": "3"
                                },
                                {
                                    "SZOBA_FK": "141",
                                    "FOGLALAS_PK": "784",
                                    "Foglalt napok száma": "7",
                                    "(No column name)": "7"
                                },
                                {
                                    "SZOBA_FK": "177",
                                    "FOGLALAS_PK": "785",
                                    "Foglalt napok száma": "3",
                                    "(No column name)": "7"
                                },
                                {
                                    "SZOBA_FK": "111",
                                    "FOGLALAS_PK": "786",
                                    "Foglalt napok száma": "4",
                                    "(No column name)": "3"
                                },
                                {
                                    "SZOBA_FK": "50",
                                    "FOGLALAS_PK": "787",
                                    "Foglalt napok száma": "3",
                                    "(No column name)": "4"
                                },
                                {
                                    "SZOBA_FK": "3",
                                    "FOGLALAS_PK": "788",
                                    "Foglalt napok száma": "6",
                                    "(No column name)": "3"
                                },
                                {
                                    "SZOBA_FK": "146",
                                    "FOGLALAS_PK": "789",
                                    "Foglalt napok száma": "7",
                                    "(No column name)": "6"
                                },
                                {
                                    "SZOBA_FK": "10",
                                    "FOGLALAS_PK": "790",
                                    "Foglalt napok száma": "5",
                                    "(No column name)": "7"
                                },
                                {
                                    "SZOBA_FK": "15",
                                    "FOGLALAS_PK": "791",
                                    "Foglalt napok száma": "5",
                                    "(No column name)": "5"
                                },
                                {
                                    "SZOBA_FK": "168",
                                    "FOGLALAS_PK": "792",
                                    "Foglalt napok száma": "3",
                                    "(No column name)": "5"
                                },
                                {
                                    "SZOBA_FK": "49",
                                    "FOGLALAS_PK": "793",
                                    "Foglalt napok száma": "6",
                                    "(No column name)": "3"
                                },
                                {
                                    "SZOBA_FK": "168",
                                    "FOGLALAS_PK": "794",
                                    "Foglalt napok száma": "4",
                                    "(No column name)": "6"
                                },
                                {
                                    "SZOBA_FK": "10",
                                    "FOGLALAS_PK": "795",
                                    "Foglalt napok száma": "4",
                                    "(No column name)": "4"
                                },
                                {
                                    "SZOBA_FK": "138",
                                    "FOGLALAS_PK": "796",
                                    "Foglalt napok száma": "4",
                                    "(No column name)": "4"
                                },
                                {
                                    "SZOBA_FK": "74",
                                    "FOGLALAS_PK": "797",
                                    "Foglalt napok száma": "5",
                                    "(No column name)": "4"
                                },
                                {
                                    "SZOBA_FK": "83",
                                    "FOGLALAS_PK": "798",
                                    "Foglalt napok száma": "4",
                                    "(No column name)": "5"
                                },
                                {
                                    "SZOBA_FK": "175",
                                    "FOGLALAS_PK": "799",
                                    "Foglalt napok száma": "4",
                                    "(No column name)": "4"
                                },
                                {
                                    "SZOBA_FK": "45",
                                    "FOGLALAS_PK": "800",
                                    "Foglalt napok száma": "5",
                                    "(No column name)": "4"
                                },
                                {
                                    "SZOBA_FK": "112",
                                    "FOGLALAS_PK": "801",
                                    "Foglalt napok száma": "5",
                                    "(No column name)": "5"
                                },
                                {
                                    "SZOBA_FK": "45",
                                    "FOGLALAS_PK": "802",
                                    "Foglalt napok száma": "7",
                                    "(No column name)": "5"
                                },
                                {
                                    "SZOBA_FK": "1",
                                    "FOGLALAS_PK": "803",
                                    "Foglalt napok száma": "4",
                                    "(No column name)": "7"
                                },
                                {
                                    "SZOBA_FK": "146",
                                    "FOGLALAS_PK": "804",
                                    "Foglalt napok száma": "7",
                                    "(No column name)": "4"
                                },
                                {
                                    "SZOBA_FK": "21",
                                    "FOGLALAS_PK": "805",
                                    "Foglalt napok száma": "1",
                                    "(No column name)": "7"
                                },
                                {
                                    "SZOBA_FK": "126",
                                    "FOGLALAS_PK": "806",
                                    "Foglalt napok száma": "6",
                                    "(No column name)": "1"
                                },
                                {
                                    "SZOBA_FK": "27",
                                    "FOGLALAS_PK": "807",
                                    "Foglalt napok száma": "2",
                                    "(No column name)": "6"
                                },
                                {
                                    "SZOBA_FK": "148",
                                    "FOGLALAS_PK": "808",
                                    "Foglalt napok száma": "2",
                                    "(No column name)": "2"
                                },
                                {
                                    "SZOBA_FK": "92",
                                    "FOGLALAS_PK": "809",
                                    "Foglalt napok száma": "3",
                                    "(No column name)": "2"
                                },
                                {
                                    "SZOBA_FK": "109",
                                    "FOGLALAS_PK": "810",
                                    "Foglalt napok száma": "2",
                                    "(No column name)": "3"
                                },
                                {
                                    "SZOBA_FK": "51",
                                    "FOGLALAS_PK": "811",
                                    "Foglalt napok száma": "2",
                                    "(No column name)": "2"
                                },
                                {
                                    "SZOBA_FK": "148",
                                    "FOGLALAS_PK": "812",
                                    "Foglalt napok száma": "6",
                                    "(No column name)": "2"
                                },
                                {
                                    "SZOBA_FK": "14",
                                    "FOGLALAS_PK": "813",
                                    "Foglalt napok száma": "3",
                                    "(No column name)": "6"
                                },
                                {
                                    "SZOBA_FK": "70",
                                    "FOGLALAS_PK": "814",
                                    "Foglalt napok száma": "3",
                                    "(No column name)": "3"
                                },
                                {
                                    "SZOBA_FK": "128",
                                    "FOGLALAS_PK": "815",
                                    "Foglalt napok száma": "1",
                                    "(No column name)": "3"
                                },
                                {
                                    "SZOBA_FK": "178",
                                    "FOGLALAS_PK": "816",
                                    "Foglalt napok száma": "4",
                                    "(No column name)": "1"
                                },
                                {
                                    "SZOBA_FK": "89",
                                    "FOGLALAS_PK": "817",
                                    "Foglalt napok száma": "3",
                                    "(No column name)": "4"
                                },
                                {
                                    "SZOBA_FK": "8",
                                    "FOGLALAS_PK": "818",
                                    "Foglalt napok száma": "4",
                                    "(No column name)": "3"
                                },
                                {
                                    "SZOBA_FK": "84",
                                    "FOGLALAS_PK": "819",
                                    "Foglalt napok száma": "2",
                                    "(No column name)": "4"
                                },
                                {
                                    "SZOBA_FK": "20",
                                    "FOGLALAS_PK": "820",
                                    "Foglalt napok száma": "1",
                                    "(No column name)": "2"
                                },
                                {
                                    "SZOBA_FK": "34",
                                    "FOGLALAS_PK": "821",
                                    "Foglalt napok száma": "1",
                                    "(No column name)": "1"
                                },
                                {
                                    "SZOBA_FK": "52",
                                    "FOGLALAS_PK": "822",
                                    "Foglalt napok száma": "7",
                                    "(No column name)": "1"
                                },
                                {
                                    "SZOBA_FK": "44",
                                    "FOGLALAS_PK": "823",
                                    "Foglalt napok száma": "2",
                                    "(No column name)": "7"
                                },
                                {
                                    "SZOBA_FK": "48",
                                    "FOGLALAS_PK": "824",
                                    "Foglalt napok száma": "2",
                                    "(No column name)": "2"
                                },
                                {
                                    "SZOBA_FK": "158",
                                    "FOGLALAS_PK": "825",
                                    "Foglalt napok száma": "4",
                                    "(No column name)": "2"
                                },
                                {
                                    "SZOBA_FK": "49",
                                    "FOGLALAS_PK": "826",
                                    "Foglalt napok száma": "4",
                                    "(No column name)": "4"
                                },
                                {
                                    "SZOBA_FK": "114",
                                    "FOGLALAS_PK": "827",
                                    "Foglalt napok száma": "7",
                                    "(No column name)": "4"
                                },
                                {
                                    "SZOBA_FK": "2",
                                    "FOGLALAS_PK": "828",
                                    "Foglalt napok száma": "3",
                                    "(No column name)": "7"
                                },
                                {
                                    "SZOBA_FK": "35",
                                    "FOGLALAS_PK": "829",
                                    "Foglalt napok száma": "2",
                                    "(No column name)": "3"
                                },
                                {
                                    "SZOBA_FK": "74",
                                    "FOGLALAS_PK": "830",
                                    "Foglalt napok száma": "1",
                                    "(No column name)": "2"
                                },
                                {
                                    "SZOBA_FK": "177",
                                    "FOGLALAS_PK": "831",
                                    "Foglalt napok száma": "7",
                                    "(No column name)": "1"
                                },
                                {
                                    "SZOBA_FK": "8",
                                    "FOGLALAS_PK": "832",
                                    "Foglalt napok száma": "4",
                                    "(No column name)": "7"
                                },
                                {
                                    "SZOBA_FK": "149",
                                    "FOGLALAS_PK": "833",
                                    "Foglalt napok száma": "2",
                                    "(No column name)": "4"
                                },
                                {
                                    "SZOBA_FK": "149",
                                    "FOGLALAS_PK": "834",
                                    "Foglalt napok száma": "5",
                                    "(No column name)": "2"
                                },
                                {
                                    "SZOBA_FK": "193",
                                    "FOGLALAS_PK": "835",
                                    "Foglalt napok száma": "2",
                                    "(No column name)": "5"
                                },
                                {
                                    "SZOBA_FK": "97",
                                    "FOGLALAS_PK": "836",
                                    "Foglalt napok száma": "2",
                                    "(No column name)": "2"
                                },
                                {
                                    "SZOBA_FK": "104",
                                    "FOGLALAS_PK": "837",
                                    "Foglalt napok száma": "4",
                                    "(No column name)": "2"
                                },
                                {
                                    "SZOBA_FK": "56",
                                    "FOGLALAS_PK": "838",
                                    "Foglalt napok száma": "2",
                                    "(No column name)": "4"
                                },
                                {
                                    "SZOBA_FK": "172",
                                    "FOGLALAS_PK": "839",
                                    "Foglalt napok száma": "5",
                                    "(No column name)": "2"
                                },
                                {
                                    "SZOBA_FK": "158",
                                    "FOGLALAS_PK": "840",
                                    "Foglalt napok száma": "4",
                                    "(No column name)": "5"
                                },
                                {
                                    "SZOBA_FK": "92",
                                    "FOGLALAS_PK": "841",
                                    "Foglalt napok száma": "6",
                                    "(No column name)": "4"
                                },
                                {
                                    "SZOBA_FK": "195",
                                    "FOGLALAS_PK": "842",
                                    "Foglalt napok száma": "4",
                                    "(No column name)": "6"
                                },
                                {
                                    "SZOBA_FK": "149",
                                    "FOGLALAS_PK": "843",
                                    "Foglalt napok száma": "4",
                                    "(No column name)": "4"
                                },
                                {
                                    "SZOBA_FK": "87",
                                    "FOGLALAS_PK": "844",
                                    "Foglalt napok száma": "1",
                                    "(No column name)": "4"
                                },
                                {
                                    "SZOBA_FK": "63",
                                    "FOGLALAS_PK": "845",
                                    "Foglalt napok száma": "1",
                                    "(No column name)": "1"
                                },
                                {
                                    "SZOBA_FK": "45",
                                    "FOGLALAS_PK": "846",
                                    "Foglalt napok száma": "3",
                                    "(No column name)": "1"
                                },
                                {
                                    "SZOBA_FK": "74",
                                    "FOGLALAS_PK": "847",
                                    "Foglalt napok száma": "3",
                                    "(No column name)": "3"
                                },
                                {
                                    "SZOBA_FK": "23",
                                    "FOGLALAS_PK": "848",
                                    "Foglalt napok száma": "1",
                                    "(No column name)": "3"
                                },
                                {
                                    "SZOBA_FK": "135",
                                    "FOGLALAS_PK": "849",
                                    "Foglalt napok száma": "7",
                                    "(No column name)": "1"
                                },
                                {
                                    "SZOBA_FK": "6",
                                    "FOGLALAS_PK": "850",
                                    "Foglalt napok száma": "2",
                                    "(No column name)": "7"
                                },
                                {
                                    "SZOBA_FK": "42",
                                    "FOGLALAS_PK": "851",
                                    "Foglalt napok száma": "7",
                                    "(No column name)": "2"
                                },
                                {
                                    "SZOBA_FK": "24",
                                    "FOGLALAS_PK": "852",
                                    "Foglalt napok száma": "2",
                                    "(No column name)": "7"
                                },
                                {
                                    "SZOBA_FK": "127",
                                    "FOGLALAS_PK": "853",
                                    "Foglalt napok száma": "5",
                                    "(No column name)": "2"
                                },
                                {
                                    "SZOBA_FK": "167",
                                    "FOGLALAS_PK": "854",
                                    "Foglalt napok száma": "7",
                                    "(No column name)": "5"
                                },
                                {
                                    "SZOBA_FK": "53",
                                    "FOGLALAS_PK": "855",
                                    "Foglalt napok száma": "1",
                                    "(No column name)": "7"
                                },
                                {
                                    "SZOBA_FK": "16",
                                    "FOGLALAS_PK": "856",
                                    "Foglalt napok száma": "6",
                                    "(No column name)": "1"
                                },
                                {
                                    "SZOBA_FK": "165",
                                    "FOGLALAS_PK": "857",
                                    "Foglalt napok száma": "5",
                                    "(No column name)": "6"
                                },
                                {
                                    "SZOBA_FK": "121",
                                    "FOGLALAS_PK": "858",
                                    "Foglalt napok száma": "5",
                                    "(No column name)": "5"
                                },
                                {
                                    "SZOBA_FK": "86",
                                    "FOGLALAS_PK": "859",
                                    "Foglalt napok száma": "1",
                                    "(No column name)": "5"
                                },
                                {
                                    "SZOBA_FK": "70",
                                    "FOGLALAS_PK": "860",
                                    "Foglalt napok száma": "2",
                                    "(No column name)": "1"
                                },
                                {
                                    "SZOBA_FK": "124",
                                    "FOGLALAS_PK": "861",
                                    "Foglalt napok száma": "1",
                                    "(No column name)": "2"
                                },
                                {
                                    "SZOBA_FK": "82",
                                    "FOGLALAS_PK": "862",
                                    "Foglalt napok száma": "4",
                                    "(No column name)": "1"
                                },
                                {
                                    "SZOBA_FK": "185",
                                    "FOGLALAS_PK": "863",
                                    "Foglalt napok száma": "4",
                                    "(No column name)": "4"
                                },
                                {
                                    "SZOBA_FK": "118",
                                    "FOGLALAS_PK": "864",
                                    "Foglalt napok száma": "6",
                                    "(No column name)": "4"
                                },
                                {
                                    "SZOBA_FK": "51",
                                    "FOGLALAS_PK": "865",
                                    "Foglalt napok száma": "7",
                                    "(No column name)": "6"
                                },
                                {
                                    "SZOBA_FK": "88",
                                    "FOGLALAS_PK": "866",
                                    "Foglalt napok száma": "2",
                                    "(No column name)": "7"
                                },
                                {
                                    "SZOBA_FK": "175",
                                    "FOGLALAS_PK": "867",
                                    "Foglalt napok száma": "6",
                                    "(No column name)": "2"
                                },
                                {
                                    "SZOBA_FK": "187",
                                    "FOGLALAS_PK": "868",
                                    "Foglalt napok száma": "4",
                                    "(No column name)": "6"
                                },
                                {
                                    "SZOBA_FK": "83",
                                    "FOGLALAS_PK": "869",
                                    "Foglalt napok száma": "6",
                                    "(No column name)": "4"
                                },
                                {
                                    "SZOBA_FK": "34",
                                    "FOGLALAS_PK": "870",
                                    "Foglalt napok száma": "6",
                                    "(No column name)": "6"
                                },
                                {
                                    "SZOBA_FK": "82",
                                    "FOGLALAS_PK": "871",
                                    "Foglalt napok száma": "5",
                                    "(No column name)": "6"
                                },
                                {
                                    "SZOBA_FK": "28",
                                    "FOGLALAS_PK": "872",
                                    "Foglalt napok száma": "5",
                                    "(No column name)": "5"
                                },
                                {
                                    "SZOBA_FK": "6",
                                    "FOGLALAS_PK": "873",
                                    "Foglalt napok száma": "3",
                                    "(No column name)": "5"
                                },
                                {
                                    "SZOBA_FK": "67",
                                    "FOGLALAS_PK": "874",
                                    "Foglalt napok száma": "6",
                                    "(No column name)": "3"
                                },
                                {
                                    "SZOBA_FK": "64",
                                    "FOGLALAS_PK": "875",
                                    "Foglalt napok száma": "2",
                                    "(No column name)": "6"
                                },
                                {
                                    "SZOBA_FK": "12",
                                    "FOGLALAS_PK": "876",
                                    "Foglalt napok száma": "7",
                                    "(No column name)": "2"
                                },
                                {
                                    "SZOBA_FK": "74",
                                    "FOGLALAS_PK": "877",
                                    "Foglalt napok száma": "4",
                                    "(No column name)": "7"
                                },
                                {
                                    "SZOBA_FK": "83",
                                    "FOGLALAS_PK": "878",
                                    "Foglalt napok száma": "6",
                                    "(No column name)": "4"
                                },
                                {
                                    "SZOBA_FK": "127",
                                    "FOGLALAS_PK": "879",
                                    "Foglalt napok száma": "2",
                                    "(No column name)": "6"
                                },
                                {
                                    "SZOBA_FK": "184",
                                    "FOGLALAS_PK": "880",
                                    "Foglalt napok száma": "4",
                                    "(No column name)": "2"
                                },
                                {
                                    "SZOBA_FK": "131",
                                    "FOGLALAS_PK": "881",
                                    "Foglalt napok száma": "6",
                                    "(No column name)": "4"
                                },
                                {
                                    "SZOBA_FK": "8",
                                    "FOGLALAS_PK": "882",
                                    "Foglalt napok száma": "1",
                                    "(No column name)": "6"
                                },
                                {
                                    "SZOBA_FK": "58",
                                    "FOGLALAS_PK": "883",
                                    "Foglalt napok száma": "5",
                                    "(No column name)": "1"
                                },
                                {
                                    "SZOBA_FK": "98",
                                    "FOGLALAS_PK": "884",
                                    "Foglalt napok száma": "5",
                                    "(No column name)": "5"
                                },
                                {
                                    "SZOBA_FK": "69",
                                    "FOGLALAS_PK": "885",
                                    "Foglalt napok száma": "1",
                                    "(No column name)": "5"
                                },
                                {
                                    "SZOBA_FK": "28",
                                    "FOGLALAS_PK": "886",
                                    "Foglalt napok száma": "4",
                                    "(No column name)": "1"
                                },
                                {
                                    "SZOBA_FK": "80",
                                    "FOGLALAS_PK": "887",
                                    "Foglalt napok száma": "6",
                                    "(No column name)": "4"
                                },
                                {
                                    "SZOBA_FK": "49",
                                    "FOGLALAS_PK": "888",
                                    "Foglalt napok száma": "7",
                                    "(No column name)": "6"
                                },
                                {
                                    "SZOBA_FK": "54",
                                    "FOGLALAS_PK": "889",
                                    "Foglalt napok száma": "2",
                                    "(No column name)": "7"
                                },
                                {
                                    "SZOBA_FK": "146",
                                    "FOGLALAS_PK": "890",
                                    "Foglalt napok száma": "3",
                                    "(No column name)": "2"
                                },
                                {
                                    "SZOBA_FK": "63",
                                    "FOGLALAS_PK": "891",
                                    "Foglalt napok száma": "6",
                                    "(No column name)": "3"
                                },
                                {
                                    "SZOBA_FK": "165",
                                    "FOGLALAS_PK": "892",
                                    "Foglalt napok száma": "3",
                                    "(No column name)": "6"
                                },
                                {
                                    "SZOBA_FK": "151",
                                    "FOGLALAS_PK": "893",
                                    "Foglalt napok száma": "3",
                                    "(No column name)": "3"
                                },
                                {
                                    "SZOBA_FK": "29",
                                    "FOGLALAS_PK": "894",
                                    "Foglalt napok száma": "1",
                                    "(No column name)": "3"
                                },
                                {
                                    "SZOBA_FK": "36",
                                    "FOGLALAS_PK": "895",
                                    "Foglalt napok száma": "5",
                                    "(No column name)": "1"
                                },
                                {
                                    "SZOBA_FK": "16",
                                    "FOGLALAS_PK": "896",
                                    "Foglalt napok száma": "1",
                                    "(No column name)": "5"
                                },
                                {
                                    "SZOBA_FK": "165",
                                    "FOGLALAS_PK": "897",
                                    "Foglalt napok száma": "6",
                                    "(No column name)": "1"
                                },
                                {
                                    "SZOBA_FK": "185",
                                    "FOGLALAS_PK": "898",
                                    "Foglalt napok száma": "4",
                                    "(No column name)": "6"
                                },
                                {
                                    "SZOBA_FK": "39",
                                    "FOGLALAS_PK": "899",
                                    "Foglalt napok száma": "6",
                                    "(No column name)": "4"
                                },
                                {
                                    "SZOBA_FK": "165",
                                    "FOGLALAS_PK": "900",
                                    "Foglalt napok száma": "6",
                                    "(No column name)": "6"
                                },
                                {
                                    "SZOBA_FK": "28",
                                    "FOGLALAS_PK": "901",
                                    "Foglalt napok száma": "4",
                                    "(No column name)": "6"
                                },
                                {
                                    "SZOBA_FK": "72",
                                    "FOGLALAS_PK": "902",
                                    "Foglalt napok száma": "5",
                                    "(No column name)": "4"
                                },
                                {
                                    "SZOBA_FK": "192",
                                    "FOGLALAS_PK": "903",
                                    "Foglalt napok száma": "7",
                                    "(No column name)": "5"
                                },
                                {
                                    "SZOBA_FK": "34",
                                    "FOGLALAS_PK": "904",
                                    "Foglalt napok száma": "2",
                                    "(No column name)": "7"
                                },
                                {
                                    "SZOBA_FK": "180",
                                    "FOGLALAS_PK": "905",
                                    "Foglalt napok száma": "5",
                                    "(No column name)": "2"
                                },
                                {
                                    "SZOBA_FK": "22",
                                    "FOGLALAS_PK": "906",
                                    "Foglalt napok száma": "1",
                                    "(No column name)": "5"
                                },
                                {
                                    "SZOBA_FK": "156",
                                    "FOGLALAS_PK": "907",
                                    "Foglalt napok száma": "3",
                                    "(No column name)": "1"
                                },
                                {
                                    "SZOBA_FK": "141",
                                    "FOGLALAS_PK": "908",
                                    "Foglalt napok száma": "2",
                                    "(No column name)": "3"
                                },
                                {
                                    "SZOBA_FK": "133",
                                    "FOGLALAS_PK": "909",
                                    "Foglalt napok száma": "4",
                                    "(No column name)": "2"
                                },
                                {
                                    "SZOBA_FK": "130",
                                    "FOGLALAS_PK": "910",
                                    "Foglalt napok száma": "2",
                                    "(No column name)": "4"
                                },
                                {
                                    "SZOBA_FK": "161",
                                    "FOGLALAS_PK": "911",
                                    "Foglalt napok száma": "4",
                                    "(No column name)": "2"
                                },
                                {
                                    "SZOBA_FK": "188",
                                    "FOGLALAS_PK": "912",
                                    "Foglalt napok száma": "1",
                                    "(No column name)": "4"
                                },
                                {
                                    "SZOBA_FK": "173",
                                    "FOGLALAS_PK": "913",
                                    "Foglalt napok száma": "1",
                                    "(No column name)": "1"
                                },
                                {
                                    "SZOBA_FK": "48",
                                    "FOGLALAS_PK": "914",
                                    "Foglalt napok száma": "5",
                                    "(No column name)": "1"
                                },
                                {
                                    "SZOBA_FK": "140",
                                    "FOGLALAS_PK": "915",
                                    "Foglalt napok száma": "2",
                                    "(No column name)": "5"
                                },
                                {
                                    "SZOBA_FK": "17",
                                    "FOGLALAS_PK": "916",
                                    "Foglalt napok száma": "2",
                                    "(No column name)": "2"
                                },
                                {
                                    "SZOBA_FK": "174",
                                    "FOGLALAS_PK": "917",
                                    "Foglalt napok száma": "2",
                                    "(No column name)": "2"
                                },
                                {
                                    "SZOBA_FK": "11",
                                    "FOGLALAS_PK": "918",
                                    "Foglalt napok száma": "6",
                                    "(No column name)": "2"
                                },
                                {
                                    "SZOBA_FK": "36",
                                    "FOGLALAS_PK": "919",
                                    "Foglalt napok száma": "1",
                                    "(No column name)": "6"
                                },
                                {
                                    "SZOBA_FK": "32",
                                    "FOGLALAS_PK": "920",
                                    "Foglalt napok száma": "4",
                                    "(No column name)": "1"
                                },
                                {
                                    "SZOBA_FK": "112",
                                    "FOGLALAS_PK": "921",
                                    "Foglalt napok száma": "1",
                                    "(No column name)": "4"
                                },
                                {
                                    "SZOBA_FK": "160",
                                    "FOGLALAS_PK": "922",
                                    "Foglalt napok száma": "2",
                                    "(No column name)": "1"
                                },
                                {
                                    "SZOBA_FK": "123",
                                    "FOGLALAS_PK": "923",
                                    "Foglalt napok száma": "4",
                                    "(No column name)": "2"
                                },
                                {
                                    "SZOBA_FK": "40",
                                    "FOGLALAS_PK": "924",
                                    "Foglalt napok száma": "5",
                                    "(No column name)": "4"
                                },
                                {
                                    "SZOBA_FK": "185",
                                    "FOGLALAS_PK": "925",
                                    "Foglalt napok száma": "6",
                                    "(No column name)": "5"
                                },
                                {
                                    "SZOBA_FK": "193",
                                    "FOGLALAS_PK": "926",
                                    "Foglalt napok száma": "1",
                                    "(No column name)": "6"
                                },
                                {
                                    "SZOBA_FK": "160",
                                    "FOGLALAS_PK": "927",
                                    "Foglalt napok száma": "4",
                                    "(No column name)": "1"
                                },
                                {
                                    "SZOBA_FK": "182",
                                    "FOGLALAS_PK": "928",
                                    "Foglalt napok száma": "2",
                                    "(No column name)": "4"
                                },
                                {
                                    "SZOBA_FK": "80",
                                    "FOGLALAS_PK": "929",
                                    "Foglalt napok száma": "2",
                                    "(No column name)": "2"
                                },
                                {
                                    "SZOBA_FK": "168",
                                    "FOGLALAS_PK": "930",
                                    "Foglalt napok száma": "3",
                                    "(No column name)": "2"
                                },
                                {
                                    "SZOBA_FK": "110",
                                    "FOGLALAS_PK": "931",
                                    "Foglalt napok száma": "5",
                                    "(No column name)": "3"
                                },
                                {
                                    "SZOBA_FK": "40",
                                    "FOGLALAS_PK": "932",
                                    "Foglalt napok száma": "6",
                                    "(No column name)": "5"
                                },
                                {
                                    "SZOBA_FK": "160",
                                    "FOGLALAS_PK": "933",
                                    "Foglalt napok száma": "4",
                                    "(No column name)": "6"
                                },
                                {
                                    "SZOBA_FK": "23",
                                    "FOGLALAS_PK": "934",
                                    "Foglalt napok száma": "1",
                                    "(No column name)": "4"
                                },
                                {
                                    "SZOBA_FK": "56",
                                    "FOGLALAS_PK": "935",
                                    "Foglalt napok száma": "4",
                                    "(No column name)": "1"
                                },
                                {
                                    "SZOBA_FK": "62",
                                    "FOGLALAS_PK": "936",
                                    "Foglalt napok száma": "3",
                                    "(No column name)": "4"
                                },
                                {
                                    "SZOBA_FK": "181",
                                    "FOGLALAS_PK": "937",
                                    "Foglalt napok száma": "3",
                                    "(No column name)": "3"
                                },
                                {
                                    "SZOBA_FK": "62",
                                    "FOGLALAS_PK": "938",
                                    "Foglalt napok száma": "1",
                                    "(No column name)": "3"
                                },
                                {
                                    "SZOBA_FK": "183",
                                    "FOGLALAS_PK": "939",
                                    "Foglalt napok száma": "4",
                                    "(No column name)": "1"
                                },
                                {
                                    "SZOBA_FK": "74",
                                    "FOGLALAS_PK": "940",
                                    "Foglalt napok száma": "5",
                                    "(No column name)": "4"
                                },
                                {
                                    "SZOBA_FK": "163",
                                    "FOGLALAS_PK": "941",
                                    "Foglalt napok száma": "1",
                                    "(No column name)": "5"
                                },
                                {
                                    "SZOBA_FK": "92",
                                    "FOGLALAS_PK": "942",
                                    "Foglalt napok száma": "6",
                                    "(No column name)": "1"
                                },
                                {
                                    "SZOBA_FK": "115",
                                    "FOGLALAS_PK": "943",
                                    "Foglalt napok száma": "7",
                                    "(No column name)": "6"
                                },
                                {
                                    "SZOBA_FK": "170",
                                    "FOGLALAS_PK": "944",
                                    "Foglalt napok száma": "4",
                                    "(No column name)": "7"
                                },
                                {
                                    "SZOBA_FK": "23",
                                    "FOGLALAS_PK": "945",
                                    "Foglalt napok száma": "7",
                                    "(No column name)": "4"
                                },
                                {
                                    "SZOBA_FK": "4",
                                    "FOGLALAS_PK": "946",
                                    "Foglalt napok száma": "5",
                                    "(No column name)": "7"
                                },
                                {
                                    "SZOBA_FK": "8",
                                    "FOGLALAS_PK": "947",
                                    "Foglalt napok száma": "3",
                                    "(No column name)": "5"
                                },
                                {
                                    "SZOBA_FK": "19",
                                    "FOGLALAS_PK": "948",
                                    "Foglalt napok száma": "2",
                                    "(No column name)": "3"
                                },
                                {
                                    "SZOBA_FK": "1",
                                    "FOGLALAS_PK": "949",
                                    "Foglalt napok száma": "1",
                                    "(No column name)": "2"
                                },
                                {
                                    "SZOBA_FK": "66",
                                    "FOGLALAS_PK": "950",
                                    "Foglalt napok száma": "3",
                                    "(No column name)": "1"
                                },
                                {
                                    "SZOBA_FK": "12",
                                    "FOGLALAS_PK": "951",
                                    "Foglalt napok száma": "3",
                                    "(No column name)": "3"
                                },
                                {
                                    "SZOBA_FK": "196",
                                    "FOGLALAS_PK": "952",
                                    "Foglalt napok száma": "3",
                                    "(No column name)": "3"
                                },
                                {
                                    "SZOBA_FK": "117",
                                    "FOGLALAS_PK": "953",
                                    "Foglalt napok száma": "5",
                                    "(No column name)": "3"
                                },
                                {
                                    "SZOBA_FK": "84",
                                    "FOGLALAS_PK": "954",
                                    "Foglalt napok száma": "5",
                                    "(No column name)": "5"
                                },
                                {
                                    "SZOBA_FK": "47",
                                    "FOGLALAS_PK": "955",
                                    "Foglalt napok száma": "1",
                                    "(No column name)": "5"
                                },
                                {
                                    "SZOBA_FK": "156",
                                    "FOGLALAS_PK": "956",
                                    "Foglalt napok száma": "6",
                                    "(No column name)": "1"
                                },
                                {
                                    "SZOBA_FK": "187",
                                    "FOGLALAS_PK": "957",
                                    "Foglalt napok száma": "4",
                                    "(No column name)": "6"
                                },
                                {
                                    "SZOBA_FK": "181",
                                    "FOGLALAS_PK": "958",
                                    "Foglalt napok száma": "5",
                                    "(No column name)": "4"
                                },
                                {
                                    "SZOBA_FK": "111",
                                    "FOGLALAS_PK": "959",
                                    "Foglalt napok száma": "7",
                                    "(No column name)": "5"
                                },
                                {
                                    "SZOBA_FK": "41",
                                    "FOGLALAS_PK": "960",
                                    "Foglalt napok száma": "6",
                                    "(No column name)": "7"
                                },
                                {
                                    "SZOBA_FK": "72",
                                    "FOGLALAS_PK": "961",
                                    "Foglalt napok száma": "6",
                                    "(No column name)": "6"
                                },
                                {
                                    "SZOBA_FK": "117",
                                    "FOGLALAS_PK": "962",
                                    "Foglalt napok száma": "4",
                                    "(No column name)": "6"
                                },
                                {
                                    "SZOBA_FK": "74",
                                    "FOGLALAS_PK": "963",
                                    "Foglalt napok száma": "1",
                                    "(No column name)": "4"
                                },
                                {
                                    "SZOBA_FK": "110",
                                    "FOGLALAS_PK": "964",
                                    "Foglalt napok száma": "6",
                                    "(No column name)": "1"
                                },
                                {
                                    "SZOBA_FK": "5",
                                    "FOGLALAS_PK": "965",
                                    "Foglalt napok száma": "7",
                                    "(No column name)": "6"
                                },
                                {
                                    "SZOBA_FK": "114",
                                    "FOGLALAS_PK": "966",
                                    "Foglalt napok száma": "6",
                                    "(No column name)": "7"
                                },
                                {
                                    "SZOBA_FK": "123",
                                    "FOGLALAS_PK": "967",
                                    "Foglalt napok száma": "5",
                                    "(No column name)": "6"
                                },
                                {
                                    "SZOBA_FK": "154",
                                    "FOGLALAS_PK": "968",
                                    "Foglalt napok száma": "1",
                                    "(No column name)": "5"
                                },
                                {
                                    "SZOBA_FK": "153",
                                    "FOGLALAS_PK": "969",
                                    "Foglalt napok száma": "6",
                                    "(No column name)": "1"
                                },
                                {
                                    "SZOBA_FK": "12",
                                    "FOGLALAS_PK": "970",
                                    "Foglalt napok száma": "2",
                                    "(No column name)": "6"
                                },
                                {
                                    "SZOBA_FK": "35",
                                    "FOGLALAS_PK": "971",
                                    "Foglalt napok száma": "3",
                                    "(No column name)": "2"
                                },
                                {
                                    "SZOBA_FK": "103",
                                    "FOGLALAS_PK": "972",
                                    "Foglalt napok száma": "2",
                                    "(No column name)": "3"
                                },
                                {
                                    "SZOBA_FK": "16",
                                    "FOGLALAS_PK": "973",
                                    "Foglalt napok száma": "1",
                                    "(No column name)": "2"
                                },
                                {
                                    "SZOBA_FK": "169",
                                    "FOGLALAS_PK": "974",
                                    "Foglalt napok száma": "1",
                                    "(No column name)": "1"
                                },
                                {
                                    "SZOBA_FK": "94",
                                    "FOGLALAS_PK": "975",
                                    "Foglalt napok száma": "5",
                                    "(No column name)": "1"
                                },
                                {
                                    "SZOBA_FK": "76",
                                    "FOGLALAS_PK": "976",
                                    "Foglalt napok száma": "2",
                                    "(No column name)": "5"
                                },
                                {
                                    "SZOBA_FK": "193",
                                    "FOGLALAS_PK": "977",
                                    "Foglalt napok száma": "2",
                                    "(No column name)": "2"
                                },
                                {
                                    "SZOBA_FK": "198",
                                    "FOGLALAS_PK": "978",
                                    "Foglalt napok száma": "1",
                                    "(No column name)": "2"
                                },
                                {
                                    "SZOBA_FK": "35",
                                    "FOGLALAS_PK": "979",
                                    "Foglalt napok száma": "7",
                                    "(No column name)": "1"
                                },
                                {
                                    "SZOBA_FK": "143",
                                    "FOGLALAS_PK": "980",
                                    "Foglalt napok száma": "3",
                                    "(No column name)": "7"
                                },
                                {
                                    "SZOBA_FK": "171",
                                    "FOGLALAS_PK": "981",
                                    "Foglalt napok száma": "4",
                                    "(No column name)": "3"
                                },
                                {
                                    "SZOBA_FK": "77",
                                    "FOGLALAS_PK": "982",
                                    "Foglalt napok száma": "3",
                                    "(No column name)": "4"
                                },
                                {
                                    "SZOBA_FK": "80",
                                    "FOGLALAS_PK": "983",
                                    "Foglalt napok száma": "6",
                                    "(No column name)": "3"
                                },
                                {
                                    "SZOBA_FK": "172",
                                    "FOGLALAS_PK": "984",
                                    "Foglalt napok száma": "4",
                                    "(No column name)": "6"
                                },
                                {
                                    "SZOBA_FK": "36",
                                    "FOGLALAS_PK": "985",
                                    "Foglalt napok száma": "6",
                                    "(No column name)": "4"
                                },
                                {
                                    "SZOBA_FK": "48",
                                    "FOGLALAS_PK": "986",
                                    "Foglalt napok száma": "5",
                                    "(No column name)": "6"
                                },
                                {
                                    "SZOBA_FK": "53",
                                    "FOGLALAS_PK": "987",
                                    "Foglalt napok száma": "4",
                                    "(No column name)": "5"
                                },
                                {
                                    "SZOBA_FK": "133",
                                    "FOGLALAS_PK": "988",
                                    "Foglalt napok száma": "3",
                                    "(No column name)": "4"
                                },
                                {
                                    "SZOBA_FK": "190",
                                    "FOGLALAS_PK": "989",
                                    "Foglalt napok száma": "1",
                                    "(No column name)": "3"
                                },
                                {
                                    "SZOBA_FK": "6",
                                    "FOGLALAS_PK": "990",
                                    "Foglalt napok száma": "4",
                                    "(No column name)": "1"
                                },
                                {
                                    "SZOBA_FK": "178",
                                    "FOGLALAS_PK": "991",
                                    "Foglalt napok száma": "7",
                                    "(No column name)": "4"
                                },
                                {
                                    "SZOBA_FK": "103",
                                    "FOGLALAS_PK": "992",
                                    "Foglalt napok száma": "7",
                                    "(No column name)": "7"
                                },
                                {
                                    "SZOBA_FK": "197",
                                    "FOGLALAS_PK": "993",
                                    "Foglalt napok száma": "7",
                                    "(No column name)": "7"
                                },
                                {
                                    "SZOBA_FK": "118",
                                    "FOGLALAS_PK": "994",
                                    "Foglalt napok száma": "7",
                                    "(No column name)": "7"
                                },
                                {
                                    "SZOBA_FK": "83",
                                    "FOGLALAS_PK": "995",
                                    "Foglalt napok száma": "5",
                                    "(No column name)": "7"
                                },
                                {
                                    "SZOBA_FK": "118",
                                    "FOGLALAS_PK": "996",
                                    "Foglalt napok száma": "3",
                                    "(No column name)": "5"
                                },
                                {
                                    "SZOBA_FK": "82",
                                    "FOGLALAS_PK": "997",
                                    "Foglalt napok száma": "6",
                                    "(No column name)": "3"
                                },
                                {
                                    "SZOBA_FK": "120",
                                    "FOGLALAS_PK": "998",
                                    "Foglalt napok száma": "3",
                                    "(No column name)": "6"
                                },
                                {
                                    "SZOBA_FK": "132",
                                    "FOGLALAS_PK": "999",
                                    "Foglalt napok száma": "6",
                                    "(No column name)": "3"
                                },
                                {
                                    "SZOBA_FK": "73",
                                    "FOGLALAS_PK": "1000",
                                    "Foglalt napok száma": "4",
                                    "(No column name)": "6"
                                },
                                {
                                    "SZOBA_FK": "4",
                                    "FOGLALAS_PK": "1001",
                                    "Foglalt napok száma": "7",
                                    "(No column name)": "4"
                                },
                                {
                                    "SZOBA_FK": "117",
                                    "FOGLALAS_PK": "1002",
                                    "Foglalt napok száma": "1",
                                    "(No column name)": "7"
                                },
                                {
                                    "SZOBA_FK": "36",
                                    "FOGLALAS_PK": "1003",
                                    "Foglalt napok száma": "4",
                                    "(No column name)": "1"
                                },
                                {
                                    "SZOBA_FK": "134",
                                    "FOGLALAS_PK": "1004",
                                    "Foglalt napok száma": "5",
                                    "(No column name)": "4"
                                },
                                {
                                    "SZOBA_FK": "22",
                                    "FOGLALAS_PK": "1005",
                                    "Foglalt napok száma": "3",
                                    "(No column name)": "5"
                                },
                                {
                                    "SZOBA_FK": "70",
                                    "FOGLALAS_PK": "1006",
                                    "Foglalt napok száma": "3",
                                    "(No column name)": "3"
                                },
                                {
                                    "SZOBA_FK": "122",
                                    "FOGLALAS_PK": "1007",
                                    "Foglalt napok száma": "2",
                                    "(No column name)": "3"
                                },
                                {
                                    "SZOBA_FK": "182",
                                    "FOGLALAS_PK": "1008",
                                    "Foglalt napok száma": "6",
                                    "(No column name)": "2"
                                },
                                {
                                    "SZOBA_FK": "71",
                                    "FOGLALAS_PK": "1009",
                                    "Foglalt napok száma": "1",
                                    "(No column name)": "6"
                                },
                                {
                                    "SZOBA_FK": "164",
                                    "FOGLALAS_PK": "1010",
                                    "Foglalt napok száma": "2",
                                    "(No column name)": "1"
                                },
                                {
                                    "SZOBA_FK": "198",
                                    "FOGLALAS_PK": "1011",
                                    "Foglalt napok száma": "7",
                                    "(No column name)": "2"
                                },
                                {
                                    "SZOBA_FK": "33",
                                    "FOGLALAS_PK": "1012",
                                    "Foglalt napok száma": "7",
                                    "(No column name)": "7"
                                },
                                {
                                    "SZOBA_FK": "75",
                                    "FOGLALAS_PK": "1013",
                                    "Foglalt napok száma": "5",
                                    "(No column name)": "7"
                                },
                                {
                                    "SZOBA_FK": "137",
                                    "FOGLALAS_PK": "1014",
                                    "Foglalt napok száma": "1",
                                    "(No column name)": "5"
                                },
                                {
                                    "SZOBA_FK": "174",
                                    "FOGLALAS_PK": "1015",
                                    "Foglalt napok száma": "5",
                                    "(No column name)": "1"
                                },
                                {
                                    "SZOBA_FK": "92",
                                    "FOGLALAS_PK": "1016",
                                    "Foglalt napok száma": "2",
                                    "(No column name)": "5"
                                },
                                {
                                    "SZOBA_FK": "190",
                                    "FOGLALAS_PK": "1017",
                                    "Foglalt napok száma": "1",
                                    "(No column name)": "2"
                                },
                                {
                                    "SZOBA_FK": "40",
                                    "FOGLALAS_PK": "1018",
                                    "Foglalt napok száma": "5",
                                    "(No column name)": "1"
                                },
                                {
                                    "SZOBA_FK": "43",
                                    "FOGLALAS_PK": "1019",
                                    "Foglalt napok száma": "4",
                                    "(No column name)": "5"
                                },
                                {
                                    "SZOBA_FK": "12",
                                    "FOGLALAS_PK": "1020",
                                    "Foglalt napok száma": "5",
                                    "(No column name)": "4"
                                },
                                {
                                    "SZOBA_FK": "179",
                                    "FOGLALAS_PK": "1021",
                                    "Foglalt napok száma": "1",
                                    "(No column name)": "5"
                                },
                                {
                                    "SZOBA_FK": "181",
                                    "FOGLALAS_PK": "1022",
                                    "Foglalt napok száma": "1",
                                    "(No column name)": "1"
                                },
                                {
                                    "SZOBA_FK": "30",
                                    "FOGLALAS_PK": "1023",
                                    "Foglalt napok száma": "7",
                                    "(No column name)": "1"
                                },
                                {
                                    "SZOBA_FK": "134",
                                    "FOGLALAS_PK": "1024",
                                    "Foglalt napok száma": "1",
                                    "(No column name)": "7"
                                },
                                {
                                    "SZOBA_FK": "157",
                                    "FOGLALAS_PK": "1025",
                                    "Foglalt napok száma": "3",
                                    "(No column name)": "1"
                                },
                                {
                                    "SZOBA_FK": "119",
                                    "FOGLALAS_PK": "1026",
                                    "Foglalt napok száma": "3",
                                    "(No column name)": "3"
                                },
                                {
                                    "SZOBA_FK": "68",
                                    "FOGLALAS_PK": "1027",
                                    "Foglalt napok száma": "7",
                                    "(No column name)": "3"
                                },
                                {
                                    "SZOBA_FK": "15",
                                    "FOGLALAS_PK": "1028",
                                    "Foglalt napok száma": "2",
                                    "(No column name)": "7"
                                },
                                {
                                    "SZOBA_FK": "113",
                                    "FOGLALAS_PK": "1029",
                                    "Foglalt napok száma": "5",
                                    "(No column name)": "2"
                                },
                                {
                                    "SZOBA_FK": "188",
                                    "FOGLALAS_PK": "1030",
                                    "Foglalt napok száma": "4",
                                    "(No column name)": "5"
                                },
                                {
                                    "SZOBA_FK": "27",
                                    "FOGLALAS_PK": "1031",
                                    "Foglalt napok száma": "2",
                                    "(No column name)": "4"
                                },
                                {
                                    "SZOBA_FK": "146",
                                    "FOGLALAS_PK": "1032",
                                    "Foglalt napok száma": "5",
                                    "(No column name)": "2"
                                },
                                {
                                    "SZOBA_FK": "38",
                                    "FOGLALAS_PK": "1033",
                                    "Foglalt napok száma": "2",
                                    "(No column name)": "5"
                                },
                                {
                                    "SZOBA_FK": "127",
                                    "FOGLALAS_PK": "1034",
                                    "Foglalt napok száma": "6",
                                    "(No column name)": "2"
                                },
                                {
                                    "SZOBA_FK": "18",
                                    "FOGLALAS_PK": "1035",
                                    "Foglalt napok száma": "6",
                                    "(No column name)": "6"
                                },
                                {
                                    "SZOBA_FK": "122",
                                    "FOGLALAS_PK": "1036",
                                    "Foglalt napok száma": "2",
                                    "(No column name)": "6"
                                },
                                {
                                    "SZOBA_FK": "89",
                                    "FOGLALAS_PK": "1037",
                                    "Foglalt napok száma": "7",
                                    "(No column name)": "2"
                                },
                                {
                                    "SZOBA_FK": "3",
                                    "FOGLALAS_PK": "1038",
                                    "Foglalt napok száma": "3",
                                    "(No column name)": "7"
                                },
                                {
                                    "SZOBA_FK": "191",
                                    "FOGLALAS_PK": "1039",
                                    "Foglalt napok száma": "6",
                                    "(No column name)": "3"
                                },
                                {
                                    "SZOBA_FK": "130",
                                    "FOGLALAS_PK": "1040",
                                    "Foglalt napok száma": "1",
                                    "(No column name)": "6"
                                },
                                {
                                    "SZOBA_FK": "110",
                                    "FOGLALAS_PK": "1041",
                                    "Foglalt napok száma": "3",
                                    "(No column name)": "1"
                                },
                                {
                                    "SZOBA_FK": "139",
                                    "FOGLALAS_PK": "1042",
                                    "Foglalt napok száma": "2",
                                    "(No column name)": "3"
                                },
                                {
                                    "SZOBA_FK": "193",
                                    "FOGLALAS_PK": "1043",
                                    "Foglalt napok száma": "6",
                                    "(No column name)": "2"
                                },
                                {
                                    "SZOBA_FK": "13",
                                    "FOGLALAS_PK": "1044",
                                    "Foglalt napok száma": "6",
                                    "(No column name)": "6"
                                },
                                {
                                    "SZOBA_FK": "134",
                                    "FOGLALAS_PK": "1045",
                                    "Foglalt napok száma": "2",
                                    "(No column name)": "6"
                                },
                                {
                                    "SZOBA_FK": "136",
                                    "FOGLALAS_PK": "1046",
                                    "Foglalt napok száma": "4",
                                    "(No column name)": "2"
                                },
                                {
                                    "SZOBA_FK": "157",
                                    "FOGLALAS_PK": "1047",
                                    "Foglalt napok száma": "4",
                                    "(No column name)": "4"
                                },
                                {
                                    "SZOBA_FK": "95",
                                    "FOGLALAS_PK": "1048",
                                    "Foglalt napok száma": "3",
                                    "(No column name)": "4"
                                },
                                {
                                    "SZOBA_FK": "121",
                                    "FOGLALAS_PK": "1049",
                                    "Foglalt napok száma": "3",
                                    "(No column name)": "3"
                                },
                                {
                                    "SZOBA_FK": "98",
                                    "FOGLALAS_PK": "1050",
                                    "Foglalt napok száma": "6",
                                    "(No column name)": "3"
                                },
                                {
                                    "SZOBA_FK": "2",
                                    "FOGLALAS_PK": "1051",
                                    "Foglalt napok száma": "1",
                                    "(No column name)": "6"
                                },
                                {
                                    "SZOBA_FK": "25",
                                    "FOGLALAS_PK": "1052",
                                    "Foglalt napok száma": "3",
                                    "(No column name)": "1"
                                },
                                {
                                    "SZOBA_FK": "33",
                                    "FOGLALAS_PK": "1053",
                                    "Foglalt napok száma": "1",
                                    "(No column name)": "3"
                                },
                                {
                                    "SZOBA_FK": "79",
                                    "FOGLALAS_PK": "1054",
                                    "Foglalt napok száma": "1",
                                    "(No column name)": "1"
                                },
                                {
                                    "SZOBA_FK": "69",
                                    "FOGLALAS_PK": "1055",
                                    "Foglalt napok száma": "5",
                                    "(No column name)": "1"
                                },
                                {
                                    "SZOBA_FK": "47",
                                    "FOGLALAS_PK": "1056",
                                    "Foglalt napok száma": "7",
                                    "(No column name)": "5"
                                },
                                {
                                    "SZOBA_FK": "86",
                                    "FOGLALAS_PK": "1057",
                                    "Foglalt napok száma": "5",
                                    "(No column name)": "7"
                                },
                                {
                                    "SZOBA_FK": "151",
                                    "FOGLALAS_PK": "1058",
                                    "Foglalt napok száma": "3",
                                    "(No column name)": "5"
                                },
                                {
                                    "SZOBA_FK": "85",
                                    "FOGLALAS_PK": "1059",
                                    "Foglalt napok száma": "3",
                                    "(No column name)": "3"
                                },
                                {
                                    "SZOBA_FK": "38",
                                    "FOGLALAS_PK": "1060",
                                    "Foglalt napok száma": "2",
                                    "(No column name)": "3"
                                },
                                {
                                    "SZOBA_FK": "154",
                                    "FOGLALAS_PK": "1061",
                                    "Foglalt napok száma": "7",
                                    "(No column name)": "2"
                                },
                                {
                                    "SZOBA_FK": "122",
                                    "FOGLALAS_PK": "1062",
                                    "Foglalt napok száma": "3",
                                    "(No column name)": "7"
                                },
                                {
                                    "SZOBA_FK": "50",
                                    "FOGLALAS_PK": "1063",
                                    "Foglalt napok száma": "2",
                                    "(No column name)": "3"
                                },
                                {
                                    "SZOBA_FK": "139",
                                    "FOGLALAS_PK": "1064",
                                    "Foglalt napok száma": "6",
                                    "(No column name)": "2"
                                },
                                {
                                    "SZOBA_FK": "198",
                                    "FOGLALAS_PK": "1065",
                                    "Foglalt napok száma": "3",
                                    "(No column name)": "6"
                                },
                                {
                                    "SZOBA_FK": "49",
                                    "FOGLALAS_PK": "1066",
                                    "Foglalt napok száma": "7",
                                    "(No column name)": "3"
                                },
                                {
                                    "SZOBA_FK": "183",
                                    "FOGLALAS_PK": "1067",
                                    "Foglalt napok száma": "7",
                                    "(No column name)": "7"
                                },
                                {
                                    "SZOBA_FK": "161",
                                    "FOGLALAS_PK": "1068",
                                    "Foglalt napok száma": "6",
                                    "(No column name)": "7"
                                },
                                {
                                    "SZOBA_FK": "2",
                                    "FOGLALAS_PK": "1069",
                                    "Foglalt napok száma": "7",
                                    "(No column name)": "6"
                                },
                                {
                                    "SZOBA_FK": "20",
                                    "FOGLALAS_PK": "1070",
                                    "Foglalt napok száma": "1",
                                    "(No column name)": "7"
                                },
                                {
                                    "SZOBA_FK": "80",
                                    "FOGLALAS_PK": "1071",
                                    "Foglalt napok száma": "4",
                                    "(No column name)": "1"
                                },
                                {
                                    "SZOBA_FK": "99",
                                    "FOGLALAS_PK": "1072",
                                    "Foglalt napok száma": "1",
                                    "(No column name)": "4"
                                },
                                {
                                    "SZOBA_FK": "5",
                                    "FOGLALAS_PK": "1073",
                                    "Foglalt napok száma": "5",
                                    "(No column name)": "1"
                                },
                                {
                                    "SZOBA_FK": "195",
                                    "FOGLALAS_PK": "1074",
                                    "Foglalt napok száma": "7",
                                    "(No column name)": "5"
                                },
                                {
                                    "SZOBA_FK": "163",
                                    "FOGLALAS_PK": "1075",
                                    "Foglalt napok száma": "4",
                                    "(No column name)": "7"
                                },
                                {
                                    "SZOBA_FK": "29",
                                    "FOGLALAS_PK": "1076",
                                    "Foglalt napok száma": "7",
                                    "(No column name)": "4"
                                },
                                {
                                    "SZOBA_FK": "145",
                                    "FOGLALAS_PK": "1077",
                                    "Foglalt napok száma": "1",
                                    "(No column name)": "7"
                                },
                                {
                                    "SZOBA_FK": "38",
                                    "FOGLALAS_PK": "1078",
                                    "Foglalt napok száma": "7",
                                    "(No column name)": "1"
                                },
                                {
                                    "SZOBA_FK": "86",
                                    "FOGLALAS_PK": "1079",
                                    "Foglalt napok száma": "4",
                                    "(No column name)": "7"
                                },
                                {
                                    "SZOBA_FK": "59",
                                    "FOGLALAS_PK": "1080",
                                    "Foglalt napok száma": "1",
                                    "(No column name)": "4"
                                },
                                {
                                    "SZOBA_FK": "62",
                                    "FOGLALAS_PK": "1081",
                                    "Foglalt napok száma": "7",
                                    "(No column name)": "1"
                                },
                                {
                                    "SZOBA_FK": "27",
                                    "FOGLALAS_PK": "1082",
                                    "Foglalt napok száma": "5",
                                    "(No column name)": "7"
                                },
                                {
                                    "SZOBA_FK": "109",
                                    "FOGLALAS_PK": "1083",
                                    "Foglalt napok száma": "1",
                                    "(No column name)": "5"
                                },
                                {
                                    "SZOBA_FK": "59",
                                    "FOGLALAS_PK": "1084",
                                    "Foglalt napok száma": "2",
                                    "(No column name)": "1"
                                },
                                {
                                    "SZOBA_FK": "113",
                                    "FOGLALAS_PK": "1085",
                                    "Foglalt napok száma": "4",
                                    "(No column name)": "2"
                                },
                                {
                                    "SZOBA_FK": "55",
                                    "FOGLALAS_PK": "1086",
                                    "Foglalt napok száma": "5",
                                    "(No column name)": "4"
                                },
                                {
                                    "SZOBA_FK": "144",
                                    "FOGLALAS_PK": "1087",
                                    "Foglalt napok száma": "2",
                                    "(No column name)": "5"
                                },
                                {
                                    "SZOBA_FK": "43",
                                    "FOGLALAS_PK": "1088",
                                    "Foglalt napok száma": "2",
                                    "(No column name)": "2"
                                },
                                {
                                    "SZOBA_FK": "120",
                                    "FOGLALAS_PK": "1089",
                                    "Foglalt napok száma": "6",
                                    "(No column name)": "2"
                                },
                                {
                                    "SZOBA_FK": "132",
                                    "FOGLALAS_PK": "1090",
                                    "Foglalt napok száma": "7",
                                    "(No column name)": "6"
                                },
                                {
                                    "SZOBA_FK": "197",
                                    "FOGLALAS_PK": "1091",
                                    "Foglalt napok száma": "7",
                                    "(No column name)": "7"
                                },
                                {
                                    "SZOBA_FK": "70",
                                    "FOGLALAS_PK": "1092",
                                    "Foglalt napok száma": "3",
                                    "(No column name)": "7"
                                },
                                {
                                    "SZOBA_FK": "74",
                                    "FOGLALAS_PK": "1093",
                                    "Foglalt napok száma": "6",
                                    "(No column name)": "3"
                                },
                                {
                                    "SZOBA_FK": "175",
                                    "FOGLALAS_PK": "1094",
                                    "Foglalt napok száma": "5",
                                    "(No column name)": "6"
                                },
                                {
                                    "SZOBA_FK": "194",
                                    "FOGLALAS_PK": "1095",
                                    "Foglalt napok száma": "5",
                                    "(No column name)": "5"
                                },
                                {
                                    "SZOBA_FK": "54",
                                    "FOGLALAS_PK": "1096",
                                    "Foglalt napok száma": "4",
                                    "(No column name)": "5"
                                },
                                {
                                    "SZOBA_FK": "95",
                                    "FOGLALAS_PK": "1097",
                                    "Foglalt napok száma": "4",
                                    "(No column name)": "4"
                                },
                                {
                                    "SZOBA_FK": "140",
                                    "FOGLALAS_PK": "1098",
                                    "Foglalt napok száma": "2",
                                    "(No column name)": "4"
                                },
                                {
                                    "SZOBA_FK": "6",
                                    "FOGLALAS_PK": "1099",
                                    "Foglalt napok száma": "4",
                                    "(No column name)": "2"
                                },
                                {
                                    "SZOBA_FK": "150",
                                    "FOGLALAS_PK": "1100",
                                    "Foglalt napok száma": "5",
                                    "(No column name)": "4"
                                },
                                {
                                    "SZOBA_FK": "89",
                                    "FOGLALAS_PK": "1101",
                                    "Foglalt napok száma": "5",
                                    "(No column name)": "5"
                                },
                                {
                                    "SZOBA_FK": "108",
                                    "FOGLALAS_PK": "1102",
                                    "Foglalt napok száma": "1",
                                    "(No column name)": "5"
                                },
                                {
                                    "SZOBA_FK": "87",
                                    "FOGLALAS_PK": "1103",
                                    "Foglalt napok száma": "3",
                                    "(No column name)": "1"
                                },
                                {
                                    "SZOBA_FK": "77",
                                    "FOGLALAS_PK": "1104",
                                    "Foglalt napok száma": "1",
                                    "(No column name)": "3"
                                },
                                {
                                    "SZOBA_FK": "150",
                                    "FOGLALAS_PK": "1105",
                                    "Foglalt napok száma": "1",
                                    "(No column name)": "1"
                                },
                                {
                                    "SZOBA_FK": "20",
                                    "FOGLALAS_PK": "1106",
                                    "Foglalt napok száma": "2",
                                    "(No column name)": "1"
                                },
                                {
                                    "SZOBA_FK": "163",
                                    "FOGLALAS_PK": "1107",
                                    "Foglalt napok száma": "3",
                                    "(No column name)": "2"
                                },
                                {
                                    "SZOBA_FK": "86",
                                    "FOGLALAS_PK": "1108",
                                    "Foglalt napok száma": "1",
                                    "(No column name)": "3"
                                },
                                {
                                    "SZOBA_FK": "110",
                                    "FOGLALAS_PK": "1109",
                                    "Foglalt napok száma": "5",
                                    "(No column name)": "1"
                                },
                                {
                                    "SZOBA_FK": "3",
                                    "FOGLALAS_PK": "1110",
                                    "Foglalt napok száma": "7",
                                    "(No column name)": "5"
                                },
                                {
                                    "SZOBA_FK": "132",
                                    "FOGLALAS_PK": "1111",
                                    "Foglalt napok száma": "3",
                                    "(No column name)": "7"
                                },
                                {
                                    "SZOBA_FK": "155",
                                    "FOGLALAS_PK": "1112",
                                    "Foglalt napok száma": "4",
                                    "(No column name)": "3"
                                },
                                {
                                    "SZOBA_FK": "58",
                                    "FOGLALAS_PK": "1113",
                                    "Foglalt napok száma": "3",
                                    "(No column name)": "4"
                                },
                                {
                                    "SZOBA_FK": "20",
                                    "FOGLALAS_PK": "1114",
                                    "Foglalt napok száma": "5",
                                    "(No column name)": "3"
                                },
                                {
                                    "SZOBA_FK": "151",
                                    "FOGLALAS_PK": "1115",
                                    "Foglalt napok száma": "3",
                                    "(No column name)": "5"
                                },
                                {
                                    "SZOBA_FK": "198",
                                    "FOGLALAS_PK": "1116",
                                    "Foglalt napok száma": "1",
                                    "(No column name)": "3"
                                },
                                {
                                    "SZOBA_FK": "158",
                                    "FOGLALAS_PK": "1117",
                                    "Foglalt napok száma": "3",
                                    "(No column name)": "1"
                                },
                                {
                                    "SZOBA_FK": "40",
                                    "FOGLALAS_PK": "1118",
                                    "Foglalt napok száma": "5",
                                    "(No column name)": "3"
                                },
                                {
                                    "SZOBA_FK": "83",
                                    "FOGLALAS_PK": "1119",
                                    "Foglalt napok száma": "6",
                                    "(No column name)": "5"
                                },
                                {
                                    "SZOBA_FK": "145",
                                    "FOGLALAS_PK": "1120",
                                    "Foglalt napok száma": "1",
                                    "(No column name)": "6"
                                },
                                {
                                    "SZOBA_FK": "115",
                                    "FOGLALAS_PK": "1121",
                                    "Foglalt napok száma": "7",
                                    "(No column name)": "1"
                                },
                                {
                                    "SZOBA_FK": "64",
                                    "FOGLALAS_PK": "1122",
                                    "Foglalt napok száma": "4",
                                    "(No column name)": "7"
                                },
                                {
                                    "SZOBA_FK": "11",
                                    "FOGLALAS_PK": "1123",
                                    "Foglalt napok száma": "5",
                                    "(No column name)": "4"
                                },
                                {
                                    "SZOBA_FK": "112",
                                    "FOGLALAS_PK": "1124",
                                    "Foglalt napok száma": "6",
                                    "(No column name)": "5"
                                },
                                {
                                    "SZOBA_FK": "185",
                                    "FOGLALAS_PK": "1125",
                                    "Foglalt napok száma": "3",
                                    "(No column name)": "6"
                                },
                                {
                                    "SZOBA_FK": "70",
                                    "FOGLALAS_PK": "1126",
                                    "Foglalt napok száma": "3",
                                    "(No column name)": "3"
                                },
                                {
                                    "SZOBA_FK": "4",
                                    "FOGLALAS_PK": "1127",
                                    "Foglalt napok száma": "3",
                                    "(No column name)": "3"
                                },
                                {
                                    "SZOBA_FK": "121",
                                    "FOGLALAS_PK": "1128",
                                    "Foglalt napok száma": "4",
                                    "(No column name)": "3"
                                },
                                {
                                    "SZOBA_FK": "15",
                                    "FOGLALAS_PK": "1129",
                                    "Foglalt napok száma": "4",
                                    "(No column name)": "4"
                                },
                                {
                                    "SZOBA_FK": "22",
                                    "FOGLALAS_PK": "1130",
                                    "Foglalt napok száma": "1",
                                    "(No column name)": "4"
                                },
                                {
                                    "SZOBA_FK": "7",
                                    "FOGLALAS_PK": "1131",
                                    "Foglalt napok száma": "1",
                                    "(No column name)": "1"
                                },
                                {
                                    "SZOBA_FK": "4",
                                    "FOGLALAS_PK": "1132",
                                    "Foglalt napok száma": "6",
                                    "(No column name)": "1"
                                },
                                {
                                    "SZOBA_FK": "175",
                                    "FOGLALAS_PK": "1133",
                                    "Foglalt napok száma": "2",
                                    "(No column name)": "6"
                                },
                                {
                                    "SZOBA_FK": "126",
                                    "FOGLALAS_PK": "1134",
                                    "Foglalt napok száma": "1",
                                    "(No column name)": "2"
                                },
                                {
                                    "SZOBA_FK": "45",
                                    "FOGLALAS_PK": "1135",
                                    "Foglalt napok száma": "3",
                                    "(No column name)": "1"
                                },
                                {
                                    "SZOBA_FK": "30",
                                    "FOGLALAS_PK": "1136",
                                    "Foglalt napok száma": "5",
                                    "(No column name)": "3"
                                },
                                {
                                    "SZOBA_FK": "1",
                                    "FOGLALAS_PK": "1137",
                                    "Foglalt napok száma": "2",
                                    "(No column name)": "5"
                                },
                                {
                                    "SZOBA_FK": "198",
                                    "FOGLALAS_PK": "1138",
                                    "Foglalt napok száma": "5",
                                    "(No column name)": "2"
                                },
                                {
                                    "SZOBA_FK": "19",
                                    "FOGLALAS_PK": "1139",
                                    "Foglalt napok száma": "7",
                                    "(No column name)": "5"
                                },
                                {
                                    "SZOBA_FK": "12",
                                    "FOGLALAS_PK": "1140",
                                    "Foglalt napok száma": "3",
                                    "(No column name)": "7"
                                },
                                {
                                    "SZOBA_FK": "165",
                                    "FOGLALAS_PK": "1141",
                                    "Foglalt napok száma": "1",
                                    "(No column name)": "3"
                                },
                                {
                                    "SZOBA_FK": "172",
                                    "FOGLALAS_PK": "1142",
                                    "Foglalt napok száma": "4",
                                    "(No column name)": "1"
                                },
                                {
                                    "SZOBA_FK": "176",
                                    "FOGLALAS_PK": "1143",
                                    "Foglalt napok száma": "6",
                                    "(No column name)": "4"
                                },
                                {
                                    "SZOBA_FK": "41",
                                    "FOGLALAS_PK": "1144",
                                    "Foglalt napok száma": "1",
                                    "(No column name)": "6"
                                },
                                {
                                    "SZOBA_FK": "145",
                                    "FOGLALAS_PK": "1145",
                                    "Foglalt napok száma": "4",
                                    "(No column name)": "1"
                                },
                                {
                                    "SZOBA_FK": "149",
                                    "FOGLALAS_PK": "1146",
                                    "Foglalt napok száma": "6",
                                    "(No column name)": "4"
                                },
                                {
                                    "SZOBA_FK": "183",
                                    "FOGLALAS_PK": "1147",
                                    "Foglalt napok száma": "4",
                                    "(No column name)": "6"
                                },
                                {
                                    "SZOBA_FK": "61",
                                    "FOGLALAS_PK": "1148",
                                    "Foglalt napok száma": "3",
                                    "(No column name)": "4"
                                },
                                {
                                    "SZOBA_FK": "133",
                                    "FOGLALAS_PK": "1149",
                                    "Foglalt napok száma": "7",
                                    "(No column name)": "3"
                                },
                                {
                                    "SZOBA_FK": "28",
                                    "FOGLALAS_PK": "1150",
                                    "Foglalt napok száma": "6",
                                    "(No column name)": "7"
                                },
                                {
                                    "SZOBA_FK": "3",
                                    "FOGLALAS_PK": "1151",
                                    "Foglalt napok száma": "1",
                                    "(No column name)": "6"
                                },
                                {
                                    "SZOBA_FK": "1",
                                    "FOGLALAS_PK": "1152",
                                    "Foglalt napok száma": "1",
                                    "(No column name)": "1"
                                },
                                {
                                    "SZOBA_FK": "186",
                                    "FOGLALAS_PK": "1153",
                                    "Foglalt napok száma": "3",
                                    "(No column name)": "1"
                                },
                                {
                                    "SZOBA_FK": "115",
                                    "FOGLALAS_PK": "1154",
                                    "Foglalt napok száma": "4",
                                    "(No column name)": "3"
                                },
                                {
                                    "SZOBA_FK": "143",
                                    "FOGLALAS_PK": "1155",
                                    "Foglalt napok száma": "7",
                                    "(No column name)": "4"
                                },
                                {
                                    "SZOBA_FK": "140",
                                    "FOGLALAS_PK": "1156",
                                    "Foglalt napok száma": "3",
                                    "(No column name)": "7"
                                },
                                {
                                    "SZOBA_FK": "9",
                                    "FOGLALAS_PK": "1157",
                                    "Foglalt napok száma": "6",
                                    "(No column name)": "3"
                                },
                                {
                                    "SZOBA_FK": "26",
                                    "FOGLALAS_PK": "1158",
                                    "Foglalt napok száma": "2",
                                    "(No column name)": "6"
                                },
                                {
                                    "SZOBA_FK": "73",
                                    "FOGLALAS_PK": "1159",
                                    "Foglalt napok száma": "5",
                                    "(No column name)": "2"
                                },
                                {
                                    "SZOBA_FK": "152",
                                    "FOGLALAS_PK": "1160",
                                    "Foglalt napok száma": "7",
                                    "(No column name)": "5"
                                },
                                {
                                    "SZOBA_FK": "198",
                                    "FOGLALAS_PK": "1161",
                                    "Foglalt napok száma": "5",
                                    "(No column name)": "7"
                                },
                                {
                                    "SZOBA_FK": "110",
                                    "FOGLALAS_PK": "1162",
                                    "Foglalt napok száma": "2",
                                    "(No column name)": "5"
                                },
                                {
                                    "SZOBA_FK": "55",
                                    "FOGLALAS_PK": "1163",
                                    "Foglalt napok száma": "2",
                                    "(No column name)": "2"
                                },
                                {
                                    "SZOBA_FK": "12",
                                    "FOGLALAS_PK": "1164",
                                    "Foglalt napok száma": "5",
                                    "(No column name)": "2"
                                },
                                {
                                    "SZOBA_FK": "51",
                                    "FOGLALAS_PK": "1165",
                                    "Foglalt napok száma": "5",
                                    "(No column name)": "5"
                                },
                                {
                                    "SZOBA_FK": "122",
                                    "FOGLALAS_PK": "1166",
                                    "Foglalt napok száma": "4",
                                    "(No column name)": "5"
                                },
                                {
                                    "SZOBA_FK": "24",
                                    "FOGLALAS_PK": "1167",
                                    "Foglalt napok száma": "1",
                                    "(No column name)": "4"
                                },
                                {
                                    "SZOBA_FK": "154",
                                    "FOGLALAS_PK": "1168",
                                    "Foglalt napok száma": "6",
                                    "(No column name)": "1"
                                },
                                {
                                    "SZOBA_FK": "93",
                                    "FOGLALAS_PK": "1169",
                                    "Foglalt napok száma": "4",
                                    "(No column name)": "6"
                                },
                                {
                                    "SZOBA_FK": "59",
                                    "FOGLALAS_PK": "1170",
                                    "Foglalt napok száma": "5",
                                    "(No column name)": "4"
                                },
                                {
                                    "SZOBA_FK": "172",
                                    "FOGLALAS_PK": "1171",
                                    "Foglalt napok száma": "5",
                                    "(No column name)": "5"
                                },
                                {
                                    "SZOBA_FK": "197",
                                    "FOGLALAS_PK": "1172",
                                    "Foglalt napok száma": "7",
                                    "(No column name)": "5"
                                },
                                {
                                    "SZOBA_FK": "18",
                                    "FOGLALAS_PK": "1173",
                                    "Foglalt napok száma": "6",
                                    "(No column name)": "7"
                                },
                                {
                                    "SZOBA_FK": "90",
                                    "FOGLALAS_PK": "1174",
                                    "Foglalt napok száma": "7",
                                    "(No column name)": "6"
                                },
                                {
                                    "SZOBA_FK": "7",
                                    "FOGLALAS_PK": "1175",
                                    "Foglalt napok száma": "4",
                                    "(No column name)": "7"
                                },
                                {
                                    "SZOBA_FK": "177",
                                    "FOGLALAS_PK": "1176",
                                    "Foglalt napok száma": "3",
                                    "(No column name)": "4"
                                },
                                {
                                    "SZOBA_FK": "150",
                                    "FOGLALAS_PK": "1177",
                                    "Foglalt napok száma": "1",
                                    "(No column name)": "3"
                                },
                                {
                                    "SZOBA_FK": "134",
                                    "FOGLALAS_PK": "1178",
                                    "Foglalt napok száma": "7",
                                    "(No column name)": "1"
                                },
                                {
                                    "SZOBA_FK": "74",
                                    "FOGLALAS_PK": "1179",
                                    "Foglalt napok száma": "7",
                                    "(No column name)": "7"
                                },
                                {
                                    "SZOBA_FK": "104",
                                    "FOGLALAS_PK": "1180",
                                    "Foglalt napok száma": "1",
                                    "(No column name)": "7"
                                },
                                {
                                    "SZOBA_FK": "171",
                                    "FOGLALAS_PK": "1181",
                                    "Foglalt napok száma": "6",
                                    "(No column name)": "1"
                                },
                                {
                                    "SZOBA_FK": "7",
                                    "FOGLALAS_PK": "1182",
                                    "Foglalt napok száma": "4",
                                    "(No column name)": "6"
                                },
                                {
                                    "SZOBA_FK": "185",
                                    "FOGLALAS_PK": "1183",
                                    "Foglalt napok száma": "5",
                                    "(No column name)": "4"
                                },
                                {
                                    "SZOBA_FK": "195",
                                    "FOGLALAS_PK": "1184",
                                    "Foglalt napok száma": "5",
                                    "(No column name)": "5"
                                },
                                {
                                    "SZOBA_FK": "29",
                                    "FOGLALAS_PK": "1185",
                                    "Foglalt napok száma": "5",
                                    "(No column name)": "5"
                                },
                                {
                                    "SZOBA_FK": "58",
                                    "FOGLALAS_PK": "1186",
                                    "Foglalt napok száma": "6",
                                    "(No column name)": "5"
                                },
                                {
                                    "SZOBA_FK": "46",
                                    "FOGLALAS_PK": "1187",
                                    "Foglalt napok száma": "7",
                                    "(No column name)": "6"
                                },
                                {
                                    "SZOBA_FK": "182",
                                    "FOGLALAS_PK": "1188",
                                    "Foglalt napok száma": "1",
                                    "(No column name)": "7"
                                },
                                {
                                    "SZOBA_FK": "89",
                                    "FOGLALAS_PK": "1189",
                                    "Foglalt napok száma": "6",
                                    "(No column name)": "1"
                                },
                                {
                                    "SZOBA_FK": "161",
                                    "FOGLALAS_PK": "1190",
                                    "Foglalt napok száma": "7",
                                    "(No column name)": "6"
                                },
                                {
                                    "SZOBA_FK": "59",
                                    "FOGLALAS_PK": "1191",
                                    "Foglalt napok száma": "6",
                                    "(No column name)": "7"
                                },
                                {
                                    "SZOBA_FK": "117",
                                    "FOGLALAS_PK": "1192",
                                    "Foglalt napok száma": "2",
                                    "(No column name)": "6"
                                },
                                {
                                    "SZOBA_FK": "143",
                                    "FOGLALAS_PK": "1193",
                                    "Foglalt napok száma": "6",
                                    "(No column name)": "2"
                                },
                                {
                                    "SZOBA_FK": "170",
                                    "FOGLALAS_PK": "1194",
                                    "Foglalt napok száma": "4",
                                    "(No column name)": "6"
                                },
                                {
                                    "SZOBA_FK": "22",
                                    "FOGLALAS_PK": "1195",
                                    "Foglalt napok száma": "6",
                                    "(No column name)": "4"
                                },
                                {
                                    "SZOBA_FK": "88",
                                    "FOGLALAS_PK": "1196",
                                    "Foglalt napok száma": "3",
                                    "(No column name)": "6"
                                },
                                {
                                    "SZOBA_FK": "152",
                                    "FOGLALAS_PK": "1197",
                                    "Foglalt napok száma": "6",
                                    "(No column name)": "3"
                                },
                                {
                                    "SZOBA_FK": "18",
                                    "FOGLALAS_PK": "1198",
                                    "Foglalt napok száma": "4",
                                    "(No column name)": "6"
                                },
                                {
                                    "SZOBA_FK": "144",
                                    "FOGLALAS_PK": "1199",
                                    "Foglalt napok száma": "7",
                                    "(No column name)": "4"
                                },
                                {
                                    "SZOBA_FK": "49",
                                    "FOGLALAS_PK": "1200",
                                    "Foglalt napok száma": "7",
                                    "(No column name)": "7"
                                },
                                {
                                    "SZOBA_FK": "137",
                                    "FOGLALAS_PK": "1201",
                                    "Foglalt napok száma": "6",
                                    "(No column name)": "7"
                                },
                                {
                                    "SZOBA_FK": "52",
                                    "FOGLALAS_PK": "1202",
                                    "Foglalt napok száma": "2",
                                    "(No column name)": "6"
                                },
                                {
                                    "SZOBA_FK": "150",
                                    "FOGLALAS_PK": "1203",
                                    "Foglalt napok száma": "4",
                                    "(No column name)": "2"
                                },
                                {
                                    "SZOBA_FK": "189",
                                    "FOGLALAS_PK": "1204",
                                    "Foglalt napok száma": "2",
                                    "(No column name)": "4"
                                },
                                {
                                    "SZOBA_FK": "162",
                                    "FOGLALAS_PK": "1205",
                                    "Foglalt napok száma": "6",
                                    "(No column name)": "2"
                                },
                                {
                                    "SZOBA_FK": "22",
                                    "FOGLALAS_PK": "1206",
                                    "Foglalt napok száma": "7",
                                    "(No column name)": "6"
                                },
                                {
                                    "SZOBA_FK": "43",
                                    "FOGLALAS_PK": "1207",
                                    "Foglalt napok száma": "1",
                                    "(No column name)": "7"
                                },
                                {
                                    "SZOBA_FK": "58",
                                    "FOGLALAS_PK": "1208",
                                    "Foglalt napok száma": "6",
                                    "(No column name)": "1"
                                },
                                {
                                    "SZOBA_FK": "122",
                                    "FOGLALAS_PK": "1209",
                                    "Foglalt napok száma": "1",
                                    "(No column name)": "6"
                                },
                                {
                                    "SZOBA_FK": "124",
                                    "FOGLALAS_PK": "1210",
                                    "Foglalt napok száma": "4",
                                    "(No column name)": "1"
                                },
                                {
                                    "SZOBA_FK": "178",
                                    "FOGLALAS_PK": "1211",
                                    "Foglalt napok száma": "3",
                                    "(No column name)": "4"
                                },
                                {
                                    "SZOBA_FK": "21",
                                    "FOGLALAS_PK": "1212",
                                    "Foglalt napok száma": "6",
                                    "(No column name)": "3"
                                },
                                {
                                    "SZOBA_FK": "91",
                                    "FOGLALAS_PK": "1213",
                                    "Foglalt napok száma": "3",
                                    "(No column name)": "6"
                                },
                                {
                                    "SZOBA_FK": "39",
                                    "FOGLALAS_PK": "1214",
                                    "Foglalt napok száma": "5",
                                    "(No column name)": "3"
                                },
                                {
                                    "SZOBA_FK": "121",
                                    "FOGLALAS_PK": "1215",
                                    "Foglalt napok száma": "4",
                                    "(No column name)": "5"
                                },
                                {
                                    "SZOBA_FK": "198",
                                    "FOGLALAS_PK": "1216",
                                    "Foglalt napok száma": "7",
                                    "(No column name)": "4"
                                },
                                {
                                    "SZOBA_FK": "93",
                                    "FOGLALAS_PK": "1217",
                                    "Foglalt napok száma": "1",
                                    "(No column name)": "7"
                                },
                                {
                                    "SZOBA_FK": "61",
                                    "FOGLALAS_PK": "1218",
                                    "Foglalt napok száma": "2",
                                    "(No column name)": "1"
                                },
                                {
                                    "SZOBA_FK": "134",
                                    "FOGLALAS_PK": "1219",
                                    "Foglalt napok száma": "6",
                                    "(No column name)": "2"
                                },
                                {
                                    "SZOBA_FK": "9",
                                    "FOGLALAS_PK": "1220",
                                    "Foglalt napok száma": "3",
                                    "(No column name)": "6"
                                },
                                {
                                    "SZOBA_FK": "49",
                                    "FOGLALAS_PK": "1221",
                                    "Foglalt napok száma": "2",
                                    "(No column name)": "3"
                                },
                                {
                                    "SZOBA_FK": "143",
                                    "FOGLALAS_PK": "1222",
                                    "Foglalt napok száma": "2",
                                    "(No column name)": "2"
                                },
                                {
                                    "SZOBA_FK": "123",
                                    "FOGLALAS_PK": "1223",
                                    "Foglalt napok száma": "1",
                                    "(No column name)": "2"
                                },
                                {
                                    "SZOBA_FK": "50",
                                    "FOGLALAS_PK": "1224",
                                    "Foglalt napok száma": "1",
                                    "(No column name)": "1"
                                },
                                {
                                    "SZOBA_FK": "69",
                                    "FOGLALAS_PK": "1225",
                                    "Foglalt napok száma": "5",
                                    "(No column name)": "1"
                                },
                                {
                                    "SZOBA_FK": "127",
                                    "FOGLALAS_PK": "1226",
                                    "Foglalt napok száma": "5",
                                    "(No column name)": "5"
                                },
                                {
                                    "SZOBA_FK": "43",
                                    "FOGLALAS_PK": "1227",
                                    "Foglalt napok száma": "5",
                                    "(No column name)": "5"
                                },
                                {
                                    "SZOBA_FK": "106",
                                    "FOGLALAS_PK": "1228",
                                    "Foglalt napok száma": "7",
                                    "(No column name)": "5"
                                },
                                {
                                    "SZOBA_FK": "79",
                                    "FOGLALAS_PK": "1229",
                                    "Foglalt napok száma": "7",
                                    "(No column name)": "7"
                                },
                                {
                                    "SZOBA_FK": "182",
                                    "FOGLALAS_PK": "1230",
                                    "Foglalt napok száma": "7",
                                    "(No column name)": "7"
                                },
                                {
                                    "SZOBA_FK": "182",
                                    "FOGLALAS_PK": "1231",
                                    "Foglalt napok száma": "4",
                                    "(No column name)": "7"
                                },
                                {
                                    "SZOBA_FK": "55",
                                    "FOGLALAS_PK": "1232",
                                    "Foglalt napok száma": "7",
                                    "(No column name)": "4"
                                },
                                {
                                    "SZOBA_FK": "64",
                                    "FOGLALAS_PK": "1233",
                                    "Foglalt napok száma": "7",
                                    "(No column name)": "7"
                                },
                                {
                                    "SZOBA_FK": "66",
                                    "FOGLALAS_PK": "1234",
                                    "Foglalt napok száma": "3",
                                    "(No column name)": "7"
                                },
                                {
                                    "SZOBA_FK": "29",
                                    "FOGLALAS_PK": "1235",
                                    "Foglalt napok száma": "7",
                                    "(No column name)": "3"
                                },
                                {
                                    "SZOBA_FK": "11",
                                    "FOGLALAS_PK": "1236",
                                    "Foglalt napok száma": "1",
                                    "(No column name)": "7"
                                },
                                {
                                    "SZOBA_FK": "19",
                                    "FOGLALAS_PK": "1237",
                                    "Foglalt napok száma": "1",
                                    "(No column name)": "1"
                                },
                                {
                                    "SZOBA_FK": "193",
                                    "FOGLALAS_PK": "1238",
                                    "Foglalt napok száma": "6",
                                    "(No column name)": "1"
                                },
                                {
                                    "SZOBA_FK": "59",
                                    "FOGLALAS_PK": "1239",
                                    "Foglalt napok száma": "2",
                                    "(No column name)": "6"
                                },
                                {
                                    "SZOBA_FK": "157",
                                    "FOGLALAS_PK": "1240",
                                    "Foglalt napok száma": "7",
                                    "(No column name)": "2"
                                },
                                {
                                    "SZOBA_FK": "94",
                                    "FOGLALAS_PK": "1241",
                                    "Foglalt napok száma": "7",
                                    "(No column name)": "7"
                                },
                                {
                                    "SZOBA_FK": "178",
                                    "FOGLALAS_PK": "1242",
                                    "Foglalt napok száma": "1",
                                    "(No column name)": "7"
                                },
                                {
                                    "SZOBA_FK": "48",
                                    "FOGLALAS_PK": "1243",
                                    "Foglalt napok száma": "6",
                                    "(No column name)": "1"
                                },
                                {
                                    "SZOBA_FK": "15",
                                    "FOGLALAS_PK": "1244",
                                    "Foglalt napok száma": "1",
                                    "(No column name)": "6"
                                },
                                {
                                    "SZOBA_FK": "122",
                                    "FOGLALAS_PK": "1245",
                                    "Foglalt napok száma": "2",
                                    "(No column name)": "1"
                                },
                                {
                                    "SZOBA_FK": "69",
                                    "FOGLALAS_PK": "1246",
                                    "Foglalt napok száma": "7",
                                    "(No column name)": "2"
                                },
                                {
                                    "SZOBA_FK": "117",
                                    "FOGLALAS_PK": "1247",
                                    "Foglalt napok száma": "3",
                                    "(No column name)": "7"
                                },
                                {
                                    "SZOBA_FK": "186",
                                    "FOGLALAS_PK": "1248",
                                    "Foglalt napok száma": "2",
                                    "(No column name)": "3"
                                },
                                {
                                    "SZOBA_FK": "168",
                                    "FOGLALAS_PK": "1249",
                                    "Foglalt napok száma": "4",
                                    "(No column name)": "2"
                                },
                                {
                                    "SZOBA_FK": "107",
                                    "FOGLALAS_PK": "1250",
                                    "Foglalt napok száma": "4",
                                    "(No column name)": "4"
                                },
                                {
                                    "SZOBA_FK": "184",
                                    "FOGLALAS_PK": "1251",
                                    "Foglalt napok száma": "4",
                                    "(No column name)": "4"
                                },
                                {
                                    "SZOBA_FK": "7",
                                    "FOGLALAS_PK": "1252",
                                    "Foglalt napok száma": "2",
                                    "(No column name)": "4"
                                },
                                {
                                    "SZOBA_FK": "89",
                                    "FOGLALAS_PK": "1253",
                                    "Foglalt napok száma": "2",
                                    "(No column name)": "2"
                                },
                                {
                                    "SZOBA_FK": "141",
                                    "FOGLALAS_PK": "1254",
                                    "Foglalt napok száma": "4",
                                    "(No column name)": "2"
                                },
                                {
                                    "SZOBA_FK": "58",
                                    "FOGLALAS_PK": "1255",
                                    "Foglalt napok száma": "7",
                                    "(No column name)": "4"
                                },
                                {
                                    "SZOBA_FK": "138",
                                    "FOGLALAS_PK": "1256",
                                    "Foglalt napok száma": "4",
                                    "(No column name)": "7"
                                },
                                {
                                    "SZOBA_FK": "5",
                                    "FOGLALAS_PK": "1257",
                                    "Foglalt napok száma": "3",
                                    "(No column name)": "4"
                                },
                                {
                                    "SZOBA_FK": "52",
                                    "FOGLALAS_PK": "1258",
                                    "Foglalt napok száma": "5",
                                    "(No column name)": "3"
                                },
                                {
                                    "SZOBA_FK": "140",
                                    "FOGLALAS_PK": "1259",
                                    "Foglalt napok száma": "7",
                                    "(No column name)": "5"
                                },
                                {
                                    "SZOBA_FK": "9",
                                    "FOGLALAS_PK": "1260",
                                    "Foglalt napok száma": "6",
                                    "(No column name)": "7"
                                },
                                {
                                    "SZOBA_FK": "58",
                                    "FOGLALAS_PK": "1261",
                                    "Foglalt napok száma": "6",
                                    "(No column name)": "6"
                                },
                                {
                                    "SZOBA_FK": "154",
                                    "FOGLALAS_PK": "1262",
                                    "Foglalt napok száma": "1",
                                    "(No column name)": "6"
                                },
                                {
                                    "SZOBA_FK": "113",
                                    "FOGLALAS_PK": "1263",
                                    "Foglalt napok száma": "1",
                                    "(No column name)": "1"
                                },
                                {
                                    "SZOBA_FK": "66",
                                    "FOGLALAS_PK": "1264",
                                    "Foglalt napok száma": "4",
                                    "(No column name)": "1"
                                },
                                {
                                    "SZOBA_FK": "163",
                                    "FOGLALAS_PK": "1265",
                                    "Foglalt napok száma": "5",
                                    "(No column name)": "4"
                                },
                                {
                                    "SZOBA_FK": "168",
                                    "FOGLALAS_PK": "1266",
                                    "Foglalt napok száma": "4",
                                    "(No column name)": "5"
                                },
                                {
                                    "SZOBA_FK": "170",
                                    "FOGLALAS_PK": "1267",
                                    "Foglalt napok száma": "7",
                                    "(No column name)": "4"
                                },
                                {
                                    "SZOBA_FK": "78",
                                    "FOGLALAS_PK": "1268",
                                    "Foglalt napok száma": "2",
                                    "(No column name)": "7"
                                },
                                {
                                    "SZOBA_FK": "89",
                                    "FOGLALAS_PK": "1269",
                                    "Foglalt napok száma": "2",
                                    "(No column name)": "2"
                                },
                                {
                                    "SZOBA_FK": "43",
                                    "FOGLALAS_PK": "1270",
                                    "Foglalt napok száma": "4",
                                    "(No column name)": "2"
                                },
                                {
                                    "SZOBA_FK": "106",
                                    "FOGLALAS_PK": "1271",
                                    "Foglalt napok száma": "5",
                                    "(No column name)": "4"
                                },
                                {
                                    "SZOBA_FK": "50",
                                    "FOGLALAS_PK": "1272",
                                    "Foglalt napok száma": "1",
                                    "(No column name)": "5"
                                },
                                {
                                    "SZOBA_FK": "88",
                                    "FOGLALAS_PK": "1273",
                                    "Foglalt napok száma": "7",
                                    "(No column name)": "1"
                                },
                                {
                                    "SZOBA_FK": "1",
                                    "FOGLALAS_PK": "1274",
                                    "Foglalt napok száma": "1",
                                    "(No column name)": "7"
                                },
                                {
                                    "SZOBA_FK": "27",
                                    "FOGLALAS_PK": "1275",
                                    "Foglalt napok száma": "6",
                                    "(No column name)": "1"
                                },
                                {
                                    "SZOBA_FK": "174",
                                    "FOGLALAS_PK": "1276",
                                    "Foglalt napok száma": "1",
                                    "(No column name)": "6"
                                },
                                {
                                    "SZOBA_FK": "82",
                                    "FOGLALAS_PK": "1277",
                                    "Foglalt napok száma": "5",
                                    "(No column name)": "1"
                                },
                                {
                                    "SZOBA_FK": "176",
                                    "FOGLALAS_PK": "1278",
                                    "Foglalt napok száma": "6",
                                    "(No column name)": "5"
                                },
                                {
                                    "SZOBA_FK": "80",
                                    "FOGLALAS_PK": "1279",
                                    "Foglalt napok száma": "5",
                                    "(No column name)": "6"
                                },
                                {
                                    "SZOBA_FK": "137",
                                    "FOGLALAS_PK": "1280",
                                    "Foglalt napok száma": "3",
                                    "(No column name)": "5"
                                },
                                {
                                    "SZOBA_FK": "78",
                                    "FOGLALAS_PK": "1281",
                                    "Foglalt napok száma": "3",
                                    "(No column name)": "3"
                                },
                                {
                                    "SZOBA_FK": "123",
                                    "FOGLALAS_PK": "1282",
                                    "Foglalt napok száma": "6",
                                    "(No column name)": "3"
                                },
                                {
                                    "SZOBA_FK": "138",
                                    "FOGLALAS_PK": "1283",
                                    "Foglalt napok száma": "2",
                                    "(No column name)": "6"
                                },
                                {
                                    "SZOBA_FK": "164",
                                    "FOGLALAS_PK": "1284",
                                    "Foglalt napok száma": "4",
                                    "(No column name)": "2"
                                },
                                {
                                    "SZOBA_FK": "58",
                                    "FOGLALAS_PK": "1285",
                                    "Foglalt napok száma": "7",
                                    "(No column name)": "4"
                                },
                                {
                                    "SZOBA_FK": "127",
                                    "FOGLALAS_PK": "1286",
                                    "Foglalt napok száma": "1",
                                    "(No column name)": "7"
                                },
                                {
                                    "SZOBA_FK": "22",
                                    "FOGLALAS_PK": "1287",
                                    "Foglalt napok száma": "3",
                                    "(No column name)": "1"
                                },
                                {
                                    "SZOBA_FK": "59",
                                    "FOGLALAS_PK": "1288",
                                    "Foglalt napok száma": "3",
                                    "(No column name)": "3"
                                },
                                {
                                    "SZOBA_FK": "135",
                                    "FOGLALAS_PK": "1289",
                                    "Foglalt napok száma": "3",
                                    "(No column name)": "3"
                                },
                                {
                                    "SZOBA_FK": "128",
                                    "FOGLALAS_PK": "1290",
                                    "Foglalt napok száma": "1",
                                    "(No column name)": "3"
                                },
                                {
                                    "SZOBA_FK": "46",
                                    "FOGLALAS_PK": "1291",
                                    "Foglalt napok száma": "3",
                                    "(No column name)": "1"
                                },
                                {
                                    "SZOBA_FK": "164",
                                    "FOGLALAS_PK": "1292",
                                    "Foglalt napok száma": "2",
                                    "(No column name)": "3"
                                },
                                {
                                    "SZOBA_FK": "58",
                                    "FOGLALAS_PK": "1293",
                                    "Foglalt napok száma": "3",
                                    "(No column name)": "2"
                                },
                                {
                                    "SZOBA_FK": "138",
                                    "FOGLALAS_PK": "1294",
                                    "Foglalt napok száma": "5",
                                    "(No column name)": "3"
                                },
                                {
                                    "SZOBA_FK": "44",
                                    "FOGLALAS_PK": "1295",
                                    "Foglalt napok száma": "2",
                                    "(No column name)": "5"
                                },
                                {
                                    "SZOBA_FK": "111",
                                    "FOGLALAS_PK": "1296",
                                    "Foglalt napok száma": "3",
                                    "(No column name)": "2"
                                },
                                {
                                    "SZOBA_FK": "144",
                                    "FOGLALAS_PK": "1297",
                                    "Foglalt napok száma": "1",
                                    "(No column name)": "3"
                                },
                                {
                                    "SZOBA_FK": "109",
                                    "FOGLALAS_PK": "1298",
                                    "Foglalt napok száma": "4",
                                    "(No column name)": "1"
                                },
                                {
                                    "SZOBA_FK": "90",
                                    "FOGLALAS_PK": "1299",
                                    "Foglalt napok száma": "6",
                                    "(No column name)": "4"
                                },
                                {
                                    "SZOBA_FK": "88",
                                    "FOGLALAS_PK": "1300",
                                    "Foglalt napok száma": "3",
                                    "(No column name)": "6"
                                },
                                {
                                    "SZOBA_FK": "132",
                                    "FOGLALAS_PK": "1301",
                                    "Foglalt napok száma": "2",
                                    "(No column name)": "3"
                                },
                                {
                                    "SZOBA_FK": "191",
                                    "FOGLALAS_PK": "1302",
                                    "Foglalt napok száma": "1",
                                    "(No column name)": "2"
                                },
                                {
                                    "SZOBA_FK": "45",
                                    "FOGLALAS_PK": "1303",
                                    "Foglalt napok száma": "2",
                                    "(No column name)": "1"
                                },
                                {
                                    "SZOBA_FK": "197",
                                    "FOGLALAS_PK": "1304",
                                    "Foglalt napok száma": "7",
                                    "(No column name)": "2"
                                },
                                {
                                    "SZOBA_FK": "94",
                                    "FOGLALAS_PK": "1305",
                                    "Foglalt napok száma": "2",
                                    "(No column name)": "7"
                                },
                                {
                                    "SZOBA_FK": "133",
                                    "FOGLALAS_PK": "1306",
                                    "Foglalt napok száma": "3",
                                    "(No column name)": "2"
                                },
                                {
                                    "SZOBA_FK": "58",
                                    "FOGLALAS_PK": "1307",
                                    "Foglalt napok száma": "6",
                                    "(No column name)": "3"
                                },
                                {
                                    "SZOBA_FK": "182",
                                    "FOGLALAS_PK": "1308",
                                    "Foglalt napok száma": "1",
                                    "(No column name)": "6"
                                },
                                {
                                    "SZOBA_FK": "42",
                                    "FOGLALAS_PK": "1309",
                                    "Foglalt napok száma": "2",
                                    "(No column name)": "1"
                                },
                                {
                                    "SZOBA_FK": "155",
                                    "FOGLALAS_PK": "1310",
                                    "Foglalt napok száma": "1",
                                    "(No column name)": "2"
                                },
                                {
                                    "SZOBA_FK": "2",
                                    "FOGLALAS_PK": "1311",
                                    "Foglalt napok száma": "7",
                                    "(No column name)": "1"
                                },
                                {
                                    "SZOBA_FK": "94",
                                    "FOGLALAS_PK": "1312",
                                    "Foglalt napok száma": "3",
                                    "(No column name)": "7"
                                },
                                {
                                    "SZOBA_FK": "143",
                                    "FOGLALAS_PK": "1313",
                                    "Foglalt napok száma": "4",
                                    "(No column name)": "3"
                                },
                                {
                                    "SZOBA_FK": "196",
                                    "FOGLALAS_PK": "1314",
                                    "Foglalt napok száma": "5",
                                    "(No column name)": "4"
                                },
                                {
                                    "SZOBA_FK": "100",
                                    "FOGLALAS_PK": "1315",
                                    "Foglalt napok száma": "5",
                                    "(No column name)": "5"
                                },
                                {
                                    "SZOBA_FK": "17",
                                    "FOGLALAS_PK": "1316",
                                    "Foglalt napok száma": "5",
                                    "(No column name)": "5"
                                },
                                {
                                    "SZOBA_FK": "182",
                                    "FOGLALAS_PK": "1317",
                                    "Foglalt napok száma": "3",
                                    "(No column name)": "5"
                                },
                                {
                                    "SZOBA_FK": "72",
                                    "FOGLALAS_PK": "1318",
                                    "Foglalt napok száma": "2",
                                    "(No column name)": "3"
                                },
                                {
                                    "SZOBA_FK": "10",
                                    "FOGLALAS_PK": "1319",
                                    "Foglalt napok száma": "6",
                                    "(No column name)": "2"
                                },
                                {
                                    "SZOBA_FK": "85",
                                    "FOGLALAS_PK": "1320",
                                    "Foglalt napok száma": "1",
                                    "(No column name)": "6"
                                },
                                {
                                    "SZOBA_FK": "33",
                                    "FOGLALAS_PK": "1321",
                                    "Foglalt napok száma": "4",
                                    "(No column name)": "1"
                                },
                                {
                                    "SZOBA_FK": "58",
                                    "FOGLALAS_PK": "1322",
                                    "Foglalt napok száma": "3",
                                    "(No column name)": "4"
                                },
                                {
                                    "SZOBA_FK": "191",
                                    "FOGLALAS_PK": "1323",
                                    "Foglalt napok száma": "7",
                                    "(No column name)": "3"
                                },
                                {
                                    "SZOBA_FK": "68",
                                    "FOGLALAS_PK": "1324",
                                    "Foglalt napok száma": "4",
                                    "(No column name)": "7"
                                },
                                {
                                    "SZOBA_FK": "70",
                                    "FOGLALAS_PK": "1325",
                                    "Foglalt napok száma": "7",
                                    "(No column name)": "4"
                                },
                                {
                                    "SZOBA_FK": "182",
                                    "FOGLALAS_PK": "1326",
                                    "Foglalt napok száma": "4",
                                    "(No column name)": "7"
                                },
                                {
                                    "SZOBA_FK": "55",
                                    "FOGLALAS_PK": "1327",
                                    "Foglalt napok száma": "6",
                                    "(No column name)": "4"
                                },
                                {
                                    "SZOBA_FK": "54",
                                    "FOGLALAS_PK": "1328",
                                    "Foglalt napok száma": "4",
                                    "(No column name)": "6"
                                },
                                {
                                    "SZOBA_FK": "171",
                                    "FOGLALAS_PK": "1329",
                                    "Foglalt napok száma": "5",
                                    "(No column name)": "4"
                                },
                                {
                                    "SZOBA_FK": "124",
                                    "FOGLALAS_PK": "1330",
                                    "Foglalt napok száma": "7",
                                    "(No column name)": "5"
                                },
                                {
                                    "SZOBA_FK": "73",
                                    "FOGLALAS_PK": "1331",
                                    "Foglalt napok száma": "4",
                                    "(No column name)": "7"
                                },
                                {
                                    "SZOBA_FK": "101",
                                    "FOGLALAS_PK": "1332",
                                    "Foglalt napok száma": "6",
                                    "(No column name)": "4"
                                },
                                {
                                    "SZOBA_FK": "70",
                                    "FOGLALAS_PK": "1333",
                                    "Foglalt napok száma": "6",
                                    "(No column name)": "6"
                                },
                                {
                                    "SZOBA_FK": "1",
                                    "FOGLALAS_PK": "1334",
                                    "Foglalt napok száma": "4",
                                    "(No column name)": "6"
                                },
                                {
                                    "SZOBA_FK": "37",
                                    "FOGLALAS_PK": "1335",
                                    "Foglalt napok száma": "7",
                                    "(No column name)": "4"
                                },
                                {
                                    "SZOBA_FK": "172",
                                    "FOGLALAS_PK": "1336",
                                    "Foglalt napok száma": "5",
                                    "(No column name)": "7"
                                },
                                {
                                    "SZOBA_FK": "122",
                                    "FOGLALAS_PK": "1337",
                                    "Foglalt napok száma": "2",
                                    "(No column name)": "5"
                                },
                                {
                                    "SZOBA_FK": "145",
                                    "FOGLALAS_PK": "1338",
                                    "Foglalt napok száma": "2",
                                    "(No column name)": "2"
                                },
                                {
                                    "SZOBA_FK": "120",
                                    "FOGLALAS_PK": "1339",
                                    "Foglalt napok száma": "6",
                                    "(No column name)": "2"
                                },
                                {
                                    "SZOBA_FK": "196",
                                    "FOGLALAS_PK": "1340",
                                    "Foglalt napok száma": "5",
                                    "(No column name)": "6"
                                },
                                {
                                    "SZOBA_FK": "82",
                                    "FOGLALAS_PK": "1341",
                                    "Foglalt napok száma": "2",
                                    "(No column name)": "5"
                                },
                                {
                                    "SZOBA_FK": "170",
                                    "FOGLALAS_PK": "1342",
                                    "Foglalt napok száma": "6",
                                    "(No column name)": "2"
                                },
                                {
                                    "SZOBA_FK": "102",
                                    "FOGLALAS_PK": "1343",
                                    "Foglalt napok száma": "2",
                                    "(No column name)": "6"
                                },
                                {
                                    "SZOBA_FK": "33",
                                    "FOGLALAS_PK": "1344",
                                    "Foglalt napok száma": "5",
                                    "(No column name)": "2"
                                },
                                {
                                    "SZOBA_FK": "79",
                                    "FOGLALAS_PK": "1345",
                                    "Foglalt napok száma": "3",
                                    "(No column name)": "5"
                                },
                                {
                                    "SZOBA_FK": "181",
                                    "FOGLALAS_PK": "1346",
                                    "Foglalt napok száma": "6",
                                    "(No column name)": "3"
                                },
                                {
                                    "SZOBA_FK": "13",
                                    "FOGLALAS_PK": "1347",
                                    "Foglalt napok száma": "3",
                                    "(No column name)": "6"
                                },
                                {
                                    "SZOBA_FK": "57",
                                    "FOGLALAS_PK": "1348",
                                    "Foglalt napok száma": "1",
                                    "(No column name)": "3"
                                },
                                {
                                    "SZOBA_FK": "87",
                                    "FOGLALAS_PK": "1349",
                                    "Foglalt napok száma": "5",
                                    "(No column name)": "1"
                                },
                                {
                                    "SZOBA_FK": "173",
                                    "FOGLALAS_PK": "1350",
                                    "Foglalt napok száma": "3",
                                    "(No column name)": "5"
                                },
                                {
                                    "SZOBA_FK": "38",
                                    "FOGLALAS_PK": "1351",
                                    "Foglalt napok száma": "4",
                                    "(No column name)": "3"
                                },
                                {
                                    "SZOBA_FK": "115",
                                    "FOGLALAS_PK": "1352",
                                    "Foglalt napok száma": "3",
                                    "(No column name)": "4"
                                },
                                {
                                    "SZOBA_FK": "111",
                                    "FOGLALAS_PK": "1353",
                                    "Foglalt napok száma": "5",
                                    "(No column name)": "3"
                                },
                                {
                                    "SZOBA_FK": "107",
                                    "FOGLALAS_PK": "1354",
                                    "Foglalt napok száma": "1",
                                    "(No column name)": "5"
                                },
                                {
                                    "SZOBA_FK": "93",
                                    "FOGLALAS_PK": "1355",
                                    "Foglalt napok száma": "2",
                                    "(No column name)": "1"
                                },
                                {
                                    "SZOBA_FK": "169",
                                    "FOGLALAS_PK": "1356",
                                    "Foglalt napok száma": "4",
                                    "(No column name)": "2"
                                },
                                {
                                    "SZOBA_FK": "140",
                                    "FOGLALAS_PK": "1357",
                                    "Foglalt napok száma": "4",
                                    "(No column name)": "4"
                                },
                                {
                                    "SZOBA_FK": "138",
                                    "FOGLALAS_PK": "1358",
                                    "Foglalt napok száma": "7",
                                    "(No column name)": "4"
                                },
                                {
                                    "SZOBA_FK": "88",
                                    "FOGLALAS_PK": "1359",
                                    "Foglalt napok száma": "2",
                                    "(No column name)": "7"
                                },
                                {
                                    "SZOBA_FK": "129",
                                    "FOGLALAS_PK": "1360",
                                    "Foglalt napok száma": "6",
                                    "(No column name)": "2"
                                },
                                {
                                    "SZOBA_FK": "140",
                                    "FOGLALAS_PK": "1361",
                                    "Foglalt napok száma": "3",
                                    "(No column name)": "6"
                                },
                                {
                                    "SZOBA_FK": "25",
                                    "FOGLALAS_PK": "1362",
                                    "Foglalt napok száma": "2",
                                    "(No column name)": "3"
                                },
                                {
                                    "SZOBA_FK": "133",
                                    "FOGLALAS_PK": "1363",
                                    "Foglalt napok száma": "5",
                                    "(No column name)": "2"
                                },
                                {
                                    "SZOBA_FK": "126",
                                    "FOGLALAS_PK": "1364",
                                    "Foglalt napok száma": "6",
                                    "(No column name)": "5"
                                },
                                {
                                    "SZOBA_FK": "70",
                                    "FOGLALAS_PK": "1365",
                                    "Foglalt napok száma": "3",
                                    "(No column name)": "6"
                                },
                                {
                                    "SZOBA_FK": "81",
                                    "FOGLALAS_PK": "1366",
                                    "Foglalt napok száma": "5",
                                    "(No column name)": "3"
                                },
                                {
                                    "SZOBA_FK": "80",
                                    "FOGLALAS_PK": "1367",
                                    "Foglalt napok száma": "3",
                                    "(No column name)": "5"
                                },
                                {
                                    "SZOBA_FK": "94",
                                    "FOGLALAS_PK": "1368",
                                    "Foglalt napok száma": "1",
                                    "(No column name)": "3"
                                },
                                {
                                    "SZOBA_FK": "142",
                                    "FOGLALAS_PK": "1369",
                                    "Foglalt napok száma": "6",
                                    "(No column name)": "1"
                                },
                                {
                                    "SZOBA_FK": "138",
                                    "FOGLALAS_PK": "1370",
                                    "Foglalt napok száma": "5",
                                    "(No column name)": "6"
                                },
                                {
                                    "SZOBA_FK": "140",
                                    "FOGLALAS_PK": "1371",
                                    "Foglalt napok száma": "1",
                                    "(No column name)": "5"
                                },
                                {
                                    "SZOBA_FK": "106",
                                    "FOGLALAS_PK": "1372",
                                    "Foglalt napok száma": "7",
                                    "(No column name)": "1"
                                },
                                {
                                    "SZOBA_FK": "121",
                                    "FOGLALAS_PK": "1373",
                                    "Foglalt napok száma": "5",
                                    "(No column name)": "7"
                                },
                                {
                                    "SZOBA_FK": "118",
                                    "FOGLALAS_PK": "1374",
                                    "Foglalt napok száma": "5",
                                    "(No column name)": "5"
                                },
                                {
                                    "SZOBA_FK": "165",
                                    "FOGLALAS_PK": "1375",
                                    "Foglalt napok száma": "4",
                                    "(No column name)": "5"
                                },
                                {
                                    "SZOBA_FK": "84",
                                    "FOGLALAS_PK": "1376",
                                    "Foglalt napok száma": "5",
                                    "(No column name)": "4"
                                },
                                {
                                    "SZOBA_FK": "27",
                                    "FOGLALAS_PK": "1377",
                                    "Foglalt napok száma": "1",
                                    "(No column name)": "5"
                                },
                                {
                                    "SZOBA_FK": "96",
                                    "FOGLALAS_PK": "1378",
                                    "Foglalt napok száma": "3",
                                    "(No column name)": "1"
                                },
                                {
                                    "SZOBA_FK": "83",
                                    "FOGLALAS_PK": "1379",
                                    "Foglalt napok száma": "7",
                                    "(No column name)": "3"
                                },
                                {
                                    "SZOBA_FK": "39",
                                    "FOGLALAS_PK": "1380",
                                    "Foglalt napok száma": "5",
                                    "(No column name)": "7"
                                },
                                {
                                    "SZOBA_FK": "33",
                                    "FOGLALAS_PK": "1381",
                                    "Foglalt napok száma": "6",
                                    "(No column name)": "5"
                                },
                                {
                                    "SZOBA_FK": "67",
                                    "FOGLALAS_PK": "1382",
                                    "Foglalt napok száma": "1",
                                    "(No column name)": "6"
                                },
                                {
                                    "SZOBA_FK": "176",
                                    "FOGLALAS_PK": "1383",
                                    "Foglalt napok száma": "4",
                                    "(No column name)": "1"
                                },
                                {
                                    "SZOBA_FK": "84",
                                    "FOGLALAS_PK": "1384",
                                    "Foglalt napok száma": "7",
                                    "(No column name)": "4"
                                },
                                {
                                    "SZOBA_FK": "122",
                                    "FOGLALAS_PK": "1385",
                                    "Foglalt napok száma": "5",
                                    "(No column name)": "7"
                                },
                                {
                                    "SZOBA_FK": "55",
                                    "FOGLALAS_PK": "1386",
                                    "Foglalt napok száma": "2",
                                    "(No column name)": "5"
                                },
                                {
                                    "SZOBA_FK": "197",
                                    "FOGLALAS_PK": "1387",
                                    "Foglalt napok száma": "3",
                                    "(No column name)": "2"
                                },
                                {
                                    "SZOBA_FK": "26",
                                    "FOGLALAS_PK": "1388",
                                    "Foglalt napok száma": "3",
                                    "(No column name)": "3"
                                },
                                {
                                    "SZOBA_FK": "57",
                                    "FOGLALAS_PK": "1389",
                                    "Foglalt napok száma": "1",
                                    "(No column name)": "3"
                                },
                                {
                                    "SZOBA_FK": "188",
                                    "FOGLALAS_PK": "1390",
                                    "Foglalt napok száma": "5",
                                    "(No column name)": "1"
                                },
                                {
                                    "SZOBA_FK": "93",
                                    "FOGLALAS_PK": "1391",
                                    "Foglalt napok száma": "4",
                                    "(No column name)": "5"
                                },
                                {
                                    "SZOBA_FK": "108",
                                    "FOGLALAS_PK": "1392",
                                    "Foglalt napok száma": "6",
                                    "(No column name)": "4"
                                },
                                {
                                    "SZOBA_FK": "121",
                                    "FOGLALAS_PK": "1393",
                                    "Foglalt napok száma": "6",
                                    "(No column name)": "6"
                                },
                                {
                                    "SZOBA_FK": "143",
                                    "FOGLALAS_PK": "1394",
                                    "Foglalt napok száma": "3",
                                    "(No column name)": "6"
                                },
                                {
                                    "SZOBA_FK": "97",
                                    "FOGLALAS_PK": "1395",
                                    "Foglalt napok száma": "1",
                                    "(No column name)": "3"
                                },
                                {
                                    "SZOBA_FK": "72",
                                    "FOGLALAS_PK": "1396",
                                    "Foglalt napok száma": "3",
                                    "(No column name)": "1"
                                },
                                {
                                    "SZOBA_FK": "91",
                                    "FOGLALAS_PK": "1397",
                                    "Foglalt napok száma": "4",
                                    "(No column name)": "3"
                                },
                                {
                                    "SZOBA_FK": "103",
                                    "FOGLALAS_PK": "1398",
                                    "Foglalt napok száma": "1",
                                    "(No column name)": "4"
                                },
                                {
                                    "SZOBA_FK": "89",
                                    "FOGLALAS_PK": "1399",
                                    "Foglalt napok száma": "2",
                                    "(No column name)": "1"
                                },
                                {
                                    "SZOBA_FK": "162",
                                    "FOGLALAS_PK": "1400",
                                    "Foglalt napok száma": "1",
                                    "(No column name)": "2"
                                },
                                {
                                    "SZOBA_FK": "141",
                                    "FOGLALAS_PK": "1401",
                                    "Foglalt napok száma": "6",
                                    "(No column name)": "1"
                                },
                                {
                                    "SZOBA_FK": "98",
                                    "FOGLALAS_PK": "1402",
                                    "Foglalt napok száma": "2",
                                    "(No column name)": "6"
                                },
                                {
                                    "SZOBA_FK": "124",
                                    "FOGLALAS_PK": "1403",
                                    "Foglalt napok száma": "6",
                                    "(No column name)": "2"
                                },
                                {
                                    "SZOBA_FK": "187",
                                    "FOGLALAS_PK": "1404",
                                    "Foglalt napok száma": "2",
                                    "(No column name)": "6"
                                },
                                {
                                    "SZOBA_FK": "90",
                                    "FOGLALAS_PK": "1405",
                                    "Foglalt napok száma": "5",
                                    "(No column name)": "2"
                                },
                                {
                                    "SZOBA_FK": "82",
                                    "FOGLALAS_PK": "1406",
                                    "Foglalt napok száma": "1",
                                    "(No column name)": "5"
                                },
                                {
                                    "SZOBA_FK": "175",
                                    "FOGLALAS_PK": "1407",
                                    "Foglalt napok száma": "7",
                                    "(No column name)": "1"
                                },
                                {
                                    "SZOBA_FK": "99",
                                    "FOGLALAS_PK": "1408",
                                    "Foglalt napok száma": "1",
                                    "(No column name)": "7"
                                },
                                {
                                    "SZOBA_FK": "133",
                                    "FOGLALAS_PK": "1409",
                                    "Foglalt napok száma": "1",
                                    "(No column name)": "1"
                                },
                                {
                                    "SZOBA_FK": "182",
                                    "FOGLALAS_PK": "1410",
                                    "Foglalt napok száma": "4",
                                    "(No column name)": "1"
                                },
                                {
                                    "SZOBA_FK": "35",
                                    "FOGLALAS_PK": "1411",
                                    "Foglalt napok száma": "1",
                                    "(No column name)": "4"
                                },
                                {
                                    "SZOBA_FK": "75",
                                    "FOGLALAS_PK": "1412",
                                    "Foglalt napok száma": "2",
                                    "(No column name)": "1"
                                },
                                {
                                    "SZOBA_FK": "119",
                                    "FOGLALAS_PK": "1413",
                                    "Foglalt napok száma": "3",
                                    "(No column name)": "2"
                                },
                                {
                                    "SZOBA_FK": "167",
                                    "FOGLALAS_PK": "1414",
                                    "Foglalt napok száma": "3",
                                    "(No column name)": "3"
                                },
                                {
                                    "SZOBA_FK": "24",
                                    "FOGLALAS_PK": "1415",
                                    "Foglalt napok száma": "3",
                                    "(No column name)": "3"
                                },
                                {
                                    "SZOBA_FK": "38",
                                    "FOGLALAS_PK": "1416",
                                    "Foglalt napok száma": "5",
                                    "(No column name)": "3"
                                },
                                {
                                    "SZOBA_FK": "97",
                                    "FOGLALAS_PK": "1417",
                                    "Foglalt napok száma": "7",
                                    "(No column name)": "5"
                                },
                                {
                                    "SZOBA_FK": "15",
                                    "FOGLALAS_PK": "1418",
                                    "Foglalt napok száma": "4",
                                    "(No column name)": "7"
                                },
                                {
                                    "SZOBA_FK": "124",
                                    "FOGLALAS_PK": "1419",
                                    "Foglalt napok száma": "3",
                                    "(No column name)": "4"
                                },
                                {
                                    "SZOBA_FK": "198",
                                    "FOGLALAS_PK": "1420",
                                    "Foglalt napok száma": "5",
                                    "(No column name)": "3"
                                },
                                {
                                    "SZOBA_FK": "172",
                                    "FOGLALAS_PK": "1421",
                                    "Foglalt napok száma": "5",
                                    "(No column name)": "5"
                                },
                                {
                                    "SZOBA_FK": "182",
                                    "FOGLALAS_PK": "1422",
                                    "Foglalt napok száma": "3",
                                    "(No column name)": "5"
                                },
                                {
                                    "SZOBA_FK": "9",
                                    "FOGLALAS_PK": "1423",
                                    "Foglalt napok száma": "3",
                                    "(No column name)": "3"
                                },
                                {
                                    "SZOBA_FK": "110",
                                    "FOGLALAS_PK": "1424",
                                    "Foglalt napok száma": "1",
                                    "(No column name)": "3"
                                },
                                {
                                    "SZOBA_FK": "44",
                                    "FOGLALAS_PK": "1425",
                                    "Foglalt napok száma": "2",
                                    "(No column name)": "1"
                                },
                                {
                                    "SZOBA_FK": "62",
                                    "FOGLALAS_PK": "1426",
                                    "Foglalt napok száma": "4",
                                    "(No column name)": "2"
                                },
                                {
                                    "SZOBA_FK": "169",
                                    "FOGLALAS_PK": "1427",
                                    "Foglalt napok száma": "1",
                                    "(No column name)": "4"
                                },
                                {
                                    "SZOBA_FK": "126",
                                    "FOGLALAS_PK": "1428",
                                    "Foglalt napok száma": "7",
                                    "(No column name)": "1"
                                },
                                {
                                    "SZOBA_FK": "173",
                                    "FOGLALAS_PK": "1429",
                                    "Foglalt napok száma": "4",
                                    "(No column name)": "7"
                                },
                                {
                                    "SZOBA_FK": "12",
                                    "FOGLALAS_PK": "1430",
                                    "Foglalt napok száma": "2",
                                    "(No column name)": "4"
                                },
                                {
                                    "SZOBA_FK": "52",
                                    "FOGLALAS_PK": "1431",
                                    "Foglalt napok száma": "5",
                                    "(No column name)": "2"
                                },
                                {
                                    "SZOBA_FK": "150",
                                    "FOGLALAS_PK": "1432",
                                    "Foglalt napok száma": "3",
                                    "(No column name)": "5"
                                },
                                {
                                    "SZOBA_FK": "139",
                                    "FOGLALAS_PK": "1433",
                                    "Foglalt napok száma": "6",
                                    "(No column name)": "3"
                                },
                                {
                                    "SZOBA_FK": "3",
                                    "FOGLALAS_PK": "1434",
                                    "Foglalt napok száma": "5",
                                    "(No column name)": "6"
                                },
                                {
                                    "SZOBA_FK": "39",
                                    "FOGLALAS_PK": "1435",
                                    "Foglalt napok száma": "7",
                                    "(No column name)": "5"
                                },
                                {
                                    "SZOBA_FK": "35",
                                    "FOGLALAS_PK": "1436",
                                    "Foglalt napok száma": "1",
                                    "(No column name)": "7"
                                },
                                {
                                    "SZOBA_FK": "183",
                                    "FOGLALAS_PK": "1437",
                                    "Foglalt napok száma": "4",
                                    "(No column name)": "1"
                                },
                                {
                                    "SZOBA_FK": "96",
                                    "FOGLALAS_PK": "1438",
                                    "Foglalt napok száma": "2",
                                    "(No column name)": "4"
                                },
                                {
                                    "SZOBA_FK": "77",
                                    "FOGLALAS_PK": "1439",
                                    "Foglalt napok száma": "6",
                                    "(No column name)": "2"
                                },
                                {
                                    "SZOBA_FK": "122",
                                    "FOGLALAS_PK": "1440",
                                    "Foglalt napok száma": "3",
                                    "(No column name)": "6"
                                },
                                {
                                    "SZOBA_FK": "185",
                                    "FOGLALAS_PK": "1441",
                                    "Foglalt napok száma": "7",
                                    "(No column name)": "3"
                                },
                                {
                                    "SZOBA_FK": "15",
                                    "FOGLALAS_PK": "1442",
                                    "Foglalt napok száma": "3",
                                    "(No column name)": "7"
                                },
                                {
                                    "SZOBA_FK": "81",
                                    "FOGLALAS_PK": "1443",
                                    "Foglalt napok száma": "7",
                                    "(No column name)": "3"
                                },
                                {
                                    "SZOBA_FK": "42",
                                    "FOGLALAS_PK": "1444",
                                    "Foglalt napok száma": "6",
                                    "(No column name)": "7"
                                },
                                {
                                    "SZOBA_FK": "129",
                                    "FOGLALAS_PK": "1445",
                                    "Foglalt napok száma": "7",
                                    "(No column name)": "6"
                                },
                                {
                                    "SZOBA_FK": "64",
                                    "FOGLALAS_PK": "1446",
                                    "Foglalt napok száma": "6",
                                    "(No column name)": "7"
                                },
                                {
                                    "SZOBA_FK": "79",
                                    "FOGLALAS_PK": "1447",
                                    "Foglalt napok száma": "4",
                                    "(No column name)": "6"
                                },
                                {
                                    "SZOBA_FK": "143",
                                    "FOGLALAS_PK": "1448",
                                    "Foglalt napok száma": "6",
                                    "(No column name)": "4"
                                },
                                {
                                    "SZOBA_FK": "189",
                                    "FOGLALAS_PK": "1449",
                                    "Foglalt napok száma": "2",
                                    "(No column name)": "6"
                                },
                                {
                                    "SZOBA_FK": "139",
                                    "FOGLALAS_PK": "1450",
                                    "Foglalt napok száma": "7",
                                    "(No column name)": "2"
                                },
                                {
                                    "SZOBA_FK": "58",
                                    "FOGLALAS_PK": "1451",
                                    "Foglalt napok száma": "6",
                                    "(No column name)": "7"
                                },
                                {
                                    "SZOBA_FK": "107",
                                    "FOGLALAS_PK": "1452",
                                    "Foglalt napok száma": "6",
                                    "(No column name)": "6"
                                },
                                {
                                    "SZOBA_FK": "86",
                                    "FOGLALAS_PK": "1453",
                                    "Foglalt napok száma": "1",
                                    "(No column name)": "6"
                                },
                                {
                                    "SZOBA_FK": "39",
                                    "FOGLALAS_PK": "1454",
                                    "Foglalt napok száma": "1",
                                    "(No column name)": "1"
                                },
                                {
                                    "SZOBA_FK": "116",
                                    "FOGLALAS_PK": "1455",
                                    "Foglalt napok száma": "2",
                                    "(No column name)": "1"
                                },
                                {
                                    "SZOBA_FK": "87",
                                    "FOGLALAS_PK": "1456",
                                    "Foglalt napok száma": "5",
                                    "(No column name)": "2"
                                },
                                {
                                    "SZOBA_FK": "70",
                                    "FOGLALAS_PK": "1457",
                                    "Foglalt napok száma": "7",
                                    "(No column name)": "5"
                                },
                                {
                                    "SZOBA_FK": "75",
                                    "FOGLALAS_PK": "1458",
                                    "Foglalt napok száma": "1",
                                    "(No column name)": "7"
                                },
                                {
                                    "SZOBA_FK": "28",
                                    "FOGLALAS_PK": "1459",
                                    "Foglalt napok száma": "2",
                                    "(No column name)": "1"
                                },
                                {
                                    "SZOBA_FK": "153",
                                    "FOGLALAS_PK": "1460",
                                    "Foglalt napok száma": "3",
                                    "(No column name)": "2"
                                },
                                {
                                    "SZOBA_FK": "77",
                                    "FOGLALAS_PK": "1461",
                                    "Foglalt napok száma": "4",
                                    "(No column name)": "3"
                                },
                                {
                                    "SZOBA_FK": "156",
                                    "FOGLALAS_PK": "1462",
                                    "Foglalt napok száma": "7",
                                    "(No column name)": "4"
                                },
                                {
                                    "SZOBA_FK": "185",
                                    "FOGLALAS_PK": "1463",
                                    "Foglalt napok száma": "7",
                                    "(No column name)": "7"
                                },
                                {
                                    "SZOBA_FK": "81",
                                    "FOGLALAS_PK": "1464",
                                    "Foglalt napok száma": "7",
                                    "(No column name)": "7"
                                },
                                {
                                    "SZOBA_FK": "64",
                                    "FOGLALAS_PK": "1465",
                                    "Foglalt napok száma": "4",
                                    "(No column name)": "7"
                                },
                                {
                                    "SZOBA_FK": "57",
                                    "FOGLALAS_PK": "1466",
                                    "Foglalt napok száma": "7",
                                    "(No column name)": "4"
                                },
                                {
                                    "SZOBA_FK": "186",
                                    "FOGLALAS_PK": "1467",
                                    "Foglalt napok száma": "3",
                                    "(No column name)": "7"
                                },
                                {
                                    "SZOBA_FK": "117",
                                    "FOGLALAS_PK": "1468",
                                    "Foglalt napok száma": "7",
                                    "(No column name)": "3"
                                },
                                {
                                    "SZOBA_FK": "13",
                                    "FOGLALAS_PK": "1469",
                                    "Foglalt napok száma": "2",
                                    "(No column name)": "7"
                                },
                                {
                                    "SZOBA_FK": "153",
                                    "FOGLALAS_PK": "1470",
                                    "Foglalt napok száma": "5",
                                    "(No column name)": "2"
                                },
                                {
                                    "SZOBA_FK": "145",
                                    "FOGLALAS_PK": "1471",
                                    "Foglalt napok száma": "1",
                                    "(No column name)": "5"
                                },
                                {
                                    "SZOBA_FK": "118",
                                    "FOGLALAS_PK": "1472",
                                    "Foglalt napok száma": "6",
                                    "(No column name)": "1"
                                },
                                {
                                    "SZOBA_FK": "195",
                                    "FOGLALAS_PK": "1473",
                                    "Foglalt napok száma": "7",
                                    "(No column name)": "6"
                                },
                                {
                                    "SZOBA_FK": "131",
                                    "FOGLALAS_PK": "1474",
                                    "Foglalt napok száma": "5",
                                    "(No column name)": "7"
                                },
                                {
                                    "SZOBA_FK": "130",
                                    "FOGLALAS_PK": "1475",
                                    "Foglalt napok száma": "7",
                                    "(No column name)": "5"
                                },
                                {
                                    "SZOBA_FK": "27",
                                    "FOGLALAS_PK": "1476",
                                    "Foglalt napok száma": "1",
                                    "(No column name)": "7"
                                },
                                {
                                    "SZOBA_FK": "51",
                                    "FOGLALAS_PK": "1477",
                                    "Foglalt napok száma": "6",
                                    "(No column name)": "1"
                                },
                                {
                                    "SZOBA_FK": "38",
                                    "FOGLALAS_PK": "1478",
                                    "Foglalt napok száma": "4",
                                    "(No column name)": "6"
                                },
                                {
                                    "SZOBA_FK": "146",
                                    "FOGLALAS_PK": "1479",
                                    "Foglalt napok száma": "6",
                                    "(No column name)": "4"
                                },
                                {
                                    "SZOBA_FK": "35",
                                    "FOGLALAS_PK": "1480",
                                    "Foglalt napok száma": "37",
                                    "(No column name)": "6"
                                },
                                {
                                    "SZOBA_FK": "118",
                                    "FOGLALAS_PK": "1481",
                                    "Foglalt napok száma": "3",
                                    "(No column name)": "37"
                                },
                                {
                                    "SZOBA_FK": "100",
                                    "FOGLALAS_PK": "1482",
                                    "Foglalt napok száma": "7",
                                    "(No column name)": "3"
                                },
                                {
                                    "SZOBA_FK": "120",
                                    "FOGLALAS_PK": "1483",
                                    "Foglalt napok száma": "1",
                                    "(No column name)": "7"
                                },
                                {
                                    "SZOBA_FK": "195",
                                    "FOGLALAS_PK": "1484",
                                    "Foglalt napok száma": "1",
                                    "(No column name)": "1"
                                },
                                {
                                    "SZOBA_FK": "103",
                                    "FOGLALAS_PK": "1485",
                                    "Foglalt napok száma": "4",
                                    "(No column name)": "1"
                                },
                                {
                                    "SZOBA_FK": "99",
                                    "FOGLALAS_PK": "1486",
                                    "Foglalt napok száma": "5",
                                    "(No column name)": "4"
                                },
                                {
                                    "SZOBA_FK": "163",
                                    "FOGLALAS_PK": "1487",
                                    "Foglalt napok száma": "3",
                                    "(No column name)": "5"
                                },
                                {
                                    "SZOBA_FK": "119",
                                    "FOGLALAS_PK": "1488",
                                    "Foglalt napok száma": "3",
                                    "(No column name)": "3"
                                },
                                {
                                    "SZOBA_FK": "110",
                                    "FOGLALAS_PK": "1489",
                                    "Foglalt napok száma": "6",
                                    "(No column name)": "3"
                                },
                                {
                                    "SZOBA_FK": "156",
                                    "FOGLALAS_PK": "1490",
                                    "Foglalt napok száma": "1",
                                    "(No column name)": "6"
                                },
                                {
                                    "SZOBA_FK": "172",
                                    "FOGLALAS_PK": "1491",
                                    "Foglalt napok száma": "2",
                                    "(No column name)": "1"
                                },
                                {
                                    "SZOBA_FK": "4",
                                    "FOGLALAS_PK": "1492",
                                    "Foglalt napok száma": "6",
                                    "(No column name)": "2"
                                },
                                {
                                    "SZOBA_FK": "120",
                                    "FOGLALAS_PK": "1493",
                                    "Foglalt napok száma": "7",
                                    "(No column name)": "6"
                                },
                                {
                                    "SZOBA_FK": "107",
                                    "FOGLALAS_PK": "1494",
                                    "Foglalt napok száma": "2",
                                    "(No column name)": "7"
                                },
                                {
                                    "SZOBA_FK": "113",
                                    "FOGLALAS_PK": "1495",
                                    "Foglalt napok száma": "7",
                                    "(No column name)": "2"
                                },
                                {
                                    "SZOBA_FK": "61",
                                    "FOGLALAS_PK": "1496",
                                    "Foglalt napok száma": "7",
                                    "(No column name)": "7"
                                },
                                {
                                    "SZOBA_FK": "179",
                                    "FOGLALAS_PK": "1497",
                                    "Foglalt napok száma": "1",
                                    "(No column name)": "7"
                                },
                                {
                                    "SZOBA_FK": "16",
                                    "FOGLALAS_PK": "1498",
                                    "Foglalt napok száma": "7",
                                    "(No column name)": "1"
                                },
                                {
                                    "SZOBA_FK": "113",
                                    "FOGLALAS_PK": "1499",
                                    "Foglalt napok száma": "2",
                                    "(No column name)": "7"
                                },
                                {
                                    "SZOBA_FK": "126",
                                    "FOGLALAS_PK": "1500",
                                    "Foglalt napok száma": "4",
                                    "(No column name)": "2"
                                },
                                {
                                    "SZOBA_FK": "116",
                                    "FOGLALAS_PK": "1501",
                                    "Foglalt napok száma": "4",
                                    "(No column name)": "4"
                                },
                                {
                                    "SZOBA_FK": "191",
                                    "FOGLALAS_PK": "1502",
                                    "Foglalt napok száma": "2",
                                    "(No column name)": "4"
                                },
                                {
                                    "SZOBA_FK": "177",
                                    "FOGLALAS_PK": "1503",
                                    "Foglalt napok száma": "3",
                                    "(No column name)": "2"
                                },
                                {
                                    "SZOBA_FK": "57",
                                    "FOGLALAS_PK": "1504",
                                    "Foglalt napok száma": "4",
                                    "(No column name)": "3"
                                },
                                {
                                    "SZOBA_FK": "18",
                                    "FOGLALAS_PK": "1505",
                                    "Foglalt napok száma": "6",
                                    "(No column name)": "4"
                                },
                                {
                                    "SZOBA_FK": "81",
                                    "FOGLALAS_PK": "1506",
                                    "Foglalt napok száma": "3",
                                    "(No column name)": "6"
                                },
                                {
                                    "SZOBA_FK": "153",
                                    "FOGLALAS_PK": "1507",
                                    "Foglalt napok száma": "3",
                                    "(No column name)": "3"
                                },
                                {
                                    "SZOBA_FK": "191",
                                    "FOGLALAS_PK": "1508",
                                    "Foglalt napok száma": "7",
                                    "(No column name)": "3"
                                },
                                {
                                    "SZOBA_FK": "129",
                                    "FOGLALAS_PK": "1509",
                                    "Foglalt napok száma": "6",
                                    "(No column name)": "7"
                                },
                                {
                                    "SZOBA_FK": "106",
                                    "FOGLALAS_PK": "1510",
                                    "Foglalt napok száma": "6",
                                    "(No column name)": "6"
                                },
                                {
                                    "SZOBA_FK": "176",
                                    "FOGLALAS_PK": "1511",
                                    "Foglalt napok száma": "2",
                                    "(No column name)": "6"
                                },
                                {
                                    "SZOBA_FK": "55",
                                    "FOGLALAS_PK": "1512",
                                    "Foglalt napok száma": "1",
                                    "(No column name)": "2"
                                },
                                {
                                    "SZOBA_FK": "85",
                                    "FOGLALAS_PK": "1513",
                                    "Foglalt napok száma": "7",
                                    "(No column name)": "1"
                                },
                                {
                                    "SZOBA_FK": "149",
                                    "FOGLALAS_PK": "1514",
                                    "Foglalt napok száma": "5",
                                    "(No column name)": "7"
                                },
                                {
                                    "SZOBA_FK": "46",
                                    "FOGLALAS_PK": "1515",
                                    "Foglalt napok száma": "4",
                                    "(No column name)": "5"
                                },
                                {
                                    "SZOBA_FK": "101",
                                    "FOGLALAS_PK": "1516",
                                    "Foglalt napok száma": "4",
                                    "(No column name)": "4"
                                },
                                {
                                    "SZOBA_FK": "190",
                                    "FOGLALAS_PK": "1517",
                                    "Foglalt napok száma": "5",
                                    "(No column name)": "4"
                                },
                                {
                                    "SZOBA_FK": "94",
                                    "FOGLALAS_PK": "1518",
                                    "Foglalt napok száma": "2",
                                    "(No column name)": "5"
                                },
                                {
                                    "SZOBA_FK": "132",
                                    "FOGLALAS_PK": "1519",
                                    "Foglalt napok száma": "2",
                                    "(No column name)": "2"
                                },
                                {
                                    "SZOBA_FK": "55",
                                    "FOGLALAS_PK": "1520",
                                    "Foglalt napok száma": "1",
                                    "(No column name)": "2"
                                },
                                {
                                    "SZOBA_FK": "89",
                                    "FOGLALAS_PK": "1521",
                                    "Foglalt napok száma": "7",
                                    "(No column name)": "1"
                                },
                                {
                                    "SZOBA_FK": "104",
                                    "FOGLALAS_PK": "1522",
                                    "Foglalt napok száma": "2",
                                    "(No column name)": "7"
                                },
                                {
                                    "SZOBA_FK": "11",
                                    "FOGLALAS_PK": "1523",
                                    "Foglalt napok száma": "1",
                                    "(No column name)": "2"
                                },
                                {
                                    "SZOBA_FK": "43",
                                    "FOGLALAS_PK": "1524",
                                    "Foglalt napok száma": "1",
                                    "(No column name)": "1"
                                },
                                {
                                    "SZOBA_FK": "105",
                                    "FOGLALAS_PK": "1525",
                                    "Foglalt napok száma": "5",
                                    "(No column name)": "1"
                                },
                                {
                                    "SZOBA_FK": "166",
                                    "FOGLALAS_PK": "1526",
                                    "Foglalt napok száma": "2",
                                    "(No column name)": "5"
                                },
                                {
                                    "SZOBA_FK": "92",
                                    "FOGLALAS_PK": "1527",
                                    "Foglalt napok száma": "2",
                                    "(No column name)": "2"
                                },
                                {
                                    "SZOBA_FK": "97",
                                    "FOGLALAS_PK": "1528",
                                    "Foglalt napok száma": "2",
                                    "(No column name)": "2"
                                },
                                {
                                    "SZOBA_FK": "35",
                                    "FOGLALAS_PK": "1529",
                                    "Foglalt napok száma": "4",
                                    "(No column name)": "2"
                                },
                                {
                                    "SZOBA_FK": "112",
                                    "FOGLALAS_PK": "1530",
                                    "Foglalt napok száma": "6",
                                    "(No column name)": "4"
                                },
                                {
                                    "SZOBA_FK": "124",
                                    "FOGLALAS_PK": "1531",
                                    "Foglalt napok száma": "6",
                                    "(No column name)": "6"
                                },
                                {
                                    "SZOBA_FK": "104",
                                    "FOGLALAS_PK": "1532",
                                    "Foglalt napok száma": "3",
                                    "(No column name)": "6"
                                },
                                {
                                    "SZOBA_FK": "19",
                                    "FOGLALAS_PK": "1533",
                                    "Foglalt napok száma": "1",
                                    "(No column name)": "3"
                                },
                                {
                                    "SZOBA_FK": "52",
                                    "FOGLALAS_PK": "1534",
                                    "Foglalt napok száma": "5",
                                    "(No column name)": "1"
                                },
                                {
                                    "SZOBA_FK": "134",
                                    "FOGLALAS_PK": "1535",
                                    "Foglalt napok száma": "7",
                                    "(No column name)": "5"
                                },
                                {
                                    "SZOBA_FK": "49",
                                    "FOGLALAS_PK": "1536",
                                    "Foglalt napok száma": "6",
                                    "(No column name)": "7"
                                },
                                {
                                    "SZOBA_FK": "9",
                                    "FOGLALAS_PK": "1537",
                                    "Foglalt napok száma": "3",
                                    "(No column name)": "6"
                                },
                                {
                                    "SZOBA_FK": "39",
                                    "FOGLALAS_PK": "1538",
                                    "Foglalt napok száma": "2",
                                    "(No column name)": "3"
                                },
                                {
                                    "SZOBA_FK": "154",
                                    "FOGLALAS_PK": "1539",
                                    "Foglalt napok száma": "2",
                                    "(No column name)": "2"
                                },
                                {
                                    "SZOBA_FK": "114",
                                    "FOGLALAS_PK": "1540",
                                    "Foglalt napok száma": "3",
                                    "(No column name)": "2"
                                },
                                {
                                    "SZOBA_FK": "155",
                                    "FOGLALAS_PK": "1541",
                                    "Foglalt napok száma": "1",
                                    "(No column name)": "3"
                                },
                                {
                                    "SZOBA_FK": "14",
                                    "FOGLALAS_PK": "1542",
                                    "Foglalt napok száma": "4",
                                    "(No column name)": "1"
                                },
                                {
                                    "SZOBA_FK": "95",
                                    "FOGLALAS_PK": "1543",
                                    "Foglalt napok száma": "7",
                                    "(No column name)": "4"
                                },
                                {
                                    "SZOBA_FK": "3",
                                    "FOGLALAS_PK": "1544",
                                    "Foglalt napok száma": "5",
                                    "(No column name)": "7"
                                },
                                {
                                    "SZOBA_FK": "142",
                                    "FOGLALAS_PK": "1545",
                                    "Foglalt napok száma": "3",
                                    "(No column name)": "5"
                                },
                                {
                                    "SZOBA_FK": "48",
                                    "FOGLALAS_PK": "1546",
                                    "Foglalt napok száma": "3",
                                    "(No column name)": "3"
                                },
                                {
                                    "SZOBA_FK": "48",
                                    "FOGLALAS_PK": "1547",
                                    "Foglalt napok száma": "1",
                                    "(No column name)": "3"
                                },
                                {
                                    "SZOBA_FK": "88",
                                    "FOGLALAS_PK": "1548",
                                    "Foglalt napok száma": "7",
                                    "(No column name)": "1"
                                },
                                {
                                    "SZOBA_FK": "17",
                                    "FOGLALAS_PK": "1549",
                                    "Foglalt napok száma": "3",
                                    "(No column name)": "7"
                                },
                                {
                                    "SZOBA_FK": "51",
                                    "FOGLALAS_PK": "1550",
                                    "Foglalt napok száma": "1",
                                    "(No column name)": "3"
                                },
                                {
                                    "SZOBA_FK": "157",
                                    "FOGLALAS_PK": "1551",
                                    "Foglalt napok száma": "3",
                                    "(No column name)": "1"
                                },
                                {
                                    "SZOBA_FK": "44",
                                    "FOGLALAS_PK": "1552",
                                    "Foglalt napok száma": "2",
                                    "(No column name)": "3"
                                },
                                {
                                    "SZOBA_FK": "43",
                                    "FOGLALAS_PK": "1553",
                                    "Foglalt napok száma": "5",
                                    "(No column name)": "2"
                                },
                                {
                                    "SZOBA_FK": "115",
                                    "FOGLALAS_PK": "1554",
                                    "Foglalt napok száma": "3",
                                    "(No column name)": "5"
                                },
                                {
                                    "SZOBA_FK": "92",
                                    "FOGLALAS_PK": "1555",
                                    "Foglalt napok száma": "4",
                                    "(No column name)": "3"
                                },
                                {
                                    "SZOBA_FK": "38",
                                    "FOGLALAS_PK": "1556",
                                    "Foglalt napok száma": "6",
                                    "(No column name)": "4"
                                },
                                {
                                    "SZOBA_FK": "76",
                                    "FOGLALAS_PK": "1557",
                                    "Foglalt napok száma": "3",
                                    "(No column name)": "6"
                                },
                                {
                                    "SZOBA_FK": "152",
                                    "FOGLALAS_PK": "1558",
                                    "Foglalt napok száma": "2",
                                    "(No column name)": "3"
                                },
                                {
                                    "SZOBA_FK": "180",
                                    "FOGLALAS_PK": "1559",
                                    "Foglalt napok száma": "3",
                                    "(No column name)": "2"
                                },
                                {
                                    "SZOBA_FK": "109",
                                    "FOGLALAS_PK": "1560",
                                    "Foglalt napok száma": "1",
                                    "(No column name)": "3"
                                },
                                {
                                    "SZOBA_FK": "156",
                                    "FOGLALAS_PK": "1561",
                                    "Foglalt napok száma": "4",
                                    "(No column name)": "1"
                                },
                                {
                                    "SZOBA_FK": "81",
                                    "FOGLALAS_PK": "1562",
                                    "Foglalt napok száma": "3",
                                    "(No column name)": "4"
                                },
                                {
                                    "SZOBA_FK": "180",
                                    "FOGLALAS_PK": "1563",
                                    "Foglalt napok száma": "6",
                                    "(No column name)": "3"
                                },
                                {
                                    "SZOBA_FK": "94",
                                    "FOGLALAS_PK": "1564",
                                    "Foglalt napok száma": "7",
                                    "(No column name)": "6"
                                },
                                {
                                    "SZOBA_FK": "160",
                                    "FOGLALAS_PK": "1565",
                                    "Foglalt napok száma": "3",
                                    "(No column name)": "7"
                                },
                                {
                                    "SZOBA_FK": "115",
                                    "FOGLALAS_PK": "1566",
                                    "Foglalt napok száma": "1",
                                    "(No column name)": "3"
                                },
                                {
                                    "SZOBA_FK": "171",
                                    "FOGLALAS_PK": "1567",
                                    "Foglalt napok száma": "6",
                                    "(No column name)": "1"
                                },
                                {
                                    "SZOBA_FK": "29",
                                    "FOGLALAS_PK": "1568",
                                    "Foglalt napok száma": "7",
                                    "(No column name)": "6"
                                },
                                {
                                    "SZOBA_FK": "96",
                                    "FOGLALAS_PK": "1569",
                                    "Foglalt napok száma": "7",
                                    "(No column name)": "7"
                                },
                                {
                                    "SZOBA_FK": "176",
                                    "FOGLALAS_PK": "1570",
                                    "Foglalt napok száma": "3",
                                    "(No column name)": "7"
                                },
                                {
                                    "SZOBA_FK": "161",
                                    "FOGLALAS_PK": "1571",
                                    "Foglalt napok száma": "4",
                                    "(No column name)": "3"
                                },
                                {
                                    "SZOBA_FK": "144",
                                    "FOGLALAS_PK": "1572",
                                    "Foglalt napok száma": "2",
                                    "(No column name)": "4"
                                },
                                {
                                    "SZOBA_FK": "59",
                                    "FOGLALAS_PK": "1573",
                                    "Foglalt napok száma": "1",
                                    "(No column name)": "2"
                                },
                                {
                                    "SZOBA_FK": "128",
                                    "FOGLALAS_PK": "1574",
                                    "Foglalt napok száma": "1",
                                    "(No column name)": "1"
                                },
                                {
                                    "SZOBA_FK": "88",
                                    "FOGLALAS_PK": "1575",
                                    "Foglalt napok száma": "6",
                                    "(No column name)": "1"
                                },
                                {
                                    "SZOBA_FK": "189",
                                    "FOGLALAS_PK": "1576",
                                    "Foglalt napok száma": "3",
                                    "(No column name)": "6"
                                },
                                {
                                    "SZOBA_FK": "78",
                                    "FOGLALAS_PK": "1577",
                                    "Foglalt napok száma": "7",
                                    "(No column name)": "3"
                                },
                                {
                                    "SZOBA_FK": "148",
                                    "FOGLALAS_PK": "1578",
                                    "Foglalt napok száma": "7",
                                    "(No column name)": "7"
                                },
                                {
                                    "SZOBA_FK": "127",
                                    "FOGLALAS_PK": "1579",
                                    "Foglalt napok száma": "5",
                                    "(No column name)": "7"
                                },
                                {
                                    "SZOBA_FK": "67",
                                    "FOGLALAS_PK": "1580",
                                    "Foglalt napok száma": "5",
                                    "(No column name)": "5"
                                },
                                {
                                    "SZOBA_FK": "48",
                                    "FOGLALAS_PK": "1581",
                                    "Foglalt napok száma": "5",
                                    "(No column name)": "5"
                                },
                                {
                                    "SZOBA_FK": "64",
                                    "FOGLALAS_PK": "1582",
                                    "Foglalt napok száma": "1",
                                    "(No column name)": "5"
                                },
                                {
                                    "SZOBA_FK": "128",
                                    "FOGLALAS_PK": "1583",
                                    "Foglalt napok száma": "4",
                                    "(No column name)": "1"
                                },
                                {
                                    "SZOBA_FK": "67",
                                    "FOGLALAS_PK": "1584",
                                    "Foglalt napok száma": "1",
                                    "(No column name)": "4"
                                }
                            ]
                        },
                        "text/html": [
                            "<table>",
                            "<tr><th>SZOBA_FK</th><th>FOGLALAS_PK</th><th>Foglalt napok száma</th><th>(No column name)</th></tr>",
                            "<tr><td>87</td><td>558</td><td>4</td><td>0</td></tr>",
                            "<tr><td>131</td><td>559</td><td>2</td><td>4</td></tr>",
                            "<tr><td>6</td><td>560</td><td>6</td><td>2</td></tr>",
                            "<tr><td>42</td><td>561</td><td>4</td><td>6</td></tr>",
                            "<tr><td>7</td><td>562</td><td>4</td><td>4</td></tr>",
                            "<tr><td>68</td><td>563</td><td>5</td><td>4</td></tr>",
                            "<tr><td>5</td><td>564</td><td>2</td><td>5</td></tr>",
                            "<tr><td>141</td><td>565</td><td>6</td><td>2</td></tr>",
                            "<tr><td>21</td><td>566</td><td>6</td><td>6</td></tr>",
                            "<tr><td>170</td><td>567</td><td>7</td><td>6</td></tr>",
                            "<tr><td>78</td><td>568</td><td>1</td><td>7</td></tr>",
                            "<tr><td>10</td><td>569</td><td>3</td><td>1</td></tr>",
                            "<tr><td>164</td><td>570</td><td>7</td><td>3</td></tr>",
                            "<tr><td>182</td><td>571</td><td>2</td><td>7</td></tr>",
                            "<tr><td>83</td><td>572</td><td>7</td><td>2</td></tr>",
                            "<tr><td>169</td><td>573</td><td>5</td><td>7</td></tr>",
                            "<tr><td>171</td><td>574</td><td>2</td><td>5</td></tr>",
                            "<tr><td>155</td><td>575</td><td>1</td><td>2</td></tr>",
                            "<tr><td>125</td><td>576</td><td>1</td><td>1</td></tr>",
                            "<tr><td>155</td><td>577</td><td>3</td><td>1</td></tr>",
                            "<tr><td>185</td><td>578</td><td>6</td><td>3</td></tr>",
                            "<tr><td>139</td><td>579</td><td>2</td><td>6</td></tr>",
                            "<tr><td>130</td><td>580</td><td>3</td><td>2</td></tr>",
                            "<tr><td>144</td><td>581</td><td>4</td><td>3</td></tr>",
                            "<tr><td>137</td><td>582</td><td>3</td><td>4</td></tr>",
                            "<tr><td>79</td><td>583</td><td>6</td><td>3</td></tr>",
                            "<tr><td>136</td><td>584</td><td>2</td><td>6</td></tr>",
                            "<tr><td>70</td><td>585</td><td>5</td><td>2</td></tr>",
                            "<tr><td>107</td><td>586</td><td>6</td><td>5</td></tr>",
                            "<tr><td>123</td><td>587</td><td>7</td><td>6</td></tr>",
                            "<tr><td>156</td><td>588</td><td>7</td><td>7</td></tr>",
                            "<tr><td>44</td><td>589</td><td>2</td><td>7</td></tr>",
                            "<tr><td>42</td><td>590</td><td>5</td><td>2</td></tr>",
                            "<tr><td>149</td><td>591</td><td>1</td><td>5</td></tr>",
                            "<tr><td>176</td><td>592</td><td>5</td><td>1</td></tr>",
                            "<tr><td>77</td><td>593</td><td>3</td><td>5</td></tr>",
                            "<tr><td>153</td><td>594</td><td>3</td><td>3</td></tr>",
                            "<tr><td>74</td><td>595</td><td>7</td><td>3</td></tr>",
                            "<tr><td>115</td><td>596</td><td>7</td><td>7</td></tr>",
                            "<tr><td>100</td><td>597</td><td>1</td><td>7</td></tr>",
                            "<tr><td>31</td><td>598</td><td>2</td><td>1</td></tr>",
                            "<tr><td>162</td><td>599</td><td>4</td><td>2</td></tr>",
                            "<tr><td>190</td><td>600</td><td>7</td><td>4</td></tr>",
                            "<tr><td>39</td><td>601</td><td>6</td><td>7</td></tr>",
                            "<tr><td>17</td><td>602</td><td>6</td><td>6</td></tr>",
                            "<tr><td>48</td><td>603</td><td>3</td><td>6</td></tr>",
                            "<tr><td>30</td><td>604</td><td>2</td><td>3</td></tr>",
                            "<tr><td>111</td><td>605</td><td>7</td><td>2</td></tr>",
                            "<tr><td>31</td><td>606</td><td>1</td><td>7</td></tr>",
                            "<tr><td>96</td><td>607</td><td>4</td><td>1</td></tr>",
                            "<tr><td>184</td><td>608</td><td>2</td><td>4</td></tr>",
                            "<tr><td>9</td><td>609</td><td>2</td><td>2</td></tr>",
                            "<tr><td>106</td><td>610</td><td>3</td><td>2</td></tr>",
                            "<tr><td>29</td><td>611</td><td>5</td><td>3</td></tr>",
                            "<tr><td>117</td><td>612</td><td>2</td><td>5</td></tr>",
                            "<tr><td>130</td><td>613</td><td>3</td><td>2</td></tr>",
                            "<tr><td>109</td><td>614</td><td>4</td><td>3</td></tr>",
                            "<tr><td>186</td><td>615</td><td>3</td><td>4</td></tr>",
                            "<tr><td>94</td><td>616</td><td>4</td><td>3</td></tr>",
                            "<tr><td>117</td><td>617</td><td>3</td><td>4</td></tr>",
                            "<tr><td>105</td><td>618</td><td>1</td><td>3</td></tr>",
                            "<tr><td>132</td><td>619</td><td>7</td><td>1</td></tr>",
                            "<tr><td>1</td><td>620</td><td>5</td><td>7</td></tr>",
                            "<tr><td>109</td><td>621</td><td>7</td><td>5</td></tr>",
                            "<tr><td>54</td><td>622</td><td>7</td><td>7</td></tr>",
                            "<tr><td>96</td><td>623</td><td>7</td><td>7</td></tr>",
                            "<tr><td>33</td><td>624</td><td>6</td><td>7</td></tr>",
                            "<tr><td>63</td><td>625</td><td>3</td><td>6</td></tr>",
                            "<tr><td>18</td><td>626</td><td>3</td><td>3</td></tr>",
                            "<tr><td>38</td><td>627</td><td>6</td><td>3</td></tr>",
                            "<tr><td>48</td><td>628</td><td>2</td><td>6</td></tr>",
                            "<tr><td>3</td><td>629</td><td>4</td><td>2</td></tr>",
                            "<tr><td>163</td><td>630</td><td>2</td><td>4</td></tr>",
                            "<tr><td>98</td><td>631</td><td>6</td><td>2</td></tr>",
                            "<tr><td>99</td><td>632</td><td>1</td><td>6</td></tr>",
                            "<tr><td>187</td><td>633</td><td>6</td><td>1</td></tr>",
                            "<tr><td>193</td><td>634</td><td>6</td><td>6</td></tr>",
                            "<tr><td>97</td><td>635</td><td>3</td><td>6</td></tr>",
                            "<tr><td>91</td><td>636</td><td>6</td><td>3</td></tr>",
                            "<tr><td>100</td><td>637</td><td>5</td><td>6</td></tr>",
                            "<tr><td>67</td><td>638</td><td>5</td><td>5</td></tr>",
                            "<tr><td>161</td><td>639</td><td>4</td><td>5</td></tr>",
                            "<tr><td>165</td><td>640</td><td>3</td><td>4</td></tr>",
                            "<tr><td>150</td><td>641</td><td>3</td><td>3</td></tr>",
                            "<tr><td>54</td><td>642</td><td>5</td><td>3</td></tr>",
                            "<tr><td>127</td><td>643</td><td>2</td><td>5</td></tr>",
                            "<tr><td>166</td><td>644</td><td>7</td><td>2</td></tr>",
                            "<tr><td>67</td><td>645</td><td>6</td><td>7</td></tr>",
                            "<tr><td>78</td><td>646</td><td>3</td><td>6</td></tr>",
                            "<tr><td>85</td><td>647</td><td>3</td><td>3</td></tr>",
                            "<tr><td>157</td><td>648</td><td>4</td><td>3</td></tr>",
                            "<tr><td>137</td><td>649</td><td>5</td><td>4</td></tr>",
                            "<tr><td>65</td><td>650</td><td>6</td><td>5</td></tr>",
                            "<tr><td>4</td><td>651</td><td>7</td><td>6</td></tr>",
                            "<tr><td>149</td><td>652</td><td>1</td><td>7</td></tr>",
                            "<tr><td>161</td><td>653</td><td>7</td><td>1</td></tr>",
                            "<tr><td>109</td><td>654</td><td>5</td><td>7</td></tr>",
                            "<tr><td>131</td><td>655</td><td>1</td><td>5</td></tr>",
                            "<tr><td>95</td><td>656</td><td>7</td><td>1</td></tr>",
                            "<tr><td>137</td><td>657</td><td>6</td><td>7</td></tr>",
                            "<tr><td>44</td><td>658</td><td>6</td><td>6</td></tr>",
                            "<tr><td>169</td><td>659</td><td>6</td><td>6</td></tr>",
                            "<tr><td>21</td><td>660</td><td>5</td><td>6</td></tr>",
                            "<tr><td>136</td><td>661</td><td>5</td><td>5</td></tr>",
                            "<tr><td>179</td><td>662</td><td>2</td><td>5</td></tr>",
                            "<tr><td>14</td><td>663</td><td>1</td><td>2</td></tr>",
                            "<tr><td>146</td><td>664</td><td>3</td><td>1</td></tr>",
                            "<tr><td>94</td><td>665</td><td>7</td><td>3</td></tr>",
                            "<tr><td>3</td><td>666</td><td>6</td><td>7</td></tr>",
                            "<tr><td>80</td><td>667</td><td>6</td><td>6</td></tr>",
                            "<tr><td>54</td><td>668</td><td>1</td><td>6</td></tr>",
                            "<tr><td>173</td><td>669</td><td>7</td><td>1</td></tr>",
                            "<tr><td>43</td><td>670</td><td>4</td><td>7</td></tr>",
                            "<tr><td>96</td><td>671</td><td>4</td><td>4</td></tr>",
                            "<tr><td>185</td><td>672</td><td>3</td><td>4</td></tr>",
                            "<tr><td>196</td><td>673</td><td>5</td><td>3</td></tr>",
                            "<tr><td>83</td><td>674</td><td>4</td><td>5</td></tr>",
                            "<tr><td>193</td><td>675</td><td>2</td><td>4</td></tr>",
                            "<tr><td>60</td><td>676</td><td>2</td><td>2</td></tr>",
                            "<tr><td>181</td><td>677</td><td>4</td><td>2</td></tr>",
                            "<tr><td>148</td><td>678</td><td>4</td><td>4</td></tr>",
                            "<tr><td>185</td><td>679</td><td>5</td><td>4</td></tr>",
                            "<tr><td>192</td><td>680</td><td>4</td><td>5</td></tr>",
                            "<tr><td>71</td><td>681</td><td>3</td><td>4</td></tr>",
                            "<tr><td>174</td><td>682</td><td>3</td><td>3</td></tr>",
                            "<tr><td>76</td><td>683</td><td>7</td><td>3</td></tr>",
                            "<tr><td>184</td><td>684</td><td>3</td><td>7</td></tr>",
                            "<tr><td>110</td><td>685</td><td>1</td><td>3</td></tr>",
                            "<tr><td>35</td><td>686</td><td>6</td><td>1</td></tr>",
                            "<tr><td>16</td><td>687</td><td>3</td><td>6</td></tr>",
                            "<tr><td>37</td><td>688</td><td>2</td><td>3</td></tr>",
                            "<tr><td>102</td><td>689</td><td>5</td><td>2</td></tr>",
                            "<tr><td>188</td><td>690</td><td>4</td><td>5</td></tr>",
                            "<tr><td>99</td><td>691</td><td>5</td><td>4</td></tr>",
                            "<tr><td>156</td><td>692</td><td>6</td><td>5</td></tr>",
                            "<tr><td>185</td><td>693</td><td>2</td><td>6</td></tr>",
                            "<tr><td>8</td><td>694</td><td>4</td><td>2</td></tr>",
                            "<tr><td>187</td><td>695</td><td>6</td><td>4</td></tr>",
                            "<tr><td>19</td><td>696</td><td>1</td><td>6</td></tr>",
                            "<tr><td>12</td><td>697</td><td>2</td><td>1</td></tr>",
                            "<tr><td>77</td><td>698</td><td>4</td><td>2</td></tr>",
                            "<tr><td>189</td><td>699</td><td>2</td><td>4</td></tr>",
                            "<tr><td>78</td><td>700</td><td>5</td><td>2</td></tr>",
                            "<tr><td>61</td><td>701</td><td>2</td><td>5</td></tr>",
                            "<tr><td>62</td><td>702</td><td>5</td><td>2</td></tr>",
                            "<tr><td>145</td><td>703</td><td>4</td><td>5</td></tr>",
                            "<tr><td>70</td><td>704</td><td>3</td><td>4</td></tr>",
                            "<tr><td>37</td><td>705</td><td>4</td><td>3</td></tr>",
                            "<tr><td>119</td><td>706</td><td>2</td><td>4</td></tr>",
                            "<tr><td>35</td><td>707</td><td>2</td><td>2</td></tr>",
                            "<tr><td>106</td><td>708</td><td>7</td><td>2</td></tr>",
                            "<tr><td>172</td><td>709</td><td>5</td><td>7</td></tr>",
                            "<tr><td>188</td><td>710</td><td>7</td><td>5</td></tr>",
                            "<tr><td>185</td><td>711</td><td>3</td><td>7</td></tr>",
                            "<tr><td>71</td><td>712</td><td>1</td><td>3</td></tr>",
                            "<tr><td>17</td><td>713</td><td>6</td><td>1</td></tr>",
                            "<tr><td>73</td><td>714</td><td>7</td><td>6</td></tr>",
                            "<tr><td>101</td><td>715</td><td>3</td><td>7</td></tr>",
                            "<tr><td>118</td><td>716</td><td>1</td><td>3</td></tr>",
                            "<tr><td>128</td><td>717</td><td>2</td><td>1</td></tr>",
                            "<tr><td>97</td><td>718</td><td>7</td><td>2</td></tr>",
                            "<tr><td>58</td><td>719</td><td>3</td><td>7</td></tr>",
                            "<tr><td>160</td><td>720</td><td>2</td><td>3</td></tr>",
                            "<tr><td>195</td><td>721</td><td>4</td><td>2</td></tr>",
                            "<tr><td>119</td><td>722</td><td>1</td><td>4</td></tr>",
                            "<tr><td>129</td><td>723</td><td>7</td><td>1</td></tr>",
                            "<tr><td>135</td><td>724</td><td>6</td><td>7</td></tr>",
                            "<tr><td>28</td><td>725</td><td>5</td><td>6</td></tr>",
                            "<tr><td>97</td><td>726</td><td>4</td><td>5</td></tr>",
                            "<tr><td>94</td><td>727</td><td>3</td><td>4</td></tr>",
                            "<tr><td>31</td><td>728</td><td>4</td><td>3</td></tr>",
                            "<tr><td>90</td><td>729</td><td>2</td><td>4</td></tr>",
                            "<tr><td>152</td><td>730</td><td>2</td><td>2</td></tr>",
                            "<tr><td>181</td><td>731</td><td>6</td><td>2</td></tr>",
                            "<tr><td>91</td><td>732</td><td>4</td><td>6</td></tr>",
                            "<tr><td>140</td><td>733</td><td>1</td><td>4</td></tr>",
                            "<tr><td>55</td><td>734</td><td>6</td><td>1</td></tr>",
                            "<tr><td>121</td><td>735</td><td>6</td><td>6</td></tr>",
                            "<tr><td>66</td><td>736</td><td>3</td><td>6</td></tr>",
                            "<tr><td>114</td><td>737</td><td>2</td><td>3</td></tr>",
                            "<tr><td>1</td><td>738</td><td>7</td><td>2</td></tr>",
                            "<tr><td>121</td><td>739</td><td>6</td><td>7</td></tr>",
                            "<tr><td>182</td><td>740</td><td>3</td><td>6</td></tr>",
                            "<tr><td>93</td><td>741</td><td>7</td><td>3</td></tr>",
                            "<tr><td>164</td><td>742</td><td>6</td><td>7</td></tr>",
                            "<tr><td>187</td><td>743</td><td>2</td><td>6</td></tr>",
                            "<tr><td>17</td><td>744</td><td>1</td><td>2</td></tr>",
                            "<tr><td>139</td><td>745</td><td>1</td><td>1</td></tr>",
                            "<tr><td>169</td><td>746</td><td>7</td><td>1</td></tr>",
                            "<tr><td>188</td><td>747</td><td>3</td><td>7</td></tr>",
                            "<tr><td>36</td><td>748</td><td>2</td><td>3</td></tr>",
                            "<tr><td>172</td><td>749</td><td>6</td><td>2</td></tr>",
                            "<tr><td>36</td><td>750</td><td>6</td><td>6</td></tr>",
                            "<tr><td>139</td><td>751</td><td>4</td><td>6</td></tr>",
                            "<tr><td>46</td><td>752</td><td>5</td><td>4</td></tr>",
                            "<tr><td>189</td><td>753</td><td>1</td><td>5</td></tr>",
                            "<tr><td>126</td><td>754</td><td>4</td><td>1</td></tr>",
                            "<tr><td>20</td><td>755</td><td>6</td><td>4</td></tr>",
                            "<tr><td>61</td><td>756</td><td>6</td><td>6</td></tr>",
                            "<tr><td>88</td><td>757</td><td>7</td><td>6</td></tr>",
                            "<tr><td>27</td><td>758</td><td>3</td><td>7</td></tr>",
                            "<tr><td>7</td><td>759</td><td>7</td><td>3</td></tr>",
                            "<tr><td>131</td><td>760</td><td>4</td><td>7</td></tr>",
                            "<tr><td>141</td><td>761</td><td>3</td><td>4</td></tr>",
                            "<tr><td>120</td><td>762</td><td>3</td><td>3</td></tr>",
                            "<tr><td>13</td><td>763</td><td>4</td><td>3</td></tr>",
                            "<tr><td>197</td><td>764</td><td>7</td><td>4</td></tr>",
                            "<tr><td>148</td><td>765</td><td>3</td><td>7</td></tr>",
                            "<tr><td>187</td><td>766</td><td>1</td><td>3</td></tr>",
                            "<tr><td>18</td><td>767</td><td>3</td><td>1</td></tr>",
                            "<tr><td>138</td><td>768</td><td>6</td><td>3</td></tr>",
                            "<tr><td>63</td><td>769</td><td>5</td><td>6</td></tr>",
                            "<tr><td>42</td><td>770</td><td>3</td><td>5</td></tr>",
                            "<tr><td>147</td><td>771</td><td>4</td><td>3</td></tr>",
                            "<tr><td>6</td><td>772</td><td>6</td><td>4</td></tr>",
                            "<tr><td>58</td><td>773</td><td>2</td><td>6</td></tr>",
                            "<tr><td>190</td><td>774</td><td>5</td><td>2</td></tr>",
                            "<tr><td>12</td><td>775</td><td>4</td><td>5</td></tr>",
                            "<tr><td>112</td><td>776</td><td>4</td><td>4</td></tr>",
                            "<tr><td>34</td><td>777</td><td>3</td><td>4</td></tr>",
                            "<tr><td>19</td><td>778</td><td>1</td><td>3</td></tr>",
                            "<tr><td>130</td><td>779</td><td>6</td><td>1</td></tr>",
                            "<tr><td>96</td><td>780</td><td>1</td><td>6</td></tr>",
                            "<tr><td>166</td><td>781</td><td>7</td><td>1</td></tr>",
                            "<tr><td>163</td><td>782</td><td>3</td><td>7</td></tr>",
                            "<tr><td>148</td><td>783</td><td>7</td><td>3</td></tr>",
                            "<tr><td>141</td><td>784</td><td>7</td><td>7</td></tr>",
                            "<tr><td>177</td><td>785</td><td>3</td><td>7</td></tr>",
                            "<tr><td>111</td><td>786</td><td>4</td><td>3</td></tr>",
                            "<tr><td>50</td><td>787</td><td>3</td><td>4</td></tr>",
                            "<tr><td>3</td><td>788</td><td>6</td><td>3</td></tr>",
                            "<tr><td>146</td><td>789</td><td>7</td><td>6</td></tr>",
                            "<tr><td>10</td><td>790</td><td>5</td><td>7</td></tr>",
                            "<tr><td>15</td><td>791</td><td>5</td><td>5</td></tr>",
                            "<tr><td>168</td><td>792</td><td>3</td><td>5</td></tr>",
                            "<tr><td>49</td><td>793</td><td>6</td><td>3</td></tr>",
                            "<tr><td>168</td><td>794</td><td>4</td><td>6</td></tr>",
                            "<tr><td>10</td><td>795</td><td>4</td><td>4</td></tr>",
                            "<tr><td>138</td><td>796</td><td>4</td><td>4</td></tr>",
                            "<tr><td>74</td><td>797</td><td>5</td><td>4</td></tr>",
                            "<tr><td>83</td><td>798</td><td>4</td><td>5</td></tr>",
                            "<tr><td>175</td><td>799</td><td>4</td><td>4</td></tr>",
                            "<tr><td>45</td><td>800</td><td>5</td><td>4</td></tr>",
                            "<tr><td>112</td><td>801</td><td>5</td><td>5</td></tr>",
                            "<tr><td>45</td><td>802</td><td>7</td><td>5</td></tr>",
                            "<tr><td>1</td><td>803</td><td>4</td><td>7</td></tr>",
                            "<tr><td>146</td><td>804</td><td>7</td><td>4</td></tr>",
                            "<tr><td>21</td><td>805</td><td>1</td><td>7</td></tr>",
                            "<tr><td>126</td><td>806</td><td>6</td><td>1</td></tr>",
                            "<tr><td>27</td><td>807</td><td>2</td><td>6</td></tr>",
                            "<tr><td>148</td><td>808</td><td>2</td><td>2</td></tr>",
                            "<tr><td>92</td><td>809</td><td>3</td><td>2</td></tr>",
                            "<tr><td>109</td><td>810</td><td>2</td><td>3</td></tr>",
                            "<tr><td>51</td><td>811</td><td>2</td><td>2</td></tr>",
                            "<tr><td>148</td><td>812</td><td>6</td><td>2</td></tr>",
                            "<tr><td>14</td><td>813</td><td>3</td><td>6</td></tr>",
                            "<tr><td>70</td><td>814</td><td>3</td><td>3</td></tr>",
                            "<tr><td>128</td><td>815</td><td>1</td><td>3</td></tr>",
                            "<tr><td>178</td><td>816</td><td>4</td><td>1</td></tr>",
                            "<tr><td>89</td><td>817</td><td>3</td><td>4</td></tr>",
                            "<tr><td>8</td><td>818</td><td>4</td><td>3</td></tr>",
                            "<tr><td>84</td><td>819</td><td>2</td><td>4</td></tr>",
                            "<tr><td>20</td><td>820</td><td>1</td><td>2</td></tr>",
                            "<tr><td>34</td><td>821</td><td>1</td><td>1</td></tr>",
                            "<tr><td>52</td><td>822</td><td>7</td><td>1</td></tr>",
                            "<tr><td>44</td><td>823</td><td>2</td><td>7</td></tr>",
                            "<tr><td>48</td><td>824</td><td>2</td><td>2</td></tr>",
                            "<tr><td>158</td><td>825</td><td>4</td><td>2</td></tr>",
                            "<tr><td>49</td><td>826</td><td>4</td><td>4</td></tr>",
                            "<tr><td>114</td><td>827</td><td>7</td><td>4</td></tr>",
                            "<tr><td>2</td><td>828</td><td>3</td><td>7</td></tr>",
                            "<tr><td>35</td><td>829</td><td>2</td><td>3</td></tr>",
                            "<tr><td>74</td><td>830</td><td>1</td><td>2</td></tr>",
                            "<tr><td>177</td><td>831</td><td>7</td><td>1</td></tr>",
                            "<tr><td>8</td><td>832</td><td>4</td><td>7</td></tr>",
                            "<tr><td>149</td><td>833</td><td>2</td><td>4</td></tr>",
                            "<tr><td>149</td><td>834</td><td>5</td><td>2</td></tr>",
                            "<tr><td>193</td><td>835</td><td>2</td><td>5</td></tr>",
                            "<tr><td>97</td><td>836</td><td>2</td><td>2</td></tr>",
                            "<tr><td>104</td><td>837</td><td>4</td><td>2</td></tr>",
                            "<tr><td>56</td><td>838</td><td>2</td><td>4</td></tr>",
                            "<tr><td>172</td><td>839</td><td>5</td><td>2</td></tr>",
                            "<tr><td>158</td><td>840</td><td>4</td><td>5</td></tr>",
                            "<tr><td>92</td><td>841</td><td>6</td><td>4</td></tr>",
                            "<tr><td>195</td><td>842</td><td>4</td><td>6</td></tr>",
                            "<tr><td>149</td><td>843</td><td>4</td><td>4</td></tr>",
                            "<tr><td>87</td><td>844</td><td>1</td><td>4</td></tr>",
                            "<tr><td>63</td><td>845</td><td>1</td><td>1</td></tr>",
                            "<tr><td>45</td><td>846</td><td>3</td><td>1</td></tr>",
                            "<tr><td>74</td><td>847</td><td>3</td><td>3</td></tr>",
                            "<tr><td>23</td><td>848</td><td>1</td><td>3</td></tr>",
                            "<tr><td>135</td><td>849</td><td>7</td><td>1</td></tr>",
                            "<tr><td>6</td><td>850</td><td>2</td><td>7</td></tr>",
                            "<tr><td>42</td><td>851</td><td>7</td><td>2</td></tr>",
                            "<tr><td>24</td><td>852</td><td>2</td><td>7</td></tr>",
                            "<tr><td>127</td><td>853</td><td>5</td><td>2</td></tr>",
                            "<tr><td>167</td><td>854</td><td>7</td><td>5</td></tr>",
                            "<tr><td>53</td><td>855</td><td>1</td><td>7</td></tr>",
                            "<tr><td>16</td><td>856</td><td>6</td><td>1</td></tr>",
                            "<tr><td>165</td><td>857</td><td>5</td><td>6</td></tr>",
                            "<tr><td>121</td><td>858</td><td>5</td><td>5</td></tr>",
                            "<tr><td>86</td><td>859</td><td>1</td><td>5</td></tr>",
                            "<tr><td>70</td><td>860</td><td>2</td><td>1</td></tr>",
                            "<tr><td>124</td><td>861</td><td>1</td><td>2</td></tr>",
                            "<tr><td>82</td><td>862</td><td>4</td><td>1</td></tr>",
                            "<tr><td>185</td><td>863</td><td>4</td><td>4</td></tr>",
                            "<tr><td>118</td><td>864</td><td>6</td><td>4</td></tr>",
                            "<tr><td>51</td><td>865</td><td>7</td><td>6</td></tr>",
                            "<tr><td>88</td><td>866</td><td>2</td><td>7</td></tr>",
                            "<tr><td>175</td><td>867</td><td>6</td><td>2</td></tr>",
                            "<tr><td>187</td><td>868</td><td>4</td><td>6</td></tr>",
                            "<tr><td>83</td><td>869</td><td>6</td><td>4</td></tr>",
                            "<tr><td>34</td><td>870</td><td>6</td><td>6</td></tr>",
                            "<tr><td>82</td><td>871</td><td>5</td><td>6</td></tr>",
                            "<tr><td>28</td><td>872</td><td>5</td><td>5</td></tr>",
                            "<tr><td>6</td><td>873</td><td>3</td><td>5</td></tr>",
                            "<tr><td>67</td><td>874</td><td>6</td><td>3</td></tr>",
                            "<tr><td>64</td><td>875</td><td>2</td><td>6</td></tr>",
                            "<tr><td>12</td><td>876</td><td>7</td><td>2</td></tr>",
                            "<tr><td>74</td><td>877</td><td>4</td><td>7</td></tr>",
                            "<tr><td>83</td><td>878</td><td>6</td><td>4</td></tr>",
                            "<tr><td>127</td><td>879</td><td>2</td><td>6</td></tr>",
                            "<tr><td>184</td><td>880</td><td>4</td><td>2</td></tr>",
                            "<tr><td>131</td><td>881</td><td>6</td><td>4</td></tr>",
                            "<tr><td>8</td><td>882</td><td>1</td><td>6</td></tr>",
                            "<tr><td>58</td><td>883</td><td>5</td><td>1</td></tr>",
                            "<tr><td>98</td><td>884</td><td>5</td><td>5</td></tr>",
                            "<tr><td>69</td><td>885</td><td>1</td><td>5</td></tr>",
                            "<tr><td>28</td><td>886</td><td>4</td><td>1</td></tr>",
                            "<tr><td>80</td><td>887</td><td>6</td><td>4</td></tr>",
                            "<tr><td>49</td><td>888</td><td>7</td><td>6</td></tr>",
                            "<tr><td>54</td><td>889</td><td>2</td><td>7</td></tr>",
                            "<tr><td>146</td><td>890</td><td>3</td><td>2</td></tr>",
                            "<tr><td>63</td><td>891</td><td>6</td><td>3</td></tr>",
                            "<tr><td>165</td><td>892</td><td>3</td><td>6</td></tr>",
                            "<tr><td>151</td><td>893</td><td>3</td><td>3</td></tr>",
                            "<tr><td>29</td><td>894</td><td>1</td><td>3</td></tr>",
                            "<tr><td>36</td><td>895</td><td>5</td><td>1</td></tr>",
                            "<tr><td>16</td><td>896</td><td>1</td><td>5</td></tr>",
                            "<tr><td>165</td><td>897</td><td>6</td><td>1</td></tr>",
                            "<tr><td>185</td><td>898</td><td>4</td><td>6</td></tr>",
                            "<tr><td>39</td><td>899</td><td>6</td><td>4</td></tr>",
                            "<tr><td>165</td><td>900</td><td>6</td><td>6</td></tr>",
                            "<tr><td>28</td><td>901</td><td>4</td><td>6</td></tr>",
                            "<tr><td>72</td><td>902</td><td>5</td><td>4</td></tr>",
                            "<tr><td>192</td><td>903</td><td>7</td><td>5</td></tr>",
                            "<tr><td>34</td><td>904</td><td>2</td><td>7</td></tr>",
                            "<tr><td>180</td><td>905</td><td>5</td><td>2</td></tr>",
                            "<tr><td>22</td><td>906</td><td>1</td><td>5</td></tr>",
                            "<tr><td>156</td><td>907</td><td>3</td><td>1</td></tr>",
                            "<tr><td>141</td><td>908</td><td>2</td><td>3</td></tr>",
                            "<tr><td>133</td><td>909</td><td>4</td><td>2</td></tr>",
                            "<tr><td>130</td><td>910</td><td>2</td><td>4</td></tr>",
                            "<tr><td>161</td><td>911</td><td>4</td><td>2</td></tr>",
                            "<tr><td>188</td><td>912</td><td>1</td><td>4</td></tr>",
                            "<tr><td>173</td><td>913</td><td>1</td><td>1</td></tr>",
                            "<tr><td>48</td><td>914</td><td>5</td><td>1</td></tr>",
                            "<tr><td>140</td><td>915</td><td>2</td><td>5</td></tr>",
                            "<tr><td>17</td><td>916</td><td>2</td><td>2</td></tr>",
                            "<tr><td>174</td><td>917</td><td>2</td><td>2</td></tr>",
                            "<tr><td>11</td><td>918</td><td>6</td><td>2</td></tr>",
                            "<tr><td>36</td><td>919</td><td>1</td><td>6</td></tr>",
                            "<tr><td>32</td><td>920</td><td>4</td><td>1</td></tr>",
                            "<tr><td>112</td><td>921</td><td>1</td><td>4</td></tr>",
                            "<tr><td>160</td><td>922</td><td>2</td><td>1</td></tr>",
                            "<tr><td>123</td><td>923</td><td>4</td><td>2</td></tr>",
                            "<tr><td>40</td><td>924</td><td>5</td><td>4</td></tr>",
                            "<tr><td>185</td><td>925</td><td>6</td><td>5</td></tr>",
                            "<tr><td>193</td><td>926</td><td>1</td><td>6</td></tr>",
                            "<tr><td>160</td><td>927</td><td>4</td><td>1</td></tr>",
                            "<tr><td>182</td><td>928</td><td>2</td><td>4</td></tr>",
                            "<tr><td>80</td><td>929</td><td>2</td><td>2</td></tr>",
                            "<tr><td>168</td><td>930</td><td>3</td><td>2</td></tr>",
                            "<tr><td>110</td><td>931</td><td>5</td><td>3</td></tr>",
                            "<tr><td>40</td><td>932</td><td>6</td><td>5</td></tr>",
                            "<tr><td>160</td><td>933</td><td>4</td><td>6</td></tr>",
                            "<tr><td>23</td><td>934</td><td>1</td><td>4</td></tr>",
                            "<tr><td>56</td><td>935</td><td>4</td><td>1</td></tr>",
                            "<tr><td>62</td><td>936</td><td>3</td><td>4</td></tr>",
                            "<tr><td>181</td><td>937</td><td>3</td><td>3</td></tr>",
                            "<tr><td>62</td><td>938</td><td>1</td><td>3</td></tr>",
                            "<tr><td>183</td><td>939</td><td>4</td><td>1</td></tr>",
                            "<tr><td>74</td><td>940</td><td>5</td><td>4</td></tr>",
                            "<tr><td>163</td><td>941</td><td>1</td><td>5</td></tr>",
                            "<tr><td>92</td><td>942</td><td>6</td><td>1</td></tr>",
                            "<tr><td>115</td><td>943</td><td>7</td><td>6</td></tr>",
                            "<tr><td>170</td><td>944</td><td>4</td><td>7</td></tr>",
                            "<tr><td>23</td><td>945</td><td>7</td><td>4</td></tr>",
                            "<tr><td>4</td><td>946</td><td>5</td><td>7</td></tr>",
                            "<tr><td>8</td><td>947</td><td>3</td><td>5</td></tr>",
                            "<tr><td>19</td><td>948</td><td>2</td><td>3</td></tr>",
                            "<tr><td>1</td><td>949</td><td>1</td><td>2</td></tr>",
                            "<tr><td>66</td><td>950</td><td>3</td><td>1</td></tr>",
                            "<tr><td>12</td><td>951</td><td>3</td><td>3</td></tr>",
                            "<tr><td>196</td><td>952</td><td>3</td><td>3</td></tr>",
                            "<tr><td>117</td><td>953</td><td>5</td><td>3</td></tr>",
                            "<tr><td>84</td><td>954</td><td>5</td><td>5</td></tr>",
                            "<tr><td>47</td><td>955</td><td>1</td><td>5</td></tr>",
                            "<tr><td>156</td><td>956</td><td>6</td><td>1</td></tr>",
                            "<tr><td>187</td><td>957</td><td>4</td><td>6</td></tr>",
                            "<tr><td>181</td><td>958</td><td>5</td><td>4</td></tr>",
                            "<tr><td>111</td><td>959</td><td>7</td><td>5</td></tr>",
                            "<tr><td>41</td><td>960</td><td>6</td><td>7</td></tr>",
                            "<tr><td>72</td><td>961</td><td>6</td><td>6</td></tr>",
                            "<tr><td>117</td><td>962</td><td>4</td><td>6</td></tr>",
                            "<tr><td>74</td><td>963</td><td>1</td><td>4</td></tr>",
                            "<tr><td>110</td><td>964</td><td>6</td><td>1</td></tr>",
                            "<tr><td>5</td><td>965</td><td>7</td><td>6</td></tr>",
                            "<tr><td>114</td><td>966</td><td>6</td><td>7</td></tr>",
                            "<tr><td>123</td><td>967</td><td>5</td><td>6</td></tr>",
                            "<tr><td>154</td><td>968</td><td>1</td><td>5</td></tr>",
                            "<tr><td>153</td><td>969</td><td>6</td><td>1</td></tr>",
                            "<tr><td>12</td><td>970</td><td>2</td><td>6</td></tr>",
                            "<tr><td>35</td><td>971</td><td>3</td><td>2</td></tr>",
                            "<tr><td>103</td><td>972</td><td>2</td><td>3</td></tr>",
                            "<tr><td>16</td><td>973</td><td>1</td><td>2</td></tr>",
                            "<tr><td>169</td><td>974</td><td>1</td><td>1</td></tr>",
                            "<tr><td>94</td><td>975</td><td>5</td><td>1</td></tr>",
                            "<tr><td>76</td><td>976</td><td>2</td><td>5</td></tr>",
                            "<tr><td>193</td><td>977</td><td>2</td><td>2</td></tr>",
                            "<tr><td>198</td><td>978</td><td>1</td><td>2</td></tr>",
                            "<tr><td>35</td><td>979</td><td>7</td><td>1</td></tr>",
                            "<tr><td>143</td><td>980</td><td>3</td><td>7</td></tr>",
                            "<tr><td>171</td><td>981</td><td>4</td><td>3</td></tr>",
                            "<tr><td>77</td><td>982</td><td>3</td><td>4</td></tr>",
                            "<tr><td>80</td><td>983</td><td>6</td><td>3</td></tr>",
                            "<tr><td>172</td><td>984</td><td>4</td><td>6</td></tr>",
                            "<tr><td>36</td><td>985</td><td>6</td><td>4</td></tr>",
                            "<tr><td>48</td><td>986</td><td>5</td><td>6</td></tr>",
                            "<tr><td>53</td><td>987</td><td>4</td><td>5</td></tr>",
                            "<tr><td>133</td><td>988</td><td>3</td><td>4</td></tr>",
                            "<tr><td>190</td><td>989</td><td>1</td><td>3</td></tr>",
                            "<tr><td>6</td><td>990</td><td>4</td><td>1</td></tr>",
                            "<tr><td>178</td><td>991</td><td>7</td><td>4</td></tr>",
                            "<tr><td>103</td><td>992</td><td>7</td><td>7</td></tr>",
                            "<tr><td>197</td><td>993</td><td>7</td><td>7</td></tr>",
                            "<tr><td>118</td><td>994</td><td>7</td><td>7</td></tr>",
                            "<tr><td>83</td><td>995</td><td>5</td><td>7</td></tr>",
                            "<tr><td>118</td><td>996</td><td>3</td><td>5</td></tr>",
                            "<tr><td>82</td><td>997</td><td>6</td><td>3</td></tr>",
                            "<tr><td>120</td><td>998</td><td>3</td><td>6</td></tr>",
                            "<tr><td>132</td><td>999</td><td>6</td><td>3</td></tr>",
                            "<tr><td>73</td><td>1000</td><td>4</td><td>6</td></tr>",
                            "<tr><td>4</td><td>1001</td><td>7</td><td>4</td></tr>",
                            "<tr><td>117</td><td>1002</td><td>1</td><td>7</td></tr>",
                            "<tr><td>36</td><td>1003</td><td>4</td><td>1</td></tr>",
                            "<tr><td>134</td><td>1004</td><td>5</td><td>4</td></tr>",
                            "<tr><td>22</td><td>1005</td><td>3</td><td>5</td></tr>",
                            "<tr><td>70</td><td>1006</td><td>3</td><td>3</td></tr>",
                            "<tr><td>122</td><td>1007</td><td>2</td><td>3</td></tr>",
                            "<tr><td>182</td><td>1008</td><td>6</td><td>2</td></tr>",
                            "<tr><td>71</td><td>1009</td><td>1</td><td>6</td></tr>",
                            "<tr><td>164</td><td>1010</td><td>2</td><td>1</td></tr>",
                            "<tr><td>198</td><td>1011</td><td>7</td><td>2</td></tr>",
                            "<tr><td>33</td><td>1012</td><td>7</td><td>7</td></tr>",
                            "<tr><td>75</td><td>1013</td><td>5</td><td>7</td></tr>",
                            "<tr><td>137</td><td>1014</td><td>1</td><td>5</td></tr>",
                            "<tr><td>174</td><td>1015</td><td>5</td><td>1</td></tr>",
                            "<tr><td>92</td><td>1016</td><td>2</td><td>5</td></tr>",
                            "<tr><td>190</td><td>1017</td><td>1</td><td>2</td></tr>",
                            "<tr><td>40</td><td>1018</td><td>5</td><td>1</td></tr>",
                            "<tr><td>43</td><td>1019</td><td>4</td><td>5</td></tr>",
                            "<tr><td>12</td><td>1020</td><td>5</td><td>4</td></tr>",
                            "<tr><td>179</td><td>1021</td><td>1</td><td>5</td></tr>",
                            "<tr><td>181</td><td>1022</td><td>1</td><td>1</td></tr>",
                            "<tr><td>30</td><td>1023</td><td>7</td><td>1</td></tr>",
                            "<tr><td>134</td><td>1024</td><td>1</td><td>7</td></tr>",
                            "<tr><td>157</td><td>1025</td><td>3</td><td>1</td></tr>",
                            "<tr><td>119</td><td>1026</td><td>3</td><td>3</td></tr>",
                            "<tr><td>68</td><td>1027</td><td>7</td><td>3</td></tr>",
                            "<tr><td>15</td><td>1028</td><td>2</td><td>7</td></tr>",
                            "<tr><td>113</td><td>1029</td><td>5</td><td>2</td></tr>",
                            "<tr><td>188</td><td>1030</td><td>4</td><td>5</td></tr>",
                            "<tr><td>27</td><td>1031</td><td>2</td><td>4</td></tr>",
                            "<tr><td>146</td><td>1032</td><td>5</td><td>2</td></tr>",
                            "<tr><td>38</td><td>1033</td><td>2</td><td>5</td></tr>",
                            "<tr><td>127</td><td>1034</td><td>6</td><td>2</td></tr>",
                            "<tr><td>18</td><td>1035</td><td>6</td><td>6</td></tr>",
                            "<tr><td>122</td><td>1036</td><td>2</td><td>6</td></tr>",
                            "<tr><td>89</td><td>1037</td><td>7</td><td>2</td></tr>",
                            "<tr><td>3</td><td>1038</td><td>3</td><td>7</td></tr>",
                            "<tr><td>191</td><td>1039</td><td>6</td><td>3</td></tr>",
                            "<tr><td>130</td><td>1040</td><td>1</td><td>6</td></tr>",
                            "<tr><td>110</td><td>1041</td><td>3</td><td>1</td></tr>",
                            "<tr><td>139</td><td>1042</td><td>2</td><td>3</td></tr>",
                            "<tr><td>193</td><td>1043</td><td>6</td><td>2</td></tr>",
                            "<tr><td>13</td><td>1044</td><td>6</td><td>6</td></tr>",
                            "<tr><td>134</td><td>1045</td><td>2</td><td>6</td></tr>",
                            "<tr><td>136</td><td>1046</td><td>4</td><td>2</td></tr>",
                            "<tr><td>157</td><td>1047</td><td>4</td><td>4</td></tr>",
                            "<tr><td>95</td><td>1048</td><td>3</td><td>4</td></tr>",
                            "<tr><td>121</td><td>1049</td><td>3</td><td>3</td></tr>",
                            "<tr><td>98</td><td>1050</td><td>6</td><td>3</td></tr>",
                            "<tr><td>2</td><td>1051</td><td>1</td><td>6</td></tr>",
                            "<tr><td>25</td><td>1052</td><td>3</td><td>1</td></tr>",
                            "<tr><td>33</td><td>1053</td><td>1</td><td>3</td></tr>",
                            "<tr><td>79</td><td>1054</td><td>1</td><td>1</td></tr>",
                            "<tr><td>69</td><td>1055</td><td>5</td><td>1</td></tr>",
                            "<tr><td>47</td><td>1056</td><td>7</td><td>5</td></tr>",
                            "<tr><td>86</td><td>1057</td><td>5</td><td>7</td></tr>",
                            "<tr><td>151</td><td>1058</td><td>3</td><td>5</td></tr>",
                            "<tr><td>85</td><td>1059</td><td>3</td><td>3</td></tr>",
                            "<tr><td>38</td><td>1060</td><td>2</td><td>3</td></tr>",
                            "<tr><td>154</td><td>1061</td><td>7</td><td>2</td></tr>",
                            "<tr><td>122</td><td>1062</td><td>3</td><td>7</td></tr>",
                            "<tr><td>50</td><td>1063</td><td>2</td><td>3</td></tr>",
                            "<tr><td>139</td><td>1064</td><td>6</td><td>2</td></tr>",
                            "<tr><td>198</td><td>1065</td><td>3</td><td>6</td></tr>",
                            "<tr><td>49</td><td>1066</td><td>7</td><td>3</td></tr>",
                            "<tr><td>183</td><td>1067</td><td>7</td><td>7</td></tr>",
                            "<tr><td>161</td><td>1068</td><td>6</td><td>7</td></tr>",
                            "<tr><td>2</td><td>1069</td><td>7</td><td>6</td></tr>",
                            "<tr><td>20</td><td>1070</td><td>1</td><td>7</td></tr>",
                            "<tr><td>80</td><td>1071</td><td>4</td><td>1</td></tr>",
                            "<tr><td>99</td><td>1072</td><td>1</td><td>4</td></tr>",
                            "<tr><td>5</td><td>1073</td><td>5</td><td>1</td></tr>",
                            "<tr><td>195</td><td>1074</td><td>7</td><td>5</td></tr>",
                            "<tr><td>163</td><td>1075</td><td>4</td><td>7</td></tr>",
                            "<tr><td>29</td><td>1076</td><td>7</td><td>4</td></tr>",
                            "<tr><td>145</td><td>1077</td><td>1</td><td>7</td></tr>",
                            "<tr><td>38</td><td>1078</td><td>7</td><td>1</td></tr>",
                            "<tr><td>86</td><td>1079</td><td>4</td><td>7</td></tr>",
                            "<tr><td>59</td><td>1080</td><td>1</td><td>4</td></tr>",
                            "<tr><td>62</td><td>1081</td><td>7</td><td>1</td></tr>",
                            "<tr><td>27</td><td>1082</td><td>5</td><td>7</td></tr>",
                            "<tr><td>109</td><td>1083</td><td>1</td><td>5</td></tr>",
                            "<tr><td>59</td><td>1084</td><td>2</td><td>1</td></tr>",
                            "<tr><td>113</td><td>1085</td><td>4</td><td>2</td></tr>",
                            "<tr><td>55</td><td>1086</td><td>5</td><td>4</td></tr>",
                            "<tr><td>144</td><td>1087</td><td>2</td><td>5</td></tr>",
                            "<tr><td>43</td><td>1088</td><td>2</td><td>2</td></tr>",
                            "<tr><td>120</td><td>1089</td><td>6</td><td>2</td></tr>",
                            "<tr><td>132</td><td>1090</td><td>7</td><td>6</td></tr>",
                            "<tr><td>197</td><td>1091</td><td>7</td><td>7</td></tr>",
                            "<tr><td>70</td><td>1092</td><td>3</td><td>7</td></tr>",
                            "<tr><td>74</td><td>1093</td><td>6</td><td>3</td></tr>",
                            "<tr><td>175</td><td>1094</td><td>5</td><td>6</td></tr>",
                            "<tr><td>194</td><td>1095</td><td>5</td><td>5</td></tr>",
                            "<tr><td>54</td><td>1096</td><td>4</td><td>5</td></tr>",
                            "<tr><td>95</td><td>1097</td><td>4</td><td>4</td></tr>",
                            "<tr><td>140</td><td>1098</td><td>2</td><td>4</td></tr>",
                            "<tr><td>6</td><td>1099</td><td>4</td><td>2</td></tr>",
                            "<tr><td>150</td><td>1100</td><td>5</td><td>4</td></tr>",
                            "<tr><td>89</td><td>1101</td><td>5</td><td>5</td></tr>",
                            "<tr><td>108</td><td>1102</td><td>1</td><td>5</td></tr>",
                            "<tr><td>87</td><td>1103</td><td>3</td><td>1</td></tr>",
                            "<tr><td>77</td><td>1104</td><td>1</td><td>3</td></tr>",
                            "<tr><td>150</td><td>1105</td><td>1</td><td>1</td></tr>",
                            "<tr><td>20</td><td>1106</td><td>2</td><td>1</td></tr>",
                            "<tr><td>163</td><td>1107</td><td>3</td><td>2</td></tr>",
                            "<tr><td>86</td><td>1108</td><td>1</td><td>3</td></tr>",
                            "<tr><td>110</td><td>1109</td><td>5</td><td>1</td></tr>",
                            "<tr><td>3</td><td>1110</td><td>7</td><td>5</td></tr>",
                            "<tr><td>132</td><td>1111</td><td>3</td><td>7</td></tr>",
                            "<tr><td>155</td><td>1112</td><td>4</td><td>3</td></tr>",
                            "<tr><td>58</td><td>1113</td><td>3</td><td>4</td></tr>",
                            "<tr><td>20</td><td>1114</td><td>5</td><td>3</td></tr>",
                            "<tr><td>151</td><td>1115</td><td>3</td><td>5</td></tr>",
                            "<tr><td>198</td><td>1116</td><td>1</td><td>3</td></tr>",
                            "<tr><td>158</td><td>1117</td><td>3</td><td>1</td></tr>",
                            "<tr><td>40</td><td>1118</td><td>5</td><td>3</td></tr>",
                            "<tr><td>83</td><td>1119</td><td>6</td><td>5</td></tr>",
                            "<tr><td>145</td><td>1120</td><td>1</td><td>6</td></tr>",
                            "<tr><td>115</td><td>1121</td><td>7</td><td>1</td></tr>",
                            "<tr><td>64</td><td>1122</td><td>4</td><td>7</td></tr>",
                            "<tr><td>11</td><td>1123</td><td>5</td><td>4</td></tr>",
                            "<tr><td>112</td><td>1124</td><td>6</td><td>5</td></tr>",
                            "<tr><td>185</td><td>1125</td><td>3</td><td>6</td></tr>",
                            "<tr><td>70</td><td>1126</td><td>3</td><td>3</td></tr>",
                            "<tr><td>4</td><td>1127</td><td>3</td><td>3</td></tr>",
                            "<tr><td>121</td><td>1128</td><td>4</td><td>3</td></tr>",
                            "<tr><td>15</td><td>1129</td><td>4</td><td>4</td></tr>",
                            "<tr><td>22</td><td>1130</td><td>1</td><td>4</td></tr>",
                            "<tr><td>7</td><td>1131</td><td>1</td><td>1</td></tr>",
                            "<tr><td>4</td><td>1132</td><td>6</td><td>1</td></tr>",
                            "<tr><td>175</td><td>1133</td><td>2</td><td>6</td></tr>",
                            "<tr><td>126</td><td>1134</td><td>1</td><td>2</td></tr>",
                            "<tr><td>45</td><td>1135</td><td>3</td><td>1</td></tr>",
                            "<tr><td>30</td><td>1136</td><td>5</td><td>3</td></tr>",
                            "<tr><td>1</td><td>1137</td><td>2</td><td>5</td></tr>",
                            "<tr><td>198</td><td>1138</td><td>5</td><td>2</td></tr>",
                            "<tr><td>19</td><td>1139</td><td>7</td><td>5</td></tr>",
                            "<tr><td>12</td><td>1140</td><td>3</td><td>7</td></tr>",
                            "<tr><td>165</td><td>1141</td><td>1</td><td>3</td></tr>",
                            "<tr><td>172</td><td>1142</td><td>4</td><td>1</td></tr>",
                            "<tr><td>176</td><td>1143</td><td>6</td><td>4</td></tr>",
                            "<tr><td>41</td><td>1144</td><td>1</td><td>6</td></tr>",
                            "<tr><td>145</td><td>1145</td><td>4</td><td>1</td></tr>",
                            "<tr><td>149</td><td>1146</td><td>6</td><td>4</td></tr>",
                            "<tr><td>183</td><td>1147</td><td>4</td><td>6</td></tr>",
                            "<tr><td>61</td><td>1148</td><td>3</td><td>4</td></tr>",
                            "<tr><td>133</td><td>1149</td><td>7</td><td>3</td></tr>",
                            "<tr><td>28</td><td>1150</td><td>6</td><td>7</td></tr>",
                            "<tr><td>3</td><td>1151</td><td>1</td><td>6</td></tr>",
                            "<tr><td>1</td><td>1152</td><td>1</td><td>1</td></tr>",
                            "<tr><td>186</td><td>1153</td><td>3</td><td>1</td></tr>",
                            "<tr><td>115</td><td>1154</td><td>4</td><td>3</td></tr>",
                            "<tr><td>143</td><td>1155</td><td>7</td><td>4</td></tr>",
                            "<tr><td>140</td><td>1156</td><td>3</td><td>7</td></tr>",
                            "<tr><td>9</td><td>1157</td><td>6</td><td>3</td></tr>",
                            "<tr><td>26</td><td>1158</td><td>2</td><td>6</td></tr>",
                            "<tr><td>73</td><td>1159</td><td>5</td><td>2</td></tr>",
                            "<tr><td>152</td><td>1160</td><td>7</td><td>5</td></tr>",
                            "<tr><td>198</td><td>1161</td><td>5</td><td>7</td></tr>",
                            "<tr><td>110</td><td>1162</td><td>2</td><td>5</td></tr>",
                            "<tr><td>55</td><td>1163</td><td>2</td><td>2</td></tr>",
                            "<tr><td>12</td><td>1164</td><td>5</td><td>2</td></tr>",
                            "<tr><td>51</td><td>1165</td><td>5</td><td>5</td></tr>",
                            "<tr><td>122</td><td>1166</td><td>4</td><td>5</td></tr>",
                            "<tr><td>24</td><td>1167</td><td>1</td><td>4</td></tr>",
                            "<tr><td>154</td><td>1168</td><td>6</td><td>1</td></tr>",
                            "<tr><td>93</td><td>1169</td><td>4</td><td>6</td></tr>",
                            "<tr><td>59</td><td>1170</td><td>5</td><td>4</td></tr>",
                            "<tr><td>172</td><td>1171</td><td>5</td><td>5</td></tr>",
                            "<tr><td>197</td><td>1172</td><td>7</td><td>5</td></tr>",
                            "<tr><td>18</td><td>1173</td><td>6</td><td>7</td></tr>",
                            "<tr><td>90</td><td>1174</td><td>7</td><td>6</td></tr>",
                            "<tr><td>7</td><td>1175</td><td>4</td><td>7</td></tr>",
                            "<tr><td>177</td><td>1176</td><td>3</td><td>4</td></tr>",
                            "<tr><td>150</td><td>1177</td><td>1</td><td>3</td></tr>",
                            "<tr><td>134</td><td>1178</td><td>7</td><td>1</td></tr>",
                            "<tr><td>74</td><td>1179</td><td>7</td><td>7</td></tr>",
                            "<tr><td>104</td><td>1180</td><td>1</td><td>7</td></tr>",
                            "<tr><td>171</td><td>1181</td><td>6</td><td>1</td></tr>",
                            "<tr><td>7</td><td>1182</td><td>4</td><td>6</td></tr>",
                            "<tr><td>185</td><td>1183</td><td>5</td><td>4</td></tr>",
                            "<tr><td>195</td><td>1184</td><td>5</td><td>5</td></tr>",
                            "<tr><td>29</td><td>1185</td><td>5</td><td>5</td></tr>",
                            "<tr><td>58</td><td>1186</td><td>6</td><td>5</td></tr>",
                            "<tr><td>46</td><td>1187</td><td>7</td><td>6</td></tr>",
                            "<tr><td>182</td><td>1188</td><td>1</td><td>7</td></tr>",
                            "<tr><td>89</td><td>1189</td><td>6</td><td>1</td></tr>",
                            "<tr><td>161</td><td>1190</td><td>7</td><td>6</td></tr>",
                            "<tr><td>59</td><td>1191</td><td>6</td><td>7</td></tr>",
                            "<tr><td>117</td><td>1192</td><td>2</td><td>6</td></tr>",
                            "<tr><td>143</td><td>1193</td><td>6</td><td>2</td></tr>",
                            "<tr><td>170</td><td>1194</td><td>4</td><td>6</td></tr>",
                            "<tr><td>22</td><td>1195</td><td>6</td><td>4</td></tr>",
                            "<tr><td>88</td><td>1196</td><td>3</td><td>6</td></tr>",
                            "<tr><td>152</td><td>1197</td><td>6</td><td>3</td></tr>",
                            "<tr><td>18</td><td>1198</td><td>4</td><td>6</td></tr>",
                            "<tr><td>144</td><td>1199</td><td>7</td><td>4</td></tr>",
                            "<tr><td>49</td><td>1200</td><td>7</td><td>7</td></tr>",
                            "<tr><td>137</td><td>1201</td><td>6</td><td>7</td></tr>",
                            "<tr><td>52</td><td>1202</td><td>2</td><td>6</td></tr>",
                            "<tr><td>150</td><td>1203</td><td>4</td><td>2</td></tr>",
                            "<tr><td>189</td><td>1204</td><td>2</td><td>4</td></tr>",
                            "<tr><td>162</td><td>1205</td><td>6</td><td>2</td></tr>",
                            "<tr><td>22</td><td>1206</td><td>7</td><td>6</td></tr>",
                            "<tr><td>43</td><td>1207</td><td>1</td><td>7</td></tr>",
                            "<tr><td>58</td><td>1208</td><td>6</td><td>1</td></tr>",
                            "<tr><td>122</td><td>1209</td><td>1</td><td>6</td></tr>",
                            "<tr><td>124</td><td>1210</td><td>4</td><td>1</td></tr>",
                            "<tr><td>178</td><td>1211</td><td>3</td><td>4</td></tr>",
                            "<tr><td>21</td><td>1212</td><td>6</td><td>3</td></tr>",
                            "<tr><td>91</td><td>1213</td><td>3</td><td>6</td></tr>",
                            "<tr><td>39</td><td>1214</td><td>5</td><td>3</td></tr>",
                            "<tr><td>121</td><td>1215</td><td>4</td><td>5</td></tr>",
                            "<tr><td>198</td><td>1216</td><td>7</td><td>4</td></tr>",
                            "<tr><td>93</td><td>1217</td><td>1</td><td>7</td></tr>",
                            "<tr><td>61</td><td>1218</td><td>2</td><td>1</td></tr>",
                            "<tr><td>134</td><td>1219</td><td>6</td><td>2</td></tr>",
                            "<tr><td>9</td><td>1220</td><td>3</td><td>6</td></tr>",
                            "<tr><td>49</td><td>1221</td><td>2</td><td>3</td></tr>",
                            "<tr><td>143</td><td>1222</td><td>2</td><td>2</td></tr>",
                            "<tr><td>123</td><td>1223</td><td>1</td><td>2</td></tr>",
                            "<tr><td>50</td><td>1224</td><td>1</td><td>1</td></tr>",
                            "<tr><td>69</td><td>1225</td><td>5</td><td>1</td></tr>",
                            "<tr><td>127</td><td>1226</td><td>5</td><td>5</td></tr>",
                            "<tr><td>43</td><td>1227</td><td>5</td><td>5</td></tr>",
                            "<tr><td>106</td><td>1228</td><td>7</td><td>5</td></tr>",
                            "<tr><td>79</td><td>1229</td><td>7</td><td>7</td></tr>",
                            "<tr><td>182</td><td>1230</td><td>7</td><td>7</td></tr>",
                            "<tr><td>182</td><td>1231</td><td>4</td><td>7</td></tr>",
                            "<tr><td>55</td><td>1232</td><td>7</td><td>4</td></tr>",
                            "<tr><td>64</td><td>1233</td><td>7</td><td>7</td></tr>",
                            "<tr><td>66</td><td>1234</td><td>3</td><td>7</td></tr>",
                            "<tr><td>29</td><td>1235</td><td>7</td><td>3</td></tr>",
                            "<tr><td>11</td><td>1236</td><td>1</td><td>7</td></tr>",
                            "<tr><td>19</td><td>1237</td><td>1</td><td>1</td></tr>",
                            "<tr><td>193</td><td>1238</td><td>6</td><td>1</td></tr>",
                            "<tr><td>59</td><td>1239</td><td>2</td><td>6</td></tr>",
                            "<tr><td>157</td><td>1240</td><td>7</td><td>2</td></tr>",
                            "<tr><td>94</td><td>1241</td><td>7</td><td>7</td></tr>",
                            "<tr><td>178</td><td>1242</td><td>1</td><td>7</td></tr>",
                            "<tr><td>48</td><td>1243</td><td>6</td><td>1</td></tr>",
                            "<tr><td>15</td><td>1244</td><td>1</td><td>6</td></tr>",
                            "<tr><td>122</td><td>1245</td><td>2</td><td>1</td></tr>",
                            "<tr><td>69</td><td>1246</td><td>7</td><td>2</td></tr>",
                            "<tr><td>117</td><td>1247</td><td>3</td><td>7</td></tr>",
                            "<tr><td>186</td><td>1248</td><td>2</td><td>3</td></tr>",
                            "<tr><td>168</td><td>1249</td><td>4</td><td>2</td></tr>",
                            "<tr><td>107</td><td>1250</td><td>4</td><td>4</td></tr>",
                            "<tr><td>184</td><td>1251</td><td>4</td><td>4</td></tr>",
                            "<tr><td>7</td><td>1252</td><td>2</td><td>4</td></tr>",
                            "<tr><td>89</td><td>1253</td><td>2</td><td>2</td></tr>",
                            "<tr><td>141</td><td>1254</td><td>4</td><td>2</td></tr>",
                            "<tr><td>58</td><td>1255</td><td>7</td><td>4</td></tr>",
                            "<tr><td>138</td><td>1256</td><td>4</td><td>7</td></tr>",
                            "<tr><td>5</td><td>1257</td><td>3</td><td>4</td></tr>",
                            "<tr><td>52</td><td>1258</td><td>5</td><td>3</td></tr>",
                            "<tr><td>140</td><td>1259</td><td>7</td><td>5</td></tr>",
                            "<tr><td>9</td><td>1260</td><td>6</td><td>7</td></tr>",
                            "<tr><td>58</td><td>1261</td><td>6</td><td>6</td></tr>",
                            "<tr><td>154</td><td>1262</td><td>1</td><td>6</td></tr>",
                            "<tr><td>113</td><td>1263</td><td>1</td><td>1</td></tr>",
                            "<tr><td>66</td><td>1264</td><td>4</td><td>1</td></tr>",
                            "<tr><td>163</td><td>1265</td><td>5</td><td>4</td></tr>",
                            "<tr><td>168</td><td>1266</td><td>4</td><td>5</td></tr>",
                            "<tr><td>170</td><td>1267</td><td>7</td><td>4</td></tr>",
                            "<tr><td>78</td><td>1268</td><td>2</td><td>7</td></tr>",
                            "<tr><td>89</td><td>1269</td><td>2</td><td>2</td></tr>",
                            "<tr><td>43</td><td>1270</td><td>4</td><td>2</td></tr>",
                            "<tr><td>106</td><td>1271</td><td>5</td><td>4</td></tr>",
                            "<tr><td>50</td><td>1272</td><td>1</td><td>5</td></tr>",
                            "<tr><td>88</td><td>1273</td><td>7</td><td>1</td></tr>",
                            "<tr><td>1</td><td>1274</td><td>1</td><td>7</td></tr>",
                            "<tr><td>27</td><td>1275</td><td>6</td><td>1</td></tr>",
                            "<tr><td>174</td><td>1276</td><td>1</td><td>6</td></tr>",
                            "<tr><td>82</td><td>1277</td><td>5</td><td>1</td></tr>",
                            "<tr><td>176</td><td>1278</td><td>6</td><td>5</td></tr>",
                            "<tr><td>80</td><td>1279</td><td>5</td><td>6</td></tr>",
                            "<tr><td>137</td><td>1280</td><td>3</td><td>5</td></tr>",
                            "<tr><td>78</td><td>1281</td><td>3</td><td>3</td></tr>",
                            "<tr><td>123</td><td>1282</td><td>6</td><td>3</td></tr>",
                            "<tr><td>138</td><td>1283</td><td>2</td><td>6</td></tr>",
                            "<tr><td>164</td><td>1284</td><td>4</td><td>2</td></tr>",
                            "<tr><td>58</td><td>1285</td><td>7</td><td>4</td></tr>",
                            "<tr><td>127</td><td>1286</td><td>1</td><td>7</td></tr>",
                            "<tr><td>22</td><td>1287</td><td>3</td><td>1</td></tr>",
                            "<tr><td>59</td><td>1288</td><td>3</td><td>3</td></tr>",
                            "<tr><td>135</td><td>1289</td><td>3</td><td>3</td></tr>",
                            "<tr><td>128</td><td>1290</td><td>1</td><td>3</td></tr>",
                            "<tr><td>46</td><td>1291</td><td>3</td><td>1</td></tr>",
                            "<tr><td>164</td><td>1292</td><td>2</td><td>3</td></tr>",
                            "<tr><td>58</td><td>1293</td><td>3</td><td>2</td></tr>",
                            "<tr><td>138</td><td>1294</td><td>5</td><td>3</td></tr>",
                            "<tr><td>44</td><td>1295</td><td>2</td><td>5</td></tr>",
                            "<tr><td>111</td><td>1296</td><td>3</td><td>2</td></tr>",
                            "<tr><td>144</td><td>1297</td><td>1</td><td>3</td></tr>",
                            "<tr><td>109</td><td>1298</td><td>4</td><td>1</td></tr>",
                            "<tr><td>90</td><td>1299</td><td>6</td><td>4</td></tr>",
                            "<tr><td>88</td><td>1300</td><td>3</td><td>6</td></tr>",
                            "<tr><td>132</td><td>1301</td><td>2</td><td>3</td></tr>",
                            "<tr><td>191</td><td>1302</td><td>1</td><td>2</td></tr>",
                            "<tr><td>45</td><td>1303</td><td>2</td><td>1</td></tr>",
                            "<tr><td>197</td><td>1304</td><td>7</td><td>2</td></tr>",
                            "<tr><td>94</td><td>1305</td><td>2</td><td>7</td></tr>",
                            "<tr><td>133</td><td>1306</td><td>3</td><td>2</td></tr>",
                            "<tr><td>58</td><td>1307</td><td>6</td><td>3</td></tr>",
                            "<tr><td>182</td><td>1308</td><td>1</td><td>6</td></tr>",
                            "<tr><td>42</td><td>1309</td><td>2</td><td>1</td></tr>",
                            "<tr><td>155</td><td>1310</td><td>1</td><td>2</td></tr>",
                            "<tr><td>2</td><td>1311</td><td>7</td><td>1</td></tr>",
                            "<tr><td>94</td><td>1312</td><td>3</td><td>7</td></tr>",
                            "<tr><td>143</td><td>1313</td><td>4</td><td>3</td></tr>",
                            "<tr><td>196</td><td>1314</td><td>5</td><td>4</td></tr>",
                            "<tr><td>100</td><td>1315</td><td>5</td><td>5</td></tr>",
                            "<tr><td>17</td><td>1316</td><td>5</td><td>5</td></tr>",
                            "<tr><td>182</td><td>1317</td><td>3</td><td>5</td></tr>",
                            "<tr><td>72</td><td>1318</td><td>2</td><td>3</td></tr>",
                            "<tr><td>10</td><td>1319</td><td>6</td><td>2</td></tr>",
                            "<tr><td>85</td><td>1320</td><td>1</td><td>6</td></tr>",
                            "<tr><td>33</td><td>1321</td><td>4</td><td>1</td></tr>",
                            "<tr><td>58</td><td>1322</td><td>3</td><td>4</td></tr>",
                            "<tr><td>191</td><td>1323</td><td>7</td><td>3</td></tr>",
                            "<tr><td>68</td><td>1324</td><td>4</td><td>7</td></tr>",
                            "<tr><td>70</td><td>1325</td><td>7</td><td>4</td></tr>",
                            "<tr><td>182</td><td>1326</td><td>4</td><td>7</td></tr>",
                            "<tr><td>55</td><td>1327</td><td>6</td><td>4</td></tr>",
                            "<tr><td>54</td><td>1328</td><td>4</td><td>6</td></tr>",
                            "<tr><td>171</td><td>1329</td><td>5</td><td>4</td></tr>",
                            "<tr><td>124</td><td>1330</td><td>7</td><td>5</td></tr>",
                            "<tr><td>73</td><td>1331</td><td>4</td><td>7</td></tr>",
                            "<tr><td>101</td><td>1332</td><td>6</td><td>4</td></tr>",
                            "<tr><td>70</td><td>1333</td><td>6</td><td>6</td></tr>",
                            "<tr><td>1</td><td>1334</td><td>4</td><td>6</td></tr>",
                            "<tr><td>37</td><td>1335</td><td>7</td><td>4</td></tr>",
                            "<tr><td>172</td><td>1336</td><td>5</td><td>7</td></tr>",
                            "<tr><td>122</td><td>1337</td><td>2</td><td>5</td></tr>",
                            "<tr><td>145</td><td>1338</td><td>2</td><td>2</td></tr>",
                            "<tr><td>120</td><td>1339</td><td>6</td><td>2</td></tr>",
                            "<tr><td>196</td><td>1340</td><td>5</td><td>6</td></tr>",
                            "<tr><td>82</td><td>1341</td><td>2</td><td>5</td></tr>",
                            "<tr><td>170</td><td>1342</td><td>6</td><td>2</td></tr>",
                            "<tr><td>102</td><td>1343</td><td>2</td><td>6</td></tr>",
                            "<tr><td>33</td><td>1344</td><td>5</td><td>2</td></tr>",
                            "<tr><td>79</td><td>1345</td><td>3</td><td>5</td></tr>",
                            "<tr><td>181</td><td>1346</td><td>6</td><td>3</td></tr>",
                            "<tr><td>13</td><td>1347</td><td>3</td><td>6</td></tr>",
                            "<tr><td>57</td><td>1348</td><td>1</td><td>3</td></tr>",
                            "<tr><td>87</td><td>1349</td><td>5</td><td>1</td></tr>",
                            "<tr><td>173</td><td>1350</td><td>3</td><td>5</td></tr>",
                            "<tr><td>38</td><td>1351</td><td>4</td><td>3</td></tr>",
                            "<tr><td>115</td><td>1352</td><td>3</td><td>4</td></tr>",
                            "<tr><td>111</td><td>1353</td><td>5</td><td>3</td></tr>",
                            "<tr><td>107</td><td>1354</td><td>1</td><td>5</td></tr>",
                            "<tr><td>93</td><td>1355</td><td>2</td><td>1</td></tr>",
                            "<tr><td>169</td><td>1356</td><td>4</td><td>2</td></tr>",
                            "<tr><td>140</td><td>1357</td><td>4</td><td>4</td></tr>",
                            "<tr><td>138</td><td>1358</td><td>7</td><td>4</td></tr>",
                            "<tr><td>88</td><td>1359</td><td>2</td><td>7</td></tr>",
                            "<tr><td>129</td><td>1360</td><td>6</td><td>2</td></tr>",
                            "<tr><td>140</td><td>1361</td><td>3</td><td>6</td></tr>",
                            "<tr><td>25</td><td>1362</td><td>2</td><td>3</td></tr>",
                            "<tr><td>133</td><td>1363</td><td>5</td><td>2</td></tr>",
                            "<tr><td>126</td><td>1364</td><td>6</td><td>5</td></tr>",
                            "<tr><td>70</td><td>1365</td><td>3</td><td>6</td></tr>",
                            "<tr><td>81</td><td>1366</td><td>5</td><td>3</td></tr>",
                            "<tr><td>80</td><td>1367</td><td>3</td><td>5</td></tr>",
                            "<tr><td>94</td><td>1368</td><td>1</td><td>3</td></tr>",
                            "<tr><td>142</td><td>1369</td><td>6</td><td>1</td></tr>",
                            "<tr><td>138</td><td>1370</td><td>5</td><td>6</td></tr>",
                            "<tr><td>140</td><td>1371</td><td>1</td><td>5</td></tr>",
                            "<tr><td>106</td><td>1372</td><td>7</td><td>1</td></tr>",
                            "<tr><td>121</td><td>1373</td><td>5</td><td>7</td></tr>",
                            "<tr><td>118</td><td>1374</td><td>5</td><td>5</td></tr>",
                            "<tr><td>165</td><td>1375</td><td>4</td><td>5</td></tr>",
                            "<tr><td>84</td><td>1376</td><td>5</td><td>4</td></tr>",
                            "<tr><td>27</td><td>1377</td><td>1</td><td>5</td></tr>",
                            "<tr><td>96</td><td>1378</td><td>3</td><td>1</td></tr>",
                            "<tr><td>83</td><td>1379</td><td>7</td><td>3</td></tr>",
                            "<tr><td>39</td><td>1380</td><td>5</td><td>7</td></tr>",
                            "<tr><td>33</td><td>1381</td><td>6</td><td>5</td></tr>",
                            "<tr><td>67</td><td>1382</td><td>1</td><td>6</td></tr>",
                            "<tr><td>176</td><td>1383</td><td>4</td><td>1</td></tr>",
                            "<tr><td>84</td><td>1384</td><td>7</td><td>4</td></tr>",
                            "<tr><td>122</td><td>1385</td><td>5</td><td>7</td></tr>",
                            "<tr><td>55</td><td>1386</td><td>2</td><td>5</td></tr>",
                            "<tr><td>197</td><td>1387</td><td>3</td><td>2</td></tr>",
                            "<tr><td>26</td><td>1388</td><td>3</td><td>3</td></tr>",
                            "<tr><td>57</td><td>1389</td><td>1</td><td>3</td></tr>",
                            "<tr><td>188</td><td>1390</td><td>5</td><td>1</td></tr>",
                            "<tr><td>93</td><td>1391</td><td>4</td><td>5</td></tr>",
                            "<tr><td>108</td><td>1392</td><td>6</td><td>4</td></tr>",
                            "<tr><td>121</td><td>1393</td><td>6</td><td>6</td></tr>",
                            "<tr><td>143</td><td>1394</td><td>3</td><td>6</td></tr>",
                            "<tr><td>97</td><td>1395</td><td>1</td><td>3</td></tr>",
                            "<tr><td>72</td><td>1396</td><td>3</td><td>1</td></tr>",
                            "<tr><td>91</td><td>1397</td><td>4</td><td>3</td></tr>",
                            "<tr><td>103</td><td>1398</td><td>1</td><td>4</td></tr>",
                            "<tr><td>89</td><td>1399</td><td>2</td><td>1</td></tr>",
                            "<tr><td>162</td><td>1400</td><td>1</td><td>2</td></tr>",
                            "<tr><td>141</td><td>1401</td><td>6</td><td>1</td></tr>",
                            "<tr><td>98</td><td>1402</td><td>2</td><td>6</td></tr>",
                            "<tr><td>124</td><td>1403</td><td>6</td><td>2</td></tr>",
                            "<tr><td>187</td><td>1404</td><td>2</td><td>6</td></tr>",
                            "<tr><td>90</td><td>1405</td><td>5</td><td>2</td></tr>",
                            "<tr><td>82</td><td>1406</td><td>1</td><td>5</td></tr>",
                            "<tr><td>175</td><td>1407</td><td>7</td><td>1</td></tr>",
                            "<tr><td>99</td><td>1408</td><td>1</td><td>7</td></tr>",
                            "<tr><td>133</td><td>1409</td><td>1</td><td>1</td></tr>",
                            "<tr><td>182</td><td>1410</td><td>4</td><td>1</td></tr>",
                            "<tr><td>35</td><td>1411</td><td>1</td><td>4</td></tr>",
                            "<tr><td>75</td><td>1412</td><td>2</td><td>1</td></tr>",
                            "<tr><td>119</td><td>1413</td><td>3</td><td>2</td></tr>",
                            "<tr><td>167</td><td>1414</td><td>3</td><td>3</td></tr>",
                            "<tr><td>24</td><td>1415</td><td>3</td><td>3</td></tr>",
                            "<tr><td>38</td><td>1416</td><td>5</td><td>3</td></tr>",
                            "<tr><td>97</td><td>1417</td><td>7</td><td>5</td></tr>",
                            "<tr><td>15</td><td>1418</td><td>4</td><td>7</td></tr>",
                            "<tr><td>124</td><td>1419</td><td>3</td><td>4</td></tr>",
                            "<tr><td>198</td><td>1420</td><td>5</td><td>3</td></tr>",
                            "<tr><td>172</td><td>1421</td><td>5</td><td>5</td></tr>",
                            "<tr><td>182</td><td>1422</td><td>3</td><td>5</td></tr>",
                            "<tr><td>9</td><td>1423</td><td>3</td><td>3</td></tr>",
                            "<tr><td>110</td><td>1424</td><td>1</td><td>3</td></tr>",
                            "<tr><td>44</td><td>1425</td><td>2</td><td>1</td></tr>",
                            "<tr><td>62</td><td>1426</td><td>4</td><td>2</td></tr>",
                            "<tr><td>169</td><td>1427</td><td>1</td><td>4</td></tr>",
                            "<tr><td>126</td><td>1428</td><td>7</td><td>1</td></tr>",
                            "<tr><td>173</td><td>1429</td><td>4</td><td>7</td></tr>",
                            "<tr><td>12</td><td>1430</td><td>2</td><td>4</td></tr>",
                            "<tr><td>52</td><td>1431</td><td>5</td><td>2</td></tr>",
                            "<tr><td>150</td><td>1432</td><td>3</td><td>5</td></tr>",
                            "<tr><td>139</td><td>1433</td><td>6</td><td>3</td></tr>",
                            "<tr><td>3</td><td>1434</td><td>5</td><td>6</td></tr>",
                            "<tr><td>39</td><td>1435</td><td>7</td><td>5</td></tr>",
                            "<tr><td>35</td><td>1436</td><td>1</td><td>7</td></tr>",
                            "<tr><td>183</td><td>1437</td><td>4</td><td>1</td></tr>",
                            "<tr><td>96</td><td>1438</td><td>2</td><td>4</td></tr>",
                            "<tr><td>77</td><td>1439</td><td>6</td><td>2</td></tr>",
                            "<tr><td>122</td><td>1440</td><td>3</td><td>6</td></tr>",
                            "<tr><td>185</td><td>1441</td><td>7</td><td>3</td></tr>",
                            "<tr><td>15</td><td>1442</td><td>3</td><td>7</td></tr>",
                            "<tr><td>81</td><td>1443</td><td>7</td><td>3</td></tr>",
                            "<tr><td>42</td><td>1444</td><td>6</td><td>7</td></tr>",
                            "<tr><td>129</td><td>1445</td><td>7</td><td>6</td></tr>",
                            "<tr><td>64</td><td>1446</td><td>6</td><td>7</td></tr>",
                            "<tr><td>79</td><td>1447</td><td>4</td><td>6</td></tr>",
                            "<tr><td>143</td><td>1448</td><td>6</td><td>4</td></tr>",
                            "<tr><td>189</td><td>1449</td><td>2</td><td>6</td></tr>",
                            "<tr><td>139</td><td>1450</td><td>7</td><td>2</td></tr>",
                            "<tr><td>58</td><td>1451</td><td>6</td><td>7</td></tr>",
                            "<tr><td>107</td><td>1452</td><td>6</td><td>6</td></tr>",
                            "<tr><td>86</td><td>1453</td><td>1</td><td>6</td></tr>",
                            "<tr><td>39</td><td>1454</td><td>1</td><td>1</td></tr>",
                            "<tr><td>116</td><td>1455</td><td>2</td><td>1</td></tr>",
                            "<tr><td>87</td><td>1456</td><td>5</td><td>2</td></tr>",
                            "<tr><td>70</td><td>1457</td><td>7</td><td>5</td></tr>",
                            "<tr><td>75</td><td>1458</td><td>1</td><td>7</td></tr>",
                            "<tr><td>28</td><td>1459</td><td>2</td><td>1</td></tr>",
                            "<tr><td>153</td><td>1460</td><td>3</td><td>2</td></tr>",
                            "<tr><td>77</td><td>1461</td><td>4</td><td>3</td></tr>",
                            "<tr><td>156</td><td>1462</td><td>7</td><td>4</td></tr>",
                            "<tr><td>185</td><td>1463</td><td>7</td><td>7</td></tr>",
                            "<tr><td>81</td><td>1464</td><td>7</td><td>7</td></tr>",
                            "<tr><td>64</td><td>1465</td><td>4</td><td>7</td></tr>",
                            "<tr><td>57</td><td>1466</td><td>7</td><td>4</td></tr>",
                            "<tr><td>186</td><td>1467</td><td>3</td><td>7</td></tr>",
                            "<tr><td>117</td><td>1468</td><td>7</td><td>3</td></tr>",
                            "<tr><td>13</td><td>1469</td><td>2</td><td>7</td></tr>",
                            "<tr><td>153</td><td>1470</td><td>5</td><td>2</td></tr>",
                            "<tr><td>145</td><td>1471</td><td>1</td><td>5</td></tr>",
                            "<tr><td>118</td><td>1472</td><td>6</td><td>1</td></tr>",
                            "<tr><td>195</td><td>1473</td><td>7</td><td>6</td></tr>",
                            "<tr><td>131</td><td>1474</td><td>5</td><td>7</td></tr>",
                            "<tr><td>130</td><td>1475</td><td>7</td><td>5</td></tr>",
                            "<tr><td>27</td><td>1476</td><td>1</td><td>7</td></tr>",
                            "<tr><td>51</td><td>1477</td><td>6</td><td>1</td></tr>",
                            "<tr><td>38</td><td>1478</td><td>4</td><td>6</td></tr>",
                            "<tr><td>146</td><td>1479</td><td>6</td><td>4</td></tr>",
                            "<tr><td>35</td><td>1480</td><td>37</td><td>6</td></tr>",
                            "<tr><td>118</td><td>1481</td><td>3</td><td>37</td></tr>",
                            "<tr><td>100</td><td>1482</td><td>7</td><td>3</td></tr>",
                            "<tr><td>120</td><td>1483</td><td>1</td><td>7</td></tr>",
                            "<tr><td>195</td><td>1484</td><td>1</td><td>1</td></tr>",
                            "<tr><td>103</td><td>1485</td><td>4</td><td>1</td></tr>",
                            "<tr><td>99</td><td>1486</td><td>5</td><td>4</td></tr>",
                            "<tr><td>163</td><td>1487</td><td>3</td><td>5</td></tr>",
                            "<tr><td>119</td><td>1488</td><td>3</td><td>3</td></tr>",
                            "<tr><td>110</td><td>1489</td><td>6</td><td>3</td></tr>",
                            "<tr><td>156</td><td>1490</td><td>1</td><td>6</td></tr>",
                            "<tr><td>172</td><td>1491</td><td>2</td><td>1</td></tr>",
                            "<tr><td>4</td><td>1492</td><td>6</td><td>2</td></tr>",
                            "<tr><td>120</td><td>1493</td><td>7</td><td>6</td></tr>",
                            "<tr><td>107</td><td>1494</td><td>2</td><td>7</td></tr>",
                            "<tr><td>113</td><td>1495</td><td>7</td><td>2</td></tr>",
                            "<tr><td>61</td><td>1496</td><td>7</td><td>7</td></tr>",
                            "<tr><td>179</td><td>1497</td><td>1</td><td>7</td></tr>",
                            "<tr><td>16</td><td>1498</td><td>7</td><td>1</td></tr>",
                            "<tr><td>113</td><td>1499</td><td>2</td><td>7</td></tr>",
                            "<tr><td>126</td><td>1500</td><td>4</td><td>2</td></tr>",
                            "<tr><td>116</td><td>1501</td><td>4</td><td>4</td></tr>",
                            "<tr><td>191</td><td>1502</td><td>2</td><td>4</td></tr>",
                            "<tr><td>177</td><td>1503</td><td>3</td><td>2</td></tr>",
                            "<tr><td>57</td><td>1504</td><td>4</td><td>3</td></tr>",
                            "<tr><td>18</td><td>1505</td><td>6</td><td>4</td></tr>",
                            "<tr><td>81</td><td>1506</td><td>3</td><td>6</td></tr>",
                            "<tr><td>153</td><td>1507</td><td>3</td><td>3</td></tr>",
                            "<tr><td>191</td><td>1508</td><td>7</td><td>3</td></tr>",
                            "<tr><td>129</td><td>1509</td><td>6</td><td>7</td></tr>",
                            "<tr><td>106</td><td>1510</td><td>6</td><td>6</td></tr>",
                            "<tr><td>176</td><td>1511</td><td>2</td><td>6</td></tr>",
                            "<tr><td>55</td><td>1512</td><td>1</td><td>2</td></tr>",
                            "<tr><td>85</td><td>1513</td><td>7</td><td>1</td></tr>",
                            "<tr><td>149</td><td>1514</td><td>5</td><td>7</td></tr>",
                            "<tr><td>46</td><td>1515</td><td>4</td><td>5</td></tr>",
                            "<tr><td>101</td><td>1516</td><td>4</td><td>4</td></tr>",
                            "<tr><td>190</td><td>1517</td><td>5</td><td>4</td></tr>",
                            "<tr><td>94</td><td>1518</td><td>2</td><td>5</td></tr>",
                            "<tr><td>132</td><td>1519</td><td>2</td><td>2</td></tr>",
                            "<tr><td>55</td><td>1520</td><td>1</td><td>2</td></tr>",
                            "<tr><td>89</td><td>1521</td><td>7</td><td>1</td></tr>",
                            "<tr><td>104</td><td>1522</td><td>2</td><td>7</td></tr>",
                            "<tr><td>11</td><td>1523</td><td>1</td><td>2</td></tr>",
                            "<tr><td>43</td><td>1524</td><td>1</td><td>1</td></tr>",
                            "<tr><td>105</td><td>1525</td><td>5</td><td>1</td></tr>",
                            "<tr><td>166</td><td>1526</td><td>2</td><td>5</td></tr>",
                            "<tr><td>92</td><td>1527</td><td>2</td><td>2</td></tr>",
                            "<tr><td>97</td><td>1528</td><td>2</td><td>2</td></tr>",
                            "<tr><td>35</td><td>1529</td><td>4</td><td>2</td></tr>",
                            "<tr><td>112</td><td>1530</td><td>6</td><td>4</td></tr>",
                            "<tr><td>124</td><td>1531</td><td>6</td><td>6</td></tr>",
                            "<tr><td>104</td><td>1532</td><td>3</td><td>6</td></tr>",
                            "<tr><td>19</td><td>1533</td><td>1</td><td>3</td></tr>",
                            "<tr><td>52</td><td>1534</td><td>5</td><td>1</td></tr>",
                            "<tr><td>134</td><td>1535</td><td>7</td><td>5</td></tr>",
                            "<tr><td>49</td><td>1536</td><td>6</td><td>7</td></tr>",
                            "<tr><td>9</td><td>1537</td><td>3</td><td>6</td></tr>",
                            "<tr><td>39</td><td>1538</td><td>2</td><td>3</td></tr>",
                            "<tr><td>154</td><td>1539</td><td>2</td><td>2</td></tr>",
                            "<tr><td>114</td><td>1540</td><td>3</td><td>2</td></tr>",
                            "<tr><td>155</td><td>1541</td><td>1</td><td>3</td></tr>",
                            "<tr><td>14</td><td>1542</td><td>4</td><td>1</td></tr>",
                            "<tr><td>95</td><td>1543</td><td>7</td><td>4</td></tr>",
                            "<tr><td>3</td><td>1544</td><td>5</td><td>7</td></tr>",
                            "<tr><td>142</td><td>1545</td><td>3</td><td>5</td></tr>",
                            "<tr><td>48</td><td>1546</td><td>3</td><td>3</td></tr>",
                            "<tr><td>48</td><td>1547</td><td>1</td><td>3</td></tr>",
                            "<tr><td>88</td><td>1548</td><td>7</td><td>1</td></tr>",
                            "<tr><td>17</td><td>1549</td><td>3</td><td>7</td></tr>",
                            "<tr><td>51</td><td>1550</td><td>1</td><td>3</td></tr>",
                            "<tr><td>157</td><td>1551</td><td>3</td><td>1</td></tr>",
                            "<tr><td>44</td><td>1552</td><td>2</td><td>3</td></tr>",
                            "<tr><td>43</td><td>1553</td><td>5</td><td>2</td></tr>",
                            "<tr><td>115</td><td>1554</td><td>3</td><td>5</td></tr>",
                            "<tr><td>92</td><td>1555</td><td>4</td><td>3</td></tr>",
                            "<tr><td>38</td><td>1556</td><td>6</td><td>4</td></tr>",
                            "<tr><td>76</td><td>1557</td><td>3</td><td>6</td></tr>",
                            "<tr><td>152</td><td>1558</td><td>2</td><td>3</td></tr>",
                            "<tr><td>180</td><td>1559</td><td>3</td><td>2</td></tr>",
                            "<tr><td>109</td><td>1560</td><td>1</td><td>3</td></tr>",
                            "<tr><td>156</td><td>1561</td><td>4</td><td>1</td></tr>",
                            "<tr><td>81</td><td>1562</td><td>3</td><td>4</td></tr>",
                            "<tr><td>180</td><td>1563</td><td>6</td><td>3</td></tr>",
                            "<tr><td>94</td><td>1564</td><td>7</td><td>6</td></tr>",
                            "<tr><td>160</td><td>1565</td><td>3</td><td>7</td></tr>",
                            "<tr><td>115</td><td>1566</td><td>1</td><td>3</td></tr>",
                            "<tr><td>171</td><td>1567</td><td>6</td><td>1</td></tr>",
                            "<tr><td>29</td><td>1568</td><td>7</td><td>6</td></tr>",
                            "<tr><td>96</td><td>1569</td><td>7</td><td>7</td></tr>",
                            "<tr><td>176</td><td>1570</td><td>3</td><td>7</td></tr>",
                            "<tr><td>161</td><td>1571</td><td>4</td><td>3</td></tr>",
                            "<tr><td>144</td><td>1572</td><td>2</td><td>4</td></tr>",
                            "<tr><td>59</td><td>1573</td><td>1</td><td>2</td></tr>",
                            "<tr><td>128</td><td>1574</td><td>1</td><td>1</td></tr>",
                            "<tr><td>88</td><td>1575</td><td>6</td><td>1</td></tr>",
                            "<tr><td>189</td><td>1576</td><td>3</td><td>6</td></tr>",
                            "<tr><td>78</td><td>1577</td><td>7</td><td>3</td></tr>",
                            "<tr><td>148</td><td>1578</td><td>7</td><td>7</td></tr>",
                            "<tr><td>127</td><td>1579</td><td>5</td><td>7</td></tr>",
                            "<tr><td>67</td><td>1580</td><td>5</td><td>5</td></tr>",
                            "<tr><td>48</td><td>1581</td><td>5</td><td>5</td></tr>",
                            "<tr><td>64</td><td>1582</td><td>1</td><td>5</td></tr>",
                            "<tr><td>128</td><td>1583</td><td>4</td><td>1</td></tr>",
                            "<tr><td>67</td><td>1584</td><td>1</td><td>4</td></tr>",
                            "</table>"
                        ]
                    }
                }
            ],
            "execution_count": 6
        },
        {
            "cell_type": "markdown",
            "source": [
                "3."
            ],
            "metadata": {
                "azdata_cell_guid": "1516a67c-927e-4dfb-8eeb-23a0f5288e0a"
            },
            "attachments": {}
        },
        {
            "cell_type": "code",
            "source": [
                "SELECT DISTINCT szh.SZALLAS_NEV,\r\n",
                "        COUNT(*)  \r\n",
                "FROM Foglalas f JOIN Szoba sz ON sz.SZOBA_ID = f.SZOBA_FK\r\n",
                "                JOIN Szallashely szh ON sz.SZALLAS_FK = szh.SZALLAS_ID\r\n",
                "\r\n",
                "GROUP BY szh.SZALLAS_NEV,sz.SZALLAS_FK\r\n",
                "HAVING COUNT(*) > (\r\n",
                "    SELECT DISTINCT \r\n",
                "        COUNT(*) OVER(PARTITION BY sz.SZALLAS_FK)\r\n",
                "FROM Foglalas f JOIN Szoba sz ON sz.SZOBA_ID = f.SZOBA_FK\r\n",
                "                JOIN Szallashely szh ON sz.SZALLAS_FK = szh.SZALLAS_ID\r\n",
                "WHERE szh.SZALLAS_NEV = 'Fortuna Apartman'\r\n",
                ")"
            ],
            "metadata": {
                "azdata_cell_guid": "7748f53d-0a55-42d8-b9bf-e8d8f66c460d",
                "language": "sql"
            },
            "outputs": [
                {
                    "output_type": "display_data",
                    "data": {
                        "text/html": "(7 rows affected)"
                    },
                    "metadata": {}
                },
                {
                    "output_type": "display_data",
                    "data": {
                        "text/html": "Total execution time: 00:00:00.024"
                    },
                    "metadata": {}
                },
                {
                    "output_type": "execute_result",
                    "metadata": {},
                    "execution_count": 22,
                    "data": {
                        "application/vnd.dataresource+json": {
                            "schema": {
                                "fields": [
                                    {
                                        "name": "SZALLAS_NEV"
                                    },
                                    {
                                        "name": "(No column name)"
                                    }
                                ]
                            },
                            "data": [
                                {
                                    "SZALLAS_NEV": "Fortuna Panzió",
                                    "(No column name)": "53"
                                },
                                {
                                    "SZALLAS_NEV": "Fortuna panzió",
                                    "(No column name)": "73"
                                },
                                {
                                    "SZALLAS_NEV": "Gold Hotel",
                                    "(No column name)": "179"
                                },
                                {
                                    "SZALLAS_NEV": "Hotel Három Hattyú",
                                    "(No column name)": "204"
                                },
                                {
                                    "SZALLAS_NEV": "Kentaur Hotel",
                                    "(No column name)": "179"
                                },
                                {
                                    "SZALLAS_NEV": "Lagúna Hotel",
                                    "(No column name)": "123"
                                },
                                {
                                    "SZALLAS_NEV": "Sába-Ház",
                                    "(No column name)": "70"
                                }
                            ]
                        },
                        "text/html": [
                            "<table>",
                            "<tr><th>SZALLAS_NEV</th><th>(No column name)</th></tr>",
                            "<tr><td>Fortuna Panzió</td><td>53</td></tr>",
                            "<tr><td>Fortuna panzió</td><td>73</td></tr>",
                            "<tr><td>Gold Hotel</td><td>179</td></tr>",
                            "<tr><td>Hotel Három Hattyú</td><td>204</td></tr>",
                            "<tr><td>Kentaur Hotel</td><td>179</td></tr>",
                            "<tr><td>Lagúna Hotel</td><td>123</td></tr>",
                            "<tr><td>Sába-Ház</td><td>70</td></tr>",
                            "</table>"
                        ]
                    }
                }
            ],
            "execution_count": 22
        },
        {
            "cell_type": "code",
            "source": [
                "SELECT DISTINCT szh.SZALLAS_NEV,\r\n",
                "        COUNT(*) OVER(PARTITION BY sz.SZALLAS_FK)\r\n",
                "FROM Foglalas f JOIN Szoba sz ON sz.SZOBA_ID = f.SZOBA_FK\r\n",
                "                JOIN Szallashely szh ON sz.SZALLAS_FK = szh.SZALLAS_ID\r\n",
                "WHERE szh.SZALLAS_NEV = 'Fortuna Apartman'"
            ],
            "metadata": {
                "azdata_cell_guid": "0fae152f-eec9-4bb2-b04d-e6ea52e5fd86",
                "language": "sql"
            },
            "outputs": [
                {
                    "output_type": "display_data",
                    "data": {
                        "text/html": "(1 row affected)"
                    },
                    "metadata": {}
                },
                {
                    "output_type": "display_data",
                    "data": {
                        "text/html": "Total execution time: 00:00:00.013"
                    },
                    "metadata": {}
                },
                {
                    "output_type": "execute_result",
                    "metadata": {},
                    "execution_count": 14,
                    "data": {
                        "application/vnd.dataresource+json": {
                            "schema": {
                                "fields": [
                                    {
                                        "name": "SZALLAS_NEV"
                                    },
                                    {
                                        "name": "(No column name)"
                                    }
                                ]
                            },
                            "data": [
                                {
                                    "SZALLAS_NEV": "Fortuna Apartman",
                                    "(No column name)": "39"
                                }
                            ]
                        },
                        "text/html": [
                            "<table>",
                            "<tr><th>SZALLAS_NEV</th><th>(No column name)</th></tr>",
                            "<tr><td>Fortuna Apartman</td><td>39</td></tr>",
                            "</table>"
                        ]
                    }
                }
            ],
            "execution_count": 14
        }
    ]
}